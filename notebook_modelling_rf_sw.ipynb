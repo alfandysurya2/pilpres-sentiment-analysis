{
 "cells": [
  {
   "cell_type": "code",
   "execution_count": 1,
   "metadata": {
    "colab": {
     "base_uri": "https://localhost:8080/"
    },
    "executionInfo": {
     "elapsed": 34841,
     "status": "ok",
     "timestamp": 1710301420541,
     "user": {
      "displayName": "Alfandy Surya",
      "userId": "04251874478570968890"
     },
     "user_tz": -420
    },
    "id": "kIwBUs-yTEwA",
    "outputId": "2104d925-8c3e-4f61-d7ba-4895a3833a62",
    "scrolled": true
   },
   "outputs": [],
   "source": [
    "# !pip install Sastrawi\n",
    "# !pip install nlp-id\n",
    "# !pip install emoji\n",
    "# !pip install optuna\n",
    "# !pip install gensim==4.3.2\n",
    "# !pip install scikit-learn==1.2.2\n",
    "# !pip install numpy==1.25.2"
   ]
  },
  {
   "cell_type": "markdown",
   "metadata": {
    "id": "HZdb7pUVGNz4"
   },
   "source": [
    "# Import Libraries"
   ]
  },
  {
   "cell_type": "code",
   "execution_count": 2,
   "metadata": {
    "colab": {
     "base_uri": "https://localhost:8080/"
    },
    "executionInfo": {
     "elapsed": 2731,
     "status": "ok",
     "timestamp": 1710301423267,
     "user": {
      "displayName": "Alfandy Surya",
      "userId": "04251874478570968890"
     },
     "user_tz": -420
    },
    "id": "wU36gI7eGE3m",
    "outputId": "3b27cfa3-eb95-4824-bd47-af3f36682e4b"
   },
   "outputs": [
    {
     "name": "stderr",
     "output_type": "stream",
     "text": [
      "[nltk_data] Downloading package stopwords to\n",
      "[nltk_data]     C:\\Users\\alfan\\AppData\\Roaming\\nltk_data...\n",
      "[nltk_data]   Package stopwords is already up-to-date!\n",
      "[nltk_data] Downloading package punkt to\n",
      "[nltk_data]     C:\\Users\\alfan\\AppData\\Roaming\\nltk_data...\n",
      "[nltk_data]   Package punkt is already up-to-date!\n",
      "[nltk_data] Downloading package words to\n",
      "[nltk_data]     C:\\Users\\alfan\\AppData\\Roaming\\nltk_data...\n",
      "[nltk_data]   Package words is already up-to-date!\n"
     ]
    },
    {
     "name": "stdout",
     "output_type": "stream",
     "text": [
      "WARNING:tensorflow:From C:\\Users\\alfan\\anaconda3\\lib\\site-packages\\keras\\src\\losses.py:2976: The name tf.losses.sparse_softmax_cross_entropy is deprecated. Please use tf.compat.v1.losses.sparse_softmax_cross_entropy instead.\n",
      "\n"
     ]
    }
   ],
   "source": [
    "import pandas as pd\n",
    "import numpy as np\n",
    "import matplotlib.pyplot as plt\n",
    "import seaborn as sns\n",
    "import os\n",
    "import nltk\n",
    "import spacy\n",
    "import re\n",
    "import json\n",
    "import emoji\n",
    "import optuna\n",
    "import joblib\n",
    "import json\n",
    "import gensim\n",
    "\n",
    "from nltk import FreqDist\n",
    "from nltk.corpus import stopwords\n",
    "from nltk.tokenize import word_tokenize\n",
    "from nltk.corpus import words\n",
    "from spacy.lang.id.stop_words import STOP_WORDS\n",
    "from Sastrawi.StopWordRemover.StopWordRemoverFactory import StopWordRemoverFactory\n",
    "from sklearn.metrics import accuracy_score, precision_score, recall_score, f1_score, classification_report, confusion_matrix\n",
    "from sklearn.linear_model import LogisticRegression\n",
    "from sklearn.metrics import classification_report, accuracy_score\n",
    "from xgboost import XGBClassifier\n",
    "from sklearn.ensemble import RandomForestClassifier\n",
    "from sklearn.model_selection import train_test_split\n",
    "from sklearn.model_selection import GridSearchCV\n",
    "from sklearn.base import BaseEstimator\n",
    "from Sastrawi.Stemmer.StemmerFactory import StemmerFactory\n",
    "from sklearn.feature_extraction.text import TfidfVectorizer\n",
    "from nlp_id.lemmatizer import Lemmatizer\n",
    "from gensim.models import Word2Vec\n",
    "from nlp_id.postag import PosTag\n",
    "nltk.download('stopwords')\n",
    "nltk.download('punkt')\n",
    "nltk.download('words')\n",
    "\n",
    "import tensorflow as tf\n",
    "from tensorflow.keras.models import Sequential\n",
    "from tensorflow.keras.layers import Embedding, Conv1D, MaxPooling1D, Bidirectional, LSTM, Dense, Dropout\n",
    "from tensorflow.keras.optimizers import SGD, Adam\n",
    "from tensorflow.keras.optimizers.schedules import ExponentialDecay\n",
    "from tensorflow.keras.callbacks import LearningRateScheduler\n",
    "from tensorflow.keras.callbacks import History\n",
    "from tensorflow.keras.callbacks import EarlyStopping\n",
    "from gensim.models import Word2Vec\n",
    "from tensorflow.keras.preprocessing.sequence import pad_sequences\n",
    "\n",
    "custom_params = {\"axes.spines.right\": False, \"axes.spines.top\": False}\n",
    "sns.set_theme(style=\"ticks\", rc=custom_params)\n",
    "pd.set_option('display.max_colwidth', 100)\n",
    "pd.set_option('display.max_columns', 40)\n",
    "pd.set_option('display.max_rows', 500)"
   ]
  },
  {
   "cell_type": "markdown",
   "metadata": {
    "id": "CtrjwjF6Gcwf"
   },
   "source": [
    "# Load Tweet Dataset"
   ]
  },
  {
   "cell_type": "markdown",
   "metadata": {
    "id": "nXH9W4xuGjTM"
   },
   "source": [
    "## Set Parameters"
   ]
  },
  {
   "cell_type": "code",
   "execution_count": 3,
   "metadata": {
    "executionInfo": {
     "elapsed": 10,
     "status": "ok",
     "timestamp": 1710301423267,
     "user": {
      "displayName": "Alfandy Surya",
      "userId": "04251874478570968890"
     },
     "user_tz": -420
    },
    "id": "8pfOFjdAHB7c"
   },
   "outputs": [],
   "source": [
    "path = os.getcwd()\n",
    "\n",
    "resources_folder = 'resources'\n",
    "resources_path = os.path.join(path, resources_folder)\n",
    "\n",
    "dataset_folder = 'dataset'\n",
    "dataset_path = os.path.join(path, dataset_folder)\n",
    "dataset_name = 'tweet.csv'\n",
    "\n",
    "model_folder = 'models'\n",
    "model_path = os.path.join(path, model_folder)\n",
    "\n",
    "rf_model_sg_baseline = joblib.load(os.path.join(model_path, 'model_rf_sg_baseline_sw.joblib'))\n",
    "rf_model_sg_tuned = joblib.load(os.path.join(model_path, 'model_rf_sg_tuned_sw.joblib'))\n",
    "rf_model_cbow_baseline = joblib.load(os.path.join(model_path, 'model_rf_cbow_baseline_sw.joblib'))\n",
    "rf_model_cbow_tuned = joblib.load(os.path.join(model_path, 'model_rf_cbow_tuned_sw.joblib'))\n",
    "\n",
    "word2vec_model_sg_sw = os.path.join(model_path, 'word2vec_model_sg_min_8_window_6_sw.bin')\n",
    "word2vec_model_cbow_sw = os.path.join(model_path, 'word2vec_model_cbow_min_8_window_6_sw.bin')"
   ]
  },
  {
   "cell_type": "markdown",
   "metadata": {
    "id": "k3_wfMsGJ-Mh"
   },
   "source": [
    "## Load Dataset"
   ]
  },
  {
   "cell_type": "code",
   "execution_count": 4,
   "metadata": {
    "colab": {
     "base_uri": "https://localhost:8080/",
     "height": 206
    },
    "executionInfo": {
     "elapsed": 9,
     "status": "ok",
     "timestamp": 1710301423267,
     "user": {
      "displayName": "Alfandy Surya",
      "userId": "04251874478570968890"
     },
     "user_tz": -420
    },
    "id": "Zozx3QJoGZlj",
    "outputId": "40e4e0cc-9fe2-4e2c-d948-be282e37cea0"
   },
   "outputs": [
    {
     "data": {
      "text/html": [
       "<div>\n",
       "<style scoped>\n",
       "    .dataframe tbody tr th:only-of-type {\n",
       "        vertical-align: middle;\n",
       "    }\n",
       "\n",
       "    .dataframe tbody tr th {\n",
       "        vertical-align: top;\n",
       "    }\n",
       "\n",
       "    .dataframe thead th {\n",
       "        text-align: right;\n",
       "    }\n",
       "</style>\n",
       "<table border=\"1\" class=\"dataframe\">\n",
       "  <thead>\n",
       "    <tr style=\"text-align: right;\">\n",
       "      <th></th>\n",
       "      <th>Unnamed: 0</th>\n",
       "      <th>sentimen</th>\n",
       "      <th>tweet</th>\n",
       "    </tr>\n",
       "  </thead>\n",
       "  <tbody>\n",
       "    <tr>\n",
       "      <th>0</th>\n",
       "      <td>0</td>\n",
       "      <td>negatif</td>\n",
       "      <td>Kata @prabowo Indonesia tidak dihargai bangsa asing!   Berita ini ðŸ‘‡ pasti hoax buatan penguas...</td>\n",
       "    </tr>\n",
       "    <tr>\n",
       "      <th>1</th>\n",
       "      <td>1</td>\n",
       "      <td>netral</td>\n",
       "      <td>Batuan Langka, Tasbih Jokowi Hadiah dari Habib Luthfi Seharga Mercy?  http://dlvr.it/R2pvZVÂ</td>\n",
       "    </tr>\n",
       "    <tr>\n",
       "      <th>2</th>\n",
       "      <td>2</td>\n",
       "      <td>netral</td>\n",
       "      <td>Di era Jokowi, ekonomi Indonesia semakin baik. #01IndonesiaMaju #JokowiLagi #JokowiMenangTotalDe...</td>\n",
       "    </tr>\n",
       "    <tr>\n",
       "      <th>3</th>\n",
       "      <td>3</td>\n",
       "      <td>positif</td>\n",
       "      <td>Bagi Sumatera Selatan, Asian Games berdampak pd ekonomi langsung diprediksi mencapai 18,5 triliu...</td>\n",
       "    </tr>\n",
       "    <tr>\n",
       "      <th>4</th>\n",
       "      <td>4</td>\n",
       "      <td>negatif</td>\n",
       "      <td>Negara kita ngutang buat bngun infrastruktur yang udah dipake masyarakat, terus masyarakatnya ng...</td>\n",
       "    </tr>\n",
       "  </tbody>\n",
       "</table>\n",
       "</div>"
      ],
      "text/plain": [
       "   Unnamed: 0 sentimen  \\\n",
       "0           0  negatif   \n",
       "1           1   netral   \n",
       "2           2   netral   \n",
       "3           3  positif   \n",
       "4           4  negatif   \n",
       "\n",
       "                                                                                                 tweet  \n",
       "0  Kata @prabowo Indonesia tidak dihargai bangsa asing!   Berita ini ðŸ‘‡ pasti hoax buatan penguas...  \n",
       "1        Batuan Langka, Tasbih Jokowi Hadiah dari Habib Luthfi Seharga Mercy?  http://dlvr.it/R2pvZVÂ   \n",
       "2  Di era Jokowi, ekonomi Indonesia semakin baik. #01IndonesiaMaju #JokowiLagi #JokowiMenangTotalDe...  \n",
       "3  Bagi Sumatera Selatan, Asian Games berdampak pd ekonomi langsung diprediksi mencapai 18,5 triliu...  \n",
       "4  Negara kita ngutang buat bngun infrastruktur yang udah dipake masyarakat, terus masyarakatnya ng...  "
      ]
     },
     "execution_count": 4,
     "metadata": {},
     "output_type": "execute_result"
    }
   ],
   "source": [
    "df = pd.read_csv(os.path.join(dataset_path, dataset_name), encoding='utf-8')\n",
    "df.head()"
   ]
  },
  {
   "cell_type": "code",
   "execution_count": 5,
   "metadata": {},
   "outputs": [
    {
     "data": {
      "text/html": [
       "<div>\n",
       "<style scoped>\n",
       "    .dataframe tbody tr th:only-of-type {\n",
       "        vertical-align: middle;\n",
       "    }\n",
       "\n",
       "    .dataframe tbody tr th {\n",
       "        vertical-align: top;\n",
       "    }\n",
       "\n",
       "    .dataframe thead th {\n",
       "        text-align: right;\n",
       "    }\n",
       "</style>\n",
       "<table border=\"1\" class=\"dataframe\">\n",
       "  <thead>\n",
       "    <tr style=\"text-align: right;\">\n",
       "      <th></th>\n",
       "      <th>Unnamed: 0</th>\n",
       "      <th>sentimen</th>\n",
       "      <th>tweet</th>\n",
       "    </tr>\n",
       "  </thead>\n",
       "  <tbody>\n",
       "    <tr>\n",
       "      <th>0</th>\n",
       "      <td>0</td>\n",
       "      <td>negatif</td>\n",
       "      <td>Kata @prabowo Indonesia tidak dihargai bangsa asing!   Berita ini ðŸ‘‡ pasti hoax buatan penguas...</td>\n",
       "    </tr>\n",
       "    <tr>\n",
       "      <th>1</th>\n",
       "      <td>1</td>\n",
       "      <td>netral</td>\n",
       "      <td>Batuan Langka, Tasbih Jokowi Hadiah dari Habib Luthfi Seharga Mercy?  http://dlvr.it/R2pvZVÂ</td>\n",
       "    </tr>\n",
       "    <tr>\n",
       "      <th>2</th>\n",
       "      <td>2</td>\n",
       "      <td>netral</td>\n",
       "      <td>Di era Jokowi, ekonomi Indonesia semakin baik. #01IndonesiaMaju #JokowiLagi #JokowiMenangTotalDe...</td>\n",
       "    </tr>\n",
       "    <tr>\n",
       "      <th>3</th>\n",
       "      <td>3</td>\n",
       "      <td>positif</td>\n",
       "      <td>Bagi Sumatera Selatan, Asian Games berdampak pd ekonomi langsung diprediksi mencapai 18,5 triliu...</td>\n",
       "    </tr>\n",
       "    <tr>\n",
       "      <th>4</th>\n",
       "      <td>4</td>\n",
       "      <td>negatif</td>\n",
       "      <td>Negara kita ngutang buat bngun infrastruktur yang udah dipake masyarakat, terus masyarakatnya ng...</td>\n",
       "    </tr>\n",
       "    <tr>\n",
       "      <th>5</th>\n",
       "      <td>5</td>\n",
       "      <td>netral</td>\n",
       "      <td>Yg bisikin pak jokowi, cm mikirin perputaran duit di golongan tertentu. E-Sports hanya sebagian ...</td>\n",
       "    </tr>\n",
       "    <tr>\n",
       "      <th>6</th>\n",
       "      <td>6</td>\n",
       "      <td>positif</td>\n",
       "      <td>Masa tenang msih ngoceh aja..ttp jokowi harga mati...</td>\n",
       "    </tr>\n",
       "    <tr>\n",
       "      <th>7</th>\n",
       "      <td>7</td>\n",
       "      <td>positif</td>\n",
       "      <td>#UASdifitnahKejiBalasDiTPS   kerjasa ekonomi bilateral, multilateral kita doakan di TPS sambil d...</td>\n",
       "    </tr>\n",
       "    <tr>\n",
       "      <th>8</th>\n",
       "      <td>8</td>\n",
       "      <td>netral</td>\n",
       "      <td>Iya bener Aa, kita MANTAP kan pilihan ke Pemimpin yg bs memberi Solusi @jokowi bukan yg menyalah...</td>\n",
       "    </tr>\n",
       "    <tr>\n",
       "      <th>9</th>\n",
       "      <td>9</td>\n",
       "      <td>negatif</td>\n",
       "      <td>Prabowo-Sandi Sepakat Tak Ambil Gaji karena Negara Sedang Susah  https://www.goaceh.co/artikel/s...</td>\n",
       "    </tr>\n",
       "    <tr>\n",
       "      <th>10</th>\n",
       "      <td>10</td>\n",
       "      <td>positif</td>\n",
       "      <td>#PilihOrangBaik #PilihJelasIslamnya #PilihBajuPutih Pilih pemimpin itu yg udh jelas banyak penca...</td>\n",
       "    </tr>\n",
       "    <tr>\n",
       "      <th>11</th>\n",
       "      <td>11</td>\n",
       "      <td>positif</td>\n",
       "      <td>Calon presiden Jokowi menjelaskan program Kartu Pra Kerja akan memberikan insentif dalam kurun w...</td>\n",
       "    </tr>\n",
       "    <tr>\n",
       "      <th>12</th>\n",
       "      <td>12</td>\n",
       "      <td>negatif</td>\n",
       "      <td>Gak nginti Lu to @yunartowijaya, dan si @AT_AbdillahToha juga gak ngacaaa,, Gak usah ngajarin Sa...</td>\n",
       "    </tr>\n",
       "    <tr>\n",
       "      <th>13</th>\n",
       "      <td>13</td>\n",
       "      <td>positif</td>\n",
       "      <td>Menurut Jokowi, pemerintah selalu berupaya menjaga keseimbangan agar harga pada posisi normal. P...</td>\n",
       "    </tr>\n",
       "    <tr>\n",
       "      <th>14</th>\n",
       "      <td>14</td>\n",
       "      <td>netral</td>\n",
       "      <td>Terlalu berat nge bahas ekonomi dgn angka2.. Cukup bahas mobil lejen aj,</td>\n",
       "    </tr>\n",
       "    <tr>\n",
       "      <th>15</th>\n",
       "      <td>15</td>\n",
       "      <td>netral</td>\n",
       "      <td>mantulz sekali pak..mengisi masa tenang dg umroh bersama kel tercinta, istri, anak2... pada ahir...</td>\n",
       "    </tr>\n",
       "    <tr>\n",
       "      <th>16</th>\n",
       "      <td>16</td>\n",
       "      <td>positif</td>\n",
       "      <td>#PilihOrangBaik #PilihJelasIslamnya #PilihBajuPutih  Pentingnya sisi industri kreatif dan inovat...</td>\n",
       "    </tr>\n",
       "    <tr>\n",
       "      <th>17</th>\n",
       "      <td>17</td>\n",
       "      <td>positif</td>\n",
       "      <td>dalam 16 pakta integritas antara Prabowo sandi dan Ulama yg terlibat dalam ijtimak ulama sudah s...</td>\n",
       "    </tr>\n",
       "    <tr>\n",
       "      <th>18</th>\n",
       "      <td>18</td>\n",
       "      <td>netral</td>\n",
       "      <td>Saya dengar pak, Mbak Vidya, dari Curup. Dulu beli lipstik Purbasari harga 25 ribu. Tapi sekaran...</td>\n",
       "    </tr>\n",
       "    <tr>\n",
       "      <th>19</th>\n",
       "      <td>19</td>\n",
       "      <td>positif</td>\n",
       "      <td>Prabowo Sejak jadi TNI puluhan tahun nggak dia ambil gajinya serupiah pun. Sandi sejak jadi Wagu...</td>\n",
       "    </tr>\n",
       "  </tbody>\n",
       "</table>\n",
       "</div>"
      ],
      "text/plain": [
       "    Unnamed: 0 sentimen  \\\n",
       "0            0  negatif   \n",
       "1            1   netral   \n",
       "2            2   netral   \n",
       "3            3  positif   \n",
       "4            4  negatif   \n",
       "5            5   netral   \n",
       "6            6  positif   \n",
       "7            7  positif   \n",
       "8            8   netral   \n",
       "9            9  negatif   \n",
       "10          10  positif   \n",
       "11          11  positif   \n",
       "12          12  negatif   \n",
       "13          13  positif   \n",
       "14          14   netral   \n",
       "15          15   netral   \n",
       "16          16  positif   \n",
       "17          17  positif   \n",
       "18          18   netral   \n",
       "19          19  positif   \n",
       "\n",
       "                                                                                                  tweet  \n",
       "0   Kata @prabowo Indonesia tidak dihargai bangsa asing!   Berita ini ðŸ‘‡ pasti hoax buatan penguas...  \n",
       "1         Batuan Langka, Tasbih Jokowi Hadiah dari Habib Luthfi Seharga Mercy?  http://dlvr.it/R2pvZVÂ   \n",
       "2   Di era Jokowi, ekonomi Indonesia semakin baik. #01IndonesiaMaju #JokowiLagi #JokowiMenangTotalDe...  \n",
       "3   Bagi Sumatera Selatan, Asian Games berdampak pd ekonomi langsung diprediksi mencapai 18,5 triliu...  \n",
       "4   Negara kita ngutang buat bngun infrastruktur yang udah dipake masyarakat, terus masyarakatnya ng...  \n",
       "5   Yg bisikin pak jokowi, cm mikirin perputaran duit di golongan tertentu. E-Sports hanya sebagian ...  \n",
       "6                                                 Masa tenang msih ngoceh aja..ttp jokowi harga mati...  \n",
       "7   #UASdifitnahKejiBalasDiTPS   kerjasa ekonomi bilateral, multilateral kita doakan di TPS sambil d...  \n",
       "8   Iya bener Aa, kita MANTAP kan pilihan ke Pemimpin yg bs memberi Solusi @jokowi bukan yg menyalah...  \n",
       "9   Prabowo-Sandi Sepakat Tak Ambil Gaji karena Negara Sedang Susah  https://www.goaceh.co/artikel/s...  \n",
       "10  #PilihOrangBaik #PilihJelasIslamnya #PilihBajuPutih Pilih pemimpin itu yg udh jelas banyak penca...  \n",
       "11  Calon presiden Jokowi menjelaskan program Kartu Pra Kerja akan memberikan insentif dalam kurun w...  \n",
       "12  Gak nginti Lu to @yunartowijaya, dan si @AT_AbdillahToha juga gak ngacaaa,, Gak usah ngajarin Sa...  \n",
       "13  Menurut Jokowi, pemerintah selalu berupaya menjaga keseimbangan agar harga pada posisi normal. P...  \n",
       "14                             Terlalu berat nge bahas ekonomi dgn angka2.. Cukup bahas mobil lejen aj,  \n",
       "15  mantulz sekali pak..mengisi masa tenang dg umroh bersama kel tercinta, istri, anak2... pada ahir...  \n",
       "16  #PilihOrangBaik #PilihJelasIslamnya #PilihBajuPutih  Pentingnya sisi industri kreatif dan inovat...  \n",
       "17  dalam 16 pakta integritas antara Prabowo sandi dan Ulama yg terlibat dalam ijtimak ulama sudah s...  \n",
       "18  Saya dengar pak, Mbak Vidya, dari Curup. Dulu beli lipstik Purbasari harga 25 ribu. Tapi sekaran...  \n",
       "19  Prabowo Sejak jadi TNI puluhan tahun nggak dia ambil gajinya serupiah pun. Sandi sejak jadi Wagu...  "
      ]
     },
     "execution_count": 5,
     "metadata": {},
     "output_type": "execute_result"
    }
   ],
   "source": [
    "df.head(20)"
   ]
  },
  {
   "cell_type": "code",
   "execution_count": 6,
   "metadata": {
    "executionInfo": {
     "elapsed": 8,
     "status": "ok",
     "timestamp": 1710301423267,
     "user": {
      "displayName": "Alfandy Surya",
      "userId": "04251874478570968890"
     },
     "user_tz": -420
    },
    "id": "FLHXPQ9BJMzn"
   },
   "outputs": [],
   "source": [
    "df.drop('Unnamed: 0', axis=1, inplace=True) # drop column with 'Unnamed: 0' name"
   ]
  },
  {
   "cell_type": "markdown",
   "metadata": {
    "id": "MVDJOw0JKhKL"
   },
   "source": [
    "# Data Inspection"
   ]
  },
  {
   "cell_type": "markdown",
   "metadata": {
    "id": "3gJMSSQULA_A"
   },
   "source": [
    "## Check Null Values"
   ]
  },
  {
   "cell_type": "code",
   "execution_count": 7,
   "metadata": {
    "colab": {
     "base_uri": "https://localhost:8080/"
    },
    "executionInfo": {
     "elapsed": 9,
     "status": "ok",
     "timestamp": 1710301423268,
     "user": {
      "displayName": "Alfandy Surya",
      "userId": "04251874478570968890"
     },
     "user_tz": -420
    },
    "id": "oOm_D0EFJ0rf",
    "outputId": "2bfcd01c-9339-4978-acf8-5ebdbe627a11"
   },
   "outputs": [
    {
     "name": "stdout",
     "output_type": "stream",
     "text": [
      "<class 'pandas.core.frame.DataFrame'>\n",
      "RangeIndex: 1815 entries, 0 to 1814\n",
      "Data columns (total 2 columns):\n",
      " #   Column    Non-Null Count  Dtype \n",
      "---  ------    --------------  ----- \n",
      " 0   sentimen  1815 non-null   object\n",
      " 1   tweet     1815 non-null   object\n",
      "dtypes: object(2)\n",
      "memory usage: 28.5+ KB\n"
     ]
    }
   ],
   "source": [
    "df.info()"
   ]
  },
  {
   "cell_type": "code",
   "execution_count": 8,
   "metadata": {
    "colab": {
     "base_uri": "https://localhost:8080/"
    },
    "executionInfo": {
     "elapsed": 7,
     "status": "ok",
     "timestamp": 1710301423268,
     "user": {
      "displayName": "Alfandy Surya",
      "userId": "04251874478570968890"
     },
     "user_tz": -420
    },
    "id": "Z8CnktdmKoij",
    "outputId": "0226f101-f3fd-4c22-8f59-526f723738ba"
   },
   "outputs": [
    {
     "data": {
      "text/plain": [
       "sentimen    0.0\n",
       "tweet       0.0\n",
       "dtype: float64"
      ]
     },
     "execution_count": 8,
     "metadata": {},
     "output_type": "execute_result"
    }
   ],
   "source": [
    "df.isna().sum()/len(df) # check null values proportion"
   ]
  },
  {
   "cell_type": "markdown",
   "metadata": {
    "id": "hdSCW5nkK6u_"
   },
   "source": [
    "Dapat dilihat bahwa tidak terdapat null values di dataset yang kita gunakan. Artinya kita tidak perlu melakukan proses imputation."
   ]
  },
  {
   "cell_type": "markdown",
   "metadata": {
    "id": "Frk2j7nCLESC"
   },
   "source": [
    "## Check Label Proportion"
   ]
  },
  {
   "cell_type": "code",
   "execution_count": 9,
   "metadata": {},
   "outputs": [
    {
     "data": {
      "text/plain": [
       "sentimen\n",
       "positif     612\n",
       "netral      607\n",
       "negatif     596\n",
       "dtype: int64"
      ]
     },
     "execution_count": 9,
     "metadata": {},
     "output_type": "execute_result"
    }
   ],
   "source": [
    "df[['sentimen']].value_counts()"
   ]
  },
  {
   "cell_type": "code",
   "execution_count": 10,
   "metadata": {
    "colab": {
     "base_uri": "https://localhost:8080/",
     "height": 551
    },
    "executionInfo": {
     "elapsed": 455,
     "status": "ok",
     "timestamp": 1710301423717,
     "user": {
      "displayName": "Alfandy Surya",
      "userId": "04251874478570968890"
     },
     "user_tz": -420
    },
    "id": "tZ68vt2rK6Hf",
    "outputId": "7ca29cbd-78d0-4b4d-85c1-6d3aa9eae7e6"
   },
   "outputs": [
    {
     "data": {
      "image/png": "[encoded data removed]",
      "text/plain": [
       "<Figure size 800x600 with 1 Axes>"
      ]
     },
     "metadata": {},
     "output_type": "display_data"
    }
   ],
   "source": [
    "plt.figure(figsize=(8, 6), dpi=100)\n",
    "ax = sns.countplot(data=df, x='sentimen', hue='sentimen', dodge=False)\n",
    "total = float(len(df))  # total number of data points\n",
    "\n",
    "for p in ax.patches:\n",
    "    height = p.get_height()\n",
    "    ax.annotate(f'{height/total:.1%}', (p.get_x() + p.get_width() / 2., height), ha='center', va='center', xytext=(0, 10), textcoords='offset points')\n",
    "\n",
    "plt.show()"
   ]
  },
  {
   "cell_type": "markdown",
   "metadata": {
    "id": "gNjlVvRhMTH5"
   },
   "source": [
    "Label (sentimen) yang kita miliki cukup balance sehingga tidak perlu melakukan proses oversampling atau undersampling. Selain itu, kita dapat menggunakan metriks akurasi untuk mengukur performa model."
   ]
  },
  {
   "cell_type": "markdown",
   "metadata": {
    "id": "p2qDzilVNCoW"
   },
   "source": [
    "## Check Data Duplication"
   ]
  },
  {
   "cell_type": "code",
   "execution_count": 11,
   "metadata": {
    "colab": {
     "base_uri": "https://localhost:8080/"
    },
    "executionInfo": {
     "elapsed": 6,
     "status": "ok",
     "timestamp": 1710301423717,
     "user": {
      "displayName": "Alfandy Surya",
      "userId": "04251874478570968890"
     },
     "user_tz": -420
    },
    "id": "nAIrgPR6KxIV",
    "outputId": "d6c4f273-2308-4fc0-c382-6d579ed4fc6b"
   },
   "outputs": [
    {
     "name": "stdout",
     "output_type": "stream",
     "text": [
      "Number of rows before duplicates data dropped:  1815\n",
      "Number of rows after duplicates data dropped:  1815\n",
      "Number of duplicated rows:  0\n"
     ]
    }
   ],
   "source": [
    "print('Number of rows before duplicates data dropped: ', len(df))\n",
    "print('Number of rows after duplicates data dropped: ',len(df.drop_duplicates()))\n",
    "print('Number of duplicated rows: ' , len(df) - len(df.drop_duplicates()))"
   ]
  },
  {
   "cell_type": "markdown",
   "metadata": {
    "id": "o1oRIbBJNbK4"
   },
   "source": [
    "Tidak terdapat data yang duplicated dari dataset yang kita miliki."
   ]
  },
  {
   "cell_type": "markdown",
   "metadata": {
    "id": "XG4TizAnNvZg"
   },
   "source": [
    "# Text Preprocessing"
   ]
  },
  {
   "cell_type": "code",
   "execution_count": 12,
   "metadata": {
    "executionInfo": {
     "elapsed": 5,
     "status": "ok",
     "timestamp": 1710301423717,
     "user": {
      "displayName": "Alfandy Surya",
      "userId": "04251874478570968890"
     },
     "user_tz": -420
    },
    "id": "MmIpjrn3pFlL"
   },
   "outputs": [],
   "source": [
    "with open(os.path.join(resources_folder,'slang_word_dictionary.json'), 'r') as json_file:\n",
    "    slangword_dict = json.load(json_file)"
   ]
  },
  {
   "cell_type": "code",
   "execution_count": 13,
   "metadata": {
    "executionInfo": {
     "elapsed": 5,
     "status": "ok",
     "timestamp": 1710301423717,
     "user": {
      "displayName": "Alfandy Surya",
      "userId": "04251874478570968890"
     },
     "user_tz": -420
    },
    "id": "74c9c2baqk_D"
   },
   "outputs": [],
   "source": [
    "with open(os.path.join(resources_folder,'emoji_dictionary.json'), 'r') as json_file:\n",
    "    emoji_dict = json.load(json_file)"
   ]
  },
  {
   "cell_type": "code",
   "execution_count": 14,
   "metadata": {
    "executionInfo": {
     "elapsed": 5,
     "status": "ok",
     "timestamp": 1710301423718,
     "user": {
      "displayName": "Alfandy Surya",
      "userId": "04251874478570968890"
     },
     "user_tz": -420
    },
    "id": "k8p9D78frt7h"
   },
   "outputs": [],
   "source": [
    "additional_stopwords = [\n",
    "    'sih', 'nya', 'iya', 'pak', 'se', 'ya', 'ke', 'pa', 'om', 'hmmmmm', 'hmm', 'oh', 'eh', 'com'\n",
    "]\n",
    "\n",
    "excluded_stopwords = [\n",
    "    'tidak', 'belum', 'bukan', 'tanpa', 'jarang', 'kurang', 'hampir tidak', 'tidak pernah',\n",
    "    'belum pernah', 'tidak boleh', 'tidak bisa', 'tidak seharusnya', 'tidak mungkin',\n",
    "    'tidak akan', 'tidak harus', 'tidak mengizinkan', 'tidak diizinkan', 'tidak diinginkan',\n",
    "    'tidak disarankan', 'tidak disetujui', 'baik', 'bisa', 'mungkin', 'boleh', 'salah', 'semakin'\n",
    "]\n",
    "\n",
    "stop_words = set(stopwords.words('indonesian'))\n",
    "stop_words_excluded = [value for value in stop_words if value not in excluded_stopwords] + additional_stopwords\n",
    "stop_words_all = list(stop_words) + additional_stopwords"
   ]
  },
  {
   "cell_type": "code",
   "execution_count": 15,
   "metadata": {
    "executionInfo": {
     "elapsed": 5,
     "status": "ok",
     "timestamp": 1710301423718,
     "user": {
      "displayName": "Alfandy Surya",
      "userId": "04251874478570968890"
     },
     "user_tz": -420
    },
    "id": "PVi2ySWPrkiv"
   },
   "outputs": [],
   "source": [
    "def random_tweet(before, after, low=0, high=10, length=len(df)):\n",
    "      for i in np.random.randint(low, length, high):\n",
    "        print(\"------------\"*100)\n",
    "        print(f'index {i}')\n",
    "        print('before: ', before.loc[i])\n",
    "        print('after: ', after.loc[i])"
   ]
  },
  {
   "cell_type": "code",
   "execution_count": 16,
   "metadata": {
    "executionInfo": {
     "elapsed": 1195,
     "status": "ok",
     "timestamp": 1710301424908,
     "user": {
      "displayName": "Alfandy Surya",
      "userId": "04251874478570968890"
     },
     "user_tz": -420
    },
    "id": "xy08GgdhNKE4"
   },
   "outputs": [],
   "source": [
    "# Text processing function\n",
    "\n",
    "def clean_tweet(text):\n",
    "    cleaned_text = re.sub(r\"#\\w+\", \"\", text)\n",
    "    cleaned_text = re.sub(r'http[s]?://(?:[a-zA-Z]|[0-9]|[$-_@.&+]|[!*\\\\(\\\\),]|(?:%[0-9a-fA-F][0-9a-fA-F]))+', '', cleaned_text)  # Remove URLs starting with http/https\n",
    "    cleaned_text = re.sub(r'www\\.[^ ]+', '', cleaned_text)  # Remove www URLs\n",
    "    cleaned_text = re.sub(r'pic\\.twitter\\.com/\\S+', '', cleaned_text)  # Remove pic.twitter.com links\n",
    "    cleaned_text = re.sub(r'\\b[A-Za-z0-9._%+-]+@[A-Za-z0-9.-]+\\.[A-Z|a-z]{2,}\\b', '', cleaned_text)  # Remove emails\n",
    "    cleaned_text = re.sub(r'<.*?>', '', cleaned_text) # Remove HTML\n",
    "    cleaned_text = cleaned_text.replace('@', '')  # Remove @ in mentions\n",
    "\n",
    "    return cleaned_text\n",
    "\n",
    "def remove_emojis(text):\n",
    "    emojis_to_remove = [\"😂\", \"…\", \"👍\", \"😁\", '😄','😆', '😊', '😭']\n",
    "    for emoji in emojis_to_remove:\n",
    "        text = text.replace(emoji, \"\")\n",
    "    return text\n",
    "\n",
    "def extract_emojis(text):\n",
    "    emojis = [c for c in text if c in emoji.EMOJI_DATA]\n",
    "    combined_emoji = ''.join(emojis)\n",
    "    return combined_emoji\n",
    "\n",
    "def process_punctuation(text):\n",
    "    modified_text = re.sub(r'[-\\']', '',text)\n",
    "    return modified_text\n",
    "\n",
    "def remove_punctuation(text):\n",
    "    punctuation_pattern = r'[^\\w\\s]'\n",
    "    cleaned_text = re.sub(punctuation_pattern, ' ', text)\n",
    "    return cleaned_text\n",
    "\n",
    "def remove_extra_spaces(text):\n",
    "    extra_spaces_pattern = r\"\\s+\"\n",
    "    cleaned_text = re.sub(extra_spaces_pattern, \" \", text)\n",
    "    cleaned_text = cleaned_text.strip()\n",
    "    return cleaned_text\n",
    "\n",
    "def remove_special_characters(text):\n",
    "    cleaned_text = re.sub(r'[^A-Za-z0-9\\s]', ' ', text)\n",
    "    return cleaned_text\n",
    "\n",
    "def lowercase(text):\n",
    "    lowercase_text = text.lower()\n",
    "    return lowercase_text\n",
    "\n",
    "def process_slang(text, dictionary=slangword_dict):\n",
    "    pattern_short_words = re.compile(r'\\b(?:' + '|'.join(re.escape(word) for word in dictionary.keys()) + r')\\b')\n",
    "    output_text = pattern_short_words.sub(lambda x: dictionary[x.group()], text)\n",
    "    return output_text\n",
    "\n",
    "def remove_stopwords(text, stopwords=stop_words_excluded):\n",
    "    tokens = word_tokenize(text)\n",
    "    filtered_tokens = [token for token in tokens if token.lower() not in stop_words_excluded]\n",
    "    cleaned_text = ' '.join(filtered_tokens)\n",
    "    return cleaned_text\n",
    "\n",
    "def remove_specific_numbers(text):\n",
    "    pattern = re.compile(r'\\b(?!2\\b|1\\b|2019\\b)\\d+\\b')\n",
    "    result = re.sub(pattern, '', text)\n",
    "    return result\n",
    "\n",
    "# Text normalization function\n",
    "lemmatizer = Lemmatizer()\n",
    "\n",
    "def custom_lemmatization(text, exclude_words=[]):\n",
    "    words = text.split()\n",
    "    lemmatized_words = [lemmatizer.lemmatize(word) if word.lower() not in exclude_words else word for word in words]\n",
    "    lemmatized_text = ' '.join(lemmatized_words)\n",
    "\n",
    "    return lemmatized_text\n",
    "\n",
    "def get_english_words(word_list):\n",
    "    english_words = set(words.words())\n",
    "    return [word for word in word_list if word.lower() in english_words]\n",
    "\n",
    "# Word embedding\n",
    "def mean_vector_df_val(model, train_sentences, val_sentences, test_sentences):\n",
    "    # train\n",
    "    vectorized_lists_train = []\n",
    "    for word_list in train_sentences:\n",
    "        vectorized_words_train = [model.wv[word] for word in word_list if word in model.wv]  # OOV handler (ignore)\n",
    "        vectorized_lists_train.append(vectorized_words_train)\n",
    "\n",
    "    mean_vector_train = []\n",
    "    for matrix in vectorized_lists_train:\n",
    "        transposed_matrix_train = list(map(list, zip(*matrix)))\n",
    "        column_means_train = [sum(column) / len(column) for column in transposed_matrix_train]\n",
    "        mean_vector_train.append(column_means_train)\n",
    "\n",
    "    X_train_mean_vector = pd.DataFrame(np.array(mean_vector_train))\n",
    "\n",
    "    # validation\n",
    "    vectorized_lists_val = []\n",
    "    for word_list in val_sentences:\n",
    "        vectorized_words_val = [model.wv[word] for word in word_list if word in model.wv] #OOV handler (ignore)\n",
    "        vectorized_lists_val.append(vectorized_words_val)\n",
    "\n",
    "    mean_vector_val = []\n",
    "    for matrix in vectorized_lists_val:\n",
    "        transposed_matrix_val = list(map(list, zip(*matrix)))\n",
    "        column_means_val = [sum(column) / len(column) for column in transposed_matrix_val]\n",
    "        mean_vector_val.append(column_means_val)\n",
    "\n",
    "    X_val_mean_vector = pd.DataFrame(np.array(mean_vector_val))\n",
    "\n",
    "    # Test\n",
    "    vectorized_lists_test = []\n",
    "    for word_list in test_sentences:\n",
    "        vectorized_words_test = [model.wv[word] for word in word_list if word in model.wv] #OOV handler (ignore)\n",
    "        vectorized_lists_test.append(vectorized_words_test)\n",
    "\n",
    "    mean_vector_test = []\n",
    "    for matrix in vectorized_lists_test:\n",
    "        transposed_matrix_test = list(map(list, zip(*matrix)))\n",
    "        column_means_test = [sum(column) / len(column) for column in transposed_matrix_test]\n",
    "        mean_vector_test.append(column_means_test)\n",
    "\n",
    "    X_test_mean_vector = pd.DataFrame(np.array(mean_vector_test))\n",
    "\n",
    "    return X_train_mean_vector, X_val_mean_vector, X_test_mean_vector\n",
    "\n",
    "# Modelling\n",
    "def evaluate_classification_model(y_train, y_train_pred, y_val, y_val_pred, y_test, y_test_pred, model_name=''):\n",
    "    train_accuracy = round(accuracy_score(y_train, y_train_pred), 2)\n",
    "    val_accuracy = round(accuracy_score(y_val, y_val_pred), 2)\n",
    "    test_accuracy = round(accuracy_score(y_test, y_test_pred), 2)\n",
    "\n",
    "    metrics_df = pd.DataFrame({\n",
    "        'Model Name': [model_name],\n",
    "        'Train Accuracy': [train_accuracy],\n",
    "        'Validation Accuracy': [val_accuracy],\n",
    "        'Test Accuracy': [test_accuracy]\n",
    "    })\n",
    "\n",
    "    metrics_df.set_index('Model Name', inplace=True)\n",
    "    return metrics_df"
   ]
  },
  {
   "cell_type": "markdown",
   "metadata": {
    "id": "4YFZ6Vy1RCjo"
   },
   "source": [
    "## Text Cleaning"
   ]
  },
  {
   "cell_type": "markdown",
   "metadata": {
    "id": "ZWJVGaSK9Ds6"
   },
   "source": [
    "### Process Emoji"
   ]
  },
  {
   "cell_type": "code",
   "execution_count": 17,
   "metadata": {
    "executionInfo": {
     "elapsed": 5,
     "status": "ok",
     "timestamp": 1710301424908,
     "user": {
      "displayName": "Alfandy Surya",
      "userId": "04251874478570968890"
     },
     "user_tz": -420
    },
    "id": "1dojx8aS9HmS"
   },
   "outputs": [],
   "source": [
    "special_character_list = list()\n",
    "for text in df.tweet.values:\n",
    "    non_ascii_characters = re.findall(r'[^\\x00-\\x7F]+', text)\n",
    "\n",
    "    for c in non_ascii_characters:\n",
    "        if c not in special_character_list:\n",
    "            special_character_list.append(c)"
   ]
  },
  {
   "cell_type": "code",
   "execution_count": 18,
   "metadata": {
    "executionInfo": {
     "elapsed": 5,
     "status": "ok",
     "timestamp": 1710301424909,
     "user": {
      "displayName": "Alfandy Surya",
      "userId": "04251874478570968890"
     },
     "user_tz": -420
    },
    "id": "6N-CoZOg9Hb_"
   },
   "outputs": [],
   "source": [
    "index = list()\n",
    "special_character = list()\n",
    "label = list()\n",
    "for s in special_character_list:\n",
    "    for idx,text in enumerate(df.tweet.values):\n",
    "        if s in text:\n",
    "            index.append(idx)\n",
    "            special_character.append(s)\n",
    "            label.append(df.iloc[idx, 0])"
   ]
  },
  {
   "cell_type": "code",
   "execution_count": 19,
   "metadata": {
    "executionInfo": {
     "elapsed": 4,
     "status": "ok",
     "timestamp": 1710301424909,
     "user": {
      "displayName": "Alfandy Surya",
      "userId": "04251874478570968890"
     },
     "user_tz": -420
    },
    "id": "xE1nfw849HOZ"
   },
   "outputs": [],
   "source": [
    "emoji_list = pd.DataFrame({\n",
    "    'row': index,\n",
    "    'special_character': special_character,\n",
    "    'label': label\n",
    "})"
   ]
  },
  {
   "cell_type": "code",
   "execution_count": 20,
   "metadata": {
    "executionInfo": {
     "elapsed": 595,
     "status": "ok",
     "timestamp": 1710301425500,
     "user": {
      "displayName": "Alfandy Surya",
      "userId": "04251874478570968890"
     },
     "user_tz": -420
    },
    "id": "XcC7mz209HC3"
   },
   "outputs": [],
   "source": [
    "for idx in emoji_list.index:\n",
    "    try:\n",
    "        row = emoji_list.iloc[idx, 0]\n",
    "        text = df.iloc[row, 1]\n",
    "        word = emoji_list.iloc[idx, 1]\n",
    "        replacement = emoji_dict[word]\n",
    "\n",
    "        df.iloc[row, 1] = text.replace(word, replacement)\n",
    "    except:\n",
    "        print(word, 'Cannot be found the associated emoji or text')\n",
    "\n",
    "emoji_list['emoji'] = emoji_list['special_character']\n",
    "\n",
    "for idx in emoji_list.index:\n",
    "    text = emoji_list.iloc[idx, 3]\n",
    "    replacement = emoji_dict[text]\n",
    "    emoji_list.iloc[idx, 3] = text.replace(text, replacement)"
   ]
  },
  {
   "cell_type": "code",
   "execution_count": 21,
   "metadata": {
    "executionInfo": {
     "elapsed": 4,
     "status": "ok",
     "timestamp": 1710301425500,
     "user": {
      "displayName": "Alfandy Surya",
      "userId": "04251874478570968890"
     },
     "user_tz": -420
    },
    "id": "OTnvai2G9G2t"
   },
   "outputs": [],
   "source": [
    "df['remove_unrelevant_emoji'] = df['tweet'].apply(remove_emojis)\n",
    "df['emojis'] = df['remove_unrelevant_emoji'].apply(extract_emojis)"
   ]
  },
  {
   "cell_type": "markdown",
   "metadata": {
    "id": "u9_vXrEaaoua"
   },
   "source": [
    "### Remove Hashtag, URL, and HTML"
   ]
  },
  {
   "cell_type": "code",
   "execution_count": 22,
   "metadata": {
    "executionInfo": {
     "elapsed": 4,
     "status": "ok",
     "timestamp": 1710301425500,
     "user": {
      "displayName": "Alfandy Surya",
      "userId": "04251874478570968890"
     },
     "user_tz": -420
    },
    "id": "RRAlM_VjbuzP"
   },
   "outputs": [],
   "source": [
    "df['tweet_clean'] = df['tweet'].apply(clean_tweet)"
   ]
  },
  {
   "cell_type": "markdown",
   "metadata": {
    "id": "aRg44GxlRt4T"
   },
   "source": [
    "### Process & Remove Punctuation"
   ]
  },
  {
   "cell_type": "code",
   "execution_count": 23,
   "metadata": {
    "executionInfo": {
     "elapsed": 3,
     "status": "ok",
     "timestamp": 1710301425500,
     "user": {
      "displayName": "Alfandy Surya",
      "userId": "04251874478570968890"
     },
     "user_tz": -420
    },
    "id": "pLE8wXlTXNjZ"
   },
   "outputs": [],
   "source": [
    "df['tweet_proc_punct'] = df['tweet_clean'].apply(process_punctuation)\n",
    "df['tweet_no_punct'] = df['tweet_proc_punct'].apply(remove_punctuation)"
   ]
  },
  {
   "cell_type": "markdown",
   "metadata": {
    "id": "ZfOr-IVNXtUI"
   },
   "source": [
    "### Remove Special Character"
   ]
  },
  {
   "cell_type": "code",
   "execution_count": 24,
   "metadata": {
    "executionInfo": {
     "elapsed": 3,
     "status": "ok",
     "timestamp": 1710301425500,
     "user": {
      "displayName": "Alfandy Surya",
      "userId": "04251874478570968890"
     },
     "user_tz": -420
    },
    "id": "jZDCfDmXYPIf"
   },
   "outputs": [],
   "source": [
    "df['tweet_no_sc'] = df['tweet_no_punct'].apply(remove_special_characters)"
   ]
  },
  {
   "cell_type": "markdown",
   "metadata": {
    "id": "3o4Ma4cralaR"
   },
   "source": [
    "### Case Folding"
   ]
  },
  {
   "cell_type": "code",
   "execution_count": 25,
   "metadata": {
    "executionInfo": {
     "elapsed": 3,
     "status": "ok",
     "timestamp": 1710301425500,
     "user": {
      "displayName": "Alfandy Surya",
      "userId": "04251874478570968890"
     },
     "user_tz": -420
    },
    "id": "3J9eEIcHakZy"
   },
   "outputs": [],
   "source": [
    "df['tweet_lowercase'] = df['tweet_no_sc'].apply(lowercase)"
   ]
  },
  {
   "cell_type": "markdown",
   "metadata": {
    "id": "sPF4v8qRfJsV"
   },
   "source": [
    "### Slang & Short Words Processing"
   ]
  },
  {
   "cell_type": "code",
   "execution_count": 26,
   "metadata": {
    "executionInfo": {
     "elapsed": 60961,
     "status": "ok",
     "timestamp": 1710301486458,
     "user": {
      "displayName": "Alfandy Surya",
      "userId": "04251874478570968890"
     },
     "user_tz": -420
    },
    "id": "xtc59RfPTuoo"
   },
   "outputs": [],
   "source": [
    "df['tweet_no_slang'] = df['tweet_lowercase'].apply(process_slang)"
   ]
  },
  {
   "cell_type": "markdown",
   "metadata": {
    "id": "8UcoazNIhhMj"
   },
   "source": [
    "### Process Number"
   ]
  },
  {
   "cell_type": "code",
   "execution_count": 27,
   "metadata": {
    "executionInfo": {
     "elapsed": 3,
     "status": "ok",
     "timestamp": 1710301487081,
     "user": {
      "displayName": "Alfandy Surya",
      "userId": "04251874478570968890"
     },
     "user_tz": -420
    },
    "id": "aJ3f1Ad6GT-y"
   },
   "outputs": [],
   "source": [
    "df['tweet_no_number'] = df['tweet_no_slang'].apply(remove_specific_numbers)"
   ]
  },
  {
   "cell_type": "markdown",
   "metadata": {
    "id": "yX1I6r95fsL5"
   },
   "source": [
    "### Remove Extra Spaces"
   ]
  },
  {
   "cell_type": "code",
   "execution_count": 28,
   "metadata": {
    "executionInfo": {
     "elapsed": 381,
     "status": "ok",
     "timestamp": 1710301487460,
     "user": {
      "displayName": "Alfandy Surya",
      "userId": "04251874478570968890"
     },
     "user_tz": -420
    },
    "id": "k0sObXF4jhnJ"
   },
   "outputs": [],
   "source": [
    "df['tweet_no_extra_spaces'] = df['tweet_no_number'].apply(remove_extra_spaces)"
   ]
  },
  {
   "cell_type": "markdown",
   "metadata": {
    "id": "535pvUVc__G1"
   },
   "source": [
    "## Text Normalization"
   ]
  },
  {
   "cell_type": "markdown",
   "metadata": {
    "id": "8pfmyvhEPa01"
   },
   "source": [
    "### Lemmatization"
   ]
  },
  {
   "cell_type": "code",
   "execution_count": 29,
   "metadata": {
    "executionInfo": {
     "elapsed": 2308,
     "status": "ok",
     "timestamp": 1710301489766,
     "user": {
      "displayName": "Alfandy Surya",
      "userId": "04251874478570968890"
     },
     "user_tz": -420
    },
    "id": "ZROUX-c3XvNK"
   },
   "outputs": [],
   "source": [
    "exclude_words = ['asian', 'setuju']\n",
    "df['tweet_lem'] = df['tweet_no_extra_spaces'].apply(lambda x: custom_lemmatization(x, exclude_words))"
   ]
  },
  {
   "cell_type": "code",
   "execution_count": 30,
   "metadata": {},
   "outputs": [
    {
     "data": {
      "text/plain": [
       "'kata prabowo indonesia tidak harga bangsa asing berita ini pasti isu bohong buat kuasa iya kan rockygerung 👇😜'"
      ]
     },
     "execution_count": 30,
     "metadata": {},
     "output_type": "execute_result"
    }
   ],
   "source": [
    "df['final_tweet'] = df['tweet_lem'] + ' ' + df['emojis']\n",
    "df['final_tweet'].loc[0]"
   ]
  },
  {
   "cell_type": "markdown",
   "metadata": {},
   "source": [
    "## Text Tokenization"
   ]
  },
  {
   "cell_type": "code",
   "execution_count": 31,
   "metadata": {
    "executionInfo": {
     "elapsed": 632,
     "status": "ok",
     "timestamp": 1710301490396,
     "user": {
      "displayName": "Alfandy Surya",
      "userId": "04251874478570968890"
     },
     "user_tz": -420
    },
    "id": "ENhA-1RNWvog"
   },
   "outputs": [],
   "source": [
    "df['tweet_tokenization'] = df['final_tweet'].apply(word_tokenize)"
   ]
  },
  {
   "cell_type": "markdown",
   "metadata": {
    "id": "N4WiMoEMidBo"
   },
   "source": [
    "# Modelling"
   ]
  },
  {
   "cell_type": "markdown",
   "metadata": {
    "id": "QRXLVyImifRc"
   },
   "source": [
    "## Data Splitting"
   ]
  },
  {
   "cell_type": "code",
   "execution_count": 32,
   "metadata": {
    "executionInfo": {
     "elapsed": 6,
     "status": "ok",
     "timestamp": 1710301490396,
     "user": {
      "displayName": "Alfandy Surya",
      "userId": "04251874478570968890"
     },
     "user_tz": -420
    },
    "id": "4zC5GuprWb4f"
   },
   "outputs": [],
   "source": [
    "df.loc[df['sentimen']=='positif', 'label'] = 0\n",
    "df.loc[df['sentimen']=='netral', 'label'] = 1\n",
    "df.loc[df['sentimen']=='negatif', 'label'] = 2"
   ]
  },
  {
   "cell_type": "code",
   "execution_count": 33,
   "metadata": {
    "executionInfo": {
     "elapsed": 5,
     "status": "ok",
     "timestamp": 1710301490396,
     "user": {
      "displayName": "Alfandy Surya",
      "userId": "04251874478570968890"
     },
     "user_tz": -420
    },
    "id": "TqmdW8TIWcim"
   },
   "outputs": [],
   "source": [
    "X = df.copy()\n",
    "y = np.array(df['label'])\n",
    "\n",
    "X_train, X_temp, y_train, y_temp = train_test_split(X, y, test_size=0.4, random_state=42, stratify=y)\n",
    "X_val, X_test, y_val, y_test = train_test_split(X_temp, y_temp, test_size=0.5, random_state=42, stratify=y_temp)"
   ]
  },
  {
   "cell_type": "code",
   "execution_count": 34,
   "metadata": {
    "executionInfo": {
     "elapsed": 2,
     "status": "ok",
     "timestamp": 1710298806142,
     "user": {
      "displayName": "Alfandy Surya",
      "userId": "04251874478570968890"
     },
     "user_tz": -420
    },
    "id": "uj29T3jJW4HF"
   },
   "outputs": [],
   "source": [
    "train_sentences = (X_train['tweet_tokenization']).to_list()\n",
    "val_sentences = (X_val['tweet_tokenization']).to_list()\n",
    "test_sentences = (X_test['tweet_tokenization']).to_list()"
   ]
  },
  {
   "cell_type": "markdown",
   "metadata": {
    "id": "yHK6VcN-Lq53"
   },
   "source": [
    "## Word Embedding"
   ]
  },
  {
   "cell_type": "markdown",
   "metadata": {
    "id": "SoDi_SpC7pU3"
   },
   "source": [
    "### Word2Vec - Skip-Gram"
   ]
  },
  {
   "cell_type": "code",
   "execution_count": 35,
   "metadata": {
    "executionInfo": {
     "elapsed": 2,
     "status": "ok",
     "timestamp": 1710301560565,
     "user": {
      "displayName": "Alfandy Surya",
      "userId": "04251874478570968890"
     },
     "user_tz": -420
    },
    "id": "Y2VtXGOLH2dY"
   },
   "outputs": [],
   "source": [
    "model_w2v_sg = Word2Vec.load(word2vec_model_sg_sw)"
   ]
  },
  {
   "cell_type": "code",
   "execution_count": 36,
   "metadata": {
    "executionInfo": {
     "elapsed": 1438,
     "status": "ok",
     "timestamp": 1710301563804,
     "user": {
      "displayName": "Alfandy Surya",
      "userId": "04251874478570968890"
     },
     "user_tz": -420
    },
    "id": "YbJx0352bviD"
   },
   "outputs": [],
   "source": [
    "X_train_sg, X_val_sg, X_test_sg = mean_vector_df_val(model_w2v_sg, train_sentences, val_sentences, test_sentences)"
   ]
  },
  {
   "cell_type": "markdown",
   "metadata": {
    "id": "sPjiH7gpx7PQ"
   },
   "source": [
    "### Word2Vec - CBOW"
   ]
  },
  {
   "cell_type": "code",
   "execution_count": 37,
   "metadata": {
    "executionInfo": {
     "elapsed": 2,
     "status": "ok",
     "timestamp": 1710301566329,
     "user": {
      "displayName": "Alfandy Surya",
      "userId": "04251874478570968890"
     },
     "user_tz": -420
    },
    "id": "iUia4gmxfJhB"
   },
   "outputs": [],
   "source": [
    "model_w2v_cbow = Word2Vec.load(word2vec_model_cbow_sw)"
   ]
  },
  {
   "cell_type": "code",
   "execution_count": 38,
   "metadata": {
    "executionInfo": {
     "elapsed": 1261,
     "status": "ok",
     "timestamp": 1710301567589,
     "user": {
      "displayName": "Alfandy Surya",
      "userId": "04251874478570968890"
     },
     "user_tz": -420
    },
    "id": "W6PlwfLpfNXe"
   },
   "outputs": [],
   "source": [
    "X_train_cbow, X_val_cbow, X_test_cbow = mean_vector_df_val(model_w2v_cbow, train_sentences, val_sentences, test_sentences)"
   ]
  },
  {
   "cell_type": "markdown",
   "metadata": {
    "id": "TcuDuaQsmc1O"
   },
   "source": [
    "## Model Training (Baseline) - Random Forest"
   ]
  },
  {
   "cell_type": "markdown",
   "metadata": {
    "id": "ohETT1AvvpxK"
   },
   "source": [
    "### Random Forest (Baseline) - Skip-Gram"
   ]
  },
  {
   "cell_type": "code",
   "execution_count": 39,
   "metadata": {
    "colab": {
     "base_uri": "https://localhost:8080/",
     "height": 74
    },
    "executionInfo": {
     "elapsed": 373,
     "status": "ok",
     "timestamp": 1710301571378,
     "user": {
      "displayName": "Alfandy Surya",
      "userId": "04251874478570968890"
     },
     "user_tz": -420
    },
    "id": "uH52x6Drwo6G",
    "outputId": "7f6e927e-e0d3-457f-c9c9-8704950f0690"
   },
   "outputs": [
    {
     "data": {
      "text/html": [
       "<style>#sk-container-id-1 {color: black;background-color: white;}#sk-container-id-1 pre{padding: 0;}#sk-container-id-1 div.sk-toggleable {background-color: white;}#sk-container-id-1 label.sk-toggleable__label {cursor: pointer;display: block;width: 100%;margin-bottom: 0;padding: 0.3em;box-sizing: border-box;text-align: center;}#sk-container-id-1 label.sk-toggleable__label-arrow:before {content: \"▸\";float: left;margin-right: 0.25em;color: #696969;}#sk-container-id-1 label.sk-toggleable__label-arrow:hover:before {color: black;}#sk-container-id-1 div.sk-estimator:hover label.sk-toggleable__label-arrow:before {color: black;}#sk-container-id-1 div.sk-toggleable__content {max-height: 0;max-width: 0;overflow: hidden;text-align: left;background-color: #f0f8ff;}#sk-container-id-1 div.sk-toggleable__content pre {margin: 0.2em;color: black;border-radius: 0.25em;background-color: #f0f8ff;}#sk-container-id-1 input.sk-toggleable__control:checked~div.sk-toggleable__content {max-height: 200px;max-width: 100%;overflow: auto;}#sk-container-id-1 input.sk-toggleable__control:checked~label.sk-toggleable__label-arrow:before {content: \"▾\";}#sk-container-id-1 div.sk-estimator input.sk-toggleable__control:checked~label.sk-toggleable__label {background-color: #d4ebff;}#sk-container-id-1 div.sk-label input.sk-toggleable__control:checked~label.sk-toggleable__label {background-color: #d4ebff;}#sk-container-id-1 input.sk-hidden--visually {border: 0;clip: rect(1px 1px 1px 1px);clip: rect(1px, 1px, 1px, 1px);height: 1px;margin: -1px;overflow: hidden;padding: 0;position: absolute;width: 1px;}#sk-container-id-1 div.sk-estimator {font-family: monospace;background-color: #f0f8ff;border: 1px dotted black;border-radius: 0.25em;box-sizing: border-box;margin-bottom: 0.5em;}#sk-container-id-1 div.sk-estimator:hover {background-color: #d4ebff;}#sk-container-id-1 div.sk-parallel-item::after {content: \"\";width: 100%;border-bottom: 1px solid gray;flex-grow: 1;}#sk-container-id-1 div.sk-label:hover label.sk-toggleable__label {background-color: #d4ebff;}#sk-container-id-1 div.sk-serial::before {content: \"\";position: absolute;border-left: 1px solid gray;box-sizing: border-box;top: 0;bottom: 0;left: 50%;z-index: 0;}#sk-container-id-1 div.sk-serial {display: flex;flex-direction: column;align-items: center;background-color: white;padding-right: 0.2em;padding-left: 0.2em;position: relative;}#sk-container-id-1 div.sk-item {position: relative;z-index: 1;}#sk-container-id-1 div.sk-parallel {display: flex;align-items: stretch;justify-content: center;background-color: white;position: relative;}#sk-container-id-1 div.sk-item::before, #sk-container-id-1 div.sk-parallel-item::before {content: \"\";position: absolute;border-left: 1px solid gray;box-sizing: border-box;top: 0;bottom: 0;left: 50%;z-index: -1;}#sk-container-id-1 div.sk-parallel-item {display: flex;flex-direction: column;z-index: 1;position: relative;background-color: white;}#sk-container-id-1 div.sk-parallel-item:first-child::after {align-self: flex-end;width: 50%;}#sk-container-id-1 div.sk-parallel-item:last-child::after {align-self: flex-start;width: 50%;}#sk-container-id-1 div.sk-parallel-item:only-child::after {width: 0;}#sk-container-id-1 div.sk-dashed-wrapped {border: 1px dashed gray;margin: 0 0.4em 0.5em 0.4em;box-sizing: border-box;padding-bottom: 0.4em;background-color: white;}#sk-container-id-1 div.sk-label label {font-family: monospace;font-weight: bold;display: inline-block;line-height: 1.2em;}#sk-container-id-1 div.sk-label-container {text-align: center;}#sk-container-id-1 div.sk-container {/* jupyter's `normalize.less` sets `[hidden] { display: none; }` but bootstrap.min.css set `[hidden] { display: none !important; }` so we also need the `!important` here to be able to override the default hidden behavior on the sphinx rendered scikit-learn.org. See: https://github.com/scikit-learn/scikit-learn/issues/21755 */display: inline-block !important;position: relative;}#sk-container-id-1 div.sk-text-repr-fallback {display: none;}</style><div id=\"sk-container-id-1\" class=\"sk-top-container\"><div class=\"sk-text-repr-fallback\"><pre>RandomForestClassifier(random_state=42)</pre><b>In a Jupyter environment, please rerun this cell to show the HTML representation or trust the notebook. <br />On GitHub, the HTML representation is unable to render, please try loading this page with nbviewer.org.</b></div><div class=\"sk-container\" hidden><div class=\"sk-item\"><div class=\"sk-estimator sk-toggleable\"><input class=\"sk-toggleable__control sk-hidden--visually\" id=\"sk-estimator-id-1\" type=\"checkbox\" checked><label for=\"sk-estimator-id-1\" class=\"sk-toggleable__label sk-toggleable__label-arrow\">RandomForestClassifier</label><div class=\"sk-toggleable__content\"><pre>RandomForestClassifier(random_state=42)</pre></div></div></div></div></div>"
      ],
      "text/plain": [
       "RandomForestClassifier(random_state=42)"
      ]
     },
     "execution_count": 39,
     "metadata": {},
     "output_type": "execute_result"
    }
   ],
   "source": [
    "rf_model_sg_baseline = RandomForestClassifier(random_state=42)\n",
    "rf_model_sg_baseline.fit(X_train_sg, y_train)"
   ]
  },
  {
   "cell_type": "code",
   "execution_count": 40,
   "metadata": {
    "colab": {
     "base_uri": "https://localhost:8080/",
     "height": 112
    },
    "executionInfo": {
     "elapsed": 537,
     "status": "ok",
     "timestamp": 1710301571913,
     "user": {
      "displayName": "Alfandy Surya",
      "userId": "04251874478570968890"
     },
     "user_tz": -420
    },
    "id": "wiNPbblylIwO",
    "outputId": "d7d86b53-5c50-4ef2-e782-6e5ae5385d37"
   },
   "outputs": [
    {
     "data": {
      "text/html": [
       "<div>\n",
       "<style scoped>\n",
       "    .dataframe tbody tr th:only-of-type {\n",
       "        vertical-align: middle;\n",
       "    }\n",
       "\n",
       "    .dataframe tbody tr th {\n",
       "        vertical-align: top;\n",
       "    }\n",
       "\n",
       "    .dataframe thead th {\n",
       "        text-align: right;\n",
       "    }\n",
       "</style>\n",
       "<table border=\"1\" class=\"dataframe\">\n",
       "  <thead>\n",
       "    <tr style=\"text-align: right;\">\n",
       "      <th></th>\n",
       "      <th>Train Accuracy</th>\n",
       "      <th>Validation Accuracy</th>\n",
       "      <th>Test Accuracy</th>\n",
       "    </tr>\n",
       "    <tr>\n",
       "      <th>Model Name</th>\n",
       "      <th></th>\n",
       "      <th></th>\n",
       "      <th></th>\n",
       "    </tr>\n",
       "  </thead>\n",
       "  <tbody>\n",
       "    <tr>\n",
       "      <th>RandomForestClassifier - SkipGram (Baseline)</th>\n",
       "      <td>1.0</td>\n",
       "      <td>0.58</td>\n",
       "      <td>0.57</td>\n",
       "    </tr>\n",
       "  </tbody>\n",
       "</table>\n",
       "</div>"
      ],
      "text/plain": [
       "                                              Train Accuracy  \\\n",
       "Model Name                                                     \n",
       "RandomForestClassifier - SkipGram (Baseline)             1.0   \n",
       "\n",
       "                                              Validation Accuracy  \\\n",
       "Model Name                                                          \n",
       "RandomForestClassifier - SkipGram (Baseline)                 0.58   \n",
       "\n",
       "                                              Test Accuracy  \n",
       "Model Name                                                   \n",
       "RandomForestClassifier - SkipGram (Baseline)           0.57  "
      ]
     },
     "execution_count": 40,
     "metadata": {},
     "output_type": "execute_result"
    }
   ],
   "source": [
    "metrics_rf_sg_baseline = evaluate_classification_model(y_train,\n",
    "                                                  rf_model_sg_baseline.predict(X_train_sg),\n",
    "                                                  y_val,\n",
    "                                                  rf_model_sg_baseline.predict(X_val_sg),\n",
    "                                                  y_test,\n",
    "                                                  rf_model_sg_baseline.predict(X_test_sg),\n",
    "                                                  'RandomForestClassifier - SkipGram (Baseline)')\n",
    "metrics_rf_sg_baseline"
   ]
  },
  {
   "cell_type": "markdown",
   "metadata": {
    "id": "GHokUD8Pvmvl"
   },
   "source": [
    "### Random Forest (Baseline) - CBOW"
   ]
  },
  {
   "cell_type": "code",
   "execution_count": 41,
   "metadata": {
    "colab": {
     "base_uri": "https://localhost:8080/",
     "height": 74
    },
    "executionInfo": {
     "elapsed": 1243,
     "status": "ok",
     "timestamp": 1710298984594,
     "user": {
      "displayName": "Alfandy Surya",
      "userId": "04251874478570968890"
     },
     "user_tz": -420
    },
    "id": "VPcFbGh5pS-r",
    "outputId": "d9f9ac09-7c5b-4814-f83a-b43cd73af517"
   },
   "outputs": [
    {
     "data": {
      "text/html": [
       "<style>#sk-container-id-2 {color: black;background-color: white;}#sk-container-id-2 pre{padding: 0;}#sk-container-id-2 div.sk-toggleable {background-color: white;}#sk-container-id-2 label.sk-toggleable__label {cursor: pointer;display: block;width: 100%;margin-bottom: 0;padding: 0.3em;box-sizing: border-box;text-align: center;}#sk-container-id-2 label.sk-toggleable__label-arrow:before {content: \"▸\";float: left;margin-right: 0.25em;color: #696969;}#sk-container-id-2 label.sk-toggleable__label-arrow:hover:before {color: black;}#sk-container-id-2 div.sk-estimator:hover label.sk-toggleable__label-arrow:before {color: black;}#sk-container-id-2 div.sk-toggleable__content {max-height: 0;max-width: 0;overflow: hidden;text-align: left;background-color: #f0f8ff;}#sk-container-id-2 div.sk-toggleable__content pre {margin: 0.2em;color: black;border-radius: 0.25em;background-color: #f0f8ff;}#sk-container-id-2 input.sk-toggleable__control:checked~div.sk-toggleable__content {max-height: 200px;max-width: 100%;overflow: auto;}#sk-container-id-2 input.sk-toggleable__control:checked~label.sk-toggleable__label-arrow:before {content: \"▾\";}#sk-container-id-2 div.sk-estimator input.sk-toggleable__control:checked~label.sk-toggleable__label {background-color: #d4ebff;}#sk-container-id-2 div.sk-label input.sk-toggleable__control:checked~label.sk-toggleable__label {background-color: #d4ebff;}#sk-container-id-2 input.sk-hidden--visually {border: 0;clip: rect(1px 1px 1px 1px);clip: rect(1px, 1px, 1px, 1px);height: 1px;margin: -1px;overflow: hidden;padding: 0;position: absolute;width: 1px;}#sk-container-id-2 div.sk-estimator {font-family: monospace;background-color: #f0f8ff;border: 1px dotted black;border-radius: 0.25em;box-sizing: border-box;margin-bottom: 0.5em;}#sk-container-id-2 div.sk-estimator:hover {background-color: #d4ebff;}#sk-container-id-2 div.sk-parallel-item::after {content: \"\";width: 100%;border-bottom: 1px solid gray;flex-grow: 1;}#sk-container-id-2 div.sk-label:hover label.sk-toggleable__label {background-color: #d4ebff;}#sk-container-id-2 div.sk-serial::before {content: \"\";position: absolute;border-left: 1px solid gray;box-sizing: border-box;top: 0;bottom: 0;left: 50%;z-index: 0;}#sk-container-id-2 div.sk-serial {display: flex;flex-direction: column;align-items: center;background-color: white;padding-right: 0.2em;padding-left: 0.2em;position: relative;}#sk-container-id-2 div.sk-item {position: relative;z-index: 1;}#sk-container-id-2 div.sk-parallel {display: flex;align-items: stretch;justify-content: center;background-color: white;position: relative;}#sk-container-id-2 div.sk-item::before, #sk-container-id-2 div.sk-parallel-item::before {content: \"\";position: absolute;border-left: 1px solid gray;box-sizing: border-box;top: 0;bottom: 0;left: 50%;z-index: -1;}#sk-container-id-2 div.sk-parallel-item {display: flex;flex-direction: column;z-index: 1;position: relative;background-color: white;}#sk-container-id-2 div.sk-parallel-item:first-child::after {align-self: flex-end;width: 50%;}#sk-container-id-2 div.sk-parallel-item:last-child::after {align-self: flex-start;width: 50%;}#sk-container-id-2 div.sk-parallel-item:only-child::after {width: 0;}#sk-container-id-2 div.sk-dashed-wrapped {border: 1px dashed gray;margin: 0 0.4em 0.5em 0.4em;box-sizing: border-box;padding-bottom: 0.4em;background-color: white;}#sk-container-id-2 div.sk-label label {font-family: monospace;font-weight: bold;display: inline-block;line-height: 1.2em;}#sk-container-id-2 div.sk-label-container {text-align: center;}#sk-container-id-2 div.sk-container {/* jupyter's `normalize.less` sets `[hidden] { display: none; }` but bootstrap.min.css set `[hidden] { display: none !important; }` so we also need the `!important` here to be able to override the default hidden behavior on the sphinx rendered scikit-learn.org. See: https://github.com/scikit-learn/scikit-learn/issues/21755 */display: inline-block !important;position: relative;}#sk-container-id-2 div.sk-text-repr-fallback {display: none;}</style><div id=\"sk-container-id-2\" class=\"sk-top-container\"><div class=\"sk-text-repr-fallback\"><pre>RandomForestClassifier(random_state=42)</pre><b>In a Jupyter environment, please rerun this cell to show the HTML representation or trust the notebook. <br />On GitHub, the HTML representation is unable to render, please try loading this page with nbviewer.org.</b></div><div class=\"sk-container\" hidden><div class=\"sk-item\"><div class=\"sk-estimator sk-toggleable\"><input class=\"sk-toggleable__control sk-hidden--visually\" id=\"sk-estimator-id-2\" type=\"checkbox\" checked><label for=\"sk-estimator-id-2\" class=\"sk-toggleable__label sk-toggleable__label-arrow\">RandomForestClassifier</label><div class=\"sk-toggleable__content\"><pre>RandomForestClassifier(random_state=42)</pre></div></div></div></div></div>"
      ],
      "text/plain": [
       "RandomForestClassifier(random_state=42)"
      ]
     },
     "execution_count": 41,
     "metadata": {},
     "output_type": "execute_result"
    }
   ],
   "source": [
    "rf_model_cbow_baseline = RandomForestClassifier(random_state=42)\n",
    "rf_model_cbow_baseline.fit(X_train_cbow, y_train)"
   ]
  },
  {
   "cell_type": "code",
   "execution_count": 42,
   "metadata": {
    "colab": {
     "base_uri": "https://localhost:8080/",
     "height": 112
    },
    "executionInfo": {
     "elapsed": 623,
     "status": "ok",
     "timestamp": 1710298988050,
     "user": {
      "displayName": "Alfandy Surya",
      "userId": "04251874478570968890"
     },
     "user_tz": -420
    },
    "id": "ALR13VAGmuxg",
    "outputId": "f2de597b-4a73-4dfb-f4dd-86128dec025b"
   },
   "outputs": [
    {
     "data": {
      "text/html": [
       "<div>\n",
       "<style scoped>\n",
       "    .dataframe tbody tr th:only-of-type {\n",
       "        vertical-align: middle;\n",
       "    }\n",
       "\n",
       "    .dataframe tbody tr th {\n",
       "        vertical-align: top;\n",
       "    }\n",
       "\n",
       "    .dataframe thead th {\n",
       "        text-align: right;\n",
       "    }\n",
       "</style>\n",
       "<table border=\"1\" class=\"dataframe\">\n",
       "  <thead>\n",
       "    <tr style=\"text-align: right;\">\n",
       "      <th></th>\n",
       "      <th>Train Accuracy</th>\n",
       "      <th>Validation Accuracy</th>\n",
       "      <th>Test Accuracy</th>\n",
       "    </tr>\n",
       "    <tr>\n",
       "      <th>Model Name</th>\n",
       "      <th></th>\n",
       "      <th></th>\n",
       "      <th></th>\n",
       "    </tr>\n",
       "  </thead>\n",
       "  <tbody>\n",
       "    <tr>\n",
       "      <th>RandomForestClassifier - CBOW (Baseline)</th>\n",
       "      <td>1.0</td>\n",
       "      <td>0.49</td>\n",
       "      <td>0.5</td>\n",
       "    </tr>\n",
       "  </tbody>\n",
       "</table>\n",
       "</div>"
      ],
      "text/plain": [
       "                                          Train Accuracy  Validation Accuracy  \\\n",
       "Model Name                                                                      \n",
       "RandomForestClassifier - CBOW (Baseline)             1.0                 0.49   \n",
       "\n",
       "                                          Test Accuracy  \n",
       "Model Name                                               \n",
       "RandomForestClassifier - CBOW (Baseline)            0.5  "
      ]
     },
     "execution_count": 42,
     "metadata": {},
     "output_type": "execute_result"
    }
   ],
   "source": [
    "metrics_rf_cbow_baseline = evaluate_classification_model(y_train,\n",
    "                                                  rf_model_cbow_baseline.predict(X_train_cbow),\n",
    "                                                  y_val,\n",
    "                                                  rf_model_cbow_baseline.predict(X_val_cbow),\n",
    "                                                  y_test,\n",
    "                                                  rf_model_cbow_baseline.predict(X_test_cbow),\n",
    "                                                  'RandomForestClassifier - CBOW (Baseline)')\n",
    "metrics_rf_cbow_baseline"
   ]
  },
  {
   "cell_type": "markdown",
   "metadata": {
    "id": "bNjf6HGj-W1K"
   },
   "source": [
    "## Model Training (Tuned) - Random Forest"
   ]
  },
  {
   "cell_type": "markdown",
   "metadata": {
    "id": "qSDxa2DyxUzM"
   },
   "source": [
    "### Random Forest (Tuned) - Skip-Gram"
   ]
  },
  {
   "cell_type": "code",
   "execution_count": 43,
   "metadata": {
    "colab": {
     "base_uri": "https://localhost:8080/"
    },
    "executionInfo": {
     "elapsed": 892038,
     "status": "ok",
     "timestamp": 1710234389910,
     "user": {
      "displayName": "Alfandy Surya",
      "userId": "04251874478570968890"
     },
     "user_tz": -420
    },
    "id": "fFZvR2xnxxsQ",
    "jupyter": {
     "outputs_hidden": true
    },
    "outputId": "e115cc82-8f22-4237-cb4d-fbe7ab0408f1",
    "tags": []
   },
   "outputs": [],
   "source": [
    "# def objective(trial):\n",
    "#     n_estimators = trial.suggest_int('n_estimators', 100, 300)\n",
    "#     max_depth = trial.suggest_int('max_depth', 5, 50)\n",
    "#     min_samples_split = trial.suggest_float('min_samples_split', 0.01, 1.0)\n",
    "#     min_samples_leaf = trial.suggest_float('min_samples_leaf', 0.01, 1.0)\n",
    "#     max_features = trial.suggest_categorical('max_features', ['auto'])\n",
    "\n",
    "#     rf_clf = RandomForestClassifier(\n",
    "#         n_estimators=n_estimators,\n",
    "#         max_depth=max_depth,\n",
    "#         min_samples_split=min_samples_split,\n",
    "#         min_samples_leaf=min_samples_leaf,\n",
    "#         max_features=max_features,\n",
    "#         random_state=42\n",
    "#     )\n",
    "\n",
    "#     rf_clf.fit(X_train_sg, y_train)\n",
    "#     y_val_pred = rf_clf.predict(X_val_sg)\n",
    "#     accuracy = accuracy_score(y_val, y_val_pred)\n",
    "\n",
    "#     return accuracy\n",
    "\n",
    "# study = optuna.create_study(direction='maximize')\n",
    "# study.optimize(objective, n_trials=1000)\n",
    "\n",
    "# best_params = study.best_params\n",
    "# best_accuracy = study.best_value"
   ]
  },
  {
   "cell_type": "code",
   "execution_count": 44,
   "metadata": {
    "colab": {
     "base_uri": "https://localhost:8080/",
     "height": 126
    },
    "executionInfo": {
     "elapsed": 727,
     "status": "ok",
     "timestamp": 1710299004145,
     "user": {
      "displayName": "Alfandy Surya",
      "userId": "04251874478570968890"
     },
     "user_tz": -420
    },
    "id": "GDr6Gj-m6jCc",
    "outputId": "c2028714-8883-425a-ed65-3c17b553cb5a"
   },
   "outputs": [],
   "source": [
    "# model_rf_sg_tuned = RandomForestClassifier(random_state=42, **best_params_sg)\n",
    "# model_rf_sg_tuned.fit(X_train_sg, y_train)"
   ]
  },
  {
   "cell_type": "code",
   "execution_count": 123,
   "metadata": {
    "colab": {
     "base_uri": "https://localhost:8080/",
     "height": 112
    },
    "executionInfo": {
     "elapsed": 528,
     "status": "ok",
     "timestamp": 1710299008905,
     "user": {
      "displayName": "Alfandy Surya",
      "userId": "04251874478570968890"
     },
     "user_tz": -420
    },
    "id": "Rdeaz1gT7Q69",
    "outputId": "cd6b7655-c9be-4ef7-de81-feb7a7160056"
   },
   "outputs": [
    {
     "data": {
      "text/html": [
       "<div>\n",
       "<style scoped>\n",
       "    .dataframe tbody tr th:only-of-type {\n",
       "        vertical-align: middle;\n",
       "    }\n",
       "\n",
       "    .dataframe tbody tr th {\n",
       "        vertical-align: top;\n",
       "    }\n",
       "\n",
       "    .dataframe thead th {\n",
       "        text-align: right;\n",
       "    }\n",
       "</style>\n",
       "<table border=\"1\" class=\"dataframe\">\n",
       "  <thead>\n",
       "    <tr style=\"text-align: right;\">\n",
       "      <th></th>\n",
       "      <th>Train Accuracy</th>\n",
       "      <th>Validation Accuracy</th>\n",
       "      <th>Test Accuracy</th>\n",
       "    </tr>\n",
       "    <tr>\n",
       "      <th>Model Name</th>\n",
       "      <th></th>\n",
       "      <th></th>\n",
       "      <th></th>\n",
       "    </tr>\n",
       "  </thead>\n",
       "  <tbody>\n",
       "    <tr>\n",
       "      <th>RandomForestClassifier - SkipGram (Tuned)</th>\n",
       "      <td>0.71</td>\n",
       "      <td>0.61</td>\n",
       "      <td>0.55</td>\n",
       "    </tr>\n",
       "  </tbody>\n",
       "</table>\n",
       "</div>"
      ],
      "text/plain": [
       "                                           Train Accuracy  \\\n",
       "Model Name                                                  \n",
       "RandomForestClassifier - SkipGram (Tuned)            0.71   \n",
       "\n",
       "                                           Validation Accuracy  Test Accuracy  \n",
       "Model Name                                                                     \n",
       "RandomForestClassifier - SkipGram (Tuned)                 0.61           0.55  "
      ]
     },
     "execution_count": 123,
     "metadata": {},
     "output_type": "execute_result"
    }
   ],
   "source": [
    "metrics_rf_sg_tuned = evaluate_classification_model(y_train,\n",
    "                                                  rf_model_sg_tuned.predict(X_train_sg),\n",
    "                                                  y_val,\n",
    "                                                  rf_model_sg_tuned.predict(X_val_sg),\n",
    "                                                  y_test,\n",
    "                                                  rf_model_sg_tuned.predict(X_test_sg),\n",
    "                                                  'RandomForestClassifier - SkipGram (Tuned)')\n",
    "metrics_rf_sg_tuned"
   ]
  },
  {
   "cell_type": "code",
   "execution_count": 45,
   "metadata": {},
   "outputs": [],
   "source": [
    "from sklearn.metrics import confusion_matrix\n",
    "\n",
    "def plot_confusion_matrix(y_test, y_pred):\n",
    "    labels = np.unique(np.concatenate((y_test, y_pred)))\n",
    "    cm = confusion_matrix(y_test, y_pred, labels=labels)\n",
    "    plt.figure(figsize=(8, 6))\n",
    "    sns.set(font_scale=1.2)\n",
    "    sns.heatmap(cm, annot=True, fmt='d', cmap='Blues', xticklabels=labels, yticklabels=labels)\n",
    "    plt.xlabel('Predicted labels')\n",
    "    plt.ylabel('True labels')\n",
    "    plt.title('Confusion Matrix')\n",
    "    plt.show()"
   ]
  },
  {
   "cell_type": "code",
   "execution_count": null,
   "metadata": {},
   "outputs": [],
   "source": []
  },
  {
   "cell_type": "code",
   "execution_count": 47,
   "metadata": {},
   "outputs": [
    {
     "data": {
      "image/png": "[encoded data removed]",
      "text/plain": [
       "<Figure size 800x600 with 2 Axes>"
      ]
     },
     "metadata": {},
     "output_type": "display_data"
    }
   ],
   "source": [
    "plot_confusion_matrix(y_val, rf_model_sg_tuned.predict(X_val_sg))"
   ]
  },
  {
   "cell_type": "code",
   "execution_count": 48,
   "metadata": {},
   "outputs": [
    {
     "data": {
      "image/png": "[encoded data removed]",
      "text/plain": [
       "<Figure size 800x600 with 2 Axes>"
      ]
     },
     "metadata": {},
     "output_type": "display_data"
    }
   ],
   "source": [
    "plot_confusion_matrix(y_test, rf_model_sg_tuned.predict(X_test_sg))"
   ]
  },
  {
   "cell_type": "markdown",
   "metadata": {
    "id": "se4TGC0H92Vt"
   },
   "source": [
    "### Random Forest (Tuned) - CBOW"
   ]
  },
  {
   "cell_type": "code",
   "execution_count": null,
   "metadata": {
    "colab": {
     "base_uri": "https://localhost:8080/"
    },
    "collapsed": true,
    "executionInfo": {
     "elapsed": 1477170,
     "status": "ok",
     "timestamp": 1710236857485,
     "user": {
      "displayName": "Alfandy Surya",
      "userId": "04251874478570968890"
     },
     "user_tz": -420
    },
    "id": "hLw_HKYW90xt",
    "jupyter": {
     "outputs_hidden": true
    },
    "outputId": "2e5016cf-f9cf-49e2-938e-7ce684427e8d",
    "tags": []
   },
   "outputs": [
    {
     "name": "stderr",
     "output_type": "stream",
     "text": [
      "[I 2024-03-12 09:23:00,115] A new study created in memory with name: no-name-b044cde2-0862-41c5-a0c9-9094a2eabf13\n",
      "[I 2024-03-12 09:23:00,363] Trial 0 finished with value: 0.33884297520661155 and parameters: {'n_estimators': 130, 'max_depth': 13, 'min_samples_split': 0.8585663856695674, 'min_samples_leaf': 0.17197327388950565, 'max_features': 'auto'}. Best is trial 0 with value: 0.33884297520661155.\n",
      "[I 2024-03-12 09:23:00,998] Trial 1 finished with value: 0.33884297520661155 and parameters: {'n_estimators': 229, 'max_depth': 32, 'min_samples_split': 0.5099552009579286, 'min_samples_leaf': 0.5982419546906796, 'max_features': 'auto'}. Best is trial 0 with value: 0.33884297520661155.\n",
      "[I 2024-03-12 09:23:01,302] Trial 2 finished with value: 0.33884297520661155 and parameters: {'n_estimators': 102, 'max_depth': 22, 'min_samples_split': 0.6379379849298171, 'min_samples_leaf': 0.6765804740948255, 'max_features': 'auto'}. Best is trial 0 with value: 0.33884297520661155.\n",
      "[I 2024-03-12 09:23:01,959] Trial 3 finished with value: 0.33884297520661155 and parameters: {'n_estimators': 238, 'max_depth': 12, 'min_samples_split': 0.2895186390272374, 'min_samples_leaf': 0.7479351852473849, 'max_features': 'auto'}. Best is trial 0 with value: 0.33884297520661155.\n",
      "[I 2024-03-12 09:23:02,529] Trial 4 finished with value: 0.33884297520661155 and parameters: {'n_estimators': 209, 'max_depth': 47, 'min_samples_split': 0.6465951038245455, 'min_samples_leaf': 0.49486992473598257, 'max_features': 'auto'}. Best is trial 0 with value: 0.33884297520661155.\n",
      "[I 2024-03-12 09:23:03,024] Trial 5 finished with value: 0.33884297520661155 and parameters: {'n_estimators': 181, 'max_depth': 33, 'min_samples_split': 0.4079780925516485, 'min_samples_leaf': 0.7500785198482989, 'max_features': 'auto'}. Best is trial 0 with value: 0.33884297520661155.\n",
      "[I 2024-03-12 09:23:03,691] Trial 6 finished with value: 0.33884297520661155 and parameters: {'n_estimators': 229, 'max_depth': 13, 'min_samples_split': 0.017294395512246288, 'min_samples_leaf': 0.9520014656106444, 'max_features': 'auto'}. Best is trial 0 with value: 0.33884297520661155.\n",
      "[I 2024-03-12 09:23:04,020] Trial 7 finished with value: 0.33884297520661155 and parameters: {'n_estimators': 112, 'max_depth': 48, 'min_samples_split': 0.30241408922734775, 'min_samples_leaf': 0.8522221887685892, 'max_features': 'auto'}. Best is trial 0 with value: 0.33884297520661155.\n",
      "[I 2024-03-12 09:23:04,622] Trial 8 finished with value: 0.33884297520661155 and parameters: {'n_estimators': 259, 'max_depth': 29, 'min_samples_split': 0.9596269791384611, 'min_samples_leaf': 0.23488212782360754, 'max_features': 'auto'}. Best is trial 0 with value: 0.33884297520661155.\n",
      "[I 2024-03-12 09:23:04,869] Trial 9 finished with value: 0.33884297520661155 and parameters: {'n_estimators': 131, 'max_depth': 13, 'min_samples_split': 0.8197361301607385, 'min_samples_leaf': 0.8398688482904919, 'max_features': 'auto'}. Best is trial 0 with value: 0.33884297520661155.\n",
      "[I 2024-03-12 09:23:05,208] Trial 10 finished with value: 0.33884297520661155 and parameters: {'n_estimators': 172, 'max_depth': 7, 'min_samples_split': 0.9237040168051851, 'min_samples_leaf': 0.06298716520424108, 'max_features': 'auto'}. Best is trial 0 with value: 0.33884297520661155.\n",
      "[I 2024-03-12 09:23:05,522] Trial 11 finished with value: 0.33884297520661155 and parameters: {'n_estimators': 154, 'max_depth': 38, 'min_samples_split': 0.7240327480179114, 'min_samples_leaf': 0.4277872174886155, 'max_features': 'auto'}. Best is trial 0 with value: 0.33884297520661155.\n",
      "[I 2024-03-12 09:23:06,071] Trial 12 finished with value: 0.4132231404958678 and parameters: {'n_estimators': 289, 'max_depth': 21, 'min_samples_split': 0.49604550718216456, 'min_samples_leaf': 0.32479304365216466, 'max_features': 'auto'}. Best is trial 12 with value: 0.4132231404958678.\n",
      "[I 2024-03-12 09:23:06,779] Trial 13 finished with value: 0.40771349862258954 and parameters: {'n_estimators': 282, 'max_depth': 22, 'min_samples_split': 0.5042323071629053, 'min_samples_leaf': 0.2985775808223944, 'max_features': 'auto'}. Best is trial 12 with value: 0.4132231404958678.\n",
      "[I 2024-03-12 09:23:07,320] Trial 14 finished with value: 0.33884297520661155 and parameters: {'n_estimators': 288, 'max_depth': 21, 'min_samples_split': 0.5129355271938224, 'min_samples_leaf': 0.34200031925361446, 'max_features': 'auto'}. Best is trial 12 with value: 0.4132231404958678.\n",
      "[I 2024-03-12 09:23:08,029] Trial 15 finished with value: 0.4049586776859504 and parameters: {'n_estimators': 284, 'max_depth': 22, 'min_samples_split': 0.1747620774221897, 'min_samples_leaf': 0.2940189744200682, 'max_features': 'auto'}. Best is trial 12 with value: 0.4132231404958678.\n",
      "[I 2024-03-12 09:23:09,060] Trial 16 finished with value: 0.4325068870523416 and parameters: {'n_estimators': 300, 'max_depth': 20, 'min_samples_split': 0.3866826362161859, 'min_samples_leaf': 0.05379914613506748, 'max_features': 'auto'}. Best is trial 16 with value: 0.4325068870523416.\n",
      "[I 2024-03-12 09:23:10,084] Trial 17 finished with value: 0.44077134986225897 and parameters: {'n_estimators': 265, 'max_depth': 40, 'min_samples_split': 0.35391150520489795, 'min_samples_leaf': 0.01896827077720587, 'max_features': 'auto'}. Best is trial 17 with value: 0.44077134986225897.\n",
      "[I 2024-03-12 09:23:11,394] Trial 18 finished with value: 0.44352617079889806 and parameters: {'n_estimators': 267, 'max_depth': 39, 'min_samples_split': 0.15193499546042327, 'min_samples_leaf': 0.03347012177905319, 'max_features': 'auto'}. Best is trial 18 with value: 0.44352617079889806.\n",
      "[I 2024-03-12 09:23:13,034] Trial 19 finished with value: 0.4490358126721763 and parameters: {'n_estimators': 261, 'max_depth': 42, 'min_samples_split': 0.08258119055623926, 'min_samples_leaf': 0.012510437788841791, 'max_features': 'auto'}. Best is trial 19 with value: 0.4490358126721763.\n",
      "[I 2024-03-12 09:23:13,830] Trial 20 finished with value: 0.4132231404958678 and parameters: {'n_estimators': 255, 'max_depth': 42, 'min_samples_split': 0.013358200417257438, 'min_samples_leaf': 0.15132720178142672, 'max_features': 'auto'}. Best is trial 19 with value: 0.4490358126721763.\n",
      "[I 2024-03-12 09:23:15,682] Trial 21 finished with value: 0.4573002754820937 and parameters: {'n_estimators': 257, 'max_depth': 40, 'min_samples_split': 0.14745872558398365, 'min_samples_leaf': 0.010085175434310832, 'max_features': 'auto'}. Best is trial 21 with value: 0.4573002754820937.\n",
      "[I 2024-03-12 09:23:16,883] Trial 22 finished with value: 0.42699724517906334 and parameters: {'n_estimators': 244, 'max_depth': 44, 'min_samples_split': 0.16533256327037535, 'min_samples_leaf': 0.1326941266486508, 'max_features': 'auto'}. Best is trial 21 with value: 0.4573002754820937.\n",
      "[I 2024-03-12 09:23:18,423] Trial 23 finished with value: 0.47107438016528924 and parameters: {'n_estimators': 212, 'max_depth': 36, 'min_samples_split': 0.18458606295162375, 'min_samples_leaf': 0.012827652820869118, 'max_features': 'auto'}. Best is trial 23 with value: 0.47107438016528924.\n",
      "[I 2024-03-12 09:23:19,137] Trial 24 finished with value: 0.4214876033057851 and parameters: {'n_estimators': 211, 'max_depth': 37, 'min_samples_split': 0.09239254253555437, 'min_samples_leaf': 0.1341578812294701, 'max_features': 'auto'}. Best is trial 23 with value: 0.47107438016528924.\n",
      "[I 2024-03-12 09:23:19,653] Trial 25 finished with value: 0.41597796143250687 and parameters: {'n_estimators': 189, 'max_depth': 34, 'min_samples_split': 0.24106361677134125, 'min_samples_leaf': 0.20020930771308254, 'max_features': 'auto'}. Best is trial 23 with value: 0.47107438016528924.\n",
      "[I 2024-03-12 09:23:20,457] Trial 26 finished with value: 0.4380165289256198 and parameters: {'n_estimators': 220, 'max_depth': 44, 'min_samples_split': 0.23855603478121526, 'min_samples_leaf': 0.09840583823219606, 'max_features': 'auto'}. Best is trial 23 with value: 0.47107438016528924.\n",
      "[I 2024-03-12 09:23:21,113] Trial 27 finished with value: 0.41046831955922863 and parameters: {'n_estimators': 246, 'max_depth': 36, 'min_samples_split': 0.078938422333895, 'min_samples_leaf': 0.23093327916857634, 'max_features': 'auto'}. Best is trial 23 with value: 0.47107438016528924.\n",
      "[I 2024-03-12 09:23:21,653] Trial 28 finished with value: 0.33884297520661155 and parameters: {'n_estimators': 196, 'max_depth': 50, 'min_samples_split': 0.09783942041338387, 'min_samples_leaf': 0.4259529531886133, 'max_features': 'auto'}. Best is trial 23 with value: 0.47107438016528924.\n",
      "[I 2024-03-12 09:23:23,264] Trial 29 finished with value: 0.4628099173553719 and parameters: {'n_estimators': 267, 'max_depth': 43, 'min_samples_split': 0.23931365941925425, 'min_samples_leaf': 0.01614850571156596, 'max_features': 'auto'}. Best is trial 23 with value: 0.47107438016528924.\n",
      "[I 2024-03-12 09:23:23,779] Trial 30 finished with value: 0.4132231404958678 and parameters: {'n_estimators': 159, 'max_depth': 28, 'min_samples_split': 0.2290166927263826, 'min_samples_leaf': 0.20409761437452267, 'max_features': 'auto'}. Best is trial 23 with value: 0.47107438016528924.\n",
      "[I 2024-03-12 09:23:25,640] Trial 31 finished with value: 0.4297520661157025 and parameters: {'n_estimators': 272, 'max_depth': 43, 'min_samples_split': 0.1259942058465993, 'min_samples_leaf': 0.01918463814783576, 'max_features': 'auto'}. Best is trial 23 with value: 0.47107438016528924.\n",
      "[I 2024-03-12 09:23:27,206] Trial 32 finished with value: 0.465564738292011 and parameters: {'n_estimators': 252, 'max_depth': 46, 'min_samples_split': 0.21138673905060215, 'min_samples_leaf': 0.0987740714465259, 'max_features': 'auto'}. Best is trial 23 with value: 0.47107438016528924.\n",
      "[I 2024-03-12 09:23:28,560] Trial 33 finished with value: 0.42699724517906334 and parameters: {'n_estimators': 226, 'max_depth': 46, 'min_samples_split': 0.31579912775542907, 'min_samples_leaf': 0.09207463459375623, 'max_features': 'auto'}. Best is trial 23 with value: 0.47107438016528924.\n",
      "[I 2024-03-12 09:23:32,349] Trial 34 finished with value: 0.46005509641873277 and parameters: {'n_estimators': 239, 'max_depth': 31, 'min_samples_split': 0.21659072301903087, 'min_samples_leaf': 0.1082601628227218, 'max_features': 'auto'}. Best is trial 23 with value: 0.47107438016528924.\n",
      "[I 2024-03-12 09:23:33,692] Trial 35 finished with value: 0.46005509641873277 and parameters: {'n_estimators': 236, 'max_depth': 30, 'min_samples_split': 0.21397122918780043, 'min_samples_leaf': 0.10581143806313892, 'max_features': 'auto'}. Best is trial 23 with value: 0.47107438016528924.\n",
      "[I 2024-03-12 09:23:34,261] Trial 36 finished with value: 0.41597796143250687 and parameters: {'n_estimators': 208, 'max_depth': 26, 'min_samples_split': 0.44503186373421266, 'min_samples_leaf': 0.17592755731879783, 'max_features': 'auto'}. Best is trial 23 with value: 0.47107438016528924.\n",
      "[I 2024-03-12 09:23:34,944] Trial 37 finished with value: 0.33884297520661155 and parameters: {'n_estimators': 218, 'max_depth': 35, 'min_samples_split': 0.2703800880775511, 'min_samples_leaf': 0.6129896679291538, 'max_features': 'auto'}. Best is trial 23 with value: 0.47107438016528924.\n",
      "[I 2024-03-12 09:23:35,595] Trial 38 finished with value: 0.33884297520661155 and parameters: {'n_estimators': 235, 'max_depth': 31, 'min_samples_split': 0.32320491810045726, 'min_samples_leaf': 0.38265282432128966, 'max_features': 'auto'}. Best is trial 23 with value: 0.47107438016528924.\n",
      "[I 2024-03-12 09:23:36,213] Trial 39 finished with value: 0.33884297520661155 and parameters: {'n_estimators': 246, 'max_depth': 25, 'min_samples_split': 0.19582096898755863, 'min_samples_leaf': 0.5321381748781834, 'max_features': 'auto'}. Best is trial 23 with value: 0.47107438016528924.\n",
      "[I 2024-03-12 09:23:37,197] Trial 40 finished with value: 0.41597796143250687 and parameters: {'n_estimators': 274, 'max_depth': 50, 'min_samples_split': 0.6297403290721342, 'min_samples_leaf': 0.26025107955532534, 'max_features': 'auto'}. Best is trial 23 with value: 0.47107438016528924.\n",
      "[I 2024-03-12 09:23:38,124] Trial 41 finished with value: 0.4297520661157025 and parameters: {'n_estimators': 237, 'max_depth': 31, 'min_samples_split': 0.2624747349496407, 'min_samples_leaf': 0.10784372067537086, 'max_features': 'auto'}. Best is trial 23 with value: 0.47107438016528924.\n",
      "[I 2024-03-12 09:23:39,126] Trial 42 finished with value: 0.46005509641873277 and parameters: {'n_estimators': 230, 'max_depth': 32, 'min_samples_split': 0.20424361979477684, 'min_samples_leaf': 0.0853390018052556, 'max_features': 'auto'}. Best is trial 23 with value: 0.47107438016528924.\n",
      "[I 2024-03-12 09:23:39,956] Trial 43 finished with value: 0.4325068870523416 and parameters: {'n_estimators': 244, 'max_depth': 47, 'min_samples_split': 0.3503664276710843, 'min_samples_leaf': 0.16324120624970934, 'max_features': 'auto'}. Best is trial 23 with value: 0.47107438016528924.\n",
      "[I 2024-03-12 09:23:40,891] Trial 44 finished with value: 0.42699724517906334 and parameters: {'n_estimators': 201, 'max_depth': 30, 'min_samples_split': 0.420239436894844, 'min_samples_leaf': 0.06964801015576028, 'max_features': 'auto'}. Best is trial 23 with value: 0.47107438016528924.\n",
      "[I 2024-03-12 09:23:41,878] Trial 45 finished with value: 0.41597796143250687 and parameters: {'n_estimators': 252, 'max_depth': 34, 'min_samples_split': 0.2805558956379415, 'min_samples_leaf': 0.1267941654681855, 'max_features': 'auto'}. Best is trial 23 with value: 0.47107438016528924.\n",
      "[I 2024-03-12 09:23:42,485] Trial 46 finished with value: 0.41046831955922863 and parameters: {'n_estimators': 220, 'max_depth': 25, 'min_samples_split': 0.2078782382548695, 'min_samples_leaf': 0.24789073406440093, 'max_features': 'auto'}. Best is trial 23 with value: 0.47107438016528924.\n",
      "[I 2024-03-12 09:23:44,922] Trial 47 finished with value: 0.42699724517906334 and parameters: {'n_estimators': 229, 'max_depth': 18, 'min_samples_split': 0.045228628896286455, 'min_samples_leaf': 0.05668565269221381, 'max_features': 'auto'}. Best is trial 23 with value: 0.47107438016528924.\n",
      "[I 2024-03-12 09:23:46,938] Trial 48 finished with value: 0.41597796143250687 and parameters: {'n_estimators': 277, 'max_depth': 37, 'min_samples_split': 0.5873954746312574, 'min_samples_leaf': 0.19935966488625473, 'max_features': 'auto'}. Best is trial 23 with value: 0.47107438016528924.\n",
      "[I 2024-03-12 09:23:49,094] Trial 49 finished with value: 0.45454545454545453 and parameters: {'n_estimators': 299, 'max_depth': 45, 'min_samples_split': 0.1276435933121775, 'min_samples_leaf': 0.06227992390627759, 'max_features': 'auto'}. Best is trial 23 with value: 0.47107438016528924.\n",
      "[I 2024-03-12 09:23:49,517] Trial 50 finished with value: 0.33884297520661155 and parameters: {'n_estimators': 178, 'max_depth': 48, 'min_samples_split': 0.3675594869004506, 'min_samples_leaf': 0.6697116453954474, 'max_features': 'auto'}. Best is trial 23 with value: 0.47107438016528924.\n",
      "[I 2024-03-12 09:23:50,413] Trial 51 finished with value: 0.4462809917355372 and parameters: {'n_estimators': 227, 'max_depth': 32, 'min_samples_split': 0.1908492468037402, 'min_samples_leaf': 0.08727466953817026, 'max_features': 'auto'}. Best is trial 23 with value: 0.47107438016528924.\n",
      "[I 2024-03-12 09:23:51,168] Trial 52 finished with value: 0.45179063360881544 and parameters: {'n_estimators': 213, 'max_depth': 27, 'min_samples_split': 0.21572079792900758, 'min_samples_leaf': 0.11071572717306612, 'max_features': 'auto'}. Best is trial 23 with value: 0.47107438016528924.\n",
      "[I 2024-03-12 09:23:51,828] Trial 53 finished with value: 0.4380165289256198 and parameters: {'n_estimators': 236, 'max_depth': 29, 'min_samples_split': 0.31891545832020984, 'min_samples_leaf': 0.17381011744849578, 'max_features': 'auto'}. Best is trial 23 with value: 0.47107438016528924.\n",
      "[I 2024-03-12 09:23:52,486] Trial 54 finished with value: 0.33884297520661155 and parameters: {'n_estimators': 251, 'max_depth': 40, 'min_samples_split': 0.7610326907418244, 'min_samples_leaf': 0.051871416544367215, 'max_features': 'auto'}. Best is trial 23 with value: 0.47107438016528924.\n",
      "[I 2024-03-12 09:23:53,719] Trial 55 finished with value: 0.45454545454545453 and parameters: {'n_estimators': 202, 'max_depth': 33, 'min_samples_split': 0.051807137770315925, 'min_samples_leaf': 0.09109670174009565, 'max_features': 'auto'}. Best is trial 23 with value: 0.47107438016528924.\n",
      "[I 2024-03-12 09:23:54,570] Trial 56 finished with value: 0.33884297520661155 and parameters: {'n_estimators': 262, 'max_depth': 38, 'min_samples_split': 0.12288913094995087, 'min_samples_leaf': 0.9187192261887926, 'max_features': 'auto'}. Best is trial 23 with value: 0.47107438016528924.\n",
      "[I 2024-03-12 09:23:55,603] Trial 57 finished with value: 0.4132231404958678 and parameters: {'n_estimators': 268, 'max_depth': 41, 'min_samples_split': 0.17926723406948364, 'min_samples_leaf': 0.15383898469919086, 'max_features': 'auto'}. Best is trial 23 with value: 0.47107438016528924.\n",
      "[I 2024-03-12 09:23:56,194] Trial 58 finished with value: 0.41046831955922863 and parameters: {'n_estimators': 235, 'max_depth': 24, 'min_samples_split': 0.27100674517186024, 'min_samples_leaf': 0.2733695004896748, 'max_features': 'auto'}. Best is trial 23 with value: 0.47107438016528924.\n",
      "[I 2024-03-12 09:23:56,834] Trial 59 finished with value: 0.42699724517906334 and parameters: {'n_estimators': 192, 'max_depth': 35, 'min_samples_split': 0.44658939139686704, 'min_samples_leaf': 0.049243271919475265, 'max_features': 'auto'}. Best is trial 23 with value: 0.47107438016528924.\n",
      "[I 2024-03-12 09:23:57,613] Trial 60 finished with value: 0.45179063360881544 and parameters: {'n_estimators': 115, 'max_depth': 30, 'min_samples_split': 0.15548187750353915, 'min_samples_leaf': 0.010534620132062175, 'max_features': 'auto'}. Best is trial 23 with value: 0.47107438016528924.\n",
      "[I 2024-03-12 09:23:59,582] Trial 61 finished with value: 0.4462809917355372 and parameters: {'n_estimators': 256, 'max_depth': 39, 'min_samples_split': 0.14266339955989243, 'min_samples_leaf': 0.013626800448078834, 'max_features': 'auto'}. Best is trial 23 with value: 0.47107438016528924.\n",
      "[I 2024-03-12 09:24:00,802] Trial 62 finished with value: 0.42424242424242425 and parameters: {'n_estimators': 243, 'max_depth': 42, 'min_samples_split': 0.24125443974306318, 'min_samples_leaf': 0.1294295586026458, 'max_features': 'auto'}. Best is trial 23 with value: 0.47107438016528924.\n",
      "[I 2024-03-12 09:24:01,888] Trial 63 finished with value: 0.45454545454545453 and parameters: {'n_estimators': 258, 'max_depth': 33, 'min_samples_split': 0.17422487805669062, 'min_samples_leaf': 0.07856020348465051, 'max_features': 'auto'}. Best is trial 23 with value: 0.47107438016528924.\n",
      "[I 2024-03-12 09:24:03,158] Trial 64 finished with value: 0.4628099173553719 and parameters: {'n_estimators': 251, 'max_depth': 38, 'min_samples_split': 0.052225541145611454, 'min_samples_leaf': 0.041565503717702984, 'max_features': 'auto'}. Best is trial 23 with value: 0.47107438016528924.\n",
      "[I 2024-03-12 09:24:03,740] Trial 65 finished with value: 0.41046831955922863 and parameters: {'n_estimators': 223, 'max_depth': 36, 'min_samples_split': 0.07792966535436796, 'min_samples_leaf': 0.22490819517886382, 'max_features': 'auto'}. Best is trial 23 with value: 0.47107438016528924.\n",
      "[I 2024-03-12 09:24:04,811] Trial 66 finished with value: 0.4490358126721763 and parameters: {'n_estimators': 230, 'max_depth': 38, 'min_samples_split': 0.03196423326550038, 'min_samples_leaf': 0.05322201586376081, 'max_features': 'auto'}. Best is trial 23 with value: 0.47107438016528924.\n",
      "[I 2024-03-12 09:24:05,531] Trial 67 finished with value: 0.4325068870523416 and parameters: {'n_estimators': 215, 'max_depth': 44, 'min_samples_split': 0.10993644107594043, 'min_samples_leaf': 0.12420670713505404, 'max_features': 'auto'}. Best is trial 23 with value: 0.47107438016528924.\n",
      "[I 2024-03-12 09:24:06,381] Trial 68 finished with value: 0.41597796143250687 and parameters: {'n_estimators': 280, 'max_depth': 6, 'min_samples_split': 0.28914916799951845, 'min_samples_leaf': 0.19139621433191276, 'max_features': 'auto'}. Best is trial 23 with value: 0.47107438016528924.\n",
      "[I 2024-03-12 09:24:07,675] Trial 69 finished with value: 0.4628099173553719 and parameters: {'n_estimators': 250, 'max_depth': 28, 'min_samples_split': 0.06583271275821365, 'min_samples_leaf': 0.04036909770503482, 'max_features': 'auto'}. Best is trial 23 with value: 0.47107438016528924.\n",
      "[I 2024-03-12 09:24:09,048] Trial 70 finished with value: 0.46005509641873277 and parameters: {'n_estimators': 250, 'max_depth': 28, 'min_samples_split': 0.05609041495435227, 'min_samples_leaf': 0.03209545470218375, 'max_features': 'auto'}. Best is trial 23 with value: 0.47107438016528924.\n",
      "[I 2024-03-12 09:24:09,939] Trial 71 finished with value: 0.4573002754820937 and parameters: {'n_estimators': 241, 'max_depth': 32, 'min_samples_split': 0.22283845370091482, 'min_samples_leaf': 0.0896181030114569, 'max_features': 'auto'}. Best is trial 23 with value: 0.47107438016528924.\n",
      "[I 2024-03-12 09:24:10,785] Trial 72 finished with value: 0.4132231404958678 and parameters: {'n_estimators': 269, 'max_depth': 29, 'min_samples_split': 0.08059839071903638, 'min_samples_leaf': 0.15255032430266868, 'max_features': 'auto'}. Best is trial 23 with value: 0.47107438016528924.\n",
      "[I 2024-03-12 09:24:12,370] Trial 73 finished with value: 0.46005509641873277 and parameters: {'n_estimators': 233, 'max_depth': 35, 'min_samples_split': 0.012421683657816568, 'min_samples_leaf': 0.04244966798777067, 'max_features': 'auto'}. Best is trial 23 with value: 0.47107438016528924.\n",
      "[I 2024-03-12 09:24:13,927] Trial 74 finished with value: 0.45179063360881544 and parameters: {'n_estimators': 263, 'max_depth': 31, 'min_samples_split': 0.15737584946491331, 'min_samples_leaf': 0.07517425939040871, 'max_features': 'auto'}. Best is trial 23 with value: 0.47107438016528924.\n",
      "[I 2024-03-12 09:24:15,055] Trial 75 finished with value: 0.43526170798898073 and parameters: {'n_estimators': 250, 'max_depth': 27, 'min_samples_split': 0.19415645448187138, 'min_samples_leaf': 0.11028697560981665, 'max_features': 'auto'}. Best is trial 23 with value: 0.47107438016528924.\n",
      "[I 2024-03-12 09:24:16,032] Trial 76 finished with value: 0.45179063360881544 and parameters: {'n_estimators': 239, 'max_depth': 34, 'min_samples_split': 0.2523743159735058, 'min_samples_leaf': 0.037775630649528574, 'max_features': 'auto'}. Best is trial 23 with value: 0.47107438016528924.\n",
      "[I 2024-03-12 09:24:16,433] Trial 77 finished with value: 0.33884297520661155 and parameters: {'n_estimators': 207, 'max_depth': 46, 'min_samples_split': 0.1067288786456575, 'min_samples_leaf': 0.7816621680446721, 'max_features': 'auto'}. Best is trial 23 with value: 0.47107438016528924.\n",
      "[I 2024-03-12 09:24:16,967] Trial 78 finished with value: 0.33884297520661155 and parameters: {'n_estimators': 289, 'max_depth': 11, 'min_samples_split': 0.9054198305682161, 'min_samples_leaf': 0.1419289084898564, 'max_features': 'auto'}. Best is trial 23 with value: 0.47107438016528924.\n",
      "[I 2024-03-12 09:24:17,455] Trial 79 finished with value: 0.33884297520661155 and parameters: {'n_estimators': 254, 'max_depth': 48, 'min_samples_split': 0.21158083212189344, 'min_samples_leaf': 0.5142944427544645, 'max_features': 'auto'}. Best is trial 23 with value: 0.47107438016528924.\n",
      "[I 2024-03-12 09:24:17,886] Trial 80 finished with value: 0.33884297520661155 and parameters: {'n_estimators': 223, 'max_depth': 37, 'min_samples_split': 0.3294095709518797, 'min_samples_leaf': 0.3562737726002645, 'max_features': 'auto'}. Best is trial 23 with value: 0.47107438016528924.\n",
      "[I 2024-03-12 09:24:19,108] Trial 81 finished with value: 0.45454545454545453 and parameters: {'n_estimators': 247, 'max_depth': 28, 'min_samples_split': 0.1402664369664893, 'min_samples_leaf': 0.030268361977694877, 'max_features': 'auto'}. Best is trial 23 with value: 0.47107438016528924.\n",
      "[I 2024-03-12 09:24:20,422] Trial 82 finished with value: 0.4490358126721763 and parameters: {'n_estimators': 250, 'max_depth': 30, 'min_samples_split': 0.05765834086938327, 'min_samples_leaf': 0.03741366657516094, 'max_features': 'auto'}. Best is trial 23 with value: 0.47107438016528924.\n",
      "[I 2024-03-12 09:24:21,452] Trial 83 finished with value: 0.45179063360881544 and parameters: {'n_estimators': 260, 'max_depth': 23, 'min_samples_split': 0.06458295638241125, 'min_samples_leaf': 0.07922709162507993, 'max_features': 'auto'}. Best is trial 23 with value: 0.47107438016528924.\n",
      "[I 2024-03-12 09:24:22,281] Trial 84 finished with value: 0.4297520661157025 and parameters: {'n_estimators': 240, 'max_depth': 28, 'min_samples_split': 0.10638805935034851, 'min_samples_leaf': 0.11564243261431072, 'max_features': 'auto'}. Best is trial 23 with value: 0.47107438016528924.\n",
      "[I 2024-03-12 09:24:24,180] Trial 85 finished with value: 0.4738292011019284 and parameters: {'n_estimators': 273, 'max_depth': 26, 'min_samples_split': 0.036614739324077016, 'min_samples_leaf': 0.01154968283692006, 'max_features': 'auto'}. Best is trial 85 with value: 0.4738292011019284.\n",
      "[I 2024-03-12 09:24:25,681] Trial 86 finished with value: 0.44352617079889806 and parameters: {'n_estimators': 272, 'max_depth': 24, 'min_samples_split': 0.028928356791567467, 'min_samples_leaf': 0.06946862182431182, 'max_features': 'auto'}. Best is trial 85 with value: 0.4738292011019284.\n",
      "[I 2024-03-12 09:24:27,194] Trial 87 finished with value: 0.46831955922865015 and parameters: {'n_estimators': 277, 'max_depth': 26, 'min_samples_split': 0.16681012122456998, 'min_samples_leaf': 0.10256083385079669, 'max_features': 'auto'}. Best is trial 85 with value: 0.4738292011019284.\n",
      "[I 2024-03-12 09:24:28,398] Trial 88 finished with value: 0.4325068870523416 and parameters: {'n_estimators': 293, 'max_depth': 20, 'min_samples_split': 0.17014783649441612, 'min_samples_leaf': 0.17159625764048225, 'max_features': 'auto'}. Best is trial 85 with value: 0.4738292011019284.\n",
      "[I 2024-03-12 09:24:29,581] Trial 89 finished with value: 0.43526170798898073 and parameters: {'n_estimators': 284, 'max_depth': 26, 'min_samples_split': 0.30231481636510965, 'min_samples_leaf': 0.010406835539474572, 'max_features': 'auto'}. Best is trial 85 with value: 0.4738292011019284.\n",
      "[I 2024-03-12 09:24:31,823] Trial 90 finished with value: 0.465564738292011 and parameters: {'n_estimators': 266, 'max_depth': 26, 'min_samples_split': 0.12568243547973085, 'min_samples_leaf': 0.10261404569190426, 'max_features': 'auto'}. Best is trial 85 with value: 0.4738292011019284.\n",
      "[I 2024-03-12 09:24:33,329] Trial 91 finished with value: 0.465564738292011 and parameters: {'n_estimators': 275, 'max_depth': 26, 'min_samples_split': 0.12795694963649504, 'min_samples_leaf': 0.09794983401643789, 'max_features': 'auto'}. Best is trial 85 with value: 0.4738292011019284.\n",
      "[I 2024-03-12 09:24:34,885] Trial 92 finished with value: 0.44352617079889806 and parameters: {'n_estimators': 278, 'max_depth': 25, 'min_samples_split': 0.09081542402798434, 'min_samples_leaf': 0.062428159297491105, 'max_features': 'auto'}. Best is trial 85 with value: 0.4738292011019284.\n",
      "[I 2024-03-12 09:24:35,835] Trial 93 finished with value: 0.46005509641873277 and parameters: {'n_estimators': 265, 'max_depth': 26, 'min_samples_split': 0.12807191076029267, 'min_samples_leaf': 0.10565328382434917, 'max_features': 'auto'}. Best is trial 85 with value: 0.4738292011019284.\n",
      "[I 2024-03-12 09:24:36,713] Trial 94 finished with value: 0.418732782369146 and parameters: {'n_estimators': 270, 'max_depth': 23, 'min_samples_split': 0.02685788002144976, 'min_samples_leaf': 0.13725607584252594, 'max_features': 'auto'}. Best is trial 85 with value: 0.4738292011019284.\n",
      "[I 2024-03-12 09:24:38,105] Trial 95 finished with value: 0.4325068870523416 and parameters: {'n_estimators': 277, 'max_depth': 20, 'min_samples_split': 0.11751194486818196, 'min_samples_leaf': 0.03622654687574324, 'max_features': 'auto'}. Best is trial 85 with value: 0.4738292011019284.\n",
      "[I 2024-03-12 09:24:39,523] Trial 96 finished with value: 0.46831955922865015 and parameters: {'n_estimators': 284, 'max_depth': 27, 'min_samples_split': 0.14534810548444546, 'min_samples_leaf': 0.09855753332739112, 'max_features': 'auto'}. Best is trial 85 with value: 0.4738292011019284.\n",
      "[I 2024-03-12 09:24:40,703] Trial 97 finished with value: 0.4132231404958678 and parameters: {'n_estimators': 296, 'max_depth': 18, 'min_samples_split': 0.07365673947231358, 'min_samples_leaf': 0.21199032916575056, 'max_features': 'auto'}. Best is trial 85 with value: 0.4738292011019284.\n",
      "[I 2024-03-12 09:24:42,403] Trial 98 finished with value: 0.4462809917355372 and parameters: {'n_estimators': 285, 'max_depth': 22, 'min_samples_split': 0.138234926883202, 'min_samples_leaf': 0.061823110249731986, 'max_features': 'auto'}. Best is trial 85 with value: 0.4738292011019284.\n",
      "[I 2024-03-12 09:24:43,159] Trial 99 finished with value: 0.41597796143250687 and parameters: {'n_estimators': 274, 'max_depth': 24, 'min_samples_split': 0.1856339415927786, 'min_samples_leaf': 0.1882262615304556, 'max_features': 'auto'}. Best is trial 85 with value: 0.4738292011019284.\n",
      "[I 2024-03-12 09:24:44,111] Trial 100 finished with value: 0.45454545454545453 and parameters: {'n_estimators': 162, 'max_depth': 27, 'min_samples_split': 0.04283150363870246, 'min_samples_leaf': 0.025556094709338947, 'max_features': 'auto'}. Best is trial 85 with value: 0.4738292011019284.\n",
      "[I 2024-03-12 09:24:45,219] Trial 101 finished with value: 0.47107438016528924 and parameters: {'n_estimators': 293, 'max_depth': 25, 'min_samples_split': 0.15154322905388673, 'min_samples_leaf': 0.09478168376816457, 'max_features': 'auto'}. Best is trial 85 with value: 0.4738292011019284.\n",
      "[I 2024-03-12 09:24:46,348] Trial 102 finished with value: 0.4738292011019284 and parameters: {'n_estimators': 290, 'max_depth': 25, 'min_samples_split': 0.09281437253164622, 'min_samples_leaf': 0.09520695808908178, 'max_features': 'auto'}. Best is trial 85 with value: 0.4738292011019284.\n",
      "[I 2024-03-12 09:24:47,473] Trial 103 finished with value: 0.4573002754820937 and parameters: {'n_estimators': 293, 'max_depth': 25, 'min_samples_split': 0.1014215207631299, 'min_samples_leaf': 0.09005355221081635, 'max_features': 'auto'}. Best is trial 85 with value: 0.4738292011019284.\n",
      "[I 2024-03-12 09:24:48,352] Trial 104 finished with value: 0.41597796143250687 and parameters: {'n_estimators': 289, 'max_depth': 26, 'min_samples_split': 0.16310374551666282, 'min_samples_leaf': 0.15395560800982186, 'max_features': 'auto'}. Best is trial 85 with value: 0.4738292011019284.\n",
      "[I 2024-03-12 09:24:48,876] Trial 105 finished with value: 0.33884297520661155 and parameters: {'n_estimators': 285, 'max_depth': 21, 'min_samples_split': 0.14716631486959608, 'min_samples_leaf': 0.4554359510444519, 'max_features': 'auto'}. Best is trial 85 with value: 0.4738292011019284.\n",
      "[I 2024-03-12 09:24:49,819] Trial 106 finished with value: 0.4297520661157025 and parameters: {'n_estimators': 280, 'max_depth': 23, 'min_samples_split': 0.2402438271663147, 'min_samples_leaf': 0.12150189272431755, 'max_features': 'auto'}. Best is trial 85 with value: 0.4738292011019284.\n",
      "[I 2024-03-12 09:24:50,938] Trial 107 finished with value: 0.465564738292011 and parameters: {'n_estimators': 293, 'max_depth': 43, 'min_samples_split': 0.09113709658040808, 'min_samples_leaf': 0.09191407660962135, 'max_features': 'auto'}. Best is trial 85 with value: 0.4738292011019284.\n",
      "[I 2024-03-12 09:24:52,161] Trial 108 finished with value: 0.47107438016528924 and parameters: {'n_estimators': 300, 'max_depth': 43, 'min_samples_split': 0.09347950020864507, 'min_samples_leaf': 0.09516019309081682, 'max_features': 'auto'}. Best is trial 85 with value: 0.4738292011019284.\n",
      "[I 2024-03-12 09:24:53,397] Trial 109 finished with value: 0.41597796143250687 and parameters: {'n_estimators': 300, 'max_depth': 44, 'min_samples_split': 0.11514727138780047, 'min_samples_leaf': 0.17975189336014158, 'max_features': 'auto'}. Best is trial 85 with value: 0.4738292011019284.\n",
      "[I 2024-03-12 09:24:54,547] Trial 110 finished with value: 0.41046831955922863 and parameters: {'n_estimators': 293, 'max_depth': 29, 'min_samples_split': 0.5538729990963397, 'min_samples_leaf': 0.1324925456680557, 'max_features': 'auto'}. Best is trial 85 with value: 0.4738292011019284.\n",
      "[I 2024-03-12 09:24:56,064] Trial 111 finished with value: 0.465564738292011 and parameters: {'n_estimators': 295, 'max_depth': 43, 'min_samples_split': 0.09173439691175803, 'min_samples_leaf': 0.09408176101490154, 'max_features': 'auto'}. Best is trial 85 with value: 0.4738292011019284.\n",
      "[I 2024-03-12 09:24:57,201] Trial 112 finished with value: 0.47107438016528924 and parameters: {'n_estimators': 297, 'max_depth': 41, 'min_samples_split': 0.08964209999727482, 'min_samples_leaf': 0.10103188494231174, 'max_features': 'auto'}. Best is trial 85 with value: 0.4738292011019284.\n",
      "[I 2024-03-12 09:24:58,041] Trial 113 finished with value: 0.42424242424242425 and parameters: {'n_estimators': 290, 'max_depth': 46, 'min_samples_split': 0.08764648279556529, 'min_samples_leaf': 0.16620733115765038, 'max_features': 'auto'}. Best is trial 85 with value: 0.4738292011019284.\n",
      "[I 2024-03-12 09:24:59,064] Trial 114 finished with value: 0.45179063360881544 and parameters: {'n_estimators': 283, 'max_depth': 41, 'min_samples_split': 0.13198299475934566, 'min_samples_leaf': 0.1056287011379397, 'max_features': 'auto'}. Best is trial 85 with value: 0.4738292011019284.\n",
      "[I 2024-03-12 09:25:00,274] Trial 115 finished with value: 0.45179063360881544 and parameters: {'n_estimators': 296, 'max_depth': 26, 'min_samples_split': 0.17423512889462028, 'min_samples_leaf': 0.07765668442247804, 'max_features': 'auto'}. Best is trial 85 with value: 0.4738292011019284.\n",
      "[I 2024-03-12 09:25:00,814] Trial 116 finished with value: 0.33884297520661155 and parameters: {'n_estimators': 287, 'max_depth': 49, 'min_samples_split': 0.15826441619341466, 'min_samples_leaf': 0.558559498333884, 'max_features': 'auto'}. Best is trial 85 with value: 0.4738292011019284.\n",
      "[I 2024-03-12 09:25:01,764] Trial 117 finished with value: 0.418732782369146 and parameters: {'n_estimators': 298, 'max_depth': 45, 'min_samples_split': 0.041142593672530106, 'min_samples_leaf': 0.14441072366578825, 'max_features': 'auto'}. Best is trial 85 with value: 0.4738292011019284.\n",
      "[I 2024-03-12 09:25:02,892] Trial 118 finished with value: 0.4628099173553719 and parameters: {'n_estimators': 275, 'max_depth': 41, 'min_samples_split': 0.19062299749235145, 'min_samples_leaf': 0.060637973850016146, 'max_features': 'auto'}. Best is trial 85 with value: 0.4738292011019284.\n",
      "[I 2024-03-12 09:25:03,831] Trial 119 finished with value: 0.42424242424242425 and parameters: {'n_estimators': 282, 'max_depth': 27, 'min_samples_split': 0.010078301740940553, 'min_samples_leaf': 0.12716830819868702, 'max_features': 'auto'}. Best is trial 85 with value: 0.4738292011019284.\n",
      "[I 2024-03-12 09:25:04,570] Trial 120 finished with value: 0.4132231404958678 and parameters: {'n_estimators': 291, 'max_depth': 24, 'min_samples_split': 0.11611699547799254, 'min_samples_leaf': 0.21162055204363966, 'max_features': 'auto'}. Best is trial 85 with value: 0.4738292011019284.\n",
      "[I 2024-03-12 09:25:05,725] Trial 121 finished with value: 0.4462809917355372 and parameters: {'n_estimators': 297, 'max_depth': 43, 'min_samples_split': 0.09215749517340338, 'min_samples_leaf': 0.08831190881845455, 'max_features': 'auto'}. Best is trial 85 with value: 0.4738292011019284.\n",
      "[I 2024-03-12 09:25:07,331] Trial 122 finished with value: 0.46831955922865015 and parameters: {'n_estimators': 287, 'max_depth': 46, 'min_samples_split': 0.07423177138258655, 'min_samples_leaf': 0.09880407918241439, 'max_features': 'auto'}. Best is trial 85 with value: 0.4738292011019284.\n",
      "[I 2024-03-12 09:25:08,094] Trial 123 finished with value: 0.4628099173553719 and parameters: {'n_estimators': 139, 'max_depth': 47, 'min_samples_split': 0.0723796721734736, 'min_samples_leaf': 0.10644382417450854, 'max_features': 'auto'}. Best is trial 85 with value: 0.4738292011019284.\n",
      "[I 2024-03-12 09:25:09,413] Trial 124 finished with value: 0.418732782369146 and parameters: {'n_estimators': 287, 'max_depth': 42, 'min_samples_split': 0.1471684647224587, 'min_samples_leaf': 0.1520865692590882, 'max_features': 'auto'}. Best is trial 85 with value: 0.4738292011019284.\n",
      "[I 2024-03-12 09:25:09,935] Trial 125 finished with value: 0.33884297520661155 and parameters: {'n_estimators': 280, 'max_depth': 45, 'min_samples_split': 0.13130764760846933, 'min_samples_leaf': 0.9824866933733422, 'max_features': 'auto'}. Best is trial 85 with value: 0.4738292011019284.\n",
      "[I 2024-03-12 09:25:11,254] Trial 126 finished with value: 0.4462809917355372 and parameters: {'n_estimators': 300, 'max_depth': 40, 'min_samples_split': 0.0714447390148295, 'min_samples_leaf': 0.06787055608765194, 'max_features': 'auto'}. Best is trial 85 with value: 0.4738292011019284.\n",
      "[I 2024-03-12 09:25:11,764] Trial 127 finished with value: 0.33884297520661155 and parameters: {'n_estimators': 273, 'max_depth': 25, 'min_samples_split': 0.7037648329044097, 'min_samples_leaf': 0.12167033697926556, 'max_features': 'auto'}. Best is trial 85 with value: 0.4738292011019284.\n",
      "[I 2024-03-12 09:25:12,961] Trial 128 finished with value: 0.4325068870523416 and parameters: {'n_estimators': 266, 'max_depth': 45, 'min_samples_split': 0.10779837719852738, 'min_samples_leaf': 0.05612540190245316, 'max_features': 'auto'}. Best is trial 85 with value: 0.4738292011019284.\n",
      "[I 2024-03-12 09:25:14,090] Trial 129 finished with value: 0.45179063360881544 and parameters: {'n_estimators': 291, 'max_depth': 42, 'min_samples_split': 0.04275614514333334, 'min_samples_leaf': 0.08883444081670985, 'max_features': 'auto'}. Best is trial 85 with value: 0.4738292011019284.\n",
      "[I 2024-03-12 09:25:15,097] Trial 130 finished with value: 0.46831955922865015 and parameters: {'n_estimators': 277, 'max_depth': 29, 'min_samples_split': 0.16582833835730432, 'min_samples_leaf': 0.10454845892312764, 'max_features': 'auto'}. Best is trial 85 with value: 0.4738292011019284.\n",
      "[I 2024-03-12 09:25:15,627] Trial 131 finished with value: 0.33884297520661155 and parameters: {'n_estimators': 277, 'max_depth': 47, 'min_samples_split': 0.9949218525348265, 'min_samples_leaf': 0.10256312459912044, 'max_features': 'auto'}. Best is trial 85 with value: 0.4738292011019284.\n",
      "[I 2024-03-12 09:25:16,535] Trial 132 finished with value: 0.418732782369146 and parameters: {'n_estimators': 283, 'max_depth': 29, 'min_samples_split': 0.177398394132742, 'min_samples_leaf': 0.14242498838012005, 'max_features': 'auto'}. Best is trial 85 with value: 0.4738292011019284.\n",
      "[I 2024-03-12 09:25:17,587] Trial 133 finished with value: 0.46005509641873277 and parameters: {'n_estimators': 270, 'max_depth': 26, 'min_samples_split': 0.20600277963935332, 'min_samples_leaf': 0.07424793132795687, 'max_features': 'auto'}. Best is trial 85 with value: 0.4738292011019284.\n",
      "[I 2024-03-12 09:25:18,418] Trial 134 finished with value: 0.42424242424242425 and parameters: {'n_estimators': 288, 'max_depth': 27, 'min_samples_split': 0.15332901498420726, 'min_samples_leaf': 0.16453225900309218, 'max_features': 'auto'}. Best is trial 85 with value: 0.4738292011019284.\n",
      "[I 2024-03-12 09:25:19,379] Trial 135 finished with value: 0.4297520661157025 and parameters: {'n_estimators': 280, 'max_depth': 23, 'min_samples_split': 0.12540832836676843, 'min_samples_leaf': 0.11823862472383861, 'max_features': 'auto'}. Best is trial 85 with value: 0.4738292011019284.\n",
      "[I 2024-03-12 09:25:21,343] Trial 136 finished with value: 0.44077134986225897 and parameters: {'n_estimators': 292, 'max_depth': 24, 'min_samples_split': 0.09681177608862505, 'min_samples_leaf': 0.04944968910838018, 'max_features': 'auto'}. Best is trial 85 with value: 0.4738292011019284.\n",
      "[I 2024-03-12 09:25:23,519] Trial 137 finished with value: 0.4462809917355372 and parameters: {'n_estimators': 286, 'max_depth': 25, 'min_samples_split': 0.058620355270638524, 'min_samples_leaf': 0.02889044887621145, 'max_features': 'auto'}. Best is trial 85 with value: 0.4738292011019284.\n",
      "[I 2024-03-12 09:25:24,549] Trial 138 finished with value: 0.465564738292011 and parameters: {'n_estimators': 276, 'max_depth': 49, 'min_samples_split': 0.16107922070414082, 'min_samples_leaf': 0.09501637805915711, 'max_features': 'auto'}. Best is trial 85 with value: 0.4738292011019284.\n",
      "[I 2024-03-12 09:25:25,423] Trial 139 finished with value: 0.42424242424242425 and parameters: {'n_estimators': 264, 'max_depth': 28, 'min_samples_split': 0.1371958560174408, 'min_samples_leaf': 0.13295084109874533, 'max_features': 'auto'}. Best is trial 85 with value: 0.4738292011019284.\n",
      "[I 2024-03-12 09:25:26,150] Trial 140 finished with value: 0.4490358126721763 and parameters: {'n_estimators': 181, 'max_depth': 43, 'min_samples_split': 0.22224722369621536, 'min_samples_leaf': 0.0742674216874006, 'max_features': 'auto'}. Best is trial 85 with value: 0.4738292011019284.\n",
      "[I 2024-03-12 09:25:27,279] Trial 141 finished with value: 0.45454545454545453 and parameters: {'n_estimators': 295, 'max_depth': 44, 'min_samples_split': 0.08332228156997123, 'min_samples_leaf': 0.09074926290981697, 'max_features': 'auto'}. Best is trial 85 with value: 0.4738292011019284.\n",
      "[I 2024-03-12 09:25:28,322] Trial 142 finished with value: 0.43526170798898073 and parameters: {'n_estimators': 300, 'max_depth': 43, 'min_samples_split': 0.10061930945978738, 'min_samples_leaf': 0.11130964209830595, 'max_features': 'auto'}. Best is trial 85 with value: 0.4738292011019284.\n",
      "[I 2024-03-12 09:25:29,698] Trial 143 finished with value: 0.44077134986225897 and parameters: {'n_estimators': 295, 'max_depth': 46, 'min_samples_split': 0.02681044422739183, 'min_samples_leaf': 0.04952691011217064, 'max_features': 'auto'}. Best is trial 85 with value: 0.4738292011019284.\n",
      "[I 2024-03-12 09:25:30,769] Trial 144 finished with value: 0.46831955922865015 and parameters: {'n_estimators': 284, 'max_depth': 44, 'min_samples_split': 0.08609931746623489, 'min_samples_leaf': 0.09830388748643967, 'max_features': 'auto'}. Best is trial 85 with value: 0.4738292011019284.\n",
      "[I 2024-03-12 09:25:32,352] Trial 145 finished with value: 0.4462809917355372 and parameters: {'n_estimators': 272, 'max_depth': 48, 'min_samples_split': 0.06656667874110436, 'min_samples_leaf': 0.022443170133045996, 'max_features': 'auto'}. Best is trial 85 with value: 0.4738292011019284.\n",
      "[I 2024-03-12 09:25:33,146] Trial 146 finished with value: 0.41597796143250687 and parameters: {'n_estimators': 282, 'max_depth': 39, 'min_samples_split': 0.12032893979014198, 'min_samples_leaf': 0.18116547156324125, 'max_features': 'auto'}. Best is trial 85 with value: 0.4738292011019284.\n",
      "[I 2024-03-12 09:25:34,485] Trial 147 finished with value: 0.41597796143250687 and parameters: {'n_estimators': 287, 'max_depth': 46, 'min_samples_split': 0.18929847654721857, 'min_samples_leaf': 0.1504886230153189, 'max_features': 'auto'}. Best is trial 85 with value: 0.4738292011019284.\n",
      "[I 2024-03-12 09:25:35,263] Trial 148 finished with value: 0.33884297520661155 and parameters: {'n_estimators': 278, 'max_depth': 41, 'min_samples_split': 0.0809652075656796, 'min_samples_leaf': 0.6798702460859986, 'max_features': 'auto'}. Best is trial 85 with value: 0.4738292011019284.\n",
      "[I 2024-03-12 09:25:36,918] Trial 149 finished with value: 0.45454545454545453 and parameters: {'n_estimators': 269, 'max_depth': 26, 'min_samples_split': 0.1644857528278909, 'min_samples_leaf': 0.07110076889523964, 'max_features': 'auto'}. Best is trial 85 with value: 0.4738292011019284.\n",
      "[I 2024-03-12 09:25:37,818] Trial 150 finished with value: 0.42699724517906334 and parameters: {'n_estimators': 261, 'max_depth': 22, 'min_samples_split': 0.04597314837153771, 'min_samples_leaf': 0.12301777917369125, 'max_features': 'auto'}. Best is trial 85 with value: 0.4738292011019284.\n",
      "[I 2024-03-12 09:25:38,921] Trial 151 finished with value: 0.47107438016528924 and parameters: {'n_estimators': 293, 'max_depth': 44, 'min_samples_split': 0.11073801522767268, 'min_samples_leaf': 0.09620393380771211, 'max_features': 'auto'}. Best is trial 85 with value: 0.4738292011019284.\n",
      "[I 2024-03-12 09:25:39,993] Trial 152 finished with value: 0.465564738292011 and parameters: {'n_estimators': 290, 'max_depth': 45, 'min_samples_split': 0.11096868189789272, 'min_samples_leaf': 0.10466718839231737, 'max_features': 'auto'}. Best is trial 85 with value: 0.4738292011019284.\n",
      "[I 2024-03-12 09:25:41,318] Trial 153 finished with value: 0.4462809917355372 and parameters: {'n_estimators': 284, 'max_depth': 44, 'min_samples_split': 0.13838608445287368, 'min_samples_leaf': 0.05180022270243298, 'max_features': 'auto'}. Best is trial 85 with value: 0.4738292011019284.\n",
      "[I 2024-03-12 09:25:42,485] Trial 154 finished with value: 0.45454545454545453 and parameters: {'n_estimators': 292, 'max_depth': 27, 'min_samples_split': 0.12378049086158174, 'min_samples_leaf': 0.08564430929446791, 'max_features': 'auto'}. Best is trial 85 with value: 0.4738292011019284.\n",
      "[I 2024-03-12 09:25:44,199] Trial 155 finished with value: 0.4490358126721763 and parameters: {'n_estimators': 281, 'max_depth': 47, 'min_samples_split': 0.09337035696907996, 'min_samples_leaf': 0.011881558423383181, 'max_features': 'auto'}. Best is trial 85 with value: 0.4738292011019284.\n",
      "[I 2024-03-12 09:25:45,146] Trial 156 finished with value: 0.42424242424242425 and parameters: {'n_estimators': 287, 'max_depth': 25, 'min_samples_split': 0.14822625155802402, 'min_samples_leaf': 0.13454110844006287, 'max_features': 'auto'}. Best is trial 85 with value: 0.4738292011019284.\n",
      "[I 2024-03-12 09:25:46,366] Trial 157 finished with value: 0.44077134986225897 and parameters: {'n_estimators': 274, 'max_depth': 43, 'min_samples_split': 0.0695915577628228, 'min_samples_leaf': 0.06651131359397877, 'max_features': 'auto'}. Best is trial 85 with value: 0.4738292011019284.\n",
      "[I 2024-03-12 09:25:47,669] Trial 158 finished with value: 0.4380165289256198 and parameters: {'n_estimators': 294, 'max_depth': 42, 'min_samples_split': 0.1051107677841902, 'min_samples_leaf': 0.11020366848713475, 'max_features': 'auto'}. Best is trial 85 with value: 0.4738292011019284.\n",
      "[I 2024-03-12 09:25:49,602] Trial 159 finished with value: 0.4573002754820937 and parameters: {'n_estimators': 300, 'max_depth': 30, 'min_samples_split': 0.19293943598073882, 'min_samples_leaf': 0.04157486583011668, 'max_features': 'auto'}. Best is trial 85 with value: 0.4738292011019284.\n",
      "[I 2024-03-12 09:25:50,815] Trial 160 finished with value: 0.418732782369146 and parameters: {'n_estimators': 290, 'max_depth': 45, 'min_samples_split': 0.16994746631931815, 'min_samples_leaf': 0.16119926441245067, 'max_features': 'auto'}. Best is trial 85 with value: 0.4738292011019284.\n",
      "[I 2024-03-12 09:25:51,993] Trial 161 finished with value: 0.45454545454545453 and parameters: {'n_estimators': 295, 'max_depth': 41, 'min_samples_split': 0.09412527192306068, 'min_samples_leaf': 0.08580455590825657, 'max_features': 'auto'}. Best is trial 85 with value: 0.4738292011019284.\n",
      "[I 2024-03-12 09:25:53,128] Trial 162 finished with value: 0.47107438016528924 and parameters: {'n_estimators': 297, 'max_depth': 44, 'min_samples_split': 0.06193808594120075, 'min_samples_leaf': 0.09402718335148356, 'max_features': 'auto'}. Best is trial 85 with value: 0.4738292011019284.\n",
      "[I 2024-03-12 09:25:54,174] Trial 163 finished with value: 0.47107438016528924 and parameters: {'n_estimators': 285, 'max_depth': 44, 'min_samples_split': 0.019553477346279678, 'min_samples_leaf': 0.10293776702727293, 'max_features': 'auto'}. Best is trial 85 with value: 0.4738292011019284.\n",
      "[I 2024-03-12 09:25:55,120] Trial 164 finished with value: 0.4297520661157025 and parameters: {'n_estimators': 284, 'max_depth': 44, 'min_samples_split': 0.012071805098400397, 'min_samples_leaf': 0.12946035446892637, 'max_features': 'auto'}. Best is trial 85 with value: 0.4738292011019284.\n",
      "[I 2024-03-12 09:25:56,299] Trial 165 finished with value: 0.44077134986225897 and parameters: {'n_estimators': 277, 'max_depth': 46, 'min_samples_split': 0.04916401217496675, 'min_samples_leaf': 0.07125974528177363, 'max_features': 'auto'}. Best is trial 85 with value: 0.4738292011019284.\n",
      "[I 2024-03-12 09:25:57,308] Trial 166 finished with value: 0.45454545454545453 and parameters: {'n_estimators': 280, 'max_depth': 26, 'min_samples_split': 0.036027722606401004, 'min_samples_leaf': 0.10731544886978046, 'max_features': 'auto'}. Best is trial 85 with value: 0.4738292011019284.\n",
      "[I 2024-03-12 09:25:57,847] Trial 167 finished with value: 0.33884297520661155 and parameters: {'n_estimators': 288, 'max_depth': 44, 'min_samples_split': 0.027873097263647194, 'min_samples_leaf': 0.896385096147043, 'max_features': 'auto'}. Best is trial 85 with value: 0.4738292011019284.\n",
      "[I 2024-03-12 09:25:58,802] Trial 168 finished with value: 0.418732782369146 and parameters: {'n_estimators': 297, 'max_depth': 24, 'min_samples_split': 0.0613089130427352, 'min_samples_leaf': 0.1430992304595045, 'max_features': 'auto'}. Best is trial 85 with value: 0.4738292011019284.\n",
      "[I 2024-03-12 09:26:00,032] Trial 169 finished with value: 0.4380165289256198 and parameters: {'n_estimators': 267, 'max_depth': 27, 'min_samples_split': 0.1220531039348674, 'min_samples_leaf': 0.05315400202869395, 'max_features': 'auto'}. Best is trial 85 with value: 0.4738292011019284.\n",
      "[I 2024-03-12 09:26:01,307] Trial 170 finished with value: 0.46831955922865015 and parameters: {'n_estimators': 283, 'max_depth': 29, 'min_samples_split': 0.05394848193409385, 'min_samples_leaf': 0.09916492871019322, 'max_features': 'auto'}. Best is trial 85 with value: 0.4738292011019284.\n",
      "[I 2024-03-12 09:26:02,725] Trial 171 finished with value: 0.4325068870523416 and parameters: {'n_estimators': 284, 'max_depth': 29, 'min_samples_split': 0.056293155134706604, 'min_samples_leaf': 0.12072500963586186, 'max_features': 'auto'}. Best is trial 85 with value: 0.4738292011019284.\n",
      "[I 2024-03-12 09:26:04,221] Trial 172 finished with value: 0.465564738292011 and parameters: {'n_estimators': 273, 'max_depth': 28, 'min_samples_split': 0.02509309255011478, 'min_samples_leaf': 0.10218690403947664, 'max_features': 'auto'}. Best is trial 85 with value: 0.4738292011019284.\n",
      "[I 2024-03-12 09:26:04,889] Trial 173 finished with value: 0.41046831955922863 and parameters: {'n_estimators': 290, 'max_depth': 25, 'min_samples_split': 0.07604115903159084, 'min_samples_leaf': 0.31558198196131476, 'max_features': 'auto'}. Best is trial 85 with value: 0.4738292011019284.\n",
      "[I 2024-03-12 09:26:06,010] Trial 174 finished with value: 0.4490358126721763 and parameters: {'n_estimators': 278, 'max_depth': 46, 'min_samples_split': 0.138500194558254, 'min_samples_leaf': 0.0834622496558365, 'max_features': 'auto'}. Best is trial 85 with value: 0.4738292011019284.\n",
      "[I 2024-03-12 09:26:07,291] Trial 175 finished with value: 0.4490358126721763 and parameters: {'n_estimators': 286, 'max_depth': 45, 'min_samples_split': 0.04354660621746488, 'min_samples_leaf': 0.06494525586110578, 'max_features': 'auto'}. Best is trial 85 with value: 0.4738292011019284.\n",
      "[I 2024-03-12 09:26:08,311] Trial 176 finished with value: 0.42699724517906334 and parameters: {'n_estimators': 297, 'max_depth': 26, 'min_samples_split': 0.07463802442040637, 'min_samples_leaf': 0.12248261260266198, 'max_features': 'auto'}. Best is trial 85 with value: 0.4738292011019284.\n",
      "[I 2024-03-12 09:26:09,727] Trial 177 finished with value: 0.4462809917355372 and parameters: {'n_estimators': 281, 'max_depth': 31, 'min_samples_split': 0.11070328378118896, 'min_samples_leaf': 0.03374192068651299, 'max_features': 'auto'}. Best is trial 85 with value: 0.4738292011019284.\n",
      "[I 2024-03-12 09:26:10,839] Trial 178 finished with value: 0.46831955922865015 and parameters: {'n_estimators': 292, 'max_depth': 28, 'min_samples_split': 0.010087293040187614, 'min_samples_leaf': 0.0985189719477893, 'max_features': 'auto'}. Best is trial 85 with value: 0.4738292011019284.\n",
      "[I 2024-03-12 09:26:11,698] Trial 179 finished with value: 0.42424242424242425 and parameters: {'n_estimators': 293, 'max_depth': 28, 'min_samples_split': 0.027603035733633825, 'min_samples_leaf': 0.16697298478316952, 'max_features': 'auto'}. Best is trial 85 with value: 0.4738292011019284.\n",
      "[I 2024-03-12 09:26:12,276] Trial 180 finished with value: 0.4214876033057851 and parameters: {'n_estimators': 173, 'max_depth': 40, 'min_samples_split': 0.01317510328058924, 'min_samples_leaf': 0.1447989627551676, 'max_features': 'auto'}. Best is trial 85 with value: 0.4738292011019284.\n",
      "[I 2024-03-12 09:26:13,399] Trial 181 finished with value: 0.47107438016528924 and parameters: {'n_estimators': 288, 'max_depth': 29, 'min_samples_split': 0.056841780425671375, 'min_samples_leaf': 0.09587878141718915, 'max_features': 'auto'}. Best is trial 85 with value: 0.4738292011019284.\n",
      "[I 2024-03-12 09:26:14,604] Trial 182 finished with value: 0.4765840220385675 and parameters: {'n_estimators': 300, 'max_depth': 30, 'min_samples_split': 0.05268002375507711, 'min_samples_leaf': 0.09935562480734746, 'max_features': 'auto'}. Best is trial 182 with value: 0.4765840220385675.\n",
      "[I 2024-03-12 09:26:16,446] Trial 183 finished with value: 0.45454545454545453 and parameters: {'n_estimators': 300, 'max_depth': 31, 'min_samples_split': 0.05334289362708011, 'min_samples_leaf': 0.07991565186083706, 'max_features': 'auto'}. Best is trial 182 with value: 0.4765840220385675.\n",
      "[I 2024-03-12 09:26:19,060] Trial 184 finished with value: 0.4325068870523416 and parameters: {'n_estimators': 289, 'max_depth': 29, 'min_samples_split': 0.04295027482180775, 'min_samples_leaf': 0.111674079260848, 'max_features': 'auto'}. Best is trial 182 with value: 0.4765840220385675.\n",
      "[I 2024-03-12 09:26:20,427] Trial 185 finished with value: 0.45179063360881544 and parameters: {'n_estimators': 296, 'max_depth': 30, 'min_samples_split': 0.012512761522255394, 'min_samples_leaf': 0.06053963001617982, 'max_features': 'auto'}. Best is trial 182 with value: 0.4765840220385675.\n",
      "[I 2024-03-12 09:26:20,853] Trial 186 finished with value: 0.45179063360881544 and parameters: {'n_estimators': 100, 'max_depth': 28, 'min_samples_split': 0.06571697727939835, 'min_samples_leaf': 0.0906456351743889, 'max_features': 'auto'}. Best is trial 182 with value: 0.4765840220385675.\n",
      "[I 2024-03-12 09:26:21,879] Trial 187 finished with value: 0.42699724517906334 and parameters: {'n_estimators': 293, 'max_depth': 32, 'min_samples_split': 0.0360174015426261, 'min_samples_leaf': 0.1312469016166993, 'max_features': 'auto'}. Best is trial 182 with value: 0.4765840220385675.\n",
      "[I 2024-03-12 09:26:23,132] Trial 188 finished with value: 0.4462809917355372 and parameters: {'n_estimators': 287, 'max_depth': 30, 'min_samples_split': 0.08426414033535876, 'min_samples_leaf': 0.076617957889587, 'max_features': 'auto'}. Best is trial 182 with value: 0.4765840220385675.\n",
      "[I 2024-03-12 09:26:24,770] Trial 189 finished with value: 0.4490358126721763 and parameters: {'n_estimators': 300, 'max_depth': 27, 'min_samples_split': 0.06468091464692237, 'min_samples_leaf': 0.03738244351364077, 'max_features': 'auto'}. Best is trial 182 with value: 0.4765840220385675.\n",
      "[I 2024-03-12 09:26:25,665] Trial 190 finished with value: 0.41597796143250687 and parameters: {'n_estimators': 291, 'max_depth': 43, 'min_samples_split': 0.4885168419977165, 'min_samples_leaf': 0.10315822429726058, 'max_features': 'auto'}. Best is trial 182 with value: 0.4765840220385675.\n",
      "[I 2024-03-12 09:26:26,838] Trial 191 finished with value: 0.4738292011019284 and parameters: {'n_estimators': 284, 'max_depth': 29, 'min_samples_split': 0.09080102903363482, 'min_samples_leaf': 0.10002225164534552, 'max_features': 'auto'}. Best is trial 182 with value: 0.4765840220385675.\n",
      "[I 2024-03-12 09:26:27,912] Trial 192 finished with value: 0.4297520661157025 and parameters: {'n_estimators': 284, 'max_depth': 29, 'min_samples_split': 0.08600528190140763, 'min_samples_leaf': 0.11758942991076449, 'max_features': 'auto'}. Best is trial 182 with value: 0.4765840220385675.\n",
      "[I 2024-03-12 09:26:29,437] Trial 193 finished with value: 0.4738292011019284 and parameters: {'n_estimators': 296, 'max_depth': 29, 'min_samples_split': 0.04391728499630908, 'min_samples_leaf': 0.0910625488043761, 'max_features': 'auto'}. Best is trial 182 with value: 0.4765840220385675.\n",
      "[I 2024-03-12 09:26:31,183] Trial 194 finished with value: 0.45454545454545453 and parameters: {'n_estimators': 296, 'max_depth': 30, 'min_samples_split': 0.04894266323482452, 'min_samples_leaf': 0.09056970297393288, 'max_features': 'auto'}. Best is trial 182 with value: 0.4765840220385675.\n",
      "[I 2024-03-12 09:26:31,958] Trial 195 finished with value: 0.44352617079889806 and parameters: {'n_estimators': 107, 'max_depth': 29, 'min_samples_split': 0.0242115244996646, 'min_samples_leaf': 0.061266844206018876, 'max_features': 'auto'}. Best is trial 182 with value: 0.4765840220385675.\n",
      "[I 2024-03-12 09:26:32,986] Trial 196 finished with value: 0.42424242424242425 and parameters: {'n_estimators': 291, 'max_depth': 32, 'min_samples_split': 0.05127783651550731, 'min_samples_leaf': 0.14171871236891295, 'max_features': 'auto'}. Best is trial 182 with value: 0.4765840220385675.\n",
      "[I 2024-03-12 09:26:33,561] Trial 197 finished with value: 0.33884297520661155 and parameters: {'n_estimators': 296, 'max_depth': 28, 'min_samples_split': 0.8386747806658149, 'min_samples_leaf': 0.07832177784044916, 'max_features': 'auto'}. Best is trial 182 with value: 0.4765840220385675.\n",
      "[I 2024-03-12 09:26:34,119] Trial 198 finished with value: 0.42699724517906334 and parameters: {'n_estimators': 147, 'max_depth': 29, 'min_samples_split': 0.07143832235148147, 'min_samples_leaf': 0.11422110172592467, 'max_features': 'auto'}. Best is trial 182 with value: 0.4765840220385675.\n",
      "[I 2024-03-12 09:26:34,676] Trial 199 finished with value: 0.33884297520661155 and parameters: {'n_estimators': 288, 'max_depth': 33, 'min_samples_split': 0.099640090957547, 'min_samples_leaf': 0.3966002685114772, 'max_features': 'auto'}. Best is trial 182 with value: 0.4765840220385675.\n",
      "[I 2024-03-12 09:26:35,806] Trial 200 finished with value: 0.4738292011019284 and parameters: {'n_estimators': 284, 'max_depth': 27, 'min_samples_split': 0.03408917037661761, 'min_samples_leaf': 0.10046063877359811, 'max_features': 'auto'}. Best is trial 182 with value: 0.4765840220385675.\n",
      "[I 2024-03-12 09:26:36,962] Trial 201 finished with value: 0.46831955922865015 and parameters: {'n_estimators': 282, 'max_depth': 27, 'min_samples_split': 0.027327513424406553, 'min_samples_leaf': 0.09826421830642022, 'max_features': 'auto'}. Best is trial 182 with value: 0.4765840220385675.\n",
      "[I 2024-03-12 09:26:37,424] Trial 202 finished with value: 0.4214876033057851 and parameters: {'n_estimators': 125, 'max_depth': 27, 'min_samples_split': 0.055022035585582746, 'min_samples_leaf': 0.1260813876939697, 'max_features': 'auto'}. Best is trial 182 with value: 0.4765840220385675.\n",
      "[I 2024-03-12 09:26:38,835] Trial 203 finished with value: 0.44352617079889806 and parameters: {'n_estimators': 286, 'max_depth': 29, 'min_samples_split': 0.013380029913543454, 'min_samples_leaf': 0.0550318129031258, 'max_features': 'auto'}. Best is trial 182 with value: 0.4765840220385675.\n",
      "[I 2024-03-12 09:26:40,005] Trial 204 finished with value: 0.47107438016528924 and parameters: {'n_estimators': 293, 'max_depth': 36, 'min_samples_split': 0.07723037718495478, 'min_samples_leaf': 0.09534035471050717, 'max_features': 'auto'}. Best is trial 182 with value: 0.4765840220385675.\n",
      "[I 2024-03-12 09:26:41,310] Trial 205 finished with value: 0.45179063360881544 and parameters: {'n_estimators': 297, 'max_depth': 31, 'min_samples_split': 0.08248855639409762, 'min_samples_leaf': 0.08113747279128458, 'max_features': 'auto'}. Best is trial 182 with value: 0.4765840220385675.\n",
      "[I 2024-03-12 09:26:43,499] Trial 206 finished with value: 0.45179063360881544 and parameters: {'n_estimators': 284, 'max_depth': 30, 'min_samples_split': 0.10443610561566166, 'min_samples_leaf': 0.01110049529699983, 'max_features': 'auto'}. Best is trial 182 with value: 0.4765840220385675.\n",
      "[I 2024-03-12 09:26:44,939] Trial 207 finished with value: 0.41597796143250687 and parameters: {'n_estimators': 291, 'max_depth': 35, 'min_samples_split': 0.06722255125428928, 'min_samples_leaf': 0.15380251401988038, 'max_features': 'auto'}. Best is trial 182 with value: 0.4765840220385675.\n",
      "[I 2024-03-12 09:26:46,407] Trial 208 finished with value: 0.4297520661157025 and parameters: {'n_estimators': 300, 'max_depth': 42, 'min_samples_split': 0.08952654965209197, 'min_samples_leaf': 0.1183206287136781, 'max_features': 'auto'}. Best is trial 182 with value: 0.4765840220385675.\n",
      "[I 2024-03-12 09:26:47,684] Trial 209 finished with value: 0.4380165289256198 and parameters: {'n_estimators': 288, 'max_depth': 36, 'min_samples_split': 0.04344414343088175, 'min_samples_leaf': 0.07104265700393214, 'max_features': 'auto'}. Best is trial 182 with value: 0.4765840220385675.\n",
      "[I 2024-03-12 09:26:49,148] Trial 210 finished with value: 0.4380165289256198 and parameters: {'n_estimators': 281, 'max_depth': 44, 'min_samples_split': 0.108909909442928, 'min_samples_leaf': 0.04111527845307615, 'max_features': 'auto'}. Best is trial 182 with value: 0.4765840220385675.\n",
      "[I 2024-03-12 09:26:50,339] Trial 211 finished with value: 0.4738292011019284 and parameters: {'n_estimators': 292, 'max_depth': 28, 'min_samples_split': 0.03229574280387087, 'min_samples_leaf': 0.0965527694180593, 'max_features': 'auto'}. Best is trial 182 with value: 0.4765840220385675.\n",
      "[I 2024-03-12 09:26:51,482] Trial 212 finished with value: 0.46831955922865015 and parameters: {'n_estimators': 293, 'max_depth': 28, 'min_samples_split': 0.06161643305710403, 'min_samples_leaf': 0.10211112375037427, 'max_features': 'auto'}. Best is trial 182 with value: 0.4765840220385675.\n",
      "[I 2024-03-12 09:26:52,729] Trial 213 finished with value: 0.4490358126721763 and parameters: {'n_estimators': 294, 'max_depth': 25, 'min_samples_split': 0.03924437228301677, 'min_samples_leaf': 0.08860929525795769, 'max_features': 'auto'}. Best is trial 182 with value: 0.4765840220385675.\n",
      "[I 2024-03-12 09:26:53,726] Trial 214 finished with value: 0.418732782369146 and parameters: {'n_estimators': 288, 'max_depth': 27, 'min_samples_split': 0.06998526781930407, 'min_samples_leaf': 0.13940395443207018, 'max_features': 'auto'}. Best is trial 182 with value: 0.4765840220385675.\n",
      "[I 2024-03-12 09:26:54,726] Trial 215 finished with value: 0.4297520661157025 and parameters: {'n_estimators': 278, 'max_depth': 26, 'min_samples_split': 0.08679376375525065, 'min_samples_leaf': 0.11542199656677007, 'max_features': 'auto'}. Best is trial 182 with value: 0.4765840220385675.\n",
      "[I 2024-03-12 09:26:56,202] Trial 216 finished with value: 0.45454545454545453 and parameters: {'n_estimators': 296, 'max_depth': 29, 'min_samples_split': 0.04527707249956966, 'min_samples_leaf': 0.06491824369565541, 'max_features': 'auto'}. Best is trial 182 with value: 0.4765840220385675.\n",
      "[I 2024-03-12 09:26:57,901] Trial 217 finished with value: 0.47107438016528924 and parameters: {'n_estimators': 284, 'max_depth': 44, 'min_samples_split': 0.032181373929426584, 'min_samples_leaf': 0.09576080829447078, 'max_features': 'auto'}. Best is trial 182 with value: 0.4765840220385675.\n",
      "[I 2024-03-12 09:26:59,730] Trial 218 finished with value: 0.45454545454545453 and parameters: {'n_estimators': 300, 'max_depth': 44, 'min_samples_split': 0.029490996213740676, 'min_samples_leaf': 0.08204081837115962, 'max_features': 'auto'}. Best is trial 182 with value: 0.4765840220385675.\n",
      "[I 2024-03-12 09:27:00,806] Trial 219 finished with value: 0.42699724517906334 and parameters: {'n_estimators': 290, 'max_depth': 45, 'min_samples_split': 0.07511073475417433, 'min_samples_leaf': 0.12352213254008834, 'max_features': 'auto'}. Best is trial 182 with value: 0.4765840220385675.\n",
      "[I 2024-03-12 09:27:02,118] Trial 220 finished with value: 0.44352617079889806 and parameters: {'n_estimators': 285, 'max_depth': 42, 'min_samples_split': 0.15044486415577685, 'min_samples_leaf': 0.053546112953790755, 'max_features': 'auto'}. Best is trial 182 with value: 0.4765840220385675.\n",
      "[I 2024-03-12 09:27:03,173] Trial 221 finished with value: 0.465564738292011 and parameters: {'n_estimators': 279, 'max_depth': 38, 'min_samples_split': 0.05441735738711493, 'min_samples_leaf': 0.09851051076899259, 'max_features': 'auto'}. Best is trial 182 with value: 0.4765840220385675.\n",
      "[I 2024-03-12 09:27:04,243] Trial 222 finished with value: 0.46831955922865015 and parameters: {'n_estimators': 283, 'max_depth': 24, 'min_samples_split': 0.03351540711342736, 'min_samples_leaf': 0.10193688430149621, 'max_features': 'auto'}. Best is trial 182 with value: 0.4765840220385675.\n",
      "[I 2024-03-12 09:27:05,497] Trial 223 finished with value: 0.4380165289256198 and parameters: {'n_estimators': 294, 'max_depth': 45, 'min_samples_split': 0.10862216093529256, 'min_samples_leaf': 0.0741869213930472, 'max_features': 'auto'}. Best is trial 182 with value: 0.4765840220385675.\n",
      "[I 2024-03-12 09:27:06,489] Trial 224 finished with value: 0.42424242424242425 and parameters: {'n_estimators': 289, 'max_depth': 43, 'min_samples_split': 0.06352095912284562, 'min_samples_leaf': 0.1260988199557366, 'max_features': 'auto'}. Best is trial 182 with value: 0.4765840220385675.\n",
      "[I 2024-03-12 09:27:07,627] Trial 225 finished with value: 0.47107438016528924 and parameters: {'n_estimators': 285, 'max_depth': 34, 'min_samples_split': 0.08405564401099662, 'min_samples_leaf': 0.09237740370346761, 'max_features': 'auto'}. Best is trial 182 with value: 0.4765840220385675.\n",
      "[I 2024-03-12 09:27:08,809] Trial 226 finished with value: 0.45179063360881544 and parameters: {'n_estimators': 287, 'max_depth': 36, 'min_samples_split': 0.09505345305060901, 'min_samples_leaf': 0.08092579068728575, 'max_features': 'auto'}. Best is trial 182 with value: 0.4765840220385675.\n",
      "[I 2024-03-12 09:27:10,615] Trial 227 finished with value: 0.4462809917355372 and parameters: {'n_estimators': 293, 'max_depth': 34, 'min_samples_split': 0.12823601053416028, 'min_samples_leaf': 0.030162749310863546, 'max_features': 'auto'}. Best is trial 182 with value: 0.4765840220385675.\n",
      "[I 2024-03-12 09:27:12,066] Trial 228 finished with value: 0.4462809917355372 and parameters: {'n_estimators': 276, 'max_depth': 10, 'min_samples_split': 0.07978784372731842, 'min_samples_leaf': 0.10991240758242181, 'max_features': 'auto'}. Best is trial 182 with value: 0.4765840220385675.\n",
      "[I 2024-03-12 09:27:13,461] Trial 229 finished with value: 0.42424242424242425 and parameters: {'n_estimators': 298, 'max_depth': 35, 'min_samples_split': 0.03262494677085746, 'min_samples_leaf': 0.14156188908264475, 'max_features': 'auto'}. Best is trial 182 with value: 0.4765840220385675.\n",
      "[I 2024-03-12 09:27:14,002] Trial 230 finished with value: 0.33884297520661155 and parameters: {'n_estimators': 285, 'max_depth': 47, 'min_samples_split': 0.09862538828147022, 'min_samples_leaf': 0.4652164461360567, 'max_features': 'auto'}. Best is trial 182 with value: 0.4765840220385675.\n",
      "[I 2024-03-12 09:27:15,047] Trial 231 finished with value: 0.46831955922865015 and parameters: {'n_estimators': 281, 'max_depth': 30, 'min_samples_split': 0.05606825901831424, 'min_samples_leaf': 0.09855199032061236, 'max_features': 'auto'}. Best is trial 182 with value: 0.4765840220385675.\n",
      "[I 2024-03-12 09:27:16,195] Trial 232 finished with value: 0.45454545454545453 and parameters: {'n_estimators': 291, 'max_depth': 28, 'min_samples_split': 0.07574653951639318, 'min_samples_leaf': 0.08935899099359122, 'max_features': 'auto'}. Best is trial 182 with value: 0.4765840220385675.\n",
      "[I 2024-03-12 09:27:17,422] Trial 233 finished with value: 0.4490358126721763 and parameters: {'n_estimators': 284, 'max_depth': 27, 'min_samples_split': 0.04692948859735944, 'min_samples_leaf': 0.06429766868858258, 'max_features': 'auto'}. Best is trial 182 with value: 0.4765840220385675.\n",
      "[I 2024-03-12 09:27:18,456] Trial 234 finished with value: 0.4297520661157025 and parameters: {'n_estimators': 296, 'max_depth': 31, 'min_samples_split': 0.1169127024717403, 'min_samples_leaf': 0.11222515353189533, 'max_features': 'auto'}. Best is trial 182 with value: 0.4765840220385675.\n",
      "[I 2024-03-12 09:27:19,538] Trial 235 finished with value: 0.465564738292011 and parameters: {'n_estimators': 280, 'max_depth': 44, 'min_samples_split': 0.03527742678983553, 'min_samples_leaf': 0.09161450263408072, 'max_features': 'auto'}. Best is trial 182 with value: 0.4765840220385675.\n",
      "[I 2024-03-12 09:27:20,510] Trial 236 finished with value: 0.42699724517906334 and parameters: {'n_estimators': 288, 'max_depth': 34, 'min_samples_split': 0.05717158436952267, 'min_samples_leaf': 0.13033011280084691, 'max_features': 'auto'}. Best is trial 182 with value: 0.4765840220385675.\n",
      "[I 2024-03-12 09:27:21,719] Trial 237 finished with value: 0.44352617079889806 and parameters: {'n_estimators': 292, 'max_depth': 37, 'min_samples_split': 0.012745123386545557, 'min_samples_leaf': 0.07557438735241419, 'max_features': 'auto'}. Best is trial 182 with value: 0.4765840220385675.\n",
      "[I 2024-03-12 09:27:22,748] Trial 238 finished with value: 0.4462809917355372 and parameters: {'n_estimators': 285, 'max_depth': 25, 'min_samples_split': 0.08679246369001045, 'min_samples_leaf': 0.10902093002433237, 'max_features': 'auto'}. Best is trial 182 with value: 0.4765840220385675.\n",
      "[I 2024-03-12 09:27:23,788] Trial 239 finished with value: 0.44077134986225897 and parameters: {'n_estimators': 196, 'max_depth': 29, 'min_samples_split': 0.14124579217592426, 'min_samples_leaf': 0.05046178409953258, 'max_features': 'auto'}. Best is trial 182 with value: 0.4765840220385675.\n",
      "[I 2024-03-12 09:27:25,388] Trial 240 finished with value: 0.45179063360881544 and parameters: {'n_estimators': 276, 'max_depth': 26, 'min_samples_split': 0.06861699340680136, 'min_samples_leaf': 0.08936103529870265, 'max_features': 'auto'}. Best is trial 182 with value: 0.4765840220385675.\n",
      "[I 2024-03-12 09:27:27,010] Trial 241 finished with value: 0.46831955922865015 and parameters: {'n_estimators': 291, 'max_depth': 28, 'min_samples_split': 0.012799938310552261, 'min_samples_leaf': 0.10270530000107037, 'max_features': 'auto'}. Best is trial 182 with value: 0.4765840220385675.\n",
      "[I 2024-03-12 09:27:28,060] Trial 242 finished with value: 0.4297520661157025 and parameters: {'n_estimators': 295, 'max_depth': 28, 'min_samples_split': 0.010534016135796555, 'min_samples_leaf': 0.11955639559117354, 'max_features': 'auto'}. Best is trial 182 with value: 0.4765840220385675.\n",
      "[I 2024-03-12 09:27:29,196] Trial 243 finished with value: 0.46831955922865015 and parameters: {'n_estimators': 300, 'max_depth': 27, 'min_samples_split': 0.03393197067248353, 'min_samples_leaf': 0.09367819224063648, 'max_features': 'auto'}. Best is trial 182 with value: 0.4765840220385675.\n",
      "[I 2024-03-12 09:27:30,445] Trial 244 finished with value: 0.44352617079889806 and parameters: {'n_estimators': 289, 'max_depth': 30, 'min_samples_split': 0.04752540544648957, 'min_samples_leaf': 0.0689644981569195, 'max_features': 'auto'}. Best is trial 182 with value: 0.4765840220385675.\n",
      "[I 2024-03-12 09:27:30,997] Trial 245 finished with value: 0.33884297520661155 and parameters: {'n_estimators': 293, 'max_depth': 39, 'min_samples_split': 0.027494107669670875, 'min_samples_leaf': 0.786465487311595, 'max_features': 'auto'}. Best is trial 182 with value: 0.4765840220385675.\n",
      "[I 2024-03-12 09:27:31,950] Trial 246 finished with value: 0.4297520661157025 and parameters: {'n_estimators': 282, 'max_depth': 29, 'min_samples_split': 0.16793350587402914, 'min_samples_leaf': 0.12904455752069358, 'max_features': 'auto'}. Best is trial 182 with value: 0.4765840220385675.\n",
      "[I 2024-03-12 09:27:33,015] Trial 247 finished with value: 0.46831955922865015 and parameters: {'n_estimators': 287, 'max_depth': 26, 'min_samples_split': 0.06074338875181032, 'min_samples_leaf': 0.10225800400706193, 'max_features': 'auto'}. Best is trial 182 with value: 0.4765840220385675.\n",
      "[I 2024-03-12 09:27:34,234] Trial 248 finished with value: 0.4380165289256198 and parameters: {'n_estimators': 294, 'max_depth': 45, 'min_samples_split': 0.09726539645760168, 'min_samples_leaf': 0.07522964618780986, 'max_features': 'auto'}. Best is trial 182 with value: 0.4765840220385675.\n",
      "[I 2024-03-12 09:27:35,107] Trial 249 finished with value: 0.418732782369146 and parameters: {'n_estimators': 283, 'max_depth': 28, 'min_samples_split': 0.07400449526407506, 'min_samples_leaf': 0.15310670903775095, 'max_features': 'auto'}. Best is trial 182 with value: 0.4765840220385675.\n",
      "[I 2024-03-12 09:27:36,502] Trial 250 finished with value: 0.4462809917355372 and parameters: {'n_estimators': 297, 'max_depth': 43, 'min_samples_split': 0.11564191451733921, 'min_samples_leaf': 0.05344681301932678, 'max_features': 'auto'}. Best is trial 182 with value: 0.4765840220385675.\n",
      "[I 2024-03-12 09:27:37,738] Trial 251 finished with value: 0.42699724517906334 and parameters: {'n_estimators': 291, 'max_depth': 37, 'min_samples_split': 0.03962549588911224, 'min_samples_leaf': 0.11394022985962757, 'max_features': 'auto'}. Best is trial 182 with value: 0.4765840220385675.\n",
      "[I 2024-03-12 09:27:39,360] Trial 252 finished with value: 0.45454545454545453 and parameters: {'n_estimators': 279, 'max_depth': 27, 'min_samples_split': 0.0105021077079222, 'min_samples_leaf': 0.08945927084079287, 'max_features': 'auto'}. Best is trial 182 with value: 0.4765840220385675.\n",
      "[I 2024-03-12 09:27:40,220] Trial 253 finished with value: 0.33884297520661155 and parameters: {'n_estimators': 288, 'max_depth': 32, 'min_samples_split': 0.6567241888583537, 'min_samples_leaf': 0.6131145794958515, 'max_features': 'auto'}. Best is trial 182 with value: 0.4765840220385675.\n",
      "[I 2024-03-12 09:27:41,278] Trial 254 finished with value: 0.4325068870523416 and parameters: {'n_estimators': 272, 'max_depth': 44, 'min_samples_split': 0.4061527166862514, 'min_samples_leaf': 0.1320927337288386, 'max_features': 'auto'}. Best is trial 182 with value: 0.4765840220385675.\n",
      "[I 2024-03-12 09:27:42,352] Trial 255 finished with value: 0.47107438016528924 and parameters: {'n_estimators': 285, 'max_depth': 29, 'min_samples_split': 0.0849351250581948, 'min_samples_leaf': 0.09549354283594838, 'max_features': 'auto'}. Best is trial 182 with value: 0.4765840220385675.\n",
      "[I 2024-03-12 09:27:43,544] Trial 256 finished with value: 0.43526170798898073 and parameters: {'n_estimators': 284, 'max_depth': 30, 'min_samples_split': 0.08734433111166814, 'min_samples_leaf': 0.07377716156285824, 'max_features': 'auto'}. Best is trial 182 with value: 0.4765840220385675.\n",
      "[I 2024-03-12 09:27:44,937] Trial 257 finished with value: 0.4462809917355372 and parameters: {'n_estimators': 276, 'max_depth': 29, 'min_samples_split': 0.12327944385914563, 'min_samples_leaf': 0.03087341999396686, 'max_features': 'auto'}. Best is trial 182 with value: 0.4765840220385675.\n",
      "[I 2024-03-12 09:27:45,947] Trial 258 finished with value: 0.4297520661157025 and parameters: {'n_estimators': 281, 'max_depth': 31, 'min_samples_split': 0.10190079322101099, 'min_samples_leaf': 0.11431906810444117, 'max_features': 'auto'}. Best is trial 182 with value: 0.4765840220385675.\n",
      "[I 2024-03-12 09:27:47,331] Trial 259 finished with value: 0.4380165289256198 and parameters: {'n_estimators': 300, 'max_depth': 46, 'min_samples_split': 0.07756420384332006, 'min_samples_leaf': 0.05704630247699124, 'max_features': 'auto'}. Best is trial 182 with value: 0.4765840220385675.\n",
      "[I 2024-03-12 09:27:47,659] Trial 260 finished with value: 0.33884297520661155 and parameters: {'n_estimators': 163, 'max_depth': 42, 'min_samples_split': 0.7967379574888056, 'min_samples_leaf': 0.08882090859029233, 'max_features': 'auto'}. Best is trial 182 with value: 0.4765840220385675.\n",
      "[I 2024-03-12 09:27:48,287] Trial 261 finished with value: 0.42424242424242425 and parameters: {'n_estimators': 186, 'max_depth': 33, 'min_samples_split': 0.14891796868557022, 'min_samples_leaf': 0.1336301416636334, 'max_features': 'auto'}. Best is trial 182 with value: 0.4765840220385675.\n",
      "[I 2024-03-12 09:27:49,316] Trial 262 finished with value: 0.44077134986225897 and parameters: {'n_estimators': 286, 'max_depth': 25, 'min_samples_split': 0.05810761422373093, 'min_samples_leaf': 0.1099242826132654, 'max_features': 'auto'}. Best is trial 182 with value: 0.4765840220385675.\n",
      "[I 2024-03-12 09:27:50,519] Trial 263 finished with value: 0.4490358126721763 and parameters: {'n_estimators': 296, 'max_depth': 44, 'min_samples_split': 0.08718740859041416, 'min_samples_leaf': 0.07687852060948697, 'max_features': 'auto'}. Best is trial 182 with value: 0.4765840220385675.\n",
      "[I 2024-03-12 09:27:52,403] Trial 264 finished with value: 0.4380165289256198 and parameters: {'n_estimators': 289, 'max_depth': 30, 'min_samples_split': 0.11153427741826226, 'min_samples_leaf': 0.043709359973998906, 'max_features': 'auto'}. Best is trial 182 with value: 0.4765840220385675.\n",
      "[I 2024-03-12 09:27:53,666] Trial 265 finished with value: 0.418732782369146 and parameters: {'n_estimators': 279, 'max_depth': 26, 'min_samples_split': 0.0557927382577759, 'min_samples_leaf': 0.15953258524225405, 'max_features': 'auto'}. Best is trial 182 with value: 0.4765840220385675.\n",
      "[I 2024-03-12 09:27:55,067] Trial 266 finished with value: 0.46831955922865015 and parameters: {'n_estimators': 286, 'max_depth': 28, 'min_samples_split': 0.13442504910915704, 'min_samples_leaf': 0.09791166073198067, 'max_features': 'auto'}. Best is trial 182 with value: 0.4765840220385675.\n",
      "[I 2024-03-12 09:27:56,411] Trial 267 finished with value: 0.45454545454545453 and parameters: {'n_estimators': 293, 'max_depth': 40, 'min_samples_split': 0.06854001634178394, 'min_samples_leaf': 0.06357172846754865, 'max_features': 'auto'}. Best is trial 182 with value: 0.4765840220385675.\n",
      "[I 2024-03-12 09:27:57,358] Trial 268 finished with value: 0.4214876033057851 and parameters: {'n_estimators': 282, 'max_depth': 36, 'min_samples_split': 0.17311657318952453, 'min_samples_leaf': 0.14160639232414887, 'max_features': 'auto'}. Best is trial 182 with value: 0.4765840220385675.\n",
      "[I 2024-03-12 09:27:58,322] Trial 269 finished with value: 0.4297520661157025 and parameters: {'n_estimators': 273, 'max_depth': 43, 'min_samples_split': 0.0404015171208573, 'min_samples_leaf': 0.11725969792213566, 'max_features': 'auto'}. Best is trial 182 with value: 0.4765840220385675.\n",
      "[I 2024-03-12 09:27:59,476] Trial 270 finished with value: 0.45454545454545453 and parameters: {'n_estimators': 289, 'max_depth': 29, 'min_samples_split': 0.09734010266000394, 'min_samples_leaf': 0.08569379084081839, 'max_features': 'auto'}. Best is trial 182 with value: 0.4765840220385675.\n",
      "[I 2024-03-12 09:28:00,631] Trial 271 finished with value: 0.47107438016528924 and parameters: {'n_estimators': 296, 'max_depth': 27, 'min_samples_split': 0.07870374734567447, 'min_samples_leaf': 0.1004767436178431, 'max_features': 'auto'}. Best is trial 182 with value: 0.4765840220385675.\n",
      "[I 2024-03-12 09:28:02,241] Trial 272 finished with value: 0.4325068870523416 and parameters: {'n_estimators': 296, 'max_depth': 27, 'min_samples_split': 0.12325997098773957, 'min_samples_leaf': 0.022806630158068927, 'max_features': 'auto'}. Best is trial 182 with value: 0.4765840220385675.\n",
      "[I 2024-03-12 09:28:03,153] Trial 273 finished with value: 0.44352617079889806 and parameters: {'n_estimators': 205, 'max_depth': 24, 'min_samples_split': 0.08035276910418314, 'min_samples_leaf': 0.06424536701593804, 'max_features': 'auto'}. Best is trial 182 with value: 0.4765840220385675.\n",
      "[I 2024-03-12 09:28:03,895] Trial 274 finished with value: 0.4049586776859504 and parameters: {'n_estimators': 300, 'max_depth': 26, 'min_samples_split': 0.10158598162550807, 'min_samples_leaf': 0.28675939050338395, 'max_features': 'auto'}. Best is trial 182 with value: 0.4765840220385675.\n",
      "[I 2024-03-12 09:28:05,087] Trial 275 finished with value: 0.4297520661157025 and parameters: {'n_estimators': 296, 'max_depth': 25, 'min_samples_split': 0.14888906112889297, 'min_samples_leaf': 0.11709201492675644, 'max_features': 'auto'}. Best is trial 182 with value: 0.4765840220385675.\n",
      "[I 2024-03-12 09:28:06,777] Trial 276 finished with value: 0.465564738292011 and parameters: {'n_estimators': 292, 'max_depth': 27, 'min_samples_split': 0.18521716896318405, 'min_samples_leaf': 0.08843347731306178, 'max_features': 'auto'}. Best is trial 182 with value: 0.4765840220385675.\n",
      "[I 2024-03-12 09:28:08,687] Trial 277 finished with value: 0.4462809917355372 and parameters: {'n_estimators': 290, 'max_depth': 46, 'min_samples_split': 0.07610394332487895, 'min_samples_leaf': 0.04540116557505236, 'max_features': 'auto'}. Best is trial 182 with value: 0.4765840220385675.\n",
      "[I 2024-03-12 09:28:09,452] Trial 278 finished with value: 0.41597796143250687 and parameters: {'n_estimators': 295, 'max_depth': 41, 'min_samples_split': 0.03299570516423729, 'min_samples_leaf': 0.2502480090087322, 'max_features': 'auto'}. Best is trial 182 with value: 0.4765840220385675.\n",
      "[I 2024-03-12 09:28:10,519] Trial 279 finished with value: 0.46831955922865015 and parameters: {'n_estimators': 286, 'max_depth': 45, 'min_samples_split': 0.11279903893620788, 'min_samples_leaf': 0.10036516792351455, 'max_features': 'auto'}. Best is trial 182 with value: 0.4765840220385675.\n",
      "[I 2024-03-12 09:28:11,372] Trial 280 finished with value: 0.4214876033057851 and parameters: {'n_estimators': 297, 'max_depth': 16, 'min_samples_split': 0.06447902333764569, 'min_samples_leaf': 0.17940514954592862, 'max_features': 'auto'}. Best is trial 182 with value: 0.4765840220385675.\n",
      "[I 2024-03-12 09:28:12,342] Trial 281 finished with value: 0.418732782369146 and parameters: {'n_estimators': 292, 'max_depth': 24, 'min_samples_split': 0.0907464966341272, 'min_samples_leaf': 0.13841644085687044, 'max_features': 'auto'}. Best is trial 182 with value: 0.4765840220385675.\n",
      "[I 2024-03-12 09:28:13,534] Trial 282 finished with value: 0.43526170798898073 and parameters: {'n_estimators': 287, 'max_depth': 27, 'min_samples_split': 0.04608311852316758, 'min_samples_leaf': 0.07567565101294857, 'max_features': 'auto'}. Best is trial 182 with value: 0.4765840220385675.\n",
      "[I 2024-03-12 09:28:14,579] Trial 283 finished with value: 0.4297520661157025 and parameters: {'n_estimators': 300, 'max_depth': 43, 'min_samples_split': 0.16008822850173418, 'min_samples_leaf': 0.11762339227441851, 'max_features': 'auto'}. Best is trial 182 with value: 0.4765840220385675.\n",
      "[I 2024-03-12 09:28:15,632] Trial 284 finished with value: 0.47107438016528924 and parameters: {'n_estimators': 278, 'max_depth': 28, 'min_samples_split': 0.13226211854815753, 'min_samples_leaf': 0.10053823858349102, 'max_features': 'auto'}. Best is trial 182 with value: 0.4765840220385675.\n",
      "[I 2024-03-12 09:28:16,826] Trial 285 finished with value: 0.4462809917355372 and parameters: {'n_estimators': 279, 'max_depth': 28, 'min_samples_split': 0.136573800753921, 'min_samples_leaf': 0.076914341175701, 'max_features': 'auto'}. Best is trial 182 with value: 0.4765840220385675.\n",
      "[I 2024-03-12 09:28:17,753] Trial 286 finished with value: 0.42424242424242425 and parameters: {'n_estimators': 275, 'max_depth': 28, 'min_samples_split': 0.12781547147152605, 'min_samples_leaf': 0.13168457022526858, 'max_features': 'auto'}. Best is trial 182 with value: 0.4765840220385675.\n",
      "[I 2024-03-12 09:28:18,982] Trial 287 finished with value: 0.4628099173553719 and parameters: {'n_estimators': 270, 'max_depth': 26, 'min_samples_split': 0.20106834411725177, 'min_samples_leaf': 0.09871695674852754, 'max_features': 'auto'}. Best is trial 182 with value: 0.4765840220385675.\n",
      "[I 2024-03-12 09:28:20,356] Trial 288 finished with value: 0.418732782369146 and parameters: {'n_estimators': 293, 'max_depth': 29, 'min_samples_split': 0.15814267674474825, 'min_samples_leaf': 0.15326177649021971, 'max_features': 'auto'}. Best is trial 182 with value: 0.4765840220385675.\n",
      "[I 2024-03-12 09:28:22,242] Trial 289 finished with value: 0.44352617079889806 and parameters: {'n_estimators': 297, 'max_depth': 23, 'min_samples_split': 0.10607997126014078, 'min_samples_leaf': 0.05885415720302351, 'max_features': 'auto'}. Best is trial 182 with value: 0.4765840220385675.\n",
      "[I 2024-03-12 09:28:23,263] Trial 290 finished with value: 0.4325068870523416 and parameters: {'n_estimators': 290, 'max_depth': 31, 'min_samples_split': 0.058255554314723984, 'min_samples_leaf': 0.11563406104885494, 'max_features': 'auto'}. Best is trial 182 with value: 0.4765840220385675.\n",
      "[I 2024-03-12 09:28:25,145] Trial 291 finished with value: 0.46831955922865015 and parameters: {'n_estimators': 277, 'max_depth': 27, 'min_samples_split': 0.034132132382728116, 'min_samples_leaf': 0.014700587752516828, 'max_features': 'auto'}. Best is trial 182 with value: 0.4765840220385675.\n",
      "[I 2024-03-12 09:28:26,083] Trial 292 finished with value: 0.45454545454545453 and parameters: {'n_estimators': 217, 'max_depth': 25, 'min_samples_split': 0.133161583588132, 'min_samples_leaf': 0.08036861158551734, 'max_features': 'auto'}. Best is trial 182 with value: 0.4765840220385675.\n",
      "[I 2024-03-12 09:28:27,609] Trial 293 finished with value: 0.4628099173553719 and parameters: {'n_estimators': 281, 'max_depth': 26, 'min_samples_split': 0.08020261227386408, 'min_samples_leaf': 0.03634105665753367, 'max_features': 'auto'}. Best is trial 182 with value: 0.4765840220385675.\n",
      "[I 2024-03-12 09:28:28,683] Trial 294 finished with value: 0.46831955922865015 and parameters: {'n_estimators': 285, 'max_depth': 36, 'min_samples_split': 0.18278647303648055, 'min_samples_leaf': 0.10269857189659289, 'max_features': 'auto'}. Best is trial 182 with value: 0.4765840220385675.\n",
      "[I 2024-03-12 09:28:30,063] Trial 295 finished with value: 0.44077134986225897 and parameters: {'n_estimators': 300, 'max_depth': 28, 'min_samples_split': 0.027880015670352143, 'min_samples_leaf': 0.05968054932972003, 'max_features': 'auto'}. Best is trial 182 with value: 0.4765840220385675.\n",
      "[I 2024-03-12 09:28:31,067] Trial 296 finished with value: 0.42699724517906334 and parameters: {'n_estimators': 294, 'max_depth': 48, 'min_samples_split': 0.11565011733853818, 'min_samples_leaf': 0.13293197979063023, 'max_features': 'auto'}. Best is trial 182 with value: 0.4765840220385675.\n",
      "[I 2024-03-12 09:28:32,388] Trial 297 finished with value: 0.45179063360881544 and parameters: {'n_estimators': 289, 'max_depth': 30, 'min_samples_split': 0.055325335418295506, 'min_samples_leaf': 0.08940621222772102, 'max_features': 'auto'}. Best is trial 182 with value: 0.4765840220385675.\n",
      "[I 2024-03-12 09:28:33,979] Trial 298 finished with value: 0.42699724517906334 and parameters: {'n_estimators': 283, 'max_depth': 27, 'min_samples_split': 0.09318834225582913, 'min_samples_leaf': 0.11530368397005993, 'max_features': 'auto'}. Best is trial 182 with value: 0.4765840220385675.\n",
      "[I 2024-03-12 09:28:35,986] Trial 299 finished with value: 0.4573002754820937 and parameters: {'n_estimators': 292, 'max_depth': 25, 'min_samples_split': 0.07336497575048159, 'min_samples_leaf': 0.08066213933394513, 'max_features': 'auto'}. Best is trial 182 with value: 0.4765840220385675.\n",
      "[I 2024-03-12 09:28:37,076] Trial 300 finished with value: 0.33884297520661155 and parameters: {'n_estimators': 296, 'max_depth': 29, 'min_samples_split': 0.1472341903072886, 'min_samples_leaf': 0.34672448428479963, 'max_features': 'auto'}. Best is trial 182 with value: 0.4765840220385675.\n",
      "[I 2024-03-12 09:28:39,109] Trial 301 finished with value: 0.45179063360881544 and parameters: {'n_estimators': 279, 'max_depth': 33, 'min_samples_split': 0.0446730181324322, 'min_samples_leaf': 0.04678042997265922, 'max_features': 'auto'}. Best is trial 182 with value: 0.4765840220385675.\n",
      "[I 2024-03-12 09:28:40,039] Trial 302 finished with value: 0.4132231404958678 and parameters: {'n_estimators': 287, 'max_depth': 38, 'min_samples_split': 0.11121710364715483, 'min_samples_leaf': 0.14724768535743293, 'max_features': 'auto'}. Best is trial 182 with value: 0.4765840220385675.\n",
      "[I 2024-03-12 09:28:41,110] Trial 303 finished with value: 0.47107438016528924 and parameters: {'n_estimators': 275, 'max_depth': 28, 'min_samples_split': 0.06722764345202036, 'min_samples_leaf': 0.09996394215958256, 'max_features': 'auto'}. Best is trial 182 with value: 0.4765840220385675.\n",
      "[I 2024-03-12 09:28:42,308] Trial 304 finished with value: 0.44352617079889806 and parameters: {'n_estimators': 273, 'max_depth': 27, 'min_samples_split': 0.07210516654962902, 'min_samples_leaf': 0.0689043692249464, 'max_features': 'auto'}. Best is trial 182 with value: 0.4765840220385675.\n",
      "[I 2024-03-12 09:28:43,384] Trial 305 finished with value: 0.4573002754820937 and parameters: {'n_estimators': 290, 'max_depth': 26, 'min_samples_split': 0.025754728680330748, 'min_samples_leaf': 0.10559917275104501, 'max_features': 'auto'}. Best is trial 182 with value: 0.4765840220385675.\n",
      "[I 2024-03-12 09:28:44,403] Trial 306 finished with value: 0.42424242424242425 and parameters: {'n_estimators': 300, 'max_depth': 28, 'min_samples_split': 0.05508068340349752, 'min_samples_leaf': 0.12449801069108896, 'max_features': 'auto'}. Best is trial 182 with value: 0.4765840220385675.\n",
      "[I 2024-03-12 09:28:45,579] Trial 307 finished with value: 0.45179063360881544 and parameters: {'n_estimators': 294, 'max_depth': 34, 'min_samples_split': 0.08564127484282272, 'min_samples_leaf': 0.08420582156099019, 'max_features': 'auto'}. Best is trial 182 with value: 0.4765840220385675.\n",
      "[I 2024-03-12 09:28:46,689] Trial 308 finished with value: 0.47107438016528924 and parameters: {'n_estimators': 284, 'max_depth': 35, 'min_samples_split': 0.06539643079510452, 'min_samples_leaf': 0.09629221321000572, 'max_features': 'auto'}. Best is trial 182 with value: 0.4765840220385675.\n",
      "[I 2024-03-12 09:28:47,787] Trial 309 finished with value: 0.4380165289256198 and parameters: {'n_estimators': 283, 'max_depth': 37, 'min_samples_split': 0.35373185996145684, 'min_samples_leaf': 0.06003184754196603, 'max_features': 'auto'}. Best is trial 182 with value: 0.4765840220385675.\n",
      "[I 2024-03-12 09:28:48,955] Trial 310 finished with value: 0.4214876033057851 and parameters: {'n_estimators': 269, 'max_depth': 36, 'min_samples_split': 0.03912978898934846, 'min_samples_leaf': 0.16850355437813613, 'max_features': 'auto'}. Best is trial 182 with value: 0.4765840220385675.\n",
      "[I 2024-03-12 09:28:50,152] Trial 311 finished with value: 0.4628099173553719 and parameters: {'n_estimators': 212, 'max_depth': 35, 'min_samples_split': 0.0562280541385978, 'min_samples_leaf': 0.09643033370472892, 'max_features': 'auto'}. Best is trial 182 with value: 0.4765840220385675.\n",
      "[I 2024-03-12 09:28:51,971] Trial 312 finished with value: 0.45179063360881544 and parameters: {'n_estimators': 275, 'max_depth': 28, 'min_samples_split': 0.0981456514146976, 'min_samples_leaf': 0.03402194620014351, 'max_features': 'auto'}. Best is trial 182 with value: 0.4765840220385675.\n",
      "[I 2024-03-12 09:28:52,826] Trial 313 finished with value: 0.41597796143250687 and parameters: {'n_estimators': 286, 'max_depth': 35, 'min_samples_split': 0.45357893259299975, 'min_samples_leaf': 0.1256873571556234, 'max_features': 'auto'}. Best is trial 182 with value: 0.4765840220385675.\n",
      "[I 2024-03-12 09:28:54,058] Trial 314 finished with value: 0.4380165289256198 and parameters: {'n_estimators': 297, 'max_depth': 42, 'min_samples_split': 0.02345334949193214, 'min_samples_leaf': 0.07409499518379584, 'max_features': 'auto'}. Best is trial 182 with value: 0.4765840220385675.\n",
      "[I 2024-03-12 09:28:55,070] Trial 315 finished with value: 0.45179063360881544 and parameters: {'n_estimators': 280, 'max_depth': 24, 'min_samples_split': 0.06723247337790976, 'min_samples_leaf': 0.10881922526901437, 'max_features': 'auto'}. Best is trial 182 with value: 0.4765840220385675.\n",
      "[I 2024-03-12 09:28:56,040] Trial 316 finished with value: 0.42424242424242425 and parameters: {'n_estimators': 292, 'max_depth': 26, 'min_samples_split': 0.04233935417750383, 'min_samples_leaf': 0.1417478558785405, 'max_features': 'auto'}. Best is trial 182 with value: 0.4765840220385675.\n",
      "[I 2024-03-12 09:28:56,555] Trial 317 finished with value: 0.4573002754820937 and parameters: {'n_estimators': 122, 'max_depth': 32, 'min_samples_split': 0.09656141967961732, 'min_samples_leaf': 0.0882193653208288, 'max_features': 'auto'}. Best is trial 182 with value: 0.4765840220385675.\n",
      "[I 2024-03-12 09:28:57,979] Trial 318 finished with value: 0.4380165289256198 and parameters: {'n_estimators': 289, 'max_depth': 30, 'min_samples_split': 0.07551490429873434, 'min_samples_leaf': 0.04963383669440817, 'max_features': 'auto'}. Best is trial 182 with value: 0.4765840220385675.\n",
      "[I 2024-03-12 09:28:58,949] Trial 319 finished with value: 0.4325068870523416 and parameters: {'n_estimators': 282, 'max_depth': 27, 'min_samples_split': 0.010062022524668028, 'min_samples_leaf': 0.11922379636518747, 'max_features': 'auto'}. Best is trial 182 with value: 0.4765840220385675.\n",
      "[I 2024-03-12 09:28:59,507] Trial 320 finished with value: 0.33884297520661155 and parameters: {'n_estimators': 296, 'max_depth': 34, 'min_samples_split': 0.11884164697809249, 'min_samples_leaf': 0.6858300798435877, 'max_features': 'auto'}. Best is trial 182 with value: 0.4765840220385675.\n",
      "[I 2024-03-12 09:29:00,788] Trial 321 finished with value: 0.44077134986225897 and parameters: {'n_estimators': 285, 'max_depth': 28, 'min_samples_split': 0.05624057121423995, 'min_samples_leaf': 0.06813599217278749, 'max_features': 'auto'}. Best is trial 182 with value: 0.4765840220385675.\n",
      "[I 2024-03-12 09:29:01,844] Trial 322 finished with value: 0.4132231404958678 and parameters: {'n_estimators': 292, 'max_depth': 25, 'min_samples_split': 0.08640767607306521, 'min_samples_leaf': 0.1956648133844901, 'max_features': 'auto'}. Best is trial 182 with value: 0.4765840220385675.\n",
      "[I 2024-03-12 09:29:03,518] Trial 323 finished with value: 0.47107438016528924 and parameters: {'n_estimators': 300, 'max_depth': 29, 'min_samples_split': 0.03181283153053949, 'min_samples_leaf': 0.09810739158727928, 'max_features': 'auto'}. Best is trial 182 with value: 0.4765840220385675.\n",
      "[I 2024-03-12 09:29:06,089] Trial 324 finished with value: 0.4738292011019284 and parameters: {'n_estimators': 298, 'max_depth': 29, 'min_samples_split': 0.029120645515730584, 'min_samples_leaf': 0.01165981624290033, 'max_features': 'auto'}. Best is trial 182 with value: 0.4765840220385675.\n",
      "[I 2024-03-12 09:29:08,261] Trial 325 finished with value: 0.46831955922865015 and parameters: {'n_estimators': 299, 'max_depth': 30, 'min_samples_split': 0.027726942666911177, 'min_samples_leaf': 0.011479899352139389, 'max_features': 'auto'}. Best is trial 182 with value: 0.4765840220385675.\n",
      "[I 2024-03-12 09:29:09,885] Trial 326 finished with value: 0.4628099173553719 and parameters: {'n_estimators': 300, 'max_depth': 31, 'min_samples_split': 0.03146083487892417, 'min_samples_leaf': 0.03251974043303105, 'max_features': 'auto'}. Best is trial 182 with value: 0.4765840220385675.\n",
      "[I 2024-03-12 09:29:11,384] Trial 327 finished with value: 0.45179063360881544 and parameters: {'n_estimators': 296, 'max_depth': 29, 'min_samples_split': 0.04512304948099947, 'min_samples_leaf': 0.045330508819584885, 'max_features': 'auto'}. Best is trial 182 with value: 0.4765840220385675.\n",
      "[I 2024-03-12 09:29:12,916] Trial 328 finished with value: 0.4490358126721763 and parameters: {'n_estimators': 296, 'max_depth': 30, 'min_samples_split': 0.027119282728079817, 'min_samples_leaf': 0.0384471100922693, 'max_features': 'auto'}. Best is trial 182 with value: 0.4765840220385675.\n",
      "[I 2024-03-12 09:29:15,156] Trial 329 finished with value: 0.4765840220385675 and parameters: {'n_estimators': 295, 'max_depth': 31, 'min_samples_split': 0.012024959472235874, 'min_samples_leaf': 0.01110762524534128, 'max_features': 'auto'}. Best is trial 182 with value: 0.4765840220385675.\n",
      "[I 2024-03-12 09:29:17,559] Trial 330 finished with value: 0.4573002754820937 and parameters: {'n_estimators': 293, 'max_depth': 33, 'min_samples_split': 0.014013487014305614, 'min_samples_leaf': 0.03011854448531253, 'max_features': 'auto'}. Best is trial 182 with value: 0.4765840220385675.\n",
      "[I 2024-03-12 09:29:18,421] Trial 331 finished with value: 0.33884297520661155 and parameters: {'n_estimators': 290, 'max_depth': 31, 'min_samples_split': 0.9149175460077295, 'min_samples_leaf': 0.01378863308160791, 'max_features': 'auto'}. Best is trial 182 with value: 0.4765840220385675.\n",
      "[I 2024-03-12 09:29:20,385] Trial 332 finished with value: 0.44352617079889806 and parameters: {'n_estimators': 294, 'max_depth': 36, 'min_samples_split': 0.05514274531239744, 'min_samples_leaf': 0.013834410487293575, 'max_features': 'auto'}. Best is trial 182 with value: 0.4765840220385675.\n",
      "[I 2024-03-12 09:29:21,931] Trial 333 finished with value: 0.45454545454545453 and parameters: {'n_estimators': 296, 'max_depth': 34, 'min_samples_split': 0.06725293474702432, 'min_samples_leaf': 0.0372639959138383, 'max_features': 'auto'}. Best is trial 182 with value: 0.4765840220385675.\n",
      "[I 2024-03-12 09:29:22,359] Trial 334 finished with value: 0.41046831955922863 and parameters: {'n_estimators': 136, 'max_depth': 37, 'min_samples_split': 0.5863896359335712, 'min_samples_leaf': 0.012010394847099785, 'max_features': 'auto'}. Best is trial 182 with value: 0.4765840220385675.\n",
      "[I 2024-03-12 09:29:23,696] Trial 335 finished with value: 0.4380165289256198 and parameters: {'n_estimators': 290, 'max_depth': 29, 'min_samples_split': 0.013484866333733886, 'min_samples_leaf': 0.055175860166206105, 'max_features': 'auto'}. Best is trial 182 with value: 0.4765840220385675.\n",
      "[I 2024-03-12 09:29:25,739] Trial 336 finished with value: 0.45454545454545453 and parameters: {'n_estimators': 293, 'max_depth': 31, 'min_samples_split': 0.04758229235689583, 'min_samples_leaf': 0.011396321738533733, 'max_features': 'auto'}. Best is trial 182 with value: 0.4765840220385675.\n",
      "[I 2024-03-12 09:29:27,035] Trial 337 finished with value: 0.45454545454545453 and parameters: {'n_estimators': 288, 'max_depth': 32, 'min_samples_split': 0.06867020748269398, 'min_samples_leaf': 0.06518188888019401, 'max_features': 'auto'}. Best is trial 182 with value: 0.4765840220385675.\n",
      "[I 2024-03-12 09:29:27,459] Trial 338 finished with value: 0.4132231404958678 and parameters: {'n_estimators': 153, 'max_depth': 30, 'min_samples_split': 0.04621173677752559, 'min_samples_leaf': 0.2260624006225681, 'max_features': 'auto'}. Best is trial 182 with value: 0.4765840220385675.\n",
      "[I 2024-03-12 09:29:29,225] Trial 339 finished with value: 0.46005509641873277 and parameters: {'n_estimators': 300, 'max_depth': 5, 'min_samples_split': 0.08040963402743713, 'min_samples_leaf': 0.030328335250335216, 'max_features': 'auto'}. Best is trial 182 with value: 0.4765840220385675.\n",
      "[I 2024-03-12 09:29:31,038] Trial 340 finished with value: 0.4380165289256198 and parameters: {'n_estimators': 295, 'max_depth': 44, 'min_samples_split': 0.010776105574866478, 'min_samples_leaf': 0.07376948293721042, 'max_features': 'auto'}. Best is trial 182 with value: 0.4765840220385675.\n",
      "[I 2024-03-12 09:29:32,794] Trial 341 finished with value: 0.4462809917355372 and parameters: {'n_estimators': 288, 'max_depth': 28, 'min_samples_split': 0.03947023012421361, 'min_samples_leaf': 0.053599423947512145, 'max_features': 'auto'}. Best is trial 182 with value: 0.4765840220385675.\n",
      "[I 2024-03-12 09:29:33,982] Trial 342 finished with value: 0.45454545454545453 and parameters: {'n_estimators': 292, 'max_depth': 35, 'min_samples_split': 0.0994087160581541, 'min_samples_leaf': 0.08459823955510629, 'max_features': 'auto'}. Best is trial 182 with value: 0.4765840220385675.\n",
      "[I 2024-03-12 09:29:34,874] Trial 343 finished with value: 0.418732782369146 and parameters: {'n_estimators': 297, 'max_depth': 29, 'min_samples_split': 0.06263876243714948, 'min_samples_leaf': 0.15682027158124207, 'max_features': 'auto'}. Best is trial 182 with value: 0.4765840220385675.\n",
      "[I 2024-03-12 09:29:35,864] Trial 344 finished with value: 0.4297520661157025 and parameters: {'n_estimators': 285, 'max_depth': 43, 'min_samples_split': 0.03331982739277196, 'min_samples_leaf': 0.12736333209823716, 'max_features': 'auto'}. Best is trial 182 with value: 0.4765840220385675.\n",
      "[I 2024-03-12 09:29:36,946] Trial 345 finished with value: 0.4573002754820937 and parameters: {'n_estimators': 291, 'max_depth': 30, 'min_samples_split': 0.08638698629217267, 'min_samples_leaf': 0.10671797581909674, 'max_features': 'auto'}. Best is trial 182 with value: 0.4765840220385675.\n",
      "[I 2024-03-12 09:29:38,657] Trial 346 finished with value: 0.4573002754820937 and parameters: {'n_estimators': 297, 'max_depth': 28, 'min_samples_split': 0.06372744720051055, 'min_samples_leaf': 0.02958791159502909, 'max_features': 'auto'}. Best is trial 182 with value: 0.4765840220385675.\n",
      "[I 2024-03-12 09:29:39,802] Trial 347 finished with value: 0.45179063360881544 and parameters: {'n_estimators': 287, 'max_depth': 39, 'min_samples_split': 0.04805077713641586, 'min_samples_leaf': 0.08516011346871796, 'max_features': 'auto'}. Best is trial 182 with value: 0.4765840220385675.\n",
      "[I 2024-03-12 09:29:41,091] Trial 348 finished with value: 0.45454545454545453 and parameters: {'n_estimators': 293, 'max_depth': 29, 'min_samples_split': 0.09872874530038275, 'min_samples_leaf': 0.06358857781374193, 'max_features': 'auto'}. Best is trial 182 with value: 0.4765840220385675.\n",
      "[I 2024-03-12 09:29:41,532] Trial 349 finished with value: 0.33884297520661155 and parameters: {'n_estimators': 225, 'max_depth': 45, 'min_samples_split': 0.07134631630265736, 'min_samples_leaf': 0.37988729171939317, 'max_features': 'auto'}. Best is trial 182 with value: 0.4765840220385675.\n",
      "[I 2024-03-12 09:29:42,623] Trial 350 finished with value: 0.42699724517906334 and parameters: {'n_estimators': 282, 'max_depth': 41, 'min_samples_split': 0.03116039698550297, 'min_samples_leaf': 0.11798874218630467, 'max_features': 'auto'}. Best is trial 182 with value: 0.4765840220385675.\n",
      "[I 2024-03-12 09:29:44,746] Trial 351 finished with value: 0.4462809917355372 and parameters: {'n_estimators': 300, 'max_depth': 44, 'min_samples_split': 0.11562700428529149, 'min_samples_leaf': 0.04543064073530805, 'max_features': 'auto'}. Best is trial 182 with value: 0.4765840220385675.\n",
      "[I 2024-03-12 09:29:45,617] Trial 352 finished with value: 0.33884297520661155 and parameters: {'n_estimators': 289, 'max_depth': 42, 'min_samples_split': 0.05547017911963495, 'min_samples_leaf': 0.5825760400429836, 'max_features': 'auto'}. Best is trial 182 with value: 0.4765840220385675.\n",
      "[I 2024-03-12 09:29:46,641] Trial 353 finished with value: 0.40771349862258954 and parameters: {'n_estimators': 295, 'max_depth': 33, 'min_samples_split': 0.5246952410705725, 'min_samples_leaf': 0.08324727289675951, 'max_features': 'auto'}. Best is trial 182 with value: 0.4765840220385675.\n",
      "[I 2024-03-12 09:29:47,562] Trial 354 finished with value: 0.418732782369146 and parameters: {'n_estimators': 279, 'max_depth': 28, 'min_samples_split': 0.012130158122407064, 'min_samples_leaf': 0.1394268801503644, 'max_features': 'auto'}. Best is trial 182 with value: 0.4765840220385675.\n",
      "[I 2024-03-12 09:29:48,623] Trial 355 finished with value: 0.47107438016528924 and parameters: {'n_estimators': 287, 'max_depth': 32, 'min_samples_split': 0.08071277776801385, 'min_samples_leaf': 0.10001042731889981, 'max_features': 'auto'}. Best is trial 182 with value: 0.4765840220385675.\n",
      "[I 2024-03-12 09:29:49,887] Trial 356 finished with value: 0.44352617079889806 and parameters: {'n_estimators': 292, 'max_depth': 37, 'min_samples_split': 0.030790632786911888, 'min_samples_leaf': 0.0678417452349035, 'max_features': 'auto'}. Best is trial 182 with value: 0.4765840220385675.\n",
      "[I 2024-03-12 09:29:50,909] Trial 357 finished with value: 0.4325068870523416 and parameters: {'n_estimators': 284, 'max_depth': 29, 'min_samples_split': 0.10555394948881924, 'min_samples_leaf': 0.1102955701818082, 'max_features': 'auto'}. Best is trial 182 with value: 0.4765840220385675.\n",
      "[I 2024-03-12 09:29:52,339] Trial 358 finished with value: 0.4380165289256198 and parameters: {'n_estimators': 300, 'max_depth': 31, 'min_samples_split': 0.048646813392929845, 'min_samples_leaf': 0.04960982997214437, 'max_features': 'auto'}. Best is trial 182 with value: 0.4765840220385675.\n",
      "[I 2024-03-12 09:29:52,895] Trial 359 finished with value: 0.33884297520661155 and parameters: {'n_estimators': 296, 'max_depth': 35, 'min_samples_split': 0.08676061089511315, 'min_samples_leaf': 0.497930740069156, 'max_features': 'auto'}. Best is trial 182 with value: 0.4765840220385675.\n",
      "[I 2024-03-12 09:29:53,940] Trial 360 finished with value: 0.465564738292011 and parameters: {'n_estimators': 276, 'max_depth': 30, 'min_samples_split': 0.06577847861309621, 'min_samples_leaf': 0.09619224649311678, 'max_features': 'auto'}. Best is trial 182 with value: 0.4765840220385675.\n",
      "[I 2024-03-12 09:29:54,894] Trial 361 finished with value: 0.42424242424242425 and parameters: {'n_estimators': 290, 'max_depth': 27, 'min_samples_split': 0.12547053511819614, 'min_samples_leaf': 0.13346924400231572, 'max_features': 'auto'}. Best is trial 182 with value: 0.4765840220385675.\n",
      "[I 2024-03-12 09:29:55,287] Trial 362 finished with value: 0.33884297520661155 and parameters: {'n_estimators': 197, 'max_depth': 26, 'min_samples_split': 0.043201353410989754, 'min_samples_leaf': 0.8347334038224552, 'max_features': 'auto'}. Best is trial 182 with value: 0.4765840220385675.\n",
      "[I 2024-03-12 09:29:56,691] Trial 363 finished with value: 0.45454545454545453 and parameters: {'n_estimators': 284, 'max_depth': 38, 'min_samples_split': 0.010208433152218588, 'min_samples_leaf': 0.07863161574539798, 'max_features': 'auto'}. Best is trial 182 with value: 0.4765840220385675.\n",
      "[I 2024-03-12 09:29:58,048] Trial 364 finished with value: 0.4214876033057851 and parameters: {'n_estimators': 293, 'max_depth': 43, 'min_samples_split': 0.08460355234892789, 'min_samples_leaf': 0.16393941516075822, 'max_features': 'auto'}. Best is trial 182 with value: 0.4765840220385675.\n",
      "[I 2024-03-12 09:29:59,500] Trial 365 finished with value: 0.4490358126721763 and parameters: {'n_estimators': 170, 'max_depth': 27, 'min_samples_split': 0.06299733915247356, 'min_samples_leaf': 0.029092498015775656, 'max_features': 'auto'}. Best is trial 182 with value: 0.4765840220385675.\n",
      "[I 2024-03-12 09:30:00,600] Trial 366 finished with value: 0.4325068870523416 and parameters: {'n_estimators': 280, 'max_depth': 8, 'min_samples_split': 0.03357716399486153, 'min_samples_leaf': 0.11739405038328982, 'max_features': 'auto'}. Best is trial 182 with value: 0.4765840220385675.\n",
      "[I 2024-03-12 09:30:01,826] Trial 367 finished with value: 0.45454545454545453 and parameters: {'n_estimators': 297, 'max_depth': 28, 'min_samples_split': 0.10749142858204304, 'min_samples_leaf': 0.08971762411673888, 'max_features': 'auto'}. Best is trial 182 with value: 0.4765840220385675.\n",
      "[I 2024-03-12 09:30:02,233] Trial 368 finished with value: 0.33884297520661155 and parameters: {'n_estimators': 187, 'max_depth': 45, 'min_samples_split': 0.6963095606317399, 'min_samples_leaf': 0.06505172602689507, 'max_features': 'auto'}. Best is trial 182 with value: 0.4765840220385675.\n",
      "[I 2024-03-12 09:30:03,184] Trial 369 finished with value: 0.418732782369146 and parameters: {'n_estimators': 290, 'max_depth': 29, 'min_samples_split': 0.07290271285342291, 'min_samples_leaf': 0.14568813761666022, 'max_features': 'auto'}. Best is trial 182 with value: 0.4765840220385675.\n",
      "[I 2024-03-12 09:30:04,245] Trial 370 finished with value: 0.4462809917355372 and parameters: {'n_estimators': 288, 'max_depth': 34, 'min_samples_split': 0.02675548927189494, 'min_samples_leaf': 0.10775913366735747, 'max_features': 'auto'}. Best is trial 182 with value: 0.4765840220385675.\n",
      "[I 2024-03-12 09:30:05,727] Trial 371 finished with value: 0.45179063360881544 and parameters: {'n_estimators': 295, 'max_depth': 30, 'min_samples_split': 0.04711411858679896, 'min_samples_leaf': 0.044083954445306814, 'max_features': 'auto'}. Best is trial 182 with value: 0.4765840220385675.\n",
      "[I 2024-03-12 09:30:06,901] Trial 372 finished with value: 0.45454545454545453 and parameters: {'n_estimators': 284, 'max_depth': 28, 'min_samples_split': 0.10385854972937181, 'min_samples_leaf': 0.0782124576351486, 'max_features': 'auto'}. Best is trial 182 with value: 0.4765840220385675.\n",
      "[I 2024-03-12 09:30:08,215] Trial 373 finished with value: 0.46005509641873277 and parameters: {'n_estimators': 233, 'max_depth': 44, 'min_samples_split': 0.08807897048655237, 'min_samples_leaf': 0.02517178506275397, 'max_features': 'auto'}. Best is trial 182 with value: 0.4765840220385675.\n",
      "[I 2024-03-12 09:30:09,160] Trial 374 finished with value: 0.4297520661157025 and parameters: {'n_estimators': 272, 'max_depth': 32, 'min_samples_split': 0.05339326587850091, 'min_samples_leaf': 0.12206197381010256, 'max_features': 'auto'}. Best is trial 182 with value: 0.4765840220385675.\n",
      "[I 2024-03-12 09:30:10,568] Trial 375 finished with value: 0.47107438016528924 and parameters: {'n_estimators': 300, 'max_depth': 27, 'min_samples_split': 0.12979235526395835, 'min_samples_leaf': 0.09496203317478491, 'max_features': 'auto'}. Best is trial 182 with value: 0.4765840220385675.\n",
      "[I 2024-03-12 09:30:13,300] Trial 376 finished with value: 0.45454545454545453 and parameters: {'n_estimators': 293, 'max_depth': 31, 'min_samples_split': 0.07445711759858534, 'min_samples_leaf': 0.012806101564951376, 'max_features': 'auto'}. Best is trial 182 with value: 0.4765840220385675.\n",
      "[I 2024-03-12 09:30:14,713] Trial 377 finished with value: 0.4490358126721763 and parameters: {'n_estimators': 287, 'max_depth': 29, 'min_samples_split': 0.026907131186118746, 'min_samples_leaf': 0.06031969965709443, 'max_features': 'auto'}. Best is trial 182 with value: 0.4765840220385675.\n",
      "[I 2024-03-12 09:30:15,656] Trial 378 finished with value: 0.4214876033057851 and parameters: {'n_estimators': 279, 'max_depth': 40, 'min_samples_split': 0.059430851519796386, 'min_samples_leaf': 0.13325207895922686, 'max_features': 'auto'}. Best is trial 182 with value: 0.4765840220385675.\n",
      "[I 2024-03-12 09:30:16,763] Trial 379 finished with value: 0.4765840220385675 and parameters: {'n_estimators': 291, 'max_depth': 26, 'min_samples_split': 0.09816436028943706, 'min_samples_leaf': 0.10358804079624873, 'max_features': 'auto'}. Best is trial 182 with value: 0.4765840220385675.\n",
      "[I 2024-03-12 09:30:17,807] Trial 380 finished with value: 0.4297520661157025 and parameters: {'n_estimators': 296, 'max_depth': 23, 'min_samples_split': 0.1132016136877224, 'min_samples_leaf': 0.11255955176629939, 'max_features': 'auto'}. Best is trial 182 with value: 0.4765840220385675.\n",
      "[I 2024-03-12 09:30:18,983] Trial 381 finished with value: 0.46005509641873277 and parameters: {'n_estimators': 291, 'max_depth': 24, 'min_samples_split': 0.13007186263705353, 'min_samples_leaf': 0.08030490024048705, 'max_features': 'auto'}. Best is trial 182 with value: 0.4765840220385675.\n",
      "[I 2024-03-12 09:30:19,923] Trial 382 finished with value: 0.41597796143250687 and parameters: {'n_estimators': 300, 'max_depth': 25, 'min_samples_split': 0.09584884967902942, 'min_samples_leaf': 0.15448860822395338, 'max_features': 'auto'}. Best is trial 182 with value: 0.4765840220385675.\n",
      "[I 2024-03-12 09:30:20,772] Trial 383 finished with value: 0.4132231404958678 and parameters: {'n_estimators': 295, 'max_depth': 26, 'min_samples_split': 0.09256135344080303, 'min_samples_leaf': 0.179878221786269, 'max_features': 'auto'}. Best is trial 182 with value: 0.4765840220385675.\n",
      "[I 2024-03-12 09:30:21,317] Trial 384 finished with value: 0.33884297520661155 and parameters: {'n_estimators': 290, 'max_depth': 27, 'min_samples_split': 0.9494174840037294, 'min_samples_leaf': 0.05602064513320341, 'max_features': 'auto'}. Best is trial 182 with value: 0.4765840220385675.\n",
      "[I 2024-03-12 09:30:21,885] Trial 385 finished with value: 0.33884297520661155 and parameters: {'n_estimators': 297, 'max_depth': 25, 'min_samples_split': 0.11690839644085944, 'min_samples_leaf': 0.42449611174467544, 'max_features': 'auto'}. Best is trial 182 with value: 0.4765840220385675.\n",
      "[I 2024-03-12 09:30:22,905] Trial 386 finished with value: 0.42424242424242425 and parameters: {'n_estimators': 293, 'max_depth': 26, 'min_samples_split': 0.010437088903850074, 'min_samples_leaf': 0.1256356036939421, 'max_features': 'auto'}. Best is trial 182 with value: 0.4765840220385675.\n",
      "[I 2024-03-12 09:30:24,250] Trial 387 finished with value: 0.46831955922865015 and parameters: {'n_estimators': 287, 'max_depth': 42, 'min_samples_split': 0.1409900382458036, 'min_samples_leaf': 0.09724804532347953, 'max_features': 'auto'}. Best is trial 182 with value: 0.4765840220385675.\n",
      "[I 2024-03-12 09:30:25,966] Trial 388 finished with value: 0.4380165289256198 and parameters: {'n_estimators': 266, 'max_depth': 28, 'min_samples_split': 0.04434574244214821, 'min_samples_leaf': 0.07285812378369826, 'max_features': 'auto'}. Best is trial 182 with value: 0.4765840220385675.\n",
      "[I 2024-03-12 09:30:27,420] Trial 389 finished with value: 0.4325068870523416 and parameters: {'n_estimators': 291, 'max_depth': 30, 'min_samples_split': 0.0821455841496811, 'min_samples_leaf': 0.11265280773830923, 'max_features': 'auto'}. Best is trial 182 with value: 0.4765840220385675.\n",
      "[I 2024-03-12 09:30:28,593] Trial 390 finished with value: 0.45454545454545453 and parameters: {'n_estimators': 297, 'max_depth': 43, 'min_samples_split': 0.037112498115128775, 'min_samples_leaf': 0.08523468224938546, 'max_features': 'auto'}. Best is trial 182 with value: 0.4765840220385675.\n",
      "[I 2024-03-12 09:30:29,139] Trial 391 finished with value: 0.33884297520661155 and parameters: {'n_estimators': 286, 'max_depth': 27, 'min_samples_split': 0.8759217062697034, 'min_samples_leaf': 0.04823122704177469, 'max_features': 'auto'}. Best is trial 182 with value: 0.4765840220385675.\n",
      "[I 2024-03-12 09:30:30,133] Trial 392 finished with value: 0.418732782369146 and parameters: {'n_estimators': 300, 'max_depth': 23, 'min_samples_split': 0.0696445897827085, 'min_samples_leaf': 0.13774849160519143, 'max_features': 'auto'}. Best is trial 182 with value: 0.4765840220385675.\n",
      "[I 2024-03-12 09:30:31,186] Trial 393 finished with value: 0.4628099173553719 and parameters: {'n_estimators': 282, 'max_depth': 45, 'min_samples_split': 0.10088292463138701, 'min_samples_leaf': 0.1048834833415689, 'max_features': 'auto'}. Best is trial 182 with value: 0.4765840220385675.\n",
      "[I 2024-03-12 09:30:33,263] Trial 394 finished with value: 0.4738292011019284 and parameters: {'n_estimators': 293, 'max_depth': 29, 'min_samples_split': 0.02723396632919081, 'min_samples_leaf': 0.012537984101911856, 'max_features': 'auto'}. Best is trial 182 with value: 0.4765840220385675.\n",
      "[I 2024-03-12 09:30:35,329] Trial 395 finished with value: 0.47107438016528924 and parameters: {'n_estimators': 293, 'max_depth': 30, 'min_samples_split': 0.011241292046892865, 'min_samples_leaf': 0.013851227765527985, 'max_features': 'auto'}. Best is trial 182 with value: 0.4765840220385675.\n",
      "[I 2024-03-12 09:30:37,638] Trial 396 finished with value: 0.47107438016528924 and parameters: {'n_estimators': 290, 'max_depth': 31, 'min_samples_split': 0.02853788204473949, 'min_samples_leaf': 0.01095066631527321, 'max_features': 'auto'}. Best is trial 182 with value: 0.4765840220385675.\n",
      "[I 2024-03-12 09:30:39,989] Trial 397 finished with value: 0.46005509641873277 and parameters: {'n_estimators': 296, 'max_depth': 14, 'min_samples_split': 0.027240030799340065, 'min_samples_leaf': 0.033423129769579125, 'max_features': 'auto'}. Best is trial 182 with value: 0.4765840220385675.\n",
      "[I 2024-03-12 09:30:41,917] Trial 398 finished with value: 0.465564738292011 and parameters: {'n_estimators': 294, 'max_depth': 29, 'min_samples_split': 0.042654469802107874, 'min_samples_leaf': 0.03227270675681257, 'max_features': 'auto'}. Best is trial 182 with value: 0.4765840220385675.\n",
      "[I 2024-03-12 09:30:43,554] Trial 399 finished with value: 0.45179063360881544 and parameters: {'n_estimators': 288, 'max_depth': 25, 'min_samples_split': 0.05025797234026104, 'min_samples_leaf': 0.03117501850962389, 'max_features': 'auto'}. Best is trial 182 with value: 0.4765840220385675.\n",
      "[I 2024-03-12 09:30:44,957] Trial 400 finished with value: 0.44077134986225897 and parameters: {'n_estimators': 293, 'max_depth': 29, 'min_samples_split': 0.03523739776619123, 'min_samples_leaf': 0.05022388396698408, 'max_features': 'auto'}. Best is trial 182 with value: 0.4765840220385675.\n",
      "[I 2024-03-12 09:30:46,754] Trial 401 finished with value: 0.45454545454545453 and parameters: {'n_estimators': 300, 'max_depth': 46, 'min_samples_split': 0.12359681140051612, 'min_samples_leaf': 0.010600461570807462, 'max_features': 'auto'}. Best is trial 182 with value: 0.4765840220385675.\n",
      "[I 2024-03-12 09:30:48,068] Trial 402 finished with value: 0.45454545454545453 and parameters: {'n_estimators': 289, 'max_depth': 44, 'min_samples_split': 0.010301678594872115, 'min_samples_leaf': 0.06489024613893793, 'max_features': 'auto'}. Best is trial 182 with value: 0.4765840220385675.\n",
      "[I 2024-03-12 09:30:49,531] Trial 403 finished with value: 0.45454545454545453 and parameters: {'n_estimators': 296, 'max_depth': 26, 'min_samples_split': 0.056857007489455734, 'min_samples_leaf': 0.04484871736089584, 'max_features': 'auto'}. Best is trial 182 with value: 0.4765840220385675.\n",
      "[I 2024-03-12 09:30:50,540] Trial 404 finished with value: 0.4297520661157025 and parameters: {'n_estimators': 285, 'max_depth': 28, 'min_samples_split': 0.30221536146241645, 'min_samples_leaf': 0.07893496849932682, 'max_features': 'auto'}. Best is trial 182 with value: 0.4765840220385675.\n",
      "[I 2024-03-12 09:30:51,251] Trial 405 finished with value: 0.33884297520661155 and parameters: {'n_estimators': 291, 'max_depth': 30, 'min_samples_split': 0.08527890087232086, 'min_samples_leaf': 0.7248619640858829, 'max_features': 'auto'}. Best is trial 182 with value: 0.4765840220385675.\n",
      "[I 2024-03-12 09:30:53,662] Trial 406 finished with value: 0.4490358126721763 and parameters: {'n_estimators': 297, 'max_depth': 41, 'min_samples_split': 0.028431296421672234, 'min_samples_leaf': 0.02938420148216244, 'max_features': 'auto'}. Best is trial 182 with value: 0.4765840220385675.\n",
      "[I 2024-03-12 09:30:54,539] Trial 407 finished with value: 0.33884297520661155 and parameters: {'n_estimators': 287, 'max_depth': 27, 'min_samples_split': 0.10222007102152171, 'min_samples_leaf': 0.5218173388568824, 'max_features': 'auto'}. Best is trial 182 with value: 0.4765840220385675.\n",
      "[I 2024-03-12 09:30:55,638] Trial 408 finished with value: 0.4380165289256198 and parameters: {'n_estimators': 245, 'max_depth': 31, 'min_samples_split': 0.14685414769515098, 'min_samples_leaf': 0.05691839762051324, 'max_features': 'auto'}. Best is trial 182 with value: 0.4765840220385675.\n",
      "[I 2024-03-12 09:30:56,721] Trial 409 finished with value: 0.4297520661157025 and parameters: {'n_estimators': 293, 'max_depth': 43, 'min_samples_split': 0.055305757044694086, 'min_samples_leaf': 0.1214813571018871, 'max_features': 'auto'}. Best is trial 182 with value: 0.4765840220385675.\n",
      "[I 2024-03-12 09:30:57,970] Trial 410 finished with value: 0.45454545454545453 and parameters: {'n_estimators': 300, 'max_depth': 29, 'min_samples_split': 0.07672549579316923, 'min_samples_leaf': 0.0847421933976383, 'max_features': 'auto'}. Best is trial 182 with value: 0.4765840220385675.\n",
      "[I 2024-03-12 09:30:58,930] Trial 411 finished with value: 0.418732782369146 and parameters: {'n_estimators': 282, 'max_depth': 26, 'min_samples_split': 0.044809176831236364, 'min_samples_leaf': 0.14438856955623885, 'max_features': 'auto'}. Best is trial 182 with value: 0.4765840220385675.\n",
      "[I 2024-03-12 09:31:00,261] Trial 412 finished with value: 0.44352617079889806 and parameters: {'n_estimators': 290, 'max_depth': 42, 'min_samples_split': 0.11270115838262754, 'min_samples_leaf': 0.06879112157409827, 'max_features': 'auto'}. Best is trial 182 with value: 0.4765840220385675.\n",
      "[I 2024-03-12 09:31:00,836] Trial 413 finished with value: 0.4132231404958678 and parameters: {'n_estimators': 295, 'max_depth': 24, 'min_samples_split': 0.027297209117092918, 'min_samples_leaf': 0.3246833363929606, 'max_features': 'auto'}. Best is trial 182 with value: 0.4765840220385675.\n",
      "[I 2024-03-12 09:31:02,695] Trial 414 finished with value: 0.4462809917355372 and parameters: {'n_estimators': 286, 'max_depth': 28, 'min_samples_split': 0.07934412391424994, 'min_samples_leaf': 0.011834864890598183, 'max_features': 'auto'}. Best is trial 182 with value: 0.4765840220385675.\n",
      "[I 2024-03-12 09:31:03,737] Trial 415 finished with value: 0.44077134986225897 and parameters: {'n_estimators': 293, 'max_depth': 30, 'min_samples_split': 0.2612437654235145, 'min_samples_leaf': 0.10028683263668134, 'max_features': 'auto'}. Best is trial 182 with value: 0.4765840220385675.\n",
      "[I 2024-03-12 09:31:04,532] Trial 416 finished with value: 0.4297520661157025 and parameters: {'n_estimators': 220, 'max_depth': 44, 'min_samples_split': 0.060220299927079904, 'min_samples_leaf': 0.12044321814790865, 'max_features': 'auto'}. Best is trial 182 with value: 0.4765840220385675.\n",
      "[I 2024-03-12 09:31:06,715] Trial 417 finished with value: 0.44352617079889806 and parameters: {'n_estimators': 297, 'max_depth': 27, 'min_samples_split': 0.09769213136344357, 'min_samples_leaf': 0.043877455718299346, 'max_features': 'auto'}. Best is trial 182 with value: 0.4765840220385675.\n",
      "[I 2024-03-12 09:31:07,292] Trial 418 finished with value: 0.33884297520661155 and parameters: {'n_estimators': 179, 'max_depth': 29, 'min_samples_split': 0.04491608355757596, 'min_samples_leaf': 0.9726450218080311, 'max_features': 'auto'}. Best is trial 182 with value: 0.4765840220385675.\n",
      "[I 2024-03-12 09:31:08,868] Trial 419 finished with value: 0.44352617079889806 and parameters: {'n_estimators': 281, 'max_depth': 32, 'min_samples_split': 0.13009348138422702, 'min_samples_leaf': 0.07132629852563407, 'max_features': 'auto'}. Best is trial 182 with value: 0.4765840220385675.\n",
      "[I 2024-03-12 09:31:09,963] Trial 420 finished with value: 0.46831955922865015 and parameters: {'n_estimators': 289, 'max_depth': 47, 'min_samples_split': 0.025436549973793642, 'min_samples_leaf': 0.09667651425940514, 'max_features': 'auto'}. Best is trial 182 with value: 0.4765840220385675.\n",
      "[I 2024-03-12 09:31:11,640] Trial 421 finished with value: 0.4628099173553719 and parameters: {'n_estimators': 300, 'max_depth': 39, 'min_samples_split': 0.07569219005943693, 'min_samples_leaf': 0.033097960356580663, 'max_features': 'auto'}. Best is trial 182 with value: 0.4765840220385675.\n",
      "[I 2024-03-12 09:31:12,791] Trial 422 finished with value: 0.45179063360881544 and parameters: {'n_estimators': 285, 'max_depth': 28, 'min_samples_split': 0.010112333500150533, 'min_samples_leaf': 0.08772101609871454, 'max_features': 'auto'}. Best is trial 182 with value: 0.4765840220385675.\n",
      "[I 2024-03-12 09:31:13,783] Trial 423 finished with value: 0.4297520661157025 and parameters: {'n_estimators': 291, 'max_depth': 26, 'min_samples_split': 0.06356868719322813, 'min_samples_leaf': 0.128564707687434, 'max_features': 'auto'}. Best is trial 182 with value: 0.4765840220385675.\n",
      "[I 2024-03-12 09:31:14,664] Trial 424 finished with value: 0.42699724517906334 and parameters: {'n_estimators': 296, 'max_depth': 38, 'min_samples_split': 0.10117441475893768, 'min_samples_leaf': 0.16750005501293885, 'max_features': 'auto'}. Best is trial 182 with value: 0.4765840220385675.\n",
      "[I 2024-03-12 09:31:16,098] Trial 425 finished with value: 0.4490358126721763 and parameters: {'n_estimators': 292, 'max_depth': 25, 'min_samples_split': 0.03920959249760227, 'min_samples_leaf': 0.053295326644559285, 'max_features': 'auto'}. Best is trial 182 with value: 0.4765840220385675.\n",
      "[I 2024-03-12 09:31:17,064] Trial 426 finished with value: 0.44077134986225897 and parameters: {'n_estimators': 256, 'max_depth': 45, 'min_samples_split': 0.1555922273427658, 'min_samples_leaf': 0.11034811377735643, 'max_features': 'auto'}. Best is trial 182 with value: 0.4765840220385675.\n",
      "[I 2024-03-12 09:31:18,326] Trial 427 finished with value: 0.4462809917355372 and parameters: {'n_estimators': 279, 'max_depth': 30, 'min_samples_split': 0.08119813539231817, 'min_samples_leaf': 0.06918762117084058, 'max_features': 'auto'}. Best is trial 182 with value: 0.4765840220385675.\n",
      "[I 2024-03-12 09:31:19,750] Trial 428 finished with value: 0.41597796143250687 and parameters: {'n_estimators': 287, 'max_depth': 22, 'min_samples_split': 0.124057900095805, 'min_samples_leaf': 0.14577980114322298, 'max_features': 'auto'}. Best is trial 182 with value: 0.4765840220385675.\n",
      "[I 2024-03-12 09:31:21,456] Trial 429 finished with value: 0.45179063360881544 and parameters: {'n_estimators': 283, 'max_depth': 29, 'min_samples_split': 0.05455619251296403, 'min_samples_leaf': 0.08516027435788642, 'max_features': 'auto'}. Best is trial 182 with value: 0.4765840220385675.\n",
      "[I 2024-03-12 09:31:22,717] Trial 430 finished with value: 0.4325068870523416 and parameters: {'n_estimators': 296, 'max_depth': 27, 'min_samples_split': 0.09105596595810211, 'min_samples_leaf': 0.11503070819017845, 'max_features': 'auto'}. Best is trial 182 with value: 0.4765840220385675.\n",
      "[I 2024-03-12 09:31:24,360] Trial 431 finished with value: 0.45454545454545453 and parameters: {'n_estimators': 289, 'max_depth': 31, 'min_samples_split': 0.0241197358631338, 'min_samples_leaf': 0.030218267951296243, 'max_features': 'auto'}. Best is trial 182 with value: 0.4765840220385675.\n",
      "[I 2024-03-12 09:31:25,286] Trial 432 finished with value: 0.42699724517906334 and parameters: {'n_estimators': 300, 'max_depth': 33, 'min_samples_split': 0.4689405652481441, 'min_samples_leaf': 0.09674138870535161, 'max_features': 'auto'}. Best is trial 182 with value: 0.4765840220385675.\n",
      "[I 2024-03-12 09:31:25,672] Trial 433 finished with value: 0.33884297520661155 and parameters: {'n_estimators': 191, 'max_depth': 26, 'min_samples_split': 0.7764671888098967, 'min_samples_leaf': 0.05774654380564771, 'max_features': 'auto'}. Best is trial 182 with value: 0.4765840220385675.\n",
      "[I 2024-03-12 09:31:26,478] Trial 434 finished with value: 0.4132231404958678 and parameters: {'n_estimators': 293, 'max_depth': 28, 'min_samples_split': 0.4069905456577303, 'min_samples_leaf': 0.209200479930906, 'max_features': 'auto'}. Best is trial 182 with value: 0.4765840220385675.\n",
      "[I 2024-03-12 09:31:27,461] Trial 435 finished with value: 0.42699724517906334 and parameters: {'n_estimators': 285, 'max_depth': 29, 'min_samples_split': 0.06193720542752419, 'min_samples_leaf': 0.1298256401653725, 'max_features': 'auto'}. Best is trial 182 with value: 0.4765840220385675.\n",
      "[I 2024-03-12 09:31:28,035] Trial 436 finished with value: 0.33884297520661155 and parameters: {'n_estimators': 296, 'max_depth': 24, 'min_samples_split': 0.11029855629136104, 'min_samples_leaf': 0.6512331754920766, 'max_features': 'auto'}. Best is trial 182 with value: 0.4765840220385675.\n",
      "[I 2024-03-12 09:31:29,250] Trial 437 finished with value: 0.4325068870523416 and parameters: {'n_estimators': 290, 'max_depth': 27, 'min_samples_split': 0.04338849253163053, 'min_samples_leaf': 0.07386460955830931, 'max_features': 'auto'}. Best is trial 182 with value: 0.4765840220385675.\n",
      "[I 2024-03-12 09:31:29,546] Trial 438 finished with value: 0.33884297520661155 and parameters: {'n_estimators': 143, 'max_depth': 43, 'min_samples_split': 0.07253604658399677, 'min_samples_leaf': 0.5456314003655863, 'max_features': 'auto'}. Best is trial 182 with value: 0.4765840220385675.\n",
      "[I 2024-03-12 09:31:30,660] Trial 439 finished with value: 0.46831955922865015 and parameters: {'n_estimators': 293, 'max_depth': 32, 'min_samples_split': 0.14128561396547082, 'min_samples_leaf': 0.10128257965133194, 'max_features': 'auto'}. Best is trial 182 with value: 0.4765840220385675.\n",
      "[I 2024-03-12 09:31:31,672] Trial 440 finished with value: 0.45179063360881544 and parameters: {'n_estimators': 203, 'max_depth': 44, 'min_samples_split': 0.011247465161246622, 'min_samples_leaf': 0.04752848326350081, 'max_features': 'auto'}. Best is trial 182 with value: 0.4765840220385675.\n",
      "[I 2024-03-12 09:31:32,338] Trial 441 finished with value: 0.33884297520661155 and parameters: {'n_estimators': 279, 'max_depth': 30, 'min_samples_split': 0.09214964138162653, 'min_samples_leaf': 0.9289359435079293, 'max_features': 'auto'}. Best is trial 182 with value: 0.4765840220385675.\n",
      "[I 2024-03-12 09:31:33,197] Trial 442 finished with value: 0.33884297520661155 and parameters: {'n_estimators': 283, 'max_depth': 46, 'min_samples_split': 0.045298839411896344, 'min_samples_leaf': 0.4647884823064984, 'max_features': 'auto'}. Best is trial 182 with value: 0.4765840220385675.\n",
      "[I 2024-03-12 09:31:34,828] Trial 443 finished with value: 0.44352617079889806 and parameters: {'n_estimators': 297, 'max_depth': 28, 'min_samples_split': 0.3699824756604294, 'min_samples_leaf': 0.027944093115626616, 'max_features': 'auto'}. Best is trial 182 with value: 0.4765840220385675.\n",
      "[I 2024-03-12 09:31:36,342] Trial 444 finished with value: 0.4490358126721763 and parameters: {'n_estimators': 289, 'max_depth': 25, 'min_samples_split': 0.03062949413903635, 'min_samples_leaf': 0.08428850504055306, 'max_features': 'auto'}. Best is trial 182 with value: 0.4765840220385675.\n",
      "[I 2024-03-12 09:31:37,337] Trial 445 finished with value: 0.42699724517906334 and parameters: {'n_estimators': 300, 'max_depth': 31, 'min_samples_split': 0.33400770211098096, 'min_samples_leaf': 0.11169813081477098, 'max_features': 'auto'}. Best is trial 182 with value: 0.4765840220385675.\n",
      "[I 2024-03-12 09:31:38,258] Trial 446 finished with value: 0.418732782369146 and parameters: {'n_estimators': 293, 'max_depth': 45, 'min_samples_split': 0.07479521996193109, 'min_samples_leaf': 0.1508333022968339, 'max_features': 'auto'}. Best is trial 182 with value: 0.4765840220385675.\n",
      "[I 2024-03-12 09:31:39,527] Trial 447 finished with value: 0.4490358126721763 and parameters: {'n_estimators': 286, 'max_depth': 28, 'min_samples_split': 0.10870212412015956, 'min_samples_leaf': 0.06398008554986738, 'max_features': 'auto'}. Best is trial 182 with value: 0.4765840220385675.\n",
      "[I 2024-03-12 09:31:40,533] Trial 448 finished with value: 0.42699724517906334 and parameters: {'n_estimators': 296, 'max_depth': 41, 'min_samples_split': 0.05032075983390934, 'min_samples_leaf': 0.12233415102508152, 'max_features': 'auto'}. Best is trial 182 with value: 0.4765840220385675.\n",
      "[I 2024-03-12 09:31:41,653] Trial 449 finished with value: 0.47107438016528924 and parameters: {'n_estimators': 289, 'max_depth': 30, 'min_samples_split': 0.06390069555225855, 'min_samples_leaf': 0.09579054440937776, 'max_features': 'auto'}. Best is trial 182 with value: 0.4765840220385675.\n",
      "[I 2024-03-12 09:31:43,612] Trial 450 finished with value: 0.47107438016528924 and parameters: {'n_estimators': 281, 'max_depth': 43, 'min_samples_split': 0.028675801701130803, 'min_samples_leaf': 0.01416092221385568, 'max_features': 'auto'}. Best is trial 182 with value: 0.4765840220385675.\n",
      "[I 2024-03-12 09:31:44,733] Trial 451 finished with value: 0.45454545454545453 and parameters: {'n_estimators': 277, 'max_depth': 29, 'min_samples_split': 0.12481047709155131, 'min_samples_leaf': 0.08587597954038209, 'max_features': 'auto'}. Best is trial 182 with value: 0.4765840220385675.\n",
      "[I 2024-03-12 09:31:46,442] Trial 452 finished with value: 0.465564738292011 and parameters: {'n_estimators': 293, 'max_depth': 40, 'min_samples_split': 0.0848838577414057, 'min_samples_leaf': 0.04265118975711982, 'max_features': 'auto'}. Best is trial 182 with value: 0.4765840220385675.\n",
      "[I 2024-03-12 09:31:49,242] Trial 453 finished with value: 0.45454545454545453 and parameters: {'n_estimators': 287, 'max_depth': 27, 'min_samples_split': 0.056044302669144126, 'min_samples_leaf': 0.010683108192420663, 'max_features': 'auto'}. Best is trial 182 with value: 0.4765840220385675.\n",
      "[I 2024-03-12 09:31:50,592] Trial 454 finished with value: 0.44077134986225897 and parameters: {'n_estimators': 291, 'max_depth': 26, 'min_samples_split': 0.09380974462044872, 'min_samples_leaf': 0.06629636942502785, 'max_features': 'auto'}. Best is trial 182 with value: 0.4765840220385675.\n",
      "[I 2024-03-12 09:31:51,669] Trial 455 finished with value: 0.4325068870523416 and parameters: {'n_estimators': 300, 'max_depth': 44, 'min_samples_split': 0.010281284605314365, 'min_samples_leaf': 0.11224503167447933, 'max_features': 'auto'}. Best is trial 182 with value: 0.4765840220385675.\n",
      "[I 2024-03-12 09:31:52,270] Trial 456 finished with value: 0.41597796143250687 and parameters: {'n_estimators': 172, 'max_depth': 36, 'min_samples_split': 0.16626306678591543, 'min_samples_leaf': 0.13530997206366896, 'max_features': 'auto'}. Best is trial 182 with value: 0.4765840220385675.\n",
      "[I 2024-03-12 09:31:53,479] Trial 457 finished with value: 0.45454545454545453 and parameters: {'n_estimators': 296, 'max_depth': 25, 'min_samples_split': 0.04055214707938623, 'min_samples_leaf': 0.08265049856975415, 'max_features': 'auto'}. Best is trial 182 with value: 0.4765840220385675.\n",
      "[I 2024-03-12 09:31:54,818] Trial 458 finished with value: 0.44352617079889806 and parameters: {'n_estimators': 284, 'max_depth': 29, 'min_samples_split': 0.13412735465420783, 'min_samples_leaf': 0.04765647822051313, 'max_features': 'auto'}. Best is trial 182 with value: 0.4765840220385675.\n",
      "[I 2024-03-12 09:31:55,982] Trial 459 finished with value: 0.45179063360881544 and parameters: {'n_estimators': 293, 'max_depth': 27, 'min_samples_split': 0.0653003396806658, 'min_samples_leaf': 0.10633157934259445, 'max_features': 'auto'}. Best is trial 182 with value: 0.4765840220385675.\n",
      "[I 2024-03-12 09:31:56,722] Trial 460 finished with value: 0.4132231404958678 and parameters: {'n_estimators': 275, 'max_depth': 42, 'min_samples_split': 0.6210797936292897, 'min_samples_leaf': 0.1703420476903825, 'max_features': 'auto'}. Best is trial 182 with value: 0.4765840220385675.\n",
      "[I 2024-03-12 09:31:57,139] Trial 461 finished with value: 0.40771349862258954 and parameters: {'n_estimators': 106, 'max_depth': 31, 'min_samples_split': 0.11431918255775404, 'min_samples_leaf': 0.13314586757120947, 'max_features': 'auto'}. Best is trial 182 with value: 0.4765840220385675.\n",
      "[I 2024-03-12 09:31:58,211] Trial 462 finished with value: 0.4462809917355372 and parameters: {'n_estimators': 238, 'max_depth': 28, 'min_samples_split': 0.024821083500862484, 'min_samples_leaf': 0.07037751346259406, 'max_features': 'auto'}. Best is trial 182 with value: 0.4765840220385675.\n",
      "[I 2024-03-12 09:31:59,334] Trial 463 finished with value: 0.46831955922865015 and parameters: {'n_estimators': 289, 'max_depth': 29, 'min_samples_split': 0.08248372424670303, 'min_samples_leaf': 0.09664856181620379, 'max_features': 'auto'}. Best is trial 182 with value: 0.4765840220385675.\n",
      "[I 2024-03-12 09:32:01,558] Trial 464 finished with value: 0.4490358126721763 and parameters: {'n_estimators': 296, 'max_depth': 26, 'min_samples_split': 0.04674983182232169, 'min_samples_leaf': 0.03776317780354984, 'max_features': 'auto'}. Best is trial 182 with value: 0.4765840220385675.\n",
      "[I 2024-03-12 09:32:03,842] Trial 465 finished with value: 0.4573002754820937 and parameters: {'n_estimators': 287, 'max_depth': 45, 'min_samples_split': 0.09892460456122844, 'min_samples_leaf': 0.010465905597481845, 'max_features': 'auto'}. Best is trial 182 with value: 0.4765840220385675.\n",
      "[I 2024-03-12 09:32:04,857] Trial 466 finished with value: 0.4297520661157025 and parameters: {'n_estimators': 283, 'max_depth': 33, 'min_samples_split': 0.06883009188548225, 'min_samples_leaf': 0.11706534374802946, 'max_features': 'auto'}. Best is trial 182 with value: 0.4765840220385675.\n",
      "[I 2024-03-12 09:32:06,123] Trial 467 finished with value: 0.45454545454545453 and parameters: {'n_estimators': 297, 'max_depth': 28, 'min_samples_split': 0.03418966158484764, 'min_samples_leaf': 0.07757093414262202, 'max_features': 'auto'}. Best is trial 182 with value: 0.4765840220385675.\n",
      "[I 2024-03-12 09:32:07,630] Trial 468 finished with value: 0.45179063360881544 and parameters: {'n_estimators': 300, 'max_depth': 30, 'min_samples_split': 0.05793221561657664, 'min_samples_leaf': 0.05348193987175596, 'max_features': 'auto'}. Best is trial 182 with value: 0.4765840220385675.\n",
      "[I 2024-03-12 09:32:08,595] Trial 469 finished with value: 0.41597796143250687 and parameters: {'n_estimators': 292, 'max_depth': 27, 'min_samples_split': 0.08647463492716795, 'min_samples_leaf': 0.14973640528073223, 'max_features': 'auto'}. Best is trial 182 with value: 0.4765840220385675.\n",
      "[I 2024-03-12 09:32:09,335] Trial 470 finished with value: 0.41597796143250687 and parameters: {'n_estimators': 279, 'max_depth': 37, 'min_samples_split': 0.010396330819274846, 'min_samples_leaf': 0.26168004488954544, 'max_features': 'auto'}. Best is trial 182 with value: 0.4765840220385675.\n",
      "[I 2024-03-12 09:32:10,458] Trial 471 finished with value: 0.46831955922865015 and parameters: {'n_estimators': 286, 'max_depth': 24, 'min_samples_split': 0.14406086425828896, 'min_samples_leaf': 0.10099358289141412, 'max_features': 'auto'}. Best is trial 182 with value: 0.4765840220385675.\n",
      "[I 2024-03-12 09:32:11,514] Trial 472 finished with value: 0.4297520661157025 and parameters: {'n_estimators': 293, 'max_depth': 47, 'min_samples_split': 0.11324689157606399, 'min_samples_leaf': 0.12772718310998685, 'max_features': 'auto'}. Best is trial 182 with value: 0.4765840220385675.\n",
      "[I 2024-03-12 09:32:12,828] Trial 473 finished with value: 0.44352617079889806 and parameters: {'n_estimators': 290, 'max_depth': 25, 'min_samples_split': 0.033445355360725695, 'min_samples_leaf': 0.06586731676450283, 'max_features': 'auto'}. Best is trial 182 with value: 0.4765840220385675.\n",
      "[I 2024-03-12 09:32:14,311] Trial 474 finished with value: 0.46005509641873277 and parameters: {'n_estimators': 282, 'max_depth': 29, 'min_samples_split': 0.07132636508236058, 'min_samples_leaf': 0.09040216241359415, 'max_features': 'auto'}. Best is trial 182 with value: 0.4765840220385675.\n",
      "[I 2024-03-12 09:32:16,662] Trial 475 finished with value: 0.45179063360881544 and parameters: {'n_estimators': 296, 'max_depth': 43, 'min_samples_split': 0.04685621332341122, 'min_samples_leaf': 0.03611508601130538, 'max_features': 'auto'}. Best is trial 182 with value: 0.4765840220385675.\n",
      "[I 2024-03-12 09:32:17,819] Trial 476 finished with value: 0.44077134986225897 and parameters: {'n_estimators': 288, 'max_depth': 23, 'min_samples_split': 0.09882342149657351, 'min_samples_leaf': 0.10949687948923639, 'max_features': 'auto'}. Best is trial 182 with value: 0.4765840220385675.\n",
      "[I 2024-03-12 09:32:18,638] Trial 477 finished with value: 0.4132231404958678 and parameters: {'n_estimators': 294, 'max_depth': 27, 'min_samples_split': 0.028347560815045764, 'min_samples_leaf': 0.19274712789146936, 'max_features': 'auto'}. Best is trial 182 with value: 0.4765840220385675.\n",
      "[I 2024-03-12 09:32:19,849] Trial 478 finished with value: 0.4462809917355372 and parameters: {'n_estimators': 300, 'max_depth': 32, 'min_samples_split': 0.07121411871481143, 'min_samples_leaf': 0.08819872399523702, 'max_features': 'auto'}. Best is trial 182 with value: 0.4765840220385675.\n",
      "[I 2024-03-12 09:32:21,016] Trial 479 finished with value: 0.4380165289256198 and parameters: {'n_estimators': 270, 'max_depth': 44, 'min_samples_split': 0.11866630863438887, 'min_samples_leaf': 0.07178504267274154, 'max_features': 'auto'}. Best is trial 182 with value: 0.4765840220385675.\n",
      "[I 2024-03-12 09:32:22,703] Trial 480 finished with value: 0.45179063360881544 and parameters: {'n_estimators': 285, 'max_depth': 28, 'min_samples_split': 0.05135072465974798, 'min_samples_leaf': 0.0270238898474731, 'max_features': 'auto'}. Best is trial 182 with value: 0.4765840220385675.\n",
      "[I 2024-03-12 09:32:23,691] Trial 481 finished with value: 0.42699724517906334 and parameters: {'n_estimators': 291, 'max_depth': 29, 'min_samples_split': 0.08594089223011168, 'min_samples_leaf': 0.13117953291674644, 'max_features': 'auto'}. Best is trial 182 with value: 0.4765840220385675.\n",
      "[I 2024-03-12 09:32:25,065] Trial 482 finished with value: 0.44077134986225897 and parameters: {'n_estimators': 279, 'max_depth': 31, 'min_samples_split': 0.026591709506965423, 'min_samples_leaf': 0.05096673192451654, 'max_features': 'auto'}. Best is trial 182 with value: 0.4765840220385675.\n",
      "[I 2024-03-12 09:32:26,169] Trial 483 finished with value: 0.4462809917355372 and parameters: {'n_estimators': 297, 'max_depth': 26, 'min_samples_split': 0.13743469033401629, 'min_samples_leaf': 0.10899923949125684, 'max_features': 'auto'}. Best is trial 182 with value: 0.4765840220385675.\n",
      "[I 2024-03-12 09:32:27,207] Trial 484 finished with value: 0.418732782369146 and parameters: {'n_estimators': 289, 'max_depth': 30, 'min_samples_split': 0.05957874775694469, 'min_samples_leaf': 0.15783556167365576, 'max_features': 'auto'}. Best is trial 182 with value: 0.4765840220385675.\n",
      "[I 2024-03-12 09:32:28,065] Trial 485 finished with value: 0.33884297520661155 and parameters: {'n_estimators': 294, 'max_depth': 46, 'min_samples_split': 0.735727239973752, 'min_samples_leaf': 0.08565806161077433, 'max_features': 'auto'}. Best is trial 182 with value: 0.4765840220385675.\n",
      "[I 2024-03-12 09:32:29,189] Trial 486 finished with value: 0.4380165289256198 and parameters: {'n_estimators': 157, 'max_depth': 34, 'min_samples_split': 0.010051635731944945, 'min_samples_leaf': 0.05645880634475801, 'max_features': 'auto'}. Best is trial 182 with value: 0.4765840220385675.\n",
      "[I 2024-03-12 09:32:30,372] Trial 487 finished with value: 0.4325068870523416 and parameters: {'n_estimators': 208, 'max_depth': 42, 'min_samples_split': 0.10955796244125922, 'min_samples_leaf': 0.11458382951902908, 'max_features': 'auto'}. Best is trial 182 with value: 0.4765840220385675.\n",
      "[I 2024-03-12 09:32:31,860] Trial 488 finished with value: 0.44077134986225897 and parameters: {'n_estimators': 283, 'max_depth': 24, 'min_samples_split': 0.17035607340012515, 'min_samples_leaf': 0.02942838279463645, 'max_features': 'auto'}. Best is trial 182 with value: 0.4765840220385675.\n",
      "[I 2024-03-12 09:32:32,992] Trial 489 finished with value: 0.47107438016528924 and parameters: {'n_estimators': 296, 'max_depth': 29, 'min_samples_split': 0.08426404915501809, 'min_samples_leaf': 0.09827229554218639, 'max_features': 'auto'}. Best is trial 182 with value: 0.4765840220385675.\n",
      "[I 2024-03-12 09:32:33,334] Trial 490 finished with value: 0.4049586776859504 and parameters: {'n_estimators': 115, 'max_depth': 18, 'min_samples_split': 0.04425419233605662, 'min_samples_leaf': 0.2978492544770919, 'max_features': 'auto'}. Best is trial 182 with value: 0.4765840220385675.\n",
      "[I 2024-03-12 09:32:34,590] Trial 491 finished with value: 0.4462809917355372 and parameters: {'n_estimators': 300, 'max_depth': 45, 'min_samples_split': 0.06518549517282687, 'min_samples_leaf': 0.07611599907656469, 'max_features': 'auto'}. Best is trial 182 with value: 0.4765840220385675.\n",
      "[I 2024-03-12 09:32:35,529] Trial 492 finished with value: 0.42699724517906334 and parameters: {'n_estimators': 276, 'max_depth': 28, 'min_samples_split': 0.09885227500322331, 'min_samples_leaf': 0.12764276755261922, 'max_features': 'auto'}. Best is trial 182 with value: 0.4765840220385675.\n",
      "[I 2024-03-12 09:32:36,526] Trial 493 finished with value: 0.4214876033057851 and parameters: {'n_estimators': 286, 'max_depth': 26, 'min_samples_split': 0.040162121354931385, 'min_samples_leaf': 0.1377088044776242, 'max_features': 'auto'}. Best is trial 182 with value: 0.4765840220385675.\n",
      "[I 2024-03-12 09:32:37,095] Trial 494 finished with value: 0.33884297520661155 and parameters: {'n_estimators': 291, 'max_depth': 27, 'min_samples_split': 0.0759156377058106, 'min_samples_leaf': 0.8582054802971915, 'max_features': 'auto'}. Best is trial 182 with value: 0.4765840220385675.\n",
      "[I 2024-03-12 09:32:38,433] Trial 495 finished with value: 0.45454545454545453 and parameters: {'n_estimators': 293, 'max_depth': 30, 'min_samples_split': 0.02634913811954036, 'min_samples_leaf': 0.06396441766481148, 'max_features': 'auto'}. Best is trial 182 with value: 0.4765840220385675.\n",
      "[I 2024-03-12 09:32:39,243] Trial 496 finished with value: 0.40771349862258954 and parameters: {'n_estimators': 281, 'max_depth': 41, 'min_samples_split': 0.5492017456730908, 'min_samples_leaf': 0.09744547389741492, 'max_features': 'auto'}. Best is trial 182 with value: 0.4765840220385675.\n",
      "[I 2024-03-12 09:32:40,533] Trial 497 finished with value: 0.45179063360881544 and parameters: {'n_estimators': 230, 'max_depth': 38, 'min_samples_split': 0.05409906110666578, 'min_samples_leaf': 0.08247607379627761, 'max_features': 'auto'}. Best is trial 182 with value: 0.4765840220385675.\n",
      "[I 2024-03-12 09:32:43,512] Trial 498 finished with value: 0.4490358126721763 and parameters: {'n_estimators': 288, 'max_depth': 44, 'min_samples_split': 0.11884365528748266, 'min_samples_leaf': 0.011235455914440369, 'max_features': 'auto'}. Best is trial 182 with value: 0.4765840220385675.\n",
      "[I 2024-03-12 09:32:46,029] Trial 499 finished with value: 0.4628099173553719 and parameters: {'n_estimators': 296, 'max_depth': 43, 'min_samples_split': 0.089989508142063, 'min_samples_leaf': 0.0421071213656514, 'max_features': 'auto'}. Best is trial 182 with value: 0.4765840220385675.\n",
      "[I 2024-03-12 09:32:46,799] Trial 500 finished with value: 0.45179063360881544 and parameters: {'n_estimators': 165, 'max_depth': 30, 'min_samples_split': 0.22471276111066868, 'min_samples_leaf': 0.11252140170873479, 'max_features': 'auto'}. Best is trial 182 with value: 0.4765840220385675.\n",
      "[I 2024-03-12 09:32:47,809] Trial 501 finished with value: 0.418732782369146 and parameters: {'n_estimators': 291, 'max_depth': 26, 'min_samples_split': 0.15562872902402608, 'min_samples_leaf': 0.14522387235763062, 'max_features': 'auto'}. Best is trial 182 with value: 0.4765840220385675.\n",
      "[I 2024-03-12 09:32:49,160] Trial 502 finished with value: 0.45454545454545453 and parameters: {'n_estimators': 300, 'max_depth': 28, 'min_samples_split': 0.06758070231856322, 'min_samples_leaf': 0.06430877168906071, 'max_features': 'auto'}. Best is trial 182 with value: 0.4765840220385675.\n",
      "[I 2024-03-12 09:32:51,211] Trial 503 finished with value: 0.4820936639118457 and parameters: {'n_estimators': 284, 'max_depth': 50, 'min_samples_split': 0.040022826147233084, 'min_samples_leaf': 0.010008990574306417, 'max_features': 'auto'}. Best is trial 503 with value: 0.4820936639118457.\n",
      "[I 2024-03-12 09:32:52,998] Trial 504 finished with value: 0.45179063360881544 and parameters: {'n_estimators': 285, 'max_depth': 49, 'min_samples_split': 0.025922715218771653, 'min_samples_leaf': 0.020710915180796444, 'max_features': 'auto'}. Best is trial 503 with value: 0.4820936639118457.\n",
      "[I 2024-03-12 09:32:54,701] Trial 505 finished with value: 0.4573002754820937 and parameters: {'n_estimators': 294, 'max_depth': 39, 'min_samples_split': 0.04404870915680964, 'min_samples_leaf': 0.030083961984664783, 'max_features': 'auto'}. Best is trial 503 with value: 0.4820936639118457.\n",
      "[I 2024-03-12 09:32:56,434] Trial 506 finished with value: 0.4462809917355372 and parameters: {'n_estimators': 289, 'max_depth': 35, 'min_samples_split': 0.04223827125151478, 'min_samples_leaf': 0.026782400886067786, 'max_features': 'auto'}. Best is trial 503 with value: 0.4820936639118457.\n",
      "[I 2024-03-12 09:32:58,554] Trial 507 finished with value: 0.465564738292011 and parameters: {'n_estimators': 296, 'max_depth': 39, 'min_samples_split': 0.023288481336381804, 'min_samples_leaf': 0.042446279997210117, 'max_features': 'auto'}. Best is trial 503 with value: 0.4820936639118457.\n",
      "[I 2024-03-12 09:33:01,061] Trial 508 finished with value: 0.465564738292011 and parameters: {'n_estimators': 291, 'max_depth': 46, 'min_samples_split': 0.01103316200477795, 'min_samples_leaf': 0.013009904149771767, 'max_features': 'auto'}. Best is trial 503 with value: 0.4820936639118457.\n",
      "[I 2024-03-12 09:33:02,695] Trial 509 finished with value: 0.4490358126721763 and parameters: {'n_estimators': 286, 'max_depth': 47, 'min_samples_split': 0.06233186749152793, 'min_samples_leaf': 0.029140741797885616, 'max_features': 'auto'}. Best is trial 503 with value: 0.4820936639118457.\n",
      "[I 2024-03-12 09:33:04,120] Trial 510 finished with value: 0.4380165289256198 and parameters: {'n_estimators': 297, 'max_depth': 36, 'min_samples_split': 0.0456446445470674, 'min_samples_leaf': 0.049886022779389506, 'max_features': 'auto'}. Best is trial 503 with value: 0.4820936639118457.\n",
      "[I 2024-03-12 09:33:05,473] Trial 511 finished with value: 0.4490358126721763 and parameters: {'n_estimators': 293, 'max_depth': 48, 'min_samples_split': 0.0749630417491307, 'min_samples_leaf': 0.05482033209304756, 'max_features': 'auto'}. Best is trial 503 with value: 0.4820936639118457.\n",
      "[I 2024-03-12 09:33:07,494] Trial 512 finished with value: 0.4490358126721763 and parameters: {'n_estimators': 300, 'max_depth': 49, 'min_samples_split': 0.055947871365815555, 'min_samples_leaf': 0.01128378438390185, 'max_features': 'auto'}. Best is trial 503 with value: 0.4820936639118457.\n",
      "[I 2024-03-12 09:33:08,650] Trial 513 finished with value: 0.4573002754820937 and parameters: {'n_estimators': 283, 'max_depth': 50, 'min_samples_split': 0.010093627352681704, 'min_samples_leaf': 0.08093083664316388, 'max_features': 'auto'}. Best is trial 503 with value: 0.4820936639118457.\n",
      "[I 2024-03-12 09:33:11,024] Trial 514 finished with value: 0.4738292011019284 and parameters: {'n_estimators': 290, 'max_depth': 48, 'min_samples_split': 0.032229794137721035, 'min_samples_leaf': 0.010244805781463494, 'max_features': 'auto'}. Best is trial 503 with value: 0.4820936639118457.\n",
      "[I 2024-03-12 09:33:13,387] Trial 515 finished with value: 0.45179063360881544 and parameters: {'n_estimators': 287, 'max_depth': 50, 'min_samples_split': 0.03251498310981385, 'min_samples_leaf': 0.028399058044818522, 'max_features': 'auto'}. Best is trial 503 with value: 0.4820936639118457.\n",
      "[I 2024-03-12 09:33:15,206] Trial 516 finished with value: 0.4490358126721763 and parameters: {'n_estimators': 282, 'max_depth': 48, 'min_samples_split': 0.026032555472050734, 'min_samples_leaf': 0.02703758168389976, 'max_features': 'auto'}. Best is trial 503 with value: 0.4820936639118457.\n",
      "[I 2024-03-12 09:33:16,728] Trial 517 finished with value: 0.4490358126721763 and parameters: {'n_estimators': 261, 'max_depth': 49, 'min_samples_split': 0.04044447421092442, 'min_samples_leaf': 0.028137959734159668, 'max_features': 'auto'}. Best is trial 503 with value: 0.4820936639118457.\n",
      "[I 2024-03-12 09:33:18,808] Trial 518 finished with value: 0.4765840220385675 and parameters: {'n_estimators': 289, 'max_depth': 49, 'min_samples_split': 0.03255184595467513, 'min_samples_leaf': 0.010870194545831973, 'max_features': 'auto'}. Best is trial 503 with value: 0.4820936639118457.\n",
      "[I 2024-03-12 09:33:20,404] Trial 519 finished with value: 0.46005509641873277 and parameters: {'n_estimators': 290, 'max_depth': 50, 'min_samples_split': 0.02912602349101908, 'min_samples_leaf': 0.031892775292259895, 'max_features': 'auto'}. Best is trial 503 with value: 0.4820936639118457.\n",
      "[I 2024-03-12 09:33:22,446] Trial 520 finished with value: 0.46831955922865015 and parameters: {'n_estimators': 290, 'max_depth': 49, 'min_samples_split': 0.024398857359761376, 'min_samples_leaf': 0.012040485958914146, 'max_features': 'auto'}. Best is trial 503 with value: 0.4820936639118457.\n",
      "[I 2024-03-12 09:33:24,728] Trial 521 finished with value: 0.4793388429752066 and parameters: {'n_estimators': 293, 'max_depth': 50, 'min_samples_split': 0.04621324789542195, 'min_samples_leaf': 0.010886470300690735, 'max_features': 'auto'}. Best is trial 503 with value: 0.4820936639118457.\n",
      "[I 2024-03-12 09:33:27,623] Trial 522 finished with value: 0.4738292011019284 and parameters: {'n_estimators': 294, 'max_depth': 50, 'min_samples_split': 0.010817349769738652, 'min_samples_leaf': 0.013816890386694022, 'max_features': 'auto'}. Best is trial 503 with value: 0.4820936639118457.\n",
      "[I 2024-03-12 09:33:29,701] Trial 523 finished with value: 0.4738292011019284 and parameters: {'n_estimators': 296, 'max_depth': 50, 'min_samples_split': 0.02583822829581449, 'min_samples_leaf': 0.01234187190175207, 'max_features': 'auto'}. Best is trial 503 with value: 0.4820936639118457.\n",
      "[I 2024-03-12 09:33:31,913] Trial 524 finished with value: 0.48484848484848486 and parameters: {'n_estimators': 297, 'max_depth': 50, 'min_samples_split': 0.012252929455029343, 'min_samples_leaf': 0.010444935742618825, 'max_features': 'auto'}. Best is trial 524 with value: 0.48484848484848486.\n",
      "[I 2024-03-12 09:33:34,000] Trial 525 finished with value: 0.46831955922865015 and parameters: {'n_estimators': 297, 'max_depth': 50, 'min_samples_split': 0.013453366931585158, 'min_samples_leaf': 0.013082147140680013, 'max_features': 'auto'}. Best is trial 524 with value: 0.48484848484848486.\n",
      "[I 2024-03-12 09:33:36,129] Trial 526 finished with value: 0.46831955922865015 and parameters: {'n_estimators': 297, 'max_depth': 50, 'min_samples_split': 0.010753610243323733, 'min_samples_leaf': 0.01369043892908318, 'max_features': 'auto'}. Best is trial 524 with value: 0.48484848484848486.\n",
      "[I 2024-03-12 09:33:38,697] Trial 527 finished with value: 0.48760330578512395 and parameters: {'n_estimators': 294, 'max_depth': 49, 'min_samples_split': 0.010147096271953638, 'min_samples_leaf': 0.010396846061196233, 'max_features': 'auto'}. Best is trial 527 with value: 0.48760330578512395.\n",
      "[I 2024-03-12 09:33:41,630] Trial 528 finished with value: 0.4765840220385675 and parameters: {'n_estimators': 296, 'max_depth': 49, 'min_samples_split': 0.014568134622128151, 'min_samples_leaf': 0.011135176417817015, 'max_features': 'auto'}. Best is trial 527 with value: 0.48760330578512395.\n",
      "[I 2024-03-12 09:33:43,659] Trial 529 finished with value: 0.4765840220385675 and parameters: {'n_estimators': 300, 'max_depth': 49, 'min_samples_split': 0.010108199029996039, 'min_samples_leaf': 0.016493618360679734, 'max_features': 'auto'}. Best is trial 527 with value: 0.48760330578512395.\n",
      "[I 2024-03-12 09:33:45,728] Trial 530 finished with value: 0.4628099173553719 and parameters: {'n_estimators': 300, 'max_depth': 49, 'min_samples_split': 0.011014643496574779, 'min_samples_leaf': 0.015329739243942691, 'max_features': 'auto'}. Best is trial 527 with value: 0.48760330578512395.\n",
      "[I 2024-03-12 09:33:47,928] Trial 531 finished with value: 0.4738292011019284 and parameters: {'n_estimators': 300, 'max_depth': 50, 'min_samples_split': 0.022591470860029612, 'min_samples_leaf': 0.012778623733256464, 'max_features': 'auto'}. Best is trial 527 with value: 0.48760330578512395.\n",
      "[I 2024-03-12 09:33:50,203] Trial 532 finished with value: 0.4793388429752066 and parameters: {'n_estimators': 300, 'max_depth': 48, 'min_samples_split': 0.011514446542766454, 'min_samples_leaf': 0.010521072661822067, 'max_features': 'auto'}. Best is trial 527 with value: 0.48760330578512395.\n",
      "[I 2024-03-12 09:33:52,609] Trial 533 finished with value: 0.4765840220385675 and parameters: {'n_estimators': 300, 'max_depth': 48, 'min_samples_split': 0.012132134687457932, 'min_samples_leaf': 0.015957349178939397, 'max_features': 'auto'}. Best is trial 527 with value: 0.48760330578512395.\n",
      "[I 2024-03-12 09:33:55,354] Trial 534 finished with value: 0.4628099173553719 and parameters: {'n_estimators': 300, 'max_depth': 48, 'min_samples_split': 0.01461154372360144, 'min_samples_leaf': 0.015304594605251149, 'max_features': 'auto'}. Best is trial 527 with value: 0.48760330578512395.\n",
      "[I 2024-03-12 09:33:57,583] Trial 535 finished with value: 0.48484848484848486 and parameters: {'n_estimators': 297, 'max_depth': 50, 'min_samples_split': 0.014599267995567647, 'min_samples_leaf': 0.01069139149475512, 'max_features': 'auto'}. Best is trial 527 with value: 0.48760330578512395.\n",
      "[I 2024-03-12 09:33:59,831] Trial 536 finished with value: 0.4793388429752066 and parameters: {'n_estimators': 300, 'max_depth': 50, 'min_samples_split': 0.011913368437003167, 'min_samples_leaf': 0.010745938842836426, 'max_features': 'auto'}. Best is trial 527 with value: 0.48760330578512395.\n",
      "[I 2024-03-12 09:34:01,632] Trial 537 finished with value: 0.4462809917355372 and parameters: {'n_estimators': 300, 'max_depth': 49, 'min_samples_split': 0.012900140557827466, 'min_samples_leaf': 0.02690498514381135, 'max_features': 'auto'}. Best is trial 527 with value: 0.48760330578512395.\n",
      "[I 2024-03-12 09:34:03,776] Trial 538 finished with value: 0.47107438016528924 and parameters: {'n_estimators': 296, 'max_depth': 50, 'min_samples_split': 0.011137143503240776, 'min_samples_leaf': 0.011948633314855182, 'max_features': 'auto'}. Best is trial 527 with value: 0.48760330578512395.\n",
      "[I 2024-03-12 09:34:06,439] Trial 539 finished with value: 0.48760330578512395 and parameters: {'n_estimators': 300, 'max_depth': 48, 'min_samples_split': 0.02538011291245695, 'min_samples_leaf': 0.01029902996125171, 'max_features': 'auto'}. Best is trial 527 with value: 0.48760330578512395.\n",
      "[I 2024-03-12 09:34:09,322] Trial 540 finished with value: 0.4738292011019284 and parameters: {'n_estimators': 300, 'max_depth': 48, 'min_samples_split': 0.0103373037697201, 'min_samples_leaf': 0.01137933494456407, 'max_features': 'auto'}. Best is trial 527 with value: 0.48760330578512395.\n",
      "[I 2024-03-12 09:34:10,983] Trial 541 finished with value: 0.4628099173553719 and parameters: {'n_estimators': 300, 'max_depth': 48, 'min_samples_split': 0.011007390531307178, 'min_samples_leaf': 0.032236514867279145, 'max_features': 'auto'}. Best is trial 527 with value: 0.48760330578512395.\n",
      "[I 2024-03-12 09:34:13,151] Trial 542 finished with value: 0.4765840220385675 and parameters: {'n_estimators': 295, 'max_depth': 49, 'min_samples_split': 0.010301149539054812, 'min_samples_leaf': 0.011212053110902582, 'max_features': 'auto'}. Best is trial 527 with value: 0.48760330578512395.\n",
      "[I 2024-03-12 09:34:15,287] Trial 543 finished with value: 0.4765840220385675 and parameters: {'n_estimators': 296, 'max_depth': 49, 'min_samples_split': 0.029784596779195493, 'min_samples_leaf': 0.011387492068387376, 'max_features': 'auto'}. Best is trial 527 with value: 0.48760330578512395.\n",
      "[I 2024-03-12 09:34:17,024] Trial 544 finished with value: 0.4573002754820937 and parameters: {'n_estimators': 300, 'max_depth': 49, 'min_samples_split': 0.03029007138098777, 'min_samples_leaf': 0.029662465497873755, 'max_features': 'auto'}. Best is trial 527 with value: 0.48760330578512395.\n",
      "[I 2024-03-12 09:34:18,664] Trial 545 finished with value: 0.465564738292011 and parameters: {'n_estimators': 296, 'max_depth': 49, 'min_samples_split': 0.029709915240372302, 'min_samples_leaf': 0.03246770657279839, 'max_features': 'auto'}. Best is trial 527 with value: 0.48760330578512395.\n",
      "[I 2024-03-12 09:34:21,049] Trial 546 finished with value: 0.4573002754820937 and parameters: {'n_estimators': 296, 'max_depth': 49, 'min_samples_split': 0.011646857645040785, 'min_samples_leaf': 0.030346815580391824, 'max_features': 'auto'}. Best is trial 527 with value: 0.48760330578512395.\n",
      "[I 2024-03-12 09:34:23,126] Trial 547 finished with value: 0.46005509641873277 and parameters: {'n_estimators': 300, 'max_depth': 49, 'min_samples_split': 0.010005618416667274, 'min_samples_leaf': 0.03400991066223004, 'max_features': 'auto'}. Best is trial 527 with value: 0.48760330578512395.\n",
      "[I 2024-03-12 09:34:25,257] Trial 548 finished with value: 0.4738292011019284 and parameters: {'n_estimators': 296, 'max_depth': 48, 'min_samples_split': 0.03349540494771983, 'min_samples_leaf': 0.011836194673742981, 'max_features': 'auto'}. Best is trial 527 with value: 0.48760330578512395.\n",
      "[I 2024-03-12 09:34:27,463] Trial 549 finished with value: 0.46831955922865015 and parameters: {'n_estimators': 295, 'max_depth': 49, 'min_samples_split': 0.03397830123829934, 'min_samples_leaf': 0.010159941200626533, 'max_features': 'auto'}. Best is trial 527 with value: 0.48760330578512395.\n",
      "[I 2024-03-12 09:34:29,093] Trial 550 finished with value: 0.4573002754820937 and parameters: {'n_estimators': 297, 'max_depth': 50, 'min_samples_split': 0.033189591663725856, 'min_samples_leaf': 0.03427023011616673, 'max_features': 'auto'}. Best is trial 527 with value: 0.48760330578512395.\n",
      "[I 2024-03-12 09:34:30,682] Trial 551 finished with value: 0.45179063360881544 and parameters: {'n_estimators': 294, 'max_depth': 50, 'min_samples_split': 0.02982921377254051, 'min_samples_leaf': 0.03713037089698645, 'max_features': 'auto'}. Best is trial 527 with value: 0.48760330578512395.\n",
      "[I 2024-03-12 09:34:33,028] Trial 552 finished with value: 0.4738292011019284 and parameters: {'n_estimators': 300, 'max_depth': 48, 'min_samples_split': 0.011085256507936663, 'min_samples_leaf': 0.011977413305978539, 'max_features': 'auto'}. Best is trial 527 with value: 0.48760330578512395.\n",
      "[I 2024-03-12 09:34:35,291] Trial 553 finished with value: 0.45179063360881544 and parameters: {'n_estimators': 294, 'max_depth': 49, 'min_samples_split': 0.03919857096775858, 'min_samples_leaf': 0.037377523973312766, 'max_features': 'auto'}. Best is trial 527 with value: 0.48760330578512395.\n",
      "[I 2024-03-12 09:34:37,756] Trial 554 finished with value: 0.4738292011019284 and parameters: {'n_estimators': 300, 'max_depth': 48, 'min_samples_split': 0.03146046993126047, 'min_samples_leaf': 0.01141995986529288, 'max_features': 'auto'}. Best is trial 527 with value: 0.48760330578512395.\n",
      "[I 2024-03-12 09:34:39,327] Trial 555 finished with value: 0.4462809917355372 and parameters: {'n_estimators': 294, 'max_depth': 47, 'min_samples_split': 0.0399714799485614, 'min_samples_leaf': 0.03821932853915073, 'max_features': 'auto'}. Best is trial 527 with value: 0.48760330578512395.\n",
      "[I 2024-03-12 09:34:41,008] Trial 556 finished with value: 0.4573002754820937 and parameters: {'n_estimators': 296, 'max_depth': 50, 'min_samples_split': 0.010771911777557219, 'min_samples_leaf': 0.03213055937613019, 'max_features': 'auto'}. Best is trial 527 with value: 0.48760330578512395.\n",
      "[I 2024-03-12 09:34:43,197] Trial 557 finished with value: 0.4738292011019284 and parameters: {'n_estimators': 293, 'max_depth': 49, 'min_samples_split': 0.027907782706312327, 'min_samples_leaf': 0.010669000943254285, 'max_features': 'auto'}. Best is trial 527 with value: 0.48760330578512395.\n",
      "[I 2024-03-12 09:34:44,778] Trial 558 finished with value: 0.4490358126721763 and parameters: {'n_estimators': 300, 'max_depth': 47, 'min_samples_split': 0.044558866251629206, 'min_samples_leaf': 0.03709257525453446, 'max_features': 'auto'}. Best is trial 527 with value: 0.48760330578512395.\n",
      "[I 2024-03-12 09:34:47,484] Trial 559 finished with value: 0.48760330578512395 and parameters: {'n_estimators': 297, 'max_depth': 50, 'min_samples_split': 0.010760538565481814, 'min_samples_leaf': 0.010051466802360107, 'max_features': 'auto'}. Best is trial 527 with value: 0.48760330578512395.\n",
      "[I 2024-03-12 09:34:50,372] Trial 560 finished with value: 0.48484848484848486 and parameters: {'n_estimators': 296, 'max_depth': 50, 'min_samples_split': 0.025778799388729755, 'min_samples_leaf': 0.010106239222534018, 'max_features': 'auto'}. Best is trial 527 with value: 0.48760330578512395.\n",
      "[I 2024-03-12 09:34:51,889] Trial 561 finished with value: 0.45454545454545453 and parameters: {'n_estimators': 297, 'max_depth': 50, 'min_samples_split': 0.010296394707880439, 'min_samples_leaf': 0.04318029556310508, 'max_features': 'auto'}. Best is trial 527 with value: 0.48760330578512395.\n",
      "[I 2024-03-12 09:34:53,567] Trial 562 finished with value: 0.4490358126721763 and parameters: {'n_estimators': 293, 'max_depth': 50, 'min_samples_split': 0.010751086026009158, 'min_samples_leaf': 0.028601694995936858, 'max_features': 'auto'}. Best is trial 527 with value: 0.48760330578512395.\n",
      "[I 2024-03-12 09:34:55,062] Trial 563 finished with value: 0.45454545454545453 and parameters: {'n_estimators': 300, 'max_depth': 48, 'min_samples_split': 0.045822887928713245, 'min_samples_leaf': 0.04414369392248802, 'max_features': 'auto'}. Best is trial 527 with value: 0.48760330578512395.\n",
      "[I 2024-03-12 09:34:57,293] Trial 564 finished with value: 0.48484848484848486 and parameters: {'n_estimators': 297, 'max_depth': 49, 'min_samples_split': 0.010371947167792658, 'min_samples_leaf': 0.010273465185677094, 'max_features': 'auto'}. Best is trial 527 with value: 0.48760330578512395.\n",
      "[I 2024-03-12 09:34:58,969] Trial 565 finished with value: 0.4573002754820937 and parameters: {'n_estimators': 296, 'max_depth': 49, 'min_samples_split': 0.01074746288465918, 'min_samples_leaf': 0.029690342299575824, 'max_features': 'auto'}. Best is trial 527 with value: 0.48760330578512395.\n",
      "[I 2024-03-12 09:35:01,090] Trial 566 finished with value: 0.45179063360881544 and parameters: {'n_estimators': 297, 'max_depth': 49, 'min_samples_split': 0.02678457115704946, 'min_samples_leaf': 0.028155946192755937, 'max_features': 'auto'}. Best is trial 527 with value: 0.48760330578512395.\n",
      "[I 2024-03-12 09:35:03,991] Trial 567 finished with value: 0.4738292011019284 and parameters: {'n_estimators': 297, 'max_depth': 50, 'min_samples_split': 0.010818662452665858, 'min_samples_leaf': 0.011592403559358857, 'max_features': 'auto'}. Best is trial 527 with value: 0.48760330578512395.\n",
      "[I 2024-03-12 09:35:05,497] Trial 568 finished with value: 0.46831955922865015 and parameters: {'n_estimators': 300, 'max_depth': 48, 'min_samples_split': 0.04375707994145749, 'min_samples_leaf': 0.04228582230981516, 'max_features': 'auto'}. Best is trial 527 with value: 0.48760330578512395.\n",
      "[I 2024-03-12 09:35:07,602] Trial 569 finished with value: 0.4765840220385675 and parameters: {'n_estimators': 293, 'max_depth': 49, 'min_samples_split': 0.030350579351525936, 'min_samples_leaf': 0.011123069715549055, 'max_features': 'auto'}. Best is trial 527 with value: 0.48760330578512395.\n",
      "[I 2024-03-12 09:35:09,258] Trial 570 finished with value: 0.4490358126721763 and parameters: {'n_estimators': 293, 'max_depth': 47, 'min_samples_split': 0.027658222816146327, 'min_samples_leaf': 0.028872763550010637, 'max_features': 'auto'}. Best is trial 527 with value: 0.48760330578512395.\n",
      "[I 2024-03-12 09:35:11,323] Trial 571 finished with value: 0.4573002754820937 and parameters: {'n_estimators': 293, 'max_depth': 49, 'min_samples_split': 0.044891095480661745, 'min_samples_leaf': 0.01039270341277175, 'max_features': 'auto'}. Best is trial 527 with value: 0.48760330578512395.\n",
      "[I 2024-03-12 09:35:13,549] Trial 572 finished with value: 0.48484848484848486 and parameters: {'n_estimators': 300, 'max_depth': 50, 'min_samples_split': 0.031816837708967344, 'min_samples_leaf': 0.010891980761097273, 'max_features': 'auto'}. Best is trial 527 with value: 0.48760330578512395.\n",
      "[I 2024-03-12 09:35:16,691] Trial 573 finished with value: 0.4820936639118457 and parameters: {'n_estimators': 300, 'max_depth': 48, 'min_samples_split': 0.02577861283306989, 'min_samples_leaf': 0.010334178003315228, 'max_features': 'auto'}. Best is trial 527 with value: 0.48760330578512395.\n",
      "[I 2024-03-12 09:35:18,587] Trial 574 finished with value: 0.45179063360881544 and parameters: {'n_estimators': 300, 'max_depth': 50, 'min_samples_split': 0.029927505953876138, 'min_samples_leaf': 0.028324102897131834, 'max_features': 'auto'}. Best is trial 527 with value: 0.48760330578512395.\n",
      "[I 2024-03-12 09:35:20,732] Trial 575 finished with value: 0.47107438016528924 and parameters: {'n_estimators': 300, 'max_depth': 48, 'min_samples_split': 0.0272738030858505, 'min_samples_leaf': 0.011423220146141186, 'max_features': 'auto'}. Best is trial 527 with value: 0.48760330578512395.\n",
      "[I 2024-03-12 09:35:22,479] Trial 576 finished with value: 0.45179063360881544 and parameters: {'n_estimators': 300, 'max_depth': 49, 'min_samples_split': 0.013001702760906135, 'min_samples_leaf': 0.0284275207512032, 'max_features': 'auto'}. Best is trial 527 with value: 0.48760330578512395.\n",
      "[I 2024-03-12 09:35:24,541] Trial 577 finished with value: 0.46831955922865015 and parameters: {'n_estimators': 296, 'max_depth': 50, 'min_samples_split': 0.04198261974799767, 'min_samples_leaf': 0.010791800287164985, 'max_features': 'auto'}. Best is trial 527 with value: 0.48760330578512395.\n",
      "[I 2024-03-12 09:35:26,754] Trial 578 finished with value: 0.4738292011019284 and parameters: {'n_estimators': 296, 'max_depth': 47, 'min_samples_split': 0.011274671355143862, 'min_samples_leaf': 0.010566329898635646, 'max_features': 'auto'}. Best is trial 527 with value: 0.48760330578512395.\n",
      "[I 2024-03-12 09:35:28,738] Trial 579 finished with value: 0.45454545454545453 and parameters: {'n_estimators': 297, 'max_depth': 48, 'min_samples_split': 0.02865819677278123, 'min_samples_leaf': 0.04483824724042962, 'max_features': 'auto'}. Best is trial 527 with value: 0.48760330578512395.\n",
      "[I 2024-03-12 09:35:30,878] Trial 580 finished with value: 0.45454545454545453 and parameters: {'n_estimators': 293, 'max_depth': 49, 'min_samples_split': 0.045290230819160476, 'min_samples_leaf': 0.04316414839643516, 'max_features': 'auto'}. Best is trial 527 with value: 0.48760330578512395.\n",
      "[I 2024-03-12 09:35:32,552] Trial 581 finished with value: 0.45454545454545453 and parameters: {'n_estimators': 300, 'max_depth': 49, 'min_samples_split': 0.030805194309738968, 'min_samples_leaf': 0.030358605824424588, 'max_features': 'auto'}. Best is trial 527 with value: 0.48760330578512395.\n",
      "[I 2024-03-12 09:35:34,591] Trial 582 finished with value: 0.4765840220385675 and parameters: {'n_estimators': 296, 'max_depth': 50, 'min_samples_split': 0.04682266870463594, 'min_samples_leaf': 0.01015831862332928, 'max_features': 'auto'}. Best is trial 527 with value: 0.48760330578512395.\n",
      "[I 2024-03-12 09:35:36,747] Trial 583 finished with value: 0.4765840220385675 and parameters: {'n_estimators': 296, 'max_depth': 50, 'min_samples_split': 0.010499376643712923, 'min_samples_leaf': 0.011210004872118021, 'max_features': 'auto'}. Best is trial 527 with value: 0.48760330578512395.\n",
      "[I 2024-03-12 09:35:38,970] Trial 584 finished with value: 0.48484848484848486 and parameters: {'n_estimators': 297, 'max_depth': 50, 'min_samples_split': 0.010404439952691986, 'min_samples_leaf': 0.01072544897289221, 'max_features': 'auto'}. Best is trial 527 with value: 0.48760330578512395.\n",
      "[I 2024-03-12 09:35:40,656] Trial 585 finished with value: 0.4573002754820937 and parameters: {'n_estimators': 300, 'max_depth': 50, 'min_samples_split': 0.010525802261638618, 'min_samples_leaf': 0.030152688808080086, 'max_features': 'auto'}. Best is trial 527 with value: 0.48760330578512395.\n",
      "[I 2024-03-12 09:35:43,599] Trial 586 finished with value: 0.4738292011019284 and parameters: {'n_estimators': 296, 'max_depth': 48, 'min_samples_split': 0.02867525174569535, 'min_samples_leaf': 0.011283704479011449, 'max_features': 'auto'}. Best is trial 527 with value: 0.48760330578512395.\n",
      "[I 2024-03-12 09:35:45,617] Trial 587 finished with value: 0.4573002754820937 and parameters: {'n_estimators': 300, 'max_depth': 50, 'min_samples_split': 0.010958153832552789, 'min_samples_leaf': 0.031424989842875575, 'max_features': 'auto'}. Best is trial 527 with value: 0.48760330578512395.\n",
      "[I 2024-03-12 09:35:47,069] Trial 588 finished with value: 0.45179063360881544 and parameters: {'n_estimators': 293, 'max_depth': 48, 'min_samples_split': 0.04323006478551415, 'min_samples_leaf': 0.04622573036549548, 'max_features': 'auto'}. Best is trial 527 with value: 0.48760330578512395.\n",
      "[I 2024-03-12 09:35:48,771] Trial 589 finished with value: 0.4490358126721763 and parameters: {'n_estimators': 296, 'max_depth': 49, 'min_samples_split': 0.048989982768754534, 'min_samples_leaf': 0.029112567352985615, 'max_features': 'auto'}. Best is trial 527 with value: 0.48760330578512395.\n",
      "[I 2024-03-12 09:35:50,865] Trial 590 finished with value: 0.47107438016528924 and parameters: {'n_estimators': 293, 'max_depth': 50, 'min_samples_split': 0.02992841052825379, 'min_samples_leaf': 0.011373484813269705, 'max_features': 'auto'}. Best is trial 527 with value: 0.48760330578512395.\n",
      "[I 2024-03-12 09:35:52,366] Trial 591 finished with value: 0.45454545454545453 and parameters: {'n_estimators': 300, 'max_depth': 47, 'min_samples_split': 0.0105728329144162, 'min_samples_leaf': 0.044886858944610766, 'max_features': 'auto'}. Best is trial 527 with value: 0.48760330578512395.\n",
      "[I 2024-03-12 09:35:54,121] Trial 592 finished with value: 0.45179063360881544 and parameters: {'n_estimators': 296, 'max_depth': 49, 'min_samples_split': 0.04771311974526664, 'min_samples_leaf': 0.025819646681602793, 'max_features': 'auto'}. Best is trial 527 with value: 0.48760330578512395.\n",
      "[I 2024-03-12 09:35:56,028] Trial 593 finished with value: 0.44352617079889806 and parameters: {'n_estimators': 292, 'max_depth': 50, 'min_samples_split': 0.0305847336895883, 'min_samples_leaf': 0.047544562587323064, 'max_features': 'auto'}. Best is trial 527 with value: 0.48760330578512395.\n",
      "[I 2024-03-12 09:35:58,887] Trial 594 finished with value: 0.47107438016528924 and parameters: {'n_estimators': 296, 'max_depth': 49, 'min_samples_split': 0.02828520768194482, 'min_samples_leaf': 0.01017141323793303, 'max_features': 'auto'}. Best is trial 527 with value: 0.48760330578512395.\n",
      "[I 2024-03-12 09:36:00,593] Trial 595 finished with value: 0.4573002754820937 and parameters: {'n_estimators': 300, 'max_depth': 48, 'min_samples_split': 0.04856278183131307, 'min_samples_leaf': 0.029476256717193963, 'max_features': 'auto'}. Best is trial 527 with value: 0.48760330578512395.\n",
      "[I 2024-03-12 09:36:02,099] Trial 596 finished with value: 0.4573002754820937 and parameters: {'n_estimators': 292, 'max_depth': 50, 'min_samples_split': 0.011084186985250375, 'min_samples_leaf': 0.04444703006716831, 'max_features': 'auto'}. Best is trial 527 with value: 0.48760330578512395.\n",
      "[I 2024-03-12 09:36:03,826] Trial 597 finished with value: 0.45179063360881544 and parameters: {'n_estimators': 297, 'max_depth': 48, 'min_samples_split': 0.010395328454306964, 'min_samples_leaf': 0.027571256206967813, 'max_features': 'auto'}. Best is trial 527 with value: 0.48760330578512395.\n",
      "[I 2024-03-12 09:36:05,851] Trial 598 finished with value: 0.4628099173553719 and parameters: {'n_estimators': 292, 'max_depth': 47, 'min_samples_split': 0.04412385503323177, 'min_samples_leaf': 0.01213489811990955, 'max_features': 'auto'}. Best is trial 527 with value: 0.48760330578512395.\n",
      "[I 2024-03-12 09:36:07,427] Trial 599 finished with value: 0.46831955922865015 and parameters: {'n_estimators': 300, 'max_depth': 49, 'min_samples_split': 0.02862216016764696, 'min_samples_leaf': 0.0430075131360532, 'max_features': 'auto'}. Best is trial 527 with value: 0.48760330578512395.\n",
      "[I 2024-03-12 09:36:09,973] Trial 600 finished with value: 0.45454545454545453 and parameters: {'n_estimators': 296, 'max_depth': 49, 'min_samples_split': 0.05280735288073428, 'min_samples_leaf': 0.01083545051559256, 'max_features': 'auto'}. Best is trial 527 with value: 0.48760330578512395.\n",
      "[I 2024-03-12 09:36:12,251] Trial 601 finished with value: 0.45454545454545453 and parameters: {'n_estimators': 292, 'max_depth': 50, 'min_samples_split': 0.03198339285713042, 'min_samples_leaf': 0.030103608509708904, 'max_features': 'auto'}. Best is trial 527 with value: 0.48760330578512395.\n",
      "[I 2024-03-12 09:36:13,742] Trial 602 finished with value: 0.45179063360881544 and parameters: {'n_estimators': 296, 'max_depth': 47, 'min_samples_split': 0.010995195059193085, 'min_samples_leaf': 0.04529673797571427, 'max_features': 'auto'}. Best is trial 527 with value: 0.48760330578512395.\n",
      "[I 2024-03-12 09:36:15,857] Trial 603 finished with value: 0.45179063360881544 and parameters: {'n_estimators': 300, 'max_depth': 48, 'min_samples_split': 0.05019101176324248, 'min_samples_leaf': 0.011053585051627037, 'max_features': 'auto'}. Best is trial 527 with value: 0.48760330578512395.\n",
      "[I 2024-03-12 09:36:17,572] Trial 604 finished with value: 0.45179063360881544 and parameters: {'n_estimators': 291, 'max_depth': 50, 'min_samples_split': 0.030814601233211406, 'min_samples_leaf': 0.028186311314758426, 'max_features': 'auto'}. Best is trial 527 with value: 0.48760330578512395.\n",
      "[I 2024-03-12 09:36:19,047] Trial 605 finished with value: 0.44352617079889806 and parameters: {'n_estimators': 296, 'max_depth': 49, 'min_samples_split': 0.031310818127546575, 'min_samples_leaf': 0.047607166213055246, 'max_features': 'auto'}. Best is trial 527 with value: 0.48760330578512395.\n",
      "[I 2024-03-12 09:36:20,756] Trial 606 finished with value: 0.45179063360881544 and parameters: {'n_estimators': 293, 'max_depth': 50, 'min_samples_split': 0.05452181904343301, 'min_samples_leaf': 0.027997244457467513, 'max_features': 'auto'}. Best is trial 527 with value: 0.48760330578512395.\n",
      "[I 2024-03-12 09:36:21,758] Trial 607 finished with value: 0.42699724517906334 and parameters: {'n_estimators': 296, 'max_depth': 48, 'min_samples_split': 0.43037148944138826, 'min_samples_leaf': 0.046903349237711014, 'max_features': 'auto'}. Best is trial 527 with value: 0.48760330578512395.\n",
      "[I 2024-03-12 09:36:24,788] Trial 608 finished with value: 0.47107438016528924 and parameters: {'n_estimators': 300, 'max_depth': 49, 'min_samples_split': 0.026796906374365517, 'min_samples_leaf': 0.01167361175759123, 'max_features': 'auto'}. Best is trial 527 with value: 0.48760330578512395.\n",
      "[I 2024-03-12 09:36:26,783] Trial 609 finished with value: 0.4490358126721763 and parameters: {'n_estimators': 291, 'max_depth': 50, 'min_samples_split': 0.011049092180400304, 'min_samples_leaf': 0.02873803611285234, 'max_features': 'auto'}. Best is trial 527 with value: 0.48760330578512395.\n",
      "[I 2024-03-12 09:36:28,848] Trial 610 finished with value: 0.46831955922865015 and parameters: {'n_estimators': 296, 'max_depth': 48, 'min_samples_split': 0.04737491550349659, 'min_samples_leaf': 0.010847578233059572, 'max_features': 'auto'}. Best is trial 527 with value: 0.48760330578512395.\n",
      "[I 2024-03-12 09:36:30,316] Trial 611 finished with value: 0.44352617079889806 and parameters: {'n_estimators': 300, 'max_depth': 49, 'min_samples_split': 0.010479531004510212, 'min_samples_leaf': 0.047533028931019225, 'max_features': 'auto'}. Best is trial 527 with value: 0.48760330578512395.\n",
      "[I 2024-03-12 09:36:31,963] Trial 612 finished with value: 0.45179063360881544 and parameters: {'n_estimators': 291, 'max_depth': 50, 'min_samples_split': 0.029687814033807866, 'min_samples_leaf': 0.031096632220917644, 'max_features': 'auto'}. Best is trial 527 with value: 0.48760330578512395.\n",
      "[I 2024-03-12 09:36:33,605] Trial 613 finished with value: 0.465564738292011 and parameters: {'n_estimators': 296, 'max_depth': 48, 'min_samples_split': 0.010204486795086298, 'min_samples_leaf': 0.03261012936131831, 'max_features': 'auto'}. Best is trial 527 with value: 0.48760330578512395.\n",
      "[I 2024-03-12 09:36:35,253] Trial 614 finished with value: 0.45454545454545453 and parameters: {'n_estimators': 293, 'max_depth': 49, 'min_samples_split': 0.051121226364237105, 'min_samples_leaf': 0.030543745583212975, 'max_features': 'auto'}. Best is trial 527 with value: 0.48760330578512395.\n",
      "[I 2024-03-12 09:36:38,229] Trial 615 finished with value: 0.465564738292011 and parameters: {'n_estimators': 300, 'max_depth': 47, 'min_samples_split': 0.029739920762047956, 'min_samples_leaf': 0.010268121066944875, 'max_features': 'auto'}. Best is trial 527 with value: 0.48760330578512395.\n",
      "[I 2024-03-12 09:36:40,022] Trial 616 finished with value: 0.43526170798898073 and parameters: {'n_estimators': 290, 'max_depth': 50, 'min_samples_split': 0.04989968323234935, 'min_samples_leaf': 0.04831991081902412, 'max_features': 'auto'}. Best is trial 527 with value: 0.48760330578512395.\n",
      "[I 2024-03-12 09:36:41,753] Trial 617 finished with value: 0.45179063360881544 and parameters: {'n_estimators': 296, 'max_depth': 49, 'min_samples_split': 0.02977961027663466, 'min_samples_leaf': 0.02758152116889138, 'max_features': 'auto'}. Best is trial 527 with value: 0.48760330578512395.\n",
      "[I 2024-03-12 09:36:44,006] Trial 618 finished with value: 0.48484848484848486 and parameters: {'n_estimators': 293, 'max_depth': 47, 'min_samples_split': 0.010254623222018347, 'min_samples_leaf': 0.010379726366843138, 'max_features': 'auto'}. Best is trial 527 with value: 0.48760330578512395.\n",
      "[I 2024-03-12 09:36:45,509] Trial 619 finished with value: 0.4462809917355372 and parameters: {'n_estimators': 290, 'max_depth': 48, 'min_samples_split': 0.011003462783696582, 'min_samples_leaf': 0.046929489199328066, 'max_features': 'auto'}. Best is trial 527 with value: 0.48760330578512395.\n",
      "[I 2024-03-12 09:36:47,858] Trial 620 finished with value: 0.45454545454545453 and parameters: {'n_estimators': 293, 'max_depth': 47, 'min_samples_split': 0.028259970300950052, 'min_samples_leaf': 0.030457773137679497, 'max_features': 'auto'}. Best is trial 527 with value: 0.48760330578512395.\n",
      "[I 2024-03-12 09:36:51,029] Trial 621 finished with value: 0.4738292011019284 and parameters: {'n_estimators': 290, 'max_depth': 47, 'min_samples_split': 0.029466359483095273, 'min_samples_leaf': 0.011288856906292524, 'max_features': 'auto'}. Best is trial 527 with value: 0.48760330578512395.\n",
      "[I 2024-03-12 09:36:53,958] Trial 622 finished with value: 0.4793388429752066 and parameters: {'n_estimators': 300, 'max_depth': 48, 'min_samples_split': 0.010706111899677278, 'min_samples_leaf': 0.010504671864023025, 'max_features': 'auto'}. Best is trial 527 with value: 0.48760330578512395.\n",
      "[I 2024-03-12 09:36:55,445] Trial 623 finished with value: 0.4380165289256198 and parameters: {'n_estimators': 300, 'max_depth': 48, 'min_samples_split': 0.023247017761619707, 'min_samples_leaf': 0.050502170516220135, 'max_features': 'auto'}. Best is trial 527 with value: 0.48760330578512395.\n",
      "[I 2024-03-12 09:36:57,234] Trial 624 finished with value: 0.45179063360881544 and parameters: {'n_estimators': 300, 'max_depth': 47, 'min_samples_split': 0.011829408306800519, 'min_samples_leaf': 0.027861480947545023, 'max_features': 'auto'}. Best is trial 527 with value: 0.48760330578512395.\n",
      "[I 2024-03-12 09:36:58,702] Trial 625 finished with value: 0.4380165289256198 and parameters: {'n_estimators': 297, 'max_depth': 49, 'min_samples_split': 0.04646893910882409, 'min_samples_leaf': 0.04789449347275703, 'max_features': 'auto'}. Best is trial 527 with value: 0.48760330578512395.\n",
      "[I 2024-03-12 09:37:00,054] Trial 626 finished with value: 0.4462809917355372 and parameters: {'n_estimators': 297, 'max_depth': 48, 'min_samples_split': 0.28016034757873587, 'min_samples_leaf': 0.011185098067957514, 'max_features': 'auto'}. Best is trial 527 with value: 0.48760330578512395.\n",
      "[I 2024-03-12 09:37:01,755] Trial 627 finished with value: 0.4573002754820937 and parameters: {'n_estimators': 300, 'max_depth': 50, 'min_samples_split': 0.010222443110959694, 'min_samples_leaf': 0.03196242142706903, 'max_features': 'auto'}. Best is trial 527 with value: 0.48760330578512395.\n",
      "[I 2024-03-12 09:37:03,179] Trial 628 finished with value: 0.45454545454545453 and parameters: {'n_estimators': 295, 'max_depth': 47, 'min_samples_split': 0.028463268698968244, 'min_samples_leaf': 0.05290020634585994, 'max_features': 'auto'}. Best is trial 527 with value: 0.48760330578512395.\n",
      "[I 2024-03-12 09:37:05,635] Trial 629 finished with value: 0.4490358126721763 and parameters: {'n_estimators': 294, 'max_depth': 49, 'min_samples_split': 0.052354434216836304, 'min_samples_leaf': 0.027002442535621247, 'max_features': 'auto'}. Best is trial 527 with value: 0.48760330578512395.\n",
      "[I 2024-03-12 09:37:08,298] Trial 630 finished with value: 0.4738292011019284 and parameters: {'n_estimators': 300, 'max_depth': 48, 'min_samples_split': 0.029282680671820827, 'min_samples_leaf': 0.010750446538863841, 'max_features': 'auto'}. Best is trial 527 with value: 0.48760330578512395.\n",
      "[I 2024-03-12 09:37:10,514] Trial 631 finished with value: 0.4738292011019284 and parameters: {'n_estimators': 296, 'max_depth': 50, 'min_samples_split': 0.010040049272783, 'min_samples_leaf': 0.010636369476757097, 'max_features': 'auto'}. Best is trial 527 with value: 0.48760330578512395.\n",
      "[I 2024-03-12 09:37:11,092] Trial 632 finished with value: 0.33884297520661155 and parameters: {'n_estimators': 289, 'max_depth': 49, 'min_samples_split': 0.993047842750716, 'min_samples_leaf': 0.05050561566440937, 'max_features': 'auto'}. Best is trial 527 with value: 0.48760330578512395.\n",
      "[I 2024-03-12 09:37:12,791] Trial 633 finished with value: 0.4573002754820937 and parameters: {'n_estimators': 293, 'max_depth': 48, 'min_samples_split': 0.04287708857270824, 'min_samples_leaf': 0.0302787071701016, 'max_features': 'auto'}. Best is trial 527 with value: 0.48760330578512395.\n",
      "[I 2024-03-12 09:37:14,237] Trial 634 finished with value: 0.4380165289256198 and parameters: {'n_estimators': 297, 'max_depth': 50, 'min_samples_split': 0.010911918970375504, 'min_samples_leaf': 0.04984228950641729, 'max_features': 'auto'}. Best is trial 527 with value: 0.48760330578512395.\n",
      "[I 2024-03-12 09:37:15,014] Trial 635 finished with value: 0.4132231404958678 and parameters: {'n_estimators': 300, 'max_depth': 49, 'min_samples_split': 0.05925472099529941, 'min_samples_leaf': 0.23652381369679745, 'max_features': 'auto'}. Best is trial 527 with value: 0.48760330578512395.\n",
      "[I 2024-03-12 09:37:16,740] Trial 636 finished with value: 0.45179063360881544 and parameters: {'n_estimators': 290, 'max_depth': 48, 'min_samples_split': 0.010104601142067609, 'min_samples_leaf': 0.02840300668273623, 'max_features': 'auto'}. Best is trial 527 with value: 0.48760330578512395.\n",
      "[I 2024-03-12 09:37:19,060] Trial 637 finished with value: 0.4573002754820937 and parameters: {'n_estimators': 294, 'max_depth': 47, 'min_samples_split': 0.03908896469541533, 'min_samples_leaf': 0.030262418227707803, 'max_features': 'auto'}. Best is trial 527 with value: 0.48760330578512395.\n",
      "[I 2024-03-12 09:37:21,060] Trial 638 finished with value: 0.44352617079889806 and parameters: {'n_estimators': 300, 'max_depth': 50, 'min_samples_split': 0.028178302179440527, 'min_samples_leaf': 0.04737754577142507, 'max_features': 'auto'}. Best is trial 527 with value: 0.48760330578512395.\n",
      "[I 2024-03-12 09:37:23,271] Trial 639 finished with value: 0.4738292011019284 and parameters: {'n_estimators': 296, 'max_depth': 49, 'min_samples_split': 0.01039313518600626, 'min_samples_leaf': 0.01034314255583559, 'max_features': 'auto'}. Best is trial 527 with value: 0.48760330578512395.\n",
      "[I 2024-03-12 09:37:23,835] Trial 640 finished with value: 0.39118457300275483 and parameters: {'n_estimators': 290, 'max_depth': 50, 'min_samples_split': 0.6535948380946044, 'min_samples_leaf': 0.010541195013465475, 'max_features': 'auto'}. Best is trial 527 with value: 0.48760330578512395.\n",
      "[I 2024-03-12 09:37:25,503] Trial 641 finished with value: 0.465564738292011 and parameters: {'n_estimators': 294, 'max_depth': 48, 'min_samples_split': 0.05512715580554954, 'min_samples_leaf': 0.03245174586590929, 'max_features': 'auto'}. Best is trial 527 with value: 0.48760330578512395.\n",
      "[I 2024-03-12 09:37:26,956] Trial 642 finished with value: 0.4380165289256198 and parameters: {'n_estimators': 297, 'max_depth': 49, 'min_samples_split': 0.03994197216929651, 'min_samples_leaf': 0.04982342897959592, 'max_features': 'auto'}. Best is trial 527 with value: 0.48760330578512395.\n",
      "[I 2024-03-12 09:37:29,075] Trial 643 finished with value: 0.46831955922865015 and parameters: {'n_estimators': 289, 'max_depth': 46, 'min_samples_split': 0.029678286055681496, 'min_samples_leaf': 0.010636845276798035, 'max_features': 'auto'}. Best is trial 527 with value: 0.48760330578512395.\n",
      "[I 2024-03-12 09:37:30,877] Trial 644 finished with value: 0.4573002754820937 and parameters: {'n_estimators': 300, 'max_depth': 49, 'min_samples_split': 0.010542521233180113, 'min_samples_leaf': 0.029814670410196142, 'max_features': 'auto'}. Best is trial 527 with value: 0.48760330578512395.\n",
      "[I 2024-03-12 09:37:32,923] Trial 645 finished with value: 0.45454545454545453 and parameters: {'n_estimators': 293, 'max_depth': 47, 'min_samples_split': 0.05063969425276608, 'min_samples_leaf': 0.05318067654678814, 'max_features': 'auto'}. Best is trial 527 with value: 0.48760330578512395.\n",
      "[I 2024-03-12 09:37:35,091] Trial 646 finished with value: 0.4573002754820937 and parameters: {'n_estimators': 296, 'max_depth': 50, 'min_samples_split': 0.02932429046937488, 'min_samples_leaf': 0.030249061192967885, 'max_features': 'auto'}. Best is trial 527 with value: 0.48760330578512395.\n",
      "[I 2024-03-12 09:37:36,786] Trial 647 finished with value: 0.4490358126721763 and parameters: {'n_estimators': 290, 'max_depth': 48, 'min_samples_split': 0.05776104729330392, 'min_samples_leaf': 0.029268038361895385, 'max_features': 'auto'}. Best is trial 527 with value: 0.48760330578512395.\n",
      "[I 2024-03-12 09:37:38,241] Trial 648 finished with value: 0.4490358126721763 and parameters: {'n_estimators': 297, 'max_depth': 50, 'min_samples_split': 0.03242355256588295, 'min_samples_leaf': 0.05225601354265333, 'max_features': 'auto'}. Best is trial 527 with value: 0.48760330578512395.\n",
      "[I 2024-03-12 09:37:40,460] Trial 649 finished with value: 0.4765840220385675 and parameters: {'n_estimators': 300, 'max_depth': 49, 'min_samples_split': 0.028165030237477354, 'min_samples_leaf': 0.010275737202109897, 'max_features': 'auto'}. Best is trial 527 with value: 0.48760330578512395.\n",
      "[I 2024-03-12 09:37:42,180] Trial 650 finished with value: 0.4573002754820937 and parameters: {'n_estimators': 293, 'max_depth': 48, 'min_samples_split': 0.057620262876867036, 'min_samples_leaf': 0.029867826927448406, 'max_features': 'auto'}. Best is trial 527 with value: 0.48760330578512395.\n",
      "[I 2024-03-12 09:37:44,231] Trial 651 finished with value: 0.4738292011019284 and parameters: {'n_estimators': 289, 'max_depth': 47, 'min_samples_split': 0.04375852057908859, 'min_samples_leaf': 0.010964581169791154, 'max_features': 'auto'}. Best is trial 527 with value: 0.48760330578512395.\n",
      "[I 2024-03-12 09:37:47,300] Trial 652 finished with value: 0.47107438016528924 and parameters: {'n_estimators': 296, 'max_depth': 50, 'min_samples_split': 0.028889869488201533, 'min_samples_leaf': 0.010214900851574907, 'max_features': 'auto'}. Best is trial 527 with value: 0.48760330578512395.\n",
      "[I 2024-03-12 09:37:48,964] Trial 653 finished with value: 0.43526170798898073 and parameters: {'n_estimators': 293, 'max_depth': 20, 'min_samples_split': 0.01064692342048473, 'min_samples_leaf': 0.05698253395991883, 'max_features': 'auto'}. Best is trial 527 with value: 0.48760330578512395.\n",
      "[I 2024-03-12 09:37:50,558] Trial 654 finished with value: 0.4490358126721763 and parameters: {'n_estimators': 300, 'max_depth': 49, 'min_samples_split': 0.05981769081337057, 'min_samples_leaf': 0.03759722200112169, 'max_features': 'auto'}. Best is trial 527 with value: 0.48760330578512395.\n",
      "[I 2024-03-12 09:37:52,257] Trial 655 finished with value: 0.4573002754820937 and parameters: {'n_estimators': 296, 'max_depth': 50, 'min_samples_split': 0.027844778357524958, 'min_samples_leaf': 0.030157764031452403, 'max_features': 'auto'}. Best is trial 527 with value: 0.48760330578512395.\n",
      "[I 2024-03-12 09:37:53,631] Trial 656 finished with value: 0.44352617079889806 and parameters: {'n_estimators': 289, 'max_depth': 48, 'min_samples_split': 0.042845585253881005, 'min_samples_leaf': 0.05495810648299478, 'max_features': 'auto'}. Best is trial 527 with value: 0.48760330578512395.\n",
      "[I 2024-03-12 09:37:55,844] Trial 657 finished with value: 0.48484848484848486 and parameters: {'n_estimators': 293, 'max_depth': 46, 'min_samples_split': 0.02713498092709956, 'min_samples_leaf': 0.01047362602166221, 'max_features': 'auto'}. Best is trial 527 with value: 0.48760330578512395.\n",
      "[I 2024-03-12 09:37:56,449] Trial 658 finished with value: 0.33884297520661155 and parameters: {'n_estimators': 292, 'max_depth': 46, 'min_samples_split': 0.8376391512602412, 'min_samples_leaf': 0.0312520470502554, 'max_features': 'auto'}. Best is trial 527 with value: 0.48760330578512395.\n",
      "[I 2024-03-12 09:37:58,898] Trial 659 finished with value: 0.48484848484848486 and parameters: {'n_estimators': 288, 'max_depth': 47, 'min_samples_split': 0.010739119872977342, 'min_samples_leaf': 0.010068851012172366, 'max_features': 'auto'}. Best is trial 527 with value: 0.48760330578512395.\n",
      "[I 2024-03-12 09:38:00,962] Trial 660 finished with value: 0.4380165289256198 and parameters: {'n_estimators': 288, 'max_depth': 47, 'min_samples_split': 0.042329776881053396, 'min_samples_leaf': 0.05016242108767529, 'max_features': 'auto'}. Best is trial 527 with value: 0.48760330578512395.\n",
      "[I 2024-03-12 09:38:03,416] Trial 661 finished with value: 0.4793388429752066 and parameters: {'n_estimators': 288, 'max_depth': 47, 'min_samples_split': 0.010838308114954547, 'min_samples_leaf': 0.010260054516036806, 'max_features': 'auto'}. Best is trial 527 with value: 0.48760330578512395.\n",
      "[I 2024-03-12 09:38:05,042] Trial 662 finished with value: 0.47107438016528924 and parameters: {'n_estimators': 287, 'max_depth': 47, 'min_samples_split': 0.055327833432187126, 'min_samples_leaf': 0.03242108023038633, 'max_features': 'auto'}. Best is trial 527 with value: 0.48760330578512395.\n",
      "[I 2024-03-12 09:38:06,549] Trial 663 finished with value: 0.4628099173553719 and parameters: {'n_estimators': 289, 'max_depth': 46, 'min_samples_split': 0.028691986656072713, 'min_samples_leaf': 0.04304225771898404, 'max_features': 'auto'}. Best is trial 527 with value: 0.48760330578512395.\n",
      "[I 2024-03-12 09:38:08,274] Trial 664 finished with value: 0.4462809917355372 and parameters: {'n_estimators': 287, 'max_depth': 46, 'min_samples_split': 0.010709529911365668, 'min_samples_leaf': 0.026481579642968652, 'max_features': 'auto'}. Best is trial 527 with value: 0.48760330578512395.\n",
      "[I 2024-03-12 09:38:09,653] Trial 665 finished with value: 0.4380165289256198 and parameters: {'n_estimators': 288, 'max_depth': 14, 'min_samples_split': 0.0594532135104333, 'min_samples_leaf': 0.057785496061320774, 'max_features': 'auto'}. Best is trial 527 with value: 0.48760330578512395.\n",
      "[I 2024-03-12 09:38:11,350] Trial 666 finished with value: 0.4490358126721763 and parameters: {'n_estimators': 292, 'max_depth': 47, 'min_samples_split': 0.03882452368610453, 'min_samples_leaf': 0.028937862832948615, 'max_features': 'auto'}. Best is trial 527 with value: 0.48760330578512395.\n",
      "[I 2024-03-12 09:38:12,618] Trial 667 finished with value: 0.42424242424242425 and parameters: {'n_estimators': 288, 'max_depth': 48, 'min_samples_split': 0.49223039797636203, 'min_samples_leaf': 0.011176156277829178, 'max_features': 'auto'}. Best is trial 527 with value: 0.48760330578512395.\n",
      "[I 2024-03-12 09:38:15,668] Trial 668 finished with value: 0.4820936639118457 and parameters: {'n_estimators': 292, 'max_depth': 46, 'min_samples_split': 0.027536103550449813, 'min_samples_leaf': 0.01041883746290826, 'max_features': 'auto'}. Best is trial 527 with value: 0.48760330578512395.\n",
      "[I 2024-03-12 09:38:17,615] Trial 669 finished with value: 0.46831955922865015 and parameters: {'n_estimators': 287, 'max_depth': 46, 'min_samples_split': 0.0628153680413716, 'min_samples_leaf': 0.010215231243548872, 'max_features': 'auto'}. Best is trial 527 with value: 0.48760330578512395.\n",
      "[I 2024-03-12 09:38:19,153] Trial 670 finished with value: 0.465564738292011 and parameters: {'n_estimators': 291, 'max_depth': 46, 'min_samples_split': 0.04188211636265507, 'min_samples_leaf': 0.0425108214263983, 'max_features': 'auto'}. Best is trial 527 with value: 0.48760330578512395.\n",
      "[I 2024-03-12 09:38:20,653] Trial 671 finished with value: 0.46005509641873277 and parameters: {'n_estimators': 287, 'max_depth': 46, 'min_samples_split': 0.028279387420981128, 'min_samples_leaf': 0.04212654406879654, 'max_features': 'auto'}. Best is trial 527 with value: 0.48760330578512395.\n",
      "[I 2024-03-12 09:38:22,015] Trial 672 finished with value: 0.4380165289256198 and parameters: {'n_estimators': 291, 'max_depth': 47, 'min_samples_split': 0.06156548980114579, 'min_samples_leaf': 0.05843231966361483, 'max_features': 'auto'}. Best is trial 527 with value: 0.48760330578512395.\n",
      "[I 2024-03-12 09:38:23,620] Trial 673 finished with value: 0.4573002754820937 and parameters: {'n_estimators': 292, 'max_depth': 47, 'min_samples_split': 0.043640463538898513, 'min_samples_leaf': 0.034774868247732335, 'max_features': 'auto'}. Best is trial 527 with value: 0.48760330578512395.\n",
      "[I 2024-03-12 09:38:25,329] Trial 674 finished with value: 0.4462809917355372 and parameters: {'n_estimators': 287, 'max_depth': 48, 'min_samples_split': 0.010231086479346913, 'min_samples_leaf': 0.02717629092204206, 'max_features': 'auto'}. Best is trial 527 with value: 0.48760330578512395.\n",
      "[I 2024-03-12 09:38:26,097] Trial 675 finished with value: 0.33884297520661155 and parameters: {'n_estimators': 293, 'max_depth': 50, 'min_samples_split': 0.028537127762488134, 'min_samples_leaf': 0.624146280013331, 'max_features': 'auto'}. Best is trial 527 with value: 0.48760330578512395.\n",
      "[I 2024-03-12 09:38:27,019] Trial 676 finished with value: 0.33884297520661155 and parameters: {'n_estimators': 293, 'max_depth': 46, 'min_samples_split': 0.010245800377972908, 'min_samples_leaf': 0.39409199789096955, 'max_features': 'auto'}. Best is trial 527 with value: 0.48760330578512395.\n",
      "[I 2024-03-12 09:38:29,392] Trial 677 finished with value: 0.45454545454545453 and parameters: {'n_estimators': 285, 'max_depth': 48, 'min_samples_split': 0.0561324518932137, 'min_samples_leaf': 0.029914759694111857, 'max_features': 'auto'}. Best is trial 527 with value: 0.48760330578512395.\n",
      "[I 2024-03-12 09:38:31,489] Trial 678 finished with value: 0.47107438016528924 and parameters: {'n_estimators': 290, 'max_depth': 50, 'min_samples_split': 0.03942897823034361, 'min_samples_leaf': 0.011307077477498706, 'max_features': 'auto'}. Best is trial 527 with value: 0.48760330578512395.\n",
      "[I 2024-03-12 09:38:32,071] Trial 679 finished with value: 0.33884297520661155 and parameters: {'n_estimators': 294, 'max_depth': 47, 'min_samples_split': 0.6799797251122182, 'min_samples_leaf': 0.05605549398209908, 'max_features': 'auto'}. Best is trial 527 with value: 0.48760330578512395.\n",
      "[I 2024-03-12 09:38:33,726] Trial 680 finished with value: 0.45454545454545453 and parameters: {'n_estimators': 289, 'max_depth': 49, 'min_samples_split': 0.030743005367945758, 'min_samples_leaf': 0.02978009015536192, 'max_features': 'auto'}. Best is trial 527 with value: 0.48760330578512395.\n",
      "[I 2024-03-12 09:38:35,703] Trial 681 finished with value: 0.4628099173553719 and parameters: {'n_estimators': 296, 'max_depth': 48, 'min_samples_split': 0.06472126350421191, 'min_samples_leaf': 0.010476223784299368, 'max_features': 'auto'}. Best is trial 527 with value: 0.48760330578512395.\n",
      "[I 2024-03-12 09:38:37,906] Trial 682 finished with value: 0.4820936639118457 and parameters: {'n_estimators': 293, 'max_depth': 50, 'min_samples_split': 0.02713916060966587, 'min_samples_leaf': 0.010006167186010478, 'max_features': 'auto'}. Best is trial 527 with value: 0.48760330578512395.\n",
      "[I 2024-03-12 09:38:39,403] Trial 683 finished with value: 0.4462809917355372 and parameters: {'n_estimators': 289, 'max_depth': 50, 'min_samples_split': 0.04582906918855608, 'min_samples_leaf': 0.045334218921225036, 'max_features': 'auto'}. Best is trial 527 with value: 0.48760330578512395.\n",
      "[I 2024-03-12 09:38:40,271] Trial 684 finished with value: 0.33884297520661155 and parameters: {'n_estimators': 285, 'max_depth': 11, 'min_samples_split': 0.0634357329260675, 'min_samples_leaf': 0.7739014997384321, 'max_features': 'auto'}. Best is trial 527 with value: 0.48760330578512395.\n",
      "[I 2024-03-12 09:38:42,275] Trial 685 finished with value: 0.44077134986225897 and parameters: {'n_estimators': 292, 'max_depth': 50, 'min_samples_split': 0.02960629097549647, 'min_samples_leaf': 0.05708770933218869, 'max_features': 'auto'}. Best is trial 527 with value: 0.48760330578512395.\n",
      "[I 2024-03-12 09:38:43,412] Trial 686 finished with value: 0.41046831955922863 and parameters: {'n_estimators': 287, 'max_depth': 50, 'min_samples_split': 0.6006480112125235, 'min_samples_leaf': 0.02845766176920162, 'max_features': 'auto'}. Best is trial 527 with value: 0.48760330578512395.\n",
      "[I 2024-03-12 09:38:45,541] Trial 687 finished with value: 0.4765840220385675 and parameters: {'n_estimators': 293, 'max_depth': 49, 'min_samples_split': 0.0402945246931111, 'min_samples_leaf': 0.010068050080068416, 'max_features': 'auto'}. Best is trial 527 with value: 0.48760330578512395.\n",
      "[I 2024-03-12 09:38:47,053] Trial 688 finished with value: 0.4573002754820937 and parameters: {'n_estimators': 296, 'max_depth': 48, 'min_samples_split': 0.027850946351272856, 'min_samples_leaf': 0.04358267251181206, 'max_features': 'auto'}. Best is trial 527 with value: 0.48760330578512395.\n",
      "[I 2024-03-12 09:38:48,599] Trial 689 finished with value: 0.45454545454545453 and parameters: {'n_estimators': 292, 'max_depth': 46, 'min_samples_split': 0.06331020723398495, 'min_samples_leaf': 0.038654491975295295, 'max_features': 'auto'}. Best is trial 527 with value: 0.48760330578512395.\n",
      "[I 2024-03-12 09:38:50,294] Trial 690 finished with value: 0.4490358126721763 and parameters: {'n_estimators': 286, 'max_depth': 50, 'min_samples_split': 0.04301125122391376, 'min_samples_leaf': 0.0283952185661213, 'max_features': 'auto'}. Best is trial 527 with value: 0.48760330578512395.\n",
      "[I 2024-03-12 09:38:52,510] Trial 691 finished with value: 0.48760330578512395 and parameters: {'n_estimators': 297, 'max_depth': 16, 'min_samples_split': 0.026605042402312457, 'min_samples_leaf': 0.010789755020727012, 'max_features': 'auto'}. Best is trial 527 with value: 0.48760330578512395.\n",
      "[I 2024-03-12 09:38:54,228] Trial 692 finished with value: 0.44352617079889806 and parameters: {'n_estimators': 296, 'max_depth': 46, 'min_samples_split': 0.011023371930993264, 'min_samples_leaf': 0.05967795301478005, 'max_features': 'auto'}. Best is trial 527 with value: 0.48760330578512395.\n",
      "[I 2024-03-12 09:38:55,125] Trial 693 finished with value: 0.33884297520661155 and parameters: {'n_estimators': 300, 'max_depth': 8, 'min_samples_split': 0.8758866682911148, 'min_samples_leaf': 0.2759817808074865, 'max_features': 'auto'}. Best is trial 527 with value: 0.48760330578512395.\n",
      "[I 2024-03-12 09:38:57,431] Trial 694 finished with value: 0.4490358126721763 and parameters: {'n_estimators': 297, 'max_depth': 18, 'min_samples_split': 0.027706054889047357, 'min_samples_leaf': 0.028797501229112416, 'max_features': 'auto'}. Best is trial 527 with value: 0.48760330578512395.\n",
      "[I 2024-03-12 09:38:59,129] Trial 695 finished with value: 0.4490358126721763 and parameters: {'n_estimators': 297, 'max_depth': 50, 'min_samples_split': 0.05074650940975389, 'min_samples_leaf': 0.029313790036257135, 'max_features': 'auto'}. Best is trial 527 with value: 0.48760330578512395.\n",
      "[I 2024-03-12 09:38:59,717] Trial 696 finished with value: 0.33884297520661155 and parameters: {'n_estimators': 294, 'max_depth': 47, 'min_samples_split': 0.028563192157718104, 'min_samples_leaf': 0.44174550653174927, 'max_features': 'auto'}. Best is trial 527 with value: 0.48760330578512395.\n",
      "[I 2024-03-12 09:39:02,059] Trial 697 finished with value: 0.48760330578512395 and parameters: {'n_estimators': 297, 'max_depth': 21, 'min_samples_split': 0.010533197446105248, 'min_samples_leaf': 0.010011297804967586, 'max_features': 'auto'}. Best is trial 527 with value: 0.48760330578512395.\n",
      "[I 2024-03-12 09:39:03,634] Trial 698 finished with value: 0.4573002754820937 and parameters: {'n_estimators': 300, 'max_depth': 12, 'min_samples_split': 0.025768759451567442, 'min_samples_leaf': 0.04211561721402419, 'max_features': 'auto'}. Best is trial 527 with value: 0.48760330578512395.\n",
      "[I 2024-03-12 09:39:05,870] Trial 699 finished with value: 0.48484848484848486 and parameters: {'n_estimators': 297, 'max_depth': 48, 'min_samples_split': 0.01087741157539721, 'min_samples_leaf': 0.010803413086815, 'max_features': 'auto'}. Best is trial 527 with value: 0.48760330578512395.\n",
      "[I 2024-03-12 09:39:08,739] Trial 700 finished with value: 0.4793388429752066 and parameters: {'n_estimators': 300, 'max_depth': 48, 'min_samples_split': 0.010274979888139054, 'min_samples_leaf': 0.010597692647854835, 'max_features': 'auto'}. Best is trial 527 with value: 0.48760330578512395.\n",
      "[I 2024-03-12 09:39:10,220] Trial 701 finished with value: 0.4765840220385675 and parameters: {'n_estimators': 132, 'max_depth': 19, 'min_samples_split': 0.011869519484297517, 'min_samples_leaf': 0.011091103978587346, 'max_features': 'auto'}. Best is trial 527 with value: 0.48760330578512395.\n",
      "[I 2024-03-12 09:39:12,118] Trial 702 finished with value: 0.45179063360881544 and parameters: {'n_estimators': 297, 'max_depth': 47, 'min_samples_split': 0.02456515043141888, 'min_samples_leaf': 0.027778136700002395, 'max_features': 'auto'}. Best is trial 527 with value: 0.48760330578512395.\n",
      "[I 2024-03-12 09:39:13,882] Trial 703 finished with value: 0.4490358126721763 and parameters: {'n_estimators': 300, 'max_depth': 48, 'min_samples_split': 0.011665367033425838, 'min_samples_leaf': 0.029188096317674342, 'max_features': 'auto'}. Best is trial 527 with value: 0.48760330578512395.\n",
      "[I 2024-03-12 09:39:14,294] Trial 704 finished with value: 0.33884297520661155 and parameters: {'n_estimators': 184, 'max_depth': 19, 'min_samples_split': 0.010098711193112979, 'min_samples_leaf': 0.36589137722436776, 'max_features': 'auto'}. Best is trial 527 with value: 0.48760330578512395.\n",
      "[I 2024-03-12 09:39:15,818] Trial 705 finished with value: 0.4573002754820937 and parameters: {'n_estimators': 296, 'max_depth': 48, 'min_samples_split': 0.0304801760797346, 'min_samples_leaf': 0.04356278703963924, 'max_features': 'auto'}. Best is trial 527 with value: 0.48760330578512395.\n",
      "[I 2024-03-12 09:39:18,072] Trial 706 finished with value: 0.4738292011019284 and parameters: {'n_estimators': 300, 'max_depth': 14, 'min_samples_split': 0.02880836991988117, 'min_samples_leaf': 0.010478620975014194, 'max_features': 'auto'}. Best is trial 527 with value: 0.48760330578512395.\n",
      "[I 2024-03-12 09:39:19,843] Trial 707 finished with value: 0.4490358126721763 and parameters: {'n_estimators': 293, 'max_depth': 49, 'min_samples_split': 0.010437569719619219, 'min_samples_leaf': 0.027456976638037547, 'max_features': 'auto'}. Best is trial 527 with value: 0.48760330578512395.\n",
      "[I 2024-03-12 09:39:20,452] Trial 708 finished with value: 0.33884297520661155 and parameters: {'n_estimators': 296, 'max_depth': 9, 'min_samples_split': 0.044771537679925456, 'min_samples_leaf': 0.7029085271856058, 'max_features': 'auto'}. Best is trial 527 with value: 0.48760330578512395.\n",
      "[I 2024-03-12 09:39:23,510] Trial 709 finished with value: 0.4793388429752066 and parameters: {'n_estimators': 297, 'max_depth': 46, 'min_samples_split': 0.04030679591434038, 'min_samples_leaf': 0.010542792030345124, 'max_features': 'auto'}. Best is trial 527 with value: 0.48760330578512395.\n",
      "[I 2024-03-12 09:39:25,104] Trial 710 finished with value: 0.44077134986225897 and parameters: {'n_estimators': 293, 'max_depth': 47, 'min_samples_split': 0.010864990755556534, 'min_samples_leaf': 0.05907915723899848, 'max_features': 'auto'}. Best is trial 527 with value: 0.48760330578512395.\n",
      "[I 2024-03-12 09:39:26,912] Trial 711 finished with value: 0.465564738292011 and parameters: {'n_estimators': 249, 'max_depth': 16, 'min_samples_split': 0.04318844040876861, 'min_samples_leaf': 0.010091978718857201, 'max_features': 'auto'}. Best is trial 527 with value: 0.48760330578512395.\n",
      "[I 2024-03-12 09:39:29,112] Trial 712 finished with value: 0.4820936639118457 and parameters: {'n_estimators': 300, 'max_depth': 48, 'min_samples_split': 0.026510672583621973, 'min_samples_leaf': 0.010191512965640852, 'max_features': 'auto'}. Best is trial 527 with value: 0.48760330578512395.\n",
      "[I 2024-03-12 09:39:30,599] Trial 713 finished with value: 0.45454545454545453 and parameters: {'n_estimators': 294, 'max_depth': 17, 'min_samples_split': 0.055270695495948687, 'min_samples_leaf': 0.044593678162423385, 'max_features': 'auto'}. Best is trial 527 with value: 0.48760330578512395.\n",
      "[I 2024-03-12 09:39:32,278] Trial 714 finished with value: 0.4490358126721763 and parameters: {'n_estimators': 291, 'max_depth': 49, 'min_samples_split': 0.028272293369050246, 'min_samples_leaf': 0.029382776464819595, 'max_features': 'auto'}. Best is trial 527 with value: 0.48760330578512395.\n",
      "[I 2024-03-12 09:39:33,636] Trial 715 finished with value: 0.44352617079889806 and parameters: {'n_estimators': 297, 'max_depth': 47, 'min_samples_split': 0.010078760873144247, 'min_samples_leaf': 0.059138732955492435, 'max_features': 'auto'}. Best is trial 527 with value: 0.48760330578512395.\n",
      "[I 2024-03-12 09:39:35,749] Trial 716 finished with value: 0.4573002754820937 and parameters: {'n_estimators': 293, 'max_depth': 16, 'min_samples_split': 0.06145973554288211, 'min_samples_leaf': 0.03175634925612118, 'max_features': 'auto'}. Best is trial 527 with value: 0.48760330578512395.\n",
      "[I 2024-03-12 09:39:38,154] Trial 717 finished with value: 0.4490358126721763 and parameters: {'n_estimators': 300, 'max_depth': 49, 'min_samples_split': 0.0419308312892636, 'min_samples_leaf': 0.02876154114966453, 'max_features': 'auto'}. Best is trial 527 with value: 0.48760330578512395.\n",
      "[I 2024-03-12 09:39:39,672] Trial 718 finished with value: 0.45454545454545453 and parameters: {'n_estimators': 296, 'max_depth': 50, 'min_samples_split': 0.02987401728731725, 'min_samples_leaf': 0.04421484507850374, 'max_features': 'auto'}. Best is trial 527 with value: 0.48760330578512395.\n",
      "[I 2024-03-12 09:39:41,758] Trial 719 finished with value: 0.46831955922865015 and parameters: {'n_estimators': 290, 'max_depth': 48, 'min_samples_split': 0.047357158064426794, 'min_samples_leaf': 0.010709474121912562, 'max_features': 'auto'}. Best is trial 527 with value: 0.48760330578512395.\n",
      "[I 2024-03-12 09:39:44,007] Trial 720 finished with value: 0.4820936639118457 and parameters: {'n_estimators': 300, 'max_depth': 49, 'min_samples_split': 0.02618455115442569, 'min_samples_leaf': 0.01011136844191556, 'max_features': 'auto'}. Best is trial 527 with value: 0.48760330578512395.\n",
      "[I 2024-03-12 09:39:45,540] Trial 721 finished with value: 0.45454545454545453 and parameters: {'n_estimators': 300, 'max_depth': 21, 'min_samples_split': 0.06543701144434752, 'min_samples_leaf': 0.043346256927047286, 'max_features': 'auto'}. Best is trial 527 with value: 0.48760330578512395.\n",
      "[I 2024-03-12 09:39:47,666] Trial 722 finished with value: 0.46005509641873277 and parameters: {'n_estimators': 297, 'max_depth': 50, 'min_samples_split': 0.044387233149663544, 'min_samples_leaf': 0.010286107572985396, 'max_features': 'auto'}. Best is trial 527 with value: 0.48760330578512395.\n",
      "[I 2024-03-12 09:39:49,577] Trial 723 finished with value: 0.44077134986225897 and parameters: {'n_estimators': 300, 'max_depth': 49, 'min_samples_split': 0.06541061516439384, 'min_samples_leaf': 0.05934801473805382, 'max_features': 'auto'}. Best is trial 527 with value: 0.48760330578512395.\n",
      "[I 2024-03-12 09:39:51,934] Trial 724 finished with value: 0.4573002754820937 and parameters: {'n_estimators': 296, 'max_depth': 49, 'min_samples_split': 0.026736174634087874, 'min_samples_leaf': 0.029567137604656245, 'max_features': 'auto'}. Best is trial 527 with value: 0.48760330578512395.\n",
      "[I 2024-03-12 09:39:53,617] Trial 725 finished with value: 0.4573002754820937 and parameters: {'n_estimators': 300, 'max_depth': 50, 'min_samples_split': 0.04433396317134716, 'min_samples_leaf': 0.033193909759368034, 'max_features': 'auto'}. Best is trial 527 with value: 0.48760330578512395.\n",
      "[I 2024-03-12 09:39:54,964] Trial 726 finished with value: 0.44352617079889806 and parameters: {'n_estimators': 294, 'max_depth': 48, 'min_samples_split': 0.03372280190652087, 'min_samples_leaf': 0.05896019591226785, 'max_features': 'auto'}. Best is trial 527 with value: 0.48760330578512395.\n",
      "[I 2024-03-12 09:39:56,709] Trial 727 finished with value: 0.45179063360881544 and parameters: {'n_estimators': 297, 'max_depth': 50, 'min_samples_split': 0.02759117337353844, 'min_samples_leaf': 0.027705914893125547, 'max_features': 'auto'}. Best is trial 527 with value: 0.48760330578512395.\n",
      "[I 2024-03-12 09:39:57,305] Trial 728 finished with value: 0.33884297520661155 and parameters: {'n_estimators': 300, 'max_depth': 49, 'min_samples_split': 0.5140782499973204, 'min_samples_leaf': 0.5788348138339036, 'max_features': 'auto'}. Best is trial 527 with value: 0.48760330578512395.\n",
      "[I 2024-03-12 09:39:58,546] Trial 729 finished with value: 0.45454545454545453 and parameters: {'n_estimators': 293, 'max_depth': 49, 'min_samples_split': 0.24795248530003333, 'min_samples_leaf': 0.04556962865942019, 'max_features': 'auto'}. Best is trial 527 with value: 0.48760330578512395.\n",
      "[I 2024-03-12 09:40:00,317] Trial 730 finished with value: 0.45179063360881544 and parameters: {'n_estimators': 297, 'max_depth': 48, 'min_samples_split': 0.060452700403968274, 'min_samples_leaf': 0.02793646771016338, 'max_features': 'auto'}. Best is trial 527 with value: 0.48760330578512395.\n",
      "[I 2024-03-12 09:40:02,310] Trial 731 finished with value: 0.4490358126721763 and parameters: {'n_estimators': 293, 'max_depth': 15, 'min_samples_split': 0.02929780137369825, 'min_samples_leaf': 0.02914921294809836, 'max_features': 'auto'}. Best is trial 527 with value: 0.48760330578512395.\n",
      "[I 2024-03-12 09:40:04,448] Trial 732 finished with value: 0.44077134986225897 and parameters: {'n_estimators': 300, 'max_depth': 50, 'min_samples_split': 0.04481613607690047, 'min_samples_leaf': 0.04873700179863787, 'max_features': 'auto'}. Best is trial 527 with value: 0.48760330578512395.\n",
      "[I 2024-03-12 09:40:05,922] Trial 733 finished with value: 0.46005509641873277 and parameters: {'n_estimators': 199, 'max_depth': 48, 'min_samples_split': 0.010013062155696924, 'min_samples_leaf': 0.028022499147641846, 'max_features': 'auto'}. Best is trial 527 with value: 0.48760330578512395.\n",
      "[I 2024-03-12 09:40:06,973] Trial 734 finished with value: 0.45454545454545453 and parameters: {'n_estimators': 153, 'max_depth': 12, 'min_samples_split': 0.0676279014159201, 'min_samples_leaf': 0.010913460552394363, 'max_features': 'auto'}. Best is trial 527 with value: 0.48760330578512395.\n",
      "[I 2024-03-12 09:40:09,086] Trial 735 finished with value: 0.46831955922865015 and parameters: {'n_estimators': 296, 'max_depth': 49, 'min_samples_split': 0.047148547182322934, 'min_samples_leaf': 0.010146388470607394, 'max_features': 'auto'}. Best is trial 527 with value: 0.48760330578512395.\n",
      "[I 2024-03-12 09:40:11,355] Trial 736 finished with value: 0.4820936639118457 and parameters: {'n_estimators': 292, 'max_depth': 50, 'min_samples_split': 0.02740724377862166, 'min_samples_leaf': 0.010047030340140288, 'max_features': 'auto'}. Best is trial 527 with value: 0.48760330578512395.\n",
      "[I 2024-03-12 09:40:12,779] Trial 737 finished with value: 0.44352617079889806 and parameters: {'n_estimators': 290, 'max_depth': 50, 'min_samples_split': 0.06578059610129966, 'min_samples_leaf': 0.05954678996071762, 'max_features': 'auto'}. Best is trial 527 with value: 0.48760330578512395.\n",
      "[I 2024-03-12 09:40:14,395] Trial 738 finished with value: 0.46005509641873277 and parameters: {'n_estimators': 292, 'max_depth': 50, 'min_samples_split': 0.02850970310465654, 'min_samples_leaf': 0.040859426805193305, 'max_features': 'auto'}. Best is trial 527 with value: 0.48760330578512395.\n",
      "[I 2024-03-12 09:40:14,968] Trial 739 finished with value: 0.33884297520661155 and parameters: {'n_estimators': 290, 'max_depth': 50, 'min_samples_split': 0.3910266384114484, 'min_samples_leaf': 0.8200362795468353, 'max_features': 'auto'}. Best is trial 527 with value: 0.48760330578512395.\n",
      "[I 2024-03-12 09:40:15,746] Trial 740 finished with value: 0.33884297520661155 and parameters: {'n_estimators': 293, 'max_depth': 49, 'min_samples_split': 0.047781047537005086, 'min_samples_leaf': 0.8858492884996997, 'max_features': 'auto'}. Best is trial 527 with value: 0.48760330578512395.\n",
      "[I 2024-03-12 09:40:17,572] Trial 741 finished with value: 0.45179063360881544 and parameters: {'n_estimators': 213, 'max_depth': 50, 'min_samples_split': 0.028675417140743502, 'min_samples_leaf': 0.028721788307027887, 'max_features': 'auto'}. Best is trial 527 with value: 0.48760330578512395.\n",
      "[I 2024-03-12 09:40:19,478] Trial 742 finished with value: 0.44077134986225897 and parameters: {'n_estimators': 287, 'max_depth': 49, 'min_samples_split': 0.06464603470422382, 'min_samples_leaf': 0.048185168697736425, 'max_features': 'auto'}. Best is trial 527 with value: 0.48760330578512395.\n",
      "[I 2024-03-12 09:40:21,574] Trial 743 finished with value: 0.47107438016528924 and parameters: {'n_estimators': 294, 'max_depth': 50, 'min_samples_split': 0.04537182553046616, 'min_samples_leaf': 0.01065858441219827, 'max_features': 'auto'}. Best is trial 527 with value: 0.48760330578512395.\n",
      "[I 2024-03-12 09:40:22,968] Trial 744 finished with value: 0.4573002754820937 and parameters: {'n_estimators': 296, 'max_depth': 48, 'min_samples_split': 0.028136143217700638, 'min_samples_leaf': 0.06122423494909654, 'max_features': 'auto'}. Best is trial 527 with value: 0.48760330578512395.\n",
      "[I 2024-03-12 09:40:23,742] Trial 745 finished with value: 0.4573002754820937 and parameters: {'n_estimators': 123, 'max_depth': 49, 'min_samples_split': 0.028052151082183716, 'min_samples_leaf': 0.029989228603815362, 'max_features': 'auto'}. Best is trial 527 with value: 0.48760330578512395.\n",
      "[I 2024-03-12 09:40:25,261] Trial 746 finished with value: 0.46831955922865015 and parameters: {'n_estimators': 290, 'max_depth': 50, 'min_samples_split': 0.054844114327582495, 'min_samples_leaf': 0.04261792322103205, 'max_features': 'auto'}. Best is trial 527 with value: 0.48760330578512395.\n",
      "[I 2024-03-12 09:40:27,018] Trial 747 finished with value: 0.45179063360881544 and parameters: {'n_estimators': 293, 'max_depth': 47, 'min_samples_split': 0.02863696015768305, 'min_samples_leaf': 0.02781778535316041, 'max_features': 'auto'}. Best is trial 527 with value: 0.48760330578512395.\n",
      "[I 2024-03-12 09:40:28,788] Trial 748 finished with value: 0.46005509641873277 and parameters: {'n_estimators': 297, 'max_depth': 48, 'min_samples_split': 0.06597602627552013, 'min_samples_leaf': 0.027621778455536126, 'max_features': 'auto'}. Best is trial 527 with value: 0.48760330578512395.\n",
      "[I 2024-03-12 09:40:31,581] Trial 749 finished with value: 0.47107438016528924 and parameters: {'n_estimators': 290, 'max_depth': 49, 'min_samples_split': 0.04560882857826286, 'min_samples_leaf': 0.010781602670568845, 'max_features': 'auto'}. Best is trial 527 with value: 0.48760330578512395.\n",
      "[I 2024-03-12 09:40:33,290] Trial 750 finished with value: 0.45179063360881544 and parameters: {'n_estimators': 285, 'max_depth': 50, 'min_samples_split': 0.01076168261222808, 'min_samples_leaf': 0.06098228771009849, 'max_features': 'auto'}. Best is trial 527 with value: 0.48760330578512395.\n",
      "[I 2024-03-12 09:40:34,548] Trial 751 finished with value: 0.43526170798898073 and parameters: {'n_estimators': 296, 'max_depth': 49, 'min_samples_split': 0.3160360780126159, 'min_samples_leaf': 0.010126412672649526, 'max_features': 'auto'}. Best is trial 527 with value: 0.48760330578512395.\n",
      "[I 2024-03-12 09:40:35,069] Trial 752 finished with value: 0.33884297520661155 and parameters: {'n_estimators': 253, 'max_depth': 46, 'min_samples_split': 0.8041040201977163, 'min_samples_leaf': 0.0440668918738028, 'max_features': 'auto'}. Best is trial 527 with value: 0.48760330578512395.\n",
      "[I 2024-03-12 09:40:36,816] Trial 753 finished with value: 0.4573002754820937 and parameters: {'n_estimators': 293, 'max_depth': 50, 'min_samples_split': 0.01026307381279405, 'min_samples_leaf': 0.029464397116295622, 'max_features': 'auto'}. Best is trial 527 with value: 0.48760330578512395.\n",
      "[I 2024-03-12 09:40:38,310] Trial 754 finished with value: 0.45454545454545453 and parameters: {'n_estimators': 289, 'max_depth': 48, 'min_samples_split': 0.010066414977544765, 'min_samples_leaf': 0.0465574769991044, 'max_features': 'auto'}. Best is trial 527 with value: 0.48760330578512395.\n",
      "[I 2024-03-12 09:40:39,678] Trial 755 finished with value: 0.45454545454545453 and parameters: {'n_estimators': 300, 'max_depth': 20, 'min_samples_split': 0.043750154590146625, 'min_samples_leaf': 0.06190002428312326, 'max_features': 'auto'}. Best is trial 527 with value: 0.48760330578512395.\n",
      "[I 2024-03-12 09:40:41,391] Trial 756 finished with value: 0.4490358126721763 and parameters: {'n_estimators': 296, 'max_depth': 49, 'min_samples_split': 0.02872189645835244, 'min_samples_leaf': 0.028637303746639305, 'max_features': 'auto'}. Best is trial 527 with value: 0.48760330578512395.\n",
      "[I 2024-03-12 09:40:43,330] Trial 757 finished with value: 0.4573002754820937 and parameters: {'n_estimators': 292, 'max_depth': 47, 'min_samples_split': 0.06760428113403538, 'min_samples_leaf': 0.02698589364601202, 'max_features': 'auto'}. Best is trial 527 with value: 0.48760330578512395.\n",
      "[I 2024-03-12 09:40:46,556] Trial 758 finished with value: 0.47107438016528924 and parameters: {'n_estimators': 296, 'max_depth': 50, 'min_samples_split': 0.02857716160272015, 'min_samples_leaf': 0.010874004543312424, 'max_features': 'auto'}. Best is trial 527 with value: 0.48760330578512395.\n",
      "[I 2024-03-12 09:40:48,101] Trial 759 finished with value: 0.45454545454545453 and parameters: {'n_estimators': 286, 'max_depth': 48, 'min_samples_split': 0.04717295426079497, 'min_samples_leaf': 0.043560132369656585, 'max_features': 'auto'}. Best is trial 527 with value: 0.48760330578512395.\n",
      "[I 2024-03-12 09:40:50,349] Trial 760 finished with value: 0.465564738292011 and parameters: {'n_estimators': 300, 'max_depth': 49, 'min_samples_split': 0.030294965719699852, 'min_samples_leaf': 0.010532574147205568, 'max_features': 'auto'}. Best is trial 527 with value: 0.48760330578512395.\n",
      "[I 2024-03-12 09:40:50,959] Trial 761 finished with value: 0.33884297520661155 and parameters: {'n_estimators': 291, 'max_depth': 50, 'min_samples_split': 0.7401737097034194, 'min_samples_leaf': 0.02825724199674328, 'max_features': 'auto'}. Best is trial 527 with value: 0.48760330578512395.\n",
      "[I 2024-03-12 09:40:54,059] Trial 762 finished with value: 0.4738292011019284 and parameters: {'n_estimators': 296, 'max_depth': 21, 'min_samples_split': 0.010582079252845728, 'min_samples_leaf': 0.01090335489997485, 'max_features': 'auto'}. Best is trial 527 with value: 0.48760330578512395.\n",
      "[I 2024-03-12 09:40:54,998] Trial 763 finished with value: 0.33884297520661155 and parameters: {'n_estimators': 293, 'max_depth': 46, 'min_samples_split': 0.05020406139725589, 'min_samples_leaf': 0.49195651759860703, 'max_features': 'auto'}. Best is trial 527 with value: 0.48760330578512395.\n",
      "[I 2024-03-12 09:40:55,988] Trial 764 finished with value: 0.44352617079889806 and parameters: {'n_estimators': 194, 'max_depth': 47, 'min_samples_split': 0.0722689735508988, 'min_samples_leaf': 0.0607995744329021, 'max_features': 'auto'}. Best is trial 527 with value: 0.48760330578512395.\n",
      "[I 2024-03-12 09:40:57,941] Trial 765 finished with value: 0.45179063360881544 and parameters: {'n_estimators': 288, 'max_depth': 49, 'min_samples_split': 0.028175662049431397, 'min_samples_leaf': 0.04380947770120702, 'max_features': 'auto'}. Best is trial 527 with value: 0.48760330578512395.\n",
      "[I 2024-03-12 09:41:00,385] Trial 766 finished with value: 0.4490358126721763 and parameters: {'n_estimators': 297, 'max_depth': 48, 'min_samples_split': 0.04337669710821974, 'min_samples_leaf': 0.028654551787907535, 'max_features': 'auto'}. Best is trial 527 with value: 0.48760330578512395.\n",
      "[I 2024-03-12 09:41:02,710] Trial 767 finished with value: 0.48760330578512395 and parameters: {'n_estimators': 300, 'max_depth': 50, 'min_samples_split': 0.01012346066753033, 'min_samples_leaf': 0.010027414863765162, 'max_features': 'auto'}. Best is trial 527 with value: 0.48760330578512395.\n",
      "[I 2024-03-12 09:41:04,193] Trial 768 finished with value: 0.45179063360881544 and parameters: {'n_estimators': 293, 'max_depth': 49, 'min_samples_split': 0.028371131967883063, 'min_samples_leaf': 0.0461028021927475, 'max_features': 'auto'}. Best is trial 527 with value: 0.48760330578512395.\n",
      "[I 2024-03-12 09:41:06,194] Trial 769 finished with value: 0.4573002754820937 and parameters: {'n_estimators': 284, 'max_depth': 13, 'min_samples_split': 0.05361300683462046, 'min_samples_leaf': 0.010873747205416257, 'max_features': 'auto'}. Best is trial 527 with value: 0.48760330578512395.\n",
      "[I 2024-03-12 09:41:07,937] Trial 770 finished with value: 0.4490358126721763 and parameters: {'n_estimators': 296, 'max_depth': 48, 'min_samples_split': 0.027097240001764944, 'min_samples_leaf': 0.028640302883632333, 'max_features': 'auto'}. Best is trial 527 with value: 0.48760330578512395.\n",
      "[I 2024-03-12 09:41:09,068] Trial 771 finished with value: 0.4628099173553719 and parameters: {'n_estimators': 145, 'max_depth': 17, 'min_samples_split': 0.010070973262181617, 'min_samples_leaf': 0.010576800800467035, 'max_features': 'auto'}. Best is trial 527 with value: 0.48760330578512395.\n",
      "[I 2024-03-12 09:41:09,633] Trial 772 finished with value: 0.4049586776859504 and parameters: {'n_estimators': 175, 'max_depth': 50, 'min_samples_split': 0.5543297793548537, 'min_samples_leaf': 0.06259081221834974, 'max_features': 'auto'}. Best is trial 527 with value: 0.48760330578512395.\n",
      "[I 2024-03-12 09:41:11,525] Trial 773 finished with value: 0.46831955922865015 and parameters: {'n_estimators': 290, 'max_depth': 49, 'min_samples_split': 0.07265008800627809, 'min_samples_leaf': 0.04229011100593218, 'max_features': 'auto'}. Best is trial 527 with value: 0.48760330578512395.\n",
      "[I 2024-03-12 09:41:14,054] Trial 774 finished with value: 0.45179063360881544 and parameters: {'n_estimators': 300, 'max_depth': 47, 'min_samples_split': 0.010168457027610985, 'min_samples_leaf': 0.027755883420652286, 'max_features': 'auto'}. Best is trial 527 with value: 0.48760330578512395.\n",
      "[I 2024-03-12 09:41:16,169] Trial 775 finished with value: 0.46005509641873277 and parameters: {'n_estimators': 294, 'max_depth': 50, 'min_samples_split': 0.04452969768765555, 'min_samples_leaf': 0.010168236823964633, 'max_features': 'auto'}. Best is trial 527 with value: 0.48760330578512395.\n",
      "[I 2024-03-12 09:41:17,694] Trial 776 finished with value: 0.4628099173553719 and parameters: {'n_estimators': 288, 'max_depth': 48, 'min_samples_split': 0.0563806316419483, 'min_samples_leaf': 0.04308142278505482, 'max_features': 'auto'}. Best is trial 527 with value: 0.48760330578512395.\n",
      "[I 2024-03-12 09:41:19,889] Trial 777 finished with value: 0.4820936639118457 and parameters: {'n_estimators': 297, 'max_depth': 49, 'min_samples_split': 0.026755075043263764, 'min_samples_leaf': 0.010117859290551626, 'max_features': 'auto'}. Best is trial 527 with value: 0.48760330578512395.\n",
      "[I 2024-03-12 09:41:21,222] Trial 778 finished with value: 0.4462809917355372 and parameters: {'n_estimators': 286, 'max_depth': 6, 'min_samples_split': 0.07118243112650938, 'min_samples_leaf': 0.06314220089060901, 'max_features': 'auto'}. Best is trial 527 with value: 0.48760330578512395.\n",
      "[I 2024-03-12 09:41:22,952] Trial 779 finished with value: 0.45179063360881544 and parameters: {'n_estimators': 291, 'max_depth': 50, 'min_samples_split': 0.042292264575393125, 'min_samples_leaf': 0.028040486668460957, 'max_features': 'auto'}. Best is trial 527 with value: 0.48760330578512395.\n",
      "[I 2024-03-12 09:41:24,669] Trial 780 finished with value: 0.4573002754820937 and parameters: {'n_estimators': 295, 'max_depth': 49, 'min_samples_split': 0.02990881557703138, 'min_samples_leaf': 0.04352162729974078, 'max_features': 'auto'}. Best is trial 527 with value: 0.48760330578512395.\n",
      "[I 2024-03-12 09:41:27,215] Trial 781 finished with value: 0.45179063360881544 and parameters: {'n_estimators': 290, 'max_depth': 50, 'min_samples_split': 0.058278243299712915, 'min_samples_leaf': 0.02609305590160102, 'max_features': 'auto'}. Best is trial 527 with value: 0.48760330578512395.\n",
      "[I 2024-03-12 09:41:28,523] Trial 782 finished with value: 0.44352617079889806 and parameters: {'n_estimators': 243, 'max_depth': 49, 'min_samples_split': 0.04159772067238183, 'min_samples_leaf': 0.06187410370994585, 'max_features': 'auto'}. Best is trial 527 with value: 0.48760330578512395.\n",
      "[I 2024-03-12 09:41:29,113] Trial 783 finished with value: 0.33884297520661155 and parameters: {'n_estimators': 294, 'max_depth': 50, 'min_samples_split': 0.028568388630564608, 'min_samples_leaf': 0.4214762527877316, 'max_features': 'auto'}. Best is trial 527 with value: 0.48760330578512395.\n",
      "[I 2024-03-12 09:41:30,837] Trial 784 finished with value: 0.45179063360881544 and parameters: {'n_estimators': 297, 'max_depth': 46, 'min_samples_split': 0.07337340072208116, 'min_samples_leaf': 0.028052776025565086, 'max_features': 'auto'}. Best is trial 527 with value: 0.48760330578512395.\n",
      "[I 2024-03-12 09:41:32,349] Trial 785 finished with value: 0.465564738292011 and parameters: {'n_estimators': 285, 'max_depth': 49, 'min_samples_split': 0.04346992188726654, 'min_samples_leaf': 0.04238527240413979, 'max_features': 'auto'}. Best is trial 527 with value: 0.48760330578512395.\n",
      "[I 2024-03-12 09:41:34,546] Trial 786 finished with value: 0.4738292011019284 and parameters: {'n_estimators': 292, 'max_depth': 47, 'min_samples_split': 0.028282578789909658, 'min_samples_leaf': 0.010495679058093082, 'max_features': 'auto'}. Best is trial 527 with value: 0.48760330578512395.\n",
      "[I 2024-03-12 09:41:36,611] Trial 787 finished with value: 0.45454545454545453 and parameters: {'n_estimators': 297, 'max_depth': 48, 'min_samples_split': 0.059510969259053755, 'min_samples_leaf': 0.010414551388288899, 'max_features': 'auto'}. Best is trial 527 with value: 0.48760330578512395.\n",
      "[I 2024-03-12 09:41:38,311] Trial 788 finished with value: 0.4628099173553719 and parameters: {'n_estimators': 288, 'max_depth': 50, 'min_samples_split': 0.02843560323536528, 'min_samples_leaf': 0.04289173514288677, 'max_features': 'auto'}. Best is trial 527 with value: 0.48760330578512395.\n",
      "[I 2024-03-12 09:41:39,401] Trial 789 finished with value: 0.46831955922865015 and parameters: {'n_estimators': 117, 'max_depth': 15, 'min_samples_split': 0.04450641781295486, 'min_samples_leaf': 0.026184390294369166, 'max_features': 'auto'}. Best is trial 527 with value: 0.48760330578512395.\n",
      "[I 2024-03-12 09:41:42,244] Trial 790 finished with value: 0.48484848484848486 and parameters: {'n_estimators': 293, 'max_depth': 49, 'min_samples_split': 0.01081254119865022, 'min_samples_leaf': 0.01036543567447806, 'max_features': 'auto'}. Best is trial 527 with value: 0.48760330578512395.\n",
      "[I 2024-03-12 09:41:43,816] Trial 791 finished with value: 0.44352617079889806 and parameters: {'n_estimators': 300, 'max_depth': 48, 'min_samples_split': 0.02408703666251203, 'min_samples_leaf': 0.046088458740028905, 'max_features': 'auto'}. Best is trial 527 with value: 0.48760330578512395.\n",
      "[I 2024-03-12 09:41:46,138] Trial 792 finished with value: 0.48484848484848486 and parameters: {'n_estimators': 296, 'max_depth': 47, 'min_samples_split': 0.010490072436826956, 'min_samples_leaf': 0.010081548987333848, 'max_features': 'auto'}. Best is trial 527 with value: 0.48760330578512395.\n",
      "[I 2024-03-12 09:41:47,544] Trial 793 finished with value: 0.4490358126721763 and parameters: {'n_estimators': 283, 'max_depth': 47, 'min_samples_split': 0.023375928721652128, 'min_samples_leaf': 0.06033278629794908, 'max_features': 'auto'}. Best is trial 527 with value: 0.48760330578512395.\n",
      "[I 2024-03-12 09:41:49,256] Trial 794 finished with value: 0.4490358126721763 and parameters: {'n_estimators': 290, 'max_depth': 45, 'min_samples_split': 0.010113998107872401, 'min_samples_leaf': 0.029159301076614602, 'max_features': 'auto'}. Best is trial 527 with value: 0.48760330578512395.\n",
      "[I 2024-03-12 09:41:51,006] Trial 795 finished with value: 0.4490358126721763 and parameters: {'n_estimators': 293, 'max_depth': 47, 'min_samples_split': 0.010909204619268182, 'min_samples_leaf': 0.029359441851242774, 'max_features': 'auto'}. Best is trial 527 with value: 0.48760330578512395.\n",
      "[I 2024-03-12 09:41:53,857] Trial 796 finished with value: 0.4820936639118457 and parameters: {'n_estimators': 287, 'max_depth': 10, 'min_samples_split': 0.02888733389531378, 'min_samples_leaf': 0.010096384414194052, 'max_features': 'auto'}. Best is trial 527 with value: 0.48760330578512395.\n",
      "[I 2024-03-12 09:41:55,708] Trial 797 finished with value: 0.4573002754820937 and parameters: {'n_estimators': 296, 'max_depth': 46, 'min_samples_split': 0.03076111708727515, 'min_samples_leaf': 0.06298432301781001, 'max_features': 'auto'}. Best is trial 527 with value: 0.48760330578512395.\n",
      "[I 2024-03-12 09:41:57,355] Trial 798 finished with value: 0.45179063360881544 and parameters: {'n_estimators': 291, 'max_depth': 46, 'min_samples_split': 0.010220729256202701, 'min_samples_leaf': 0.04098367620079633, 'max_features': 'auto'}. Best is trial 527 with value: 0.48760330578512395.\n",
      "[I 2024-03-12 09:41:59,116] Trial 799 finished with value: 0.4490358126721763 and parameters: {'n_estimators': 300, 'max_depth': 47, 'min_samples_split': 0.04355566474122771, 'min_samples_leaf': 0.02930216858670669, 'max_features': 'auto'}. Best is trial 527 with value: 0.48760330578512395.\n",
      "[I 2024-03-12 09:42:00,828] Trial 800 finished with value: 0.4573002754820937 and parameters: {'n_estimators': 294, 'max_depth': 48, 'min_samples_split': 0.028449966760805127, 'min_samples_leaf': 0.029826617591412967, 'max_features': 'auto'}. Best is trial 527 with value: 0.48760330578512395.\n",
      "[I 2024-03-12 09:42:02,922] Trial 801 finished with value: 0.4462809917355372 and parameters: {'n_estimators': 297, 'max_depth': 47, 'min_samples_split': 0.05599185054047041, 'min_samples_leaf': 0.010216862320901512, 'max_features': 'auto'}. Best is trial 527 with value: 0.48760330578512395.\n",
      "[I 2024-03-12 09:42:04,307] Trial 802 finished with value: 0.4490358126721763 and parameters: {'n_estimators': 289, 'max_depth': 45, 'min_samples_split': 0.010217579092934505, 'min_samples_leaf': 0.06315496792025635, 'max_features': 'auto'}. Best is trial 527 with value: 0.48760330578512395.\n",
      "[I 2024-03-12 09:42:06,039] Trial 803 finished with value: 0.45454545454545453 and parameters: {'n_estimators': 283, 'max_depth': 48, 'min_samples_split': 0.01119848459874857, 'min_samples_leaf': 0.0437786543825908, 'max_features': 'auto'}. Best is trial 527 with value: 0.48760330578512395.\n",
      "[I 2024-03-12 09:42:07,538] Trial 804 finished with value: 0.465564738292011 and parameters: {'n_estimators': 167, 'max_depth': 49, 'min_samples_split': 0.010543237580766971, 'min_samples_leaf': 0.030042952990855153, 'max_features': 'auto'}. Best is trial 527 with value: 0.48760330578512395.\n",
      "[I 2024-03-12 09:42:09,498] Trial 805 finished with value: 0.45179063360881544 and parameters: {'n_estimators': 294, 'max_depth': 46, 'min_samples_split': 0.04197699982671352, 'min_samples_leaf': 0.04679889100287586, 'max_features': 'auto'}. Best is trial 527 with value: 0.48760330578512395.\n",
      "[I 2024-03-12 09:42:11,295] Trial 806 finished with value: 0.4462809917355372 and parameters: {'n_estimators': 300, 'max_depth': 49, 'min_samples_split': 0.02824689997440353, 'min_samples_leaf': 0.027490485085486432, 'max_features': 'auto'}. Best is trial 527 with value: 0.48760330578512395.\n",
      "[I 2024-03-12 09:42:12,796] Trial 807 finished with value: 0.44352617079889806 and parameters: {'n_estimators': 293, 'max_depth': 48, 'min_samples_split': 0.05590679125611879, 'min_samples_leaf': 0.04750453982965801, 'max_features': 'auto'}. Best is trial 527 with value: 0.48760330578512395.\n",
      "[I 2024-03-12 09:42:14,504] Trial 808 finished with value: 0.45179063360881544 and parameters: {'n_estimators': 288, 'max_depth': 49, 'min_samples_split': 0.02782952753021848, 'min_samples_leaf': 0.027922164770286185, 'max_features': 'auto'}. Best is trial 527 with value: 0.48760330578512395.\n",
      "[I 2024-03-12 09:42:16,773] Trial 809 finished with value: 0.4765840220385675 and parameters: {'n_estimators': 295, 'max_depth': 19, 'min_samples_split': 0.01060088093766896, 'min_samples_leaf': 0.010414707997896438, 'max_features': 'auto'}. Best is trial 527 with value: 0.48760330578512395.\n",
      "[I 2024-03-12 09:42:19,116] Trial 810 finished with value: 0.48484848484848486 and parameters: {'n_estimators': 297, 'max_depth': 50, 'min_samples_split': 0.010134430631685856, 'min_samples_leaf': 0.010479199075940122, 'max_features': 'auto'}. Best is trial 527 with value: 0.48760330578512395.\n",
      "[I 2024-03-12 09:42:21,089] Trial 811 finished with value: 0.4462809917355372 and parameters: {'n_estimators': 300, 'max_depth': 45, 'min_samples_split': 0.010456644687993455, 'min_samples_leaf': 0.06705422086558756, 'max_features': 'auto'}. Best is trial 527 with value: 0.48760330578512395.\n",
      "[I 2024-03-12 09:42:22,095] Trial 812 finished with value: 0.41046831955922863 and parameters: {'n_estimators': 297, 'max_depth': 48, 'min_samples_split': 0.042508331340454744, 'min_samples_leaf': 0.31964558968172546, 'max_features': 'auto'}. Best is trial 527 with value: 0.48760330578512395.\n",
      "[I 2024-03-12 09:42:24,099] Trial 813 finished with value: 0.4490358126721763 and parameters: {'n_estimators': 300, 'max_depth': 47, 'min_samples_split': 0.010093313050263068, 'min_samples_leaf': 0.0287519862768451, 'max_features': 'auto'}. Best is trial 527 with value: 0.48760330578512395.\n",
      "[I 2024-03-12 09:42:25,585] Trial 814 finished with value: 0.44352617079889806 and parameters: {'n_estimators': 296, 'max_depth': 22, 'min_samples_split': 0.029615902555090313, 'min_samples_leaf': 0.0474153909540273, 'max_features': 'auto'}. Best is trial 527 with value: 0.48760330578512395.\n",
      "[I 2024-03-12 09:42:27,412] Trial 815 finished with value: 0.45179063360881544 and parameters: {'n_estimators': 296, 'max_depth': 49, 'min_samples_split': 0.04425478289154254, 'min_samples_leaf': 0.027983308172886807, 'max_features': 'auto'}. Best is trial 527 with value: 0.48760330578512395.\n",
      "[I 2024-03-12 09:42:29,703] Trial 816 finished with value: 0.4793388429752066 and parameters: {'n_estimators': 300, 'max_depth': 50, 'min_samples_split': 0.010168504563504238, 'min_samples_leaf': 0.0104619973438783, 'max_features': 'auto'}. Best is trial 527 with value: 0.48760330578512395.\n",
      "[I 2024-03-12 09:42:31,694] Trial 817 finished with value: 0.4573002754820937 and parameters: {'n_estimators': 291, 'max_depth': 48, 'min_samples_split': 0.06842074593594782, 'min_samples_leaf': 0.010052537981286545, 'max_features': 'auto'}. Best is trial 527 with value: 0.48760330578512395.\n",
      "[I 2024-03-12 09:42:33,274] Trial 818 finished with value: 0.45454545454545453 and parameters: {'n_estimators': 296, 'max_depth': 50, 'min_samples_split': 0.042468560731081254, 'min_samples_leaf': 0.06471599078845691, 'max_features': 'auto'}. Best is trial 527 with value: 0.48760330578512395.\n",
      "[I 2024-03-12 09:42:35,464] Trial 819 finished with value: 0.45454545454545453 and parameters: {'n_estimators': 293, 'max_depth': 47, 'min_samples_split': 0.02850871621341745, 'min_samples_leaf': 0.04365524723741965, 'max_features': 'auto'}. Best is trial 527 with value: 0.48760330578512395.\n",
      "[I 2024-03-12 09:42:37,090] Trial 820 finished with value: 0.4573002754820937 and parameters: {'n_estimators': 227, 'max_depth': 49, 'min_samples_split': 0.0642271188439657, 'min_samples_leaf': 0.030533328067429567, 'max_features': 'auto'}. Best is trial 527 with value: 0.48760330578512395.\n",
      "[I 2024-03-12 09:42:38,612] Trial 821 finished with value: 0.44352617079889806 and parameters: {'n_estimators': 300, 'max_depth': 48, 'min_samples_split': 0.01025978356509992, 'min_samples_leaf': 0.046854151529149485, 'max_features': 'auto'}. Best is trial 527 with value: 0.48760330578512395.\n",
      "[I 2024-03-12 09:42:39,191] Trial 822 finished with value: 0.33884297520661155 and parameters: {'n_estimators': 296, 'max_depth': 46, 'min_samples_split': 0.0424084708017849, 'min_samples_leaf': 0.997925037761288, 'max_features': 'auto'}. Best is trial 527 with value: 0.48760330578512395.\n",
      "[I 2024-03-12 09:42:40,910] Trial 823 finished with value: 0.4490358126721763 and parameters: {'n_estimators': 290, 'max_depth': 49, 'min_samples_split': 0.02867205317966781, 'min_samples_leaf': 0.02886979138446929, 'max_features': 'auto'}. Best is trial 527 with value: 0.48760330578512395.\n",
      "[I 2024-03-12 09:42:43,232] Trial 824 finished with value: 0.48484848484848486 and parameters: {'n_estimators': 296, 'max_depth': 50, 'min_samples_split': 0.01021532623148911, 'min_samples_leaf': 0.010089648555420452, 'max_features': 'auto'}. Best is trial 527 with value: 0.48760330578512395.\n",
      "[I 2024-03-12 09:42:45,446] Trial 825 finished with value: 0.4820936639118457 and parameters: {'n_estimators': 286, 'max_depth': 50, 'min_samples_split': 0.010967087223063355, 'min_samples_leaf': 0.010027952811014469, 'max_features': 'auto'}. Best is trial 527 with value: 0.48760330578512395.\n",
      "[I 2024-03-12 09:42:47,012] Trial 826 finished with value: 0.44352617079889806 and parameters: {'n_estimators': 290, 'max_depth': 50, 'min_samples_split': 0.010205347394865082, 'min_samples_leaf': 0.06600537928567123, 'max_features': 'auto'}. Best is trial 527 with value: 0.48760330578512395.\n",
      "[I 2024-03-12 09:42:48,482] Trial 827 finished with value: 0.4214876033057851 and parameters: {'n_estimators': 293, 'max_depth': 50, 'min_samples_split': 0.4587546643847525, 'min_samples_leaf': 0.04389788676554374, 'max_features': 'auto'}. Best is trial 527 with value: 0.48760330578512395.\n",
      "[I 2024-03-12 09:42:50,570] Trial 828 finished with value: 0.4628099173553719 and parameters: {'n_estimators': 219, 'max_depth': 50, 'min_samples_split': 0.0484047096897012, 'min_samples_leaf': 0.010046478668752494, 'max_features': 'auto'}. Best is trial 527 with value: 0.48760330578512395.\n",
      "[I 2024-03-12 09:42:51,715] Trial 829 finished with value: 0.4462809917355372 and parameters: {'n_estimators': 287, 'max_depth': 17, 'min_samples_split': 0.3382352817451197, 'min_samples_leaf': 0.02927764471789642, 'max_features': 'auto'}. Best is trial 527 with value: 0.48760330578512395.\n",
      "[I 2024-03-12 09:42:53,099] Trial 830 finished with value: 0.4490358126721763 and parameters: {'n_estimators': 294, 'max_depth': 48, 'min_samples_split': 0.030184381760763705, 'min_samples_leaf': 0.05986449383189139, 'max_features': 'auto'}. Best is trial 527 with value: 0.48760330578512395.\n",
      "[I 2024-03-12 09:42:54,760] Trial 831 finished with value: 0.4490358126721763 and parameters: {'n_estimators': 284, 'max_depth': 49, 'min_samples_split': 0.027572816048267383, 'min_samples_leaf': 0.028620301439179596, 'max_features': 'auto'}. Best is trial 527 with value: 0.48760330578512395.\n",
      "[I 2024-03-12 09:42:56,480] Trial 832 finished with value: 0.4490358126721763 and parameters: {'n_estimators': 290, 'max_depth': 50, 'min_samples_split': 0.051384086524821036, 'min_samples_leaf': 0.029350347568828882, 'max_features': 'auto'}. Best is trial 527 with value: 0.48760330578512395.\n",
      "[I 2024-03-12 09:42:57,978] Trial 833 finished with value: 0.44077134986225897 and parameters: {'n_estimators': 296, 'max_depth': 47, 'min_samples_split': 0.02851963210385445, 'min_samples_leaf': 0.04967412790679466, 'max_features': 'auto'}. Best is trial 527 with value: 0.48760330578512395.\n",
      "[I 2024-03-12 09:42:59,672] Trial 834 finished with value: 0.4573002754820937 and parameters: {'n_estimators': 292, 'max_depth': 45, 'min_samples_split': 0.0726205621839297, 'min_samples_leaf': 0.028207884228004885, 'max_features': 'auto'}. Best is trial 527 with value: 0.48760330578512395.\n",
      "[I 2024-03-12 09:43:02,516] Trial 835 finished with value: 0.46005509641873277 and parameters: {'n_estimators': 296, 'max_depth': 49, 'min_samples_split': 0.044519176004308304, 'min_samples_leaf': 0.01029023145676137, 'max_features': 'auto'}. Best is trial 527 with value: 0.48760330578512395.\n",
      "[I 2024-03-12 09:43:05,132] Trial 836 finished with value: 0.48484848484848486 and parameters: {'n_estimators': 288, 'max_depth': 48, 'min_samples_split': 0.010149911009892402, 'min_samples_leaf': 0.010018072433816241, 'max_features': 'auto'}. Best is trial 527 with value: 0.48760330578512395.\n",
      "[I 2024-03-12 09:43:06,601] Trial 837 finished with value: 0.44352617079889806 and parameters: {'n_estimators': 287, 'max_depth': 50, 'min_samples_split': 0.02625917060131421, 'min_samples_leaf': 0.04905292043766901, 'max_features': 'auto'}. Best is trial 527 with value: 0.48760330578512395.\n",
      "[I 2024-03-12 09:43:08,204] Trial 838 finished with value: 0.4628099173553719 and parameters: {'n_estimators': 283, 'max_depth': 48, 'min_samples_split': 0.011055630209222856, 'min_samples_leaf': 0.033409152366088275, 'max_features': 'auto'}. Best is trial 527 with value: 0.48760330578512395.\n",
      "[I 2024-03-12 09:43:09,475] Trial 839 finished with value: 0.4462809917355372 and parameters: {'n_estimators': 283, 'max_depth': 46, 'min_samples_split': 0.011619609921071578, 'min_samples_leaf': 0.06901932168156981, 'max_features': 'auto'}. Best is trial 527 with value: 0.48760330578512395.\n",
      "[I 2024-03-12 09:43:11,141] Trial 840 finished with value: 0.4462809917355372 and parameters: {'n_estimators': 285, 'max_depth': 49, 'min_samples_split': 0.010600059326195777, 'min_samples_leaf': 0.028536666000289573, 'max_features': 'auto'}. Best is trial 527 with value: 0.48760330578512395.\n",
      "[I 2024-03-12 09:43:12,622] Trial 841 finished with value: 0.4462809917355372 and parameters: {'n_estimators': 288, 'max_depth': 50, 'min_samples_split': 0.04264838289327193, 'min_samples_leaf': 0.045857790144348605, 'max_features': 'auto'}. Best is trial 527 with value: 0.48760330578512395.\n",
      "[I 2024-03-12 09:43:15,005] Trial 842 finished with value: 0.45454545454545453 and parameters: {'n_estimators': 289, 'max_depth': 47, 'min_samples_split': 0.058985529587671844, 'min_samples_leaf': 0.0104561663064815, 'max_features': 'auto'}. Best is trial 527 with value: 0.48760330578512395.\n",
      "[I 2024-03-12 09:43:17,448] Trial 843 finished with value: 0.4490358126721763 and parameters: {'n_estimators': 283, 'max_depth': 13, 'min_samples_split': 0.02908037526380835, 'min_samples_leaf': 0.02840615293631684, 'max_features': 'auto'}. Best is trial 527 with value: 0.48760330578512395.\n",
      "[I 2024-03-12 09:43:18,755] Trial 844 finished with value: 0.4490358126721763 and parameters: {'n_estimators': 258, 'max_depth': 49, 'min_samples_split': 0.040575113352458975, 'min_samples_leaf': 0.0470883879976297, 'max_features': 'auto'}. Best is trial 527 with value: 0.48760330578512395.\n",
      "[I 2024-03-12 09:43:20,924] Trial 845 finished with value: 0.4793388429752066 and parameters: {'n_estimators': 281, 'max_depth': 50, 'min_samples_split': 0.010303403683463875, 'min_samples_leaf': 0.01048738502684562, 'max_features': 'auto'}. Best is trial 527 with value: 0.48760330578512395.\n",
      "[I 2024-03-12 09:43:21,513] Trial 846 finished with value: 0.33884297520661155 and parameters: {'n_estimators': 291, 'max_depth': 48, 'min_samples_split': 0.027840598068192023, 'min_samples_leaf': 0.6547281958496721, 'max_features': 'auto'}. Best is trial 527 with value: 0.48760330578512395.\n",
      "[I 2024-03-12 09:43:22,808] Trial 847 finished with value: 0.4462809917355372 and parameters: {'n_estimators': 287, 'max_depth': 49, 'min_samples_split': 0.06072696194096375, 'min_samples_leaf': 0.06539727094881022, 'max_features': 'auto'}. Best is trial 527 with value: 0.48760330578512395.\n",
      "[I 2024-03-12 09:43:24,557] Trial 848 finished with value: 0.45179063360881544 and parameters: {'n_estimators': 292, 'max_depth': 48, 'min_samples_split': 0.029888413115311614, 'min_samples_leaf': 0.02771846316958207, 'max_features': 'auto'}. Best is trial 527 with value: 0.48760330578512395.\n",
      "[I 2024-03-12 09:43:26,833] Trial 849 finished with value: 0.48760330578512395 and parameters: {'n_estimators': 293, 'max_depth': 47, 'min_samples_split': 0.011086772674765396, 'min_samples_leaf': 0.01004517258054024, 'max_features': 'auto'}. Best is trial 527 with value: 0.48760330578512395.\n",
      "[I 2024-03-12 09:43:28,712] Trial 850 finished with value: 0.4628099173553719 and parameters: {'n_estimators': 288, 'max_depth': 47, 'min_samples_split': 0.029246180908227743, 'min_samples_leaf': 0.04291900807221697, 'max_features': 'auto'}. Best is trial 527 with value: 0.48760330578512395.\n",
      "[I 2024-03-12 09:43:31,190] Trial 851 finished with value: 0.45179063360881544 and parameters: {'n_estimators': 293, 'max_depth': 46, 'min_samples_split': 0.011458287799544418, 'min_samples_leaf': 0.028241972360193893, 'max_features': 'auto'}. Best is trial 527 with value: 0.48760330578512395.\n",
      "[I 2024-03-12 09:43:31,762] Trial 852 finished with value: 0.33884297520661155 and parameters: {'n_estimators': 281, 'max_depth': 46, 'min_samples_split': 0.047602877730647794, 'min_samples_leaf': 0.944486083615885, 'max_features': 'auto'}. Best is trial 527 with value: 0.48760330578512395.\n",
      "[I 2024-03-12 09:43:33,102] Trial 853 finished with value: 0.45454545454545453 and parameters: {'n_estimators': 290, 'max_depth': 45, 'min_samples_split': 0.01112215673955934, 'min_samples_leaf': 0.062185147433044825, 'max_features': 'auto'}. Best is trial 527 with value: 0.48760330578512395.\n",
      "[I 2024-03-12 09:43:34,829] Trial 854 finished with value: 0.4573002754820937 and parameters: {'n_estimators': 296, 'max_depth': 47, 'min_samples_split': 0.04203644137004157, 'min_samples_leaf': 0.0306412383922276, 'max_features': 'auto'}. Best is trial 527 with value: 0.48760330578512395.\n",
      "[I 2024-03-12 09:43:36,299] Trial 855 finished with value: 0.45454545454545453 and parameters: {'n_estimators': 286, 'max_depth': 45, 'min_samples_split': 0.028412018674935334, 'min_samples_leaf': 0.046424393761494, 'max_features': 'auto'}. Best is trial 527 with value: 0.48760330578512395.\n",
      "[I 2024-03-12 09:43:38,380] Trial 856 finished with value: 0.45179063360881544 and parameters: {'n_estimators': 296, 'max_depth': 46, 'min_samples_split': 0.058683639850593536, 'min_samples_leaf': 0.010035143798079606, 'max_features': 'auto'}. Best is trial 527 with value: 0.48760330578512395.\n",
      "[I 2024-03-12 09:43:40,113] Trial 857 finished with value: 0.45179063360881544 and parameters: {'n_estimators': 293, 'max_depth': 47, 'min_samples_split': 0.026294182337643374, 'min_samples_leaf': 0.028223898963717742, 'max_features': 'auto'}. Best is trial 527 with value: 0.48760330578512395.\n",
      "[I 2024-03-12 09:43:40,607] Trial 858 finished with value: 0.33884297520661155 and parameters: {'n_estimators': 235, 'max_depth': 48, 'min_samples_split': 0.04488239786845602, 'min_samples_leaf': 0.7327159782517091, 'max_features': 'auto'}. Best is trial 527 with value: 0.48760330578512395.\n",
      "[I 2024-03-12 09:43:42,446] Trial 859 finished with value: 0.4462809917355372 and parameters: {'n_estimators': 290, 'max_depth': 46, 'min_samples_split': 0.010901397648188475, 'min_samples_leaf': 0.04526586911705674, 'max_features': 'auto'}. Best is trial 527 with value: 0.48760330578512395.\n",
      "[I 2024-03-12 09:43:44,893] Trial 860 finished with value: 0.45454545454545453 and parameters: {'n_estimators': 296, 'max_depth': 47, 'min_samples_split': 0.0761034781543034, 'min_samples_leaf': 0.027650382410234476, 'max_features': 'auto'}. Best is trial 527 with value: 0.48760330578512395.\n",
      "[I 2024-03-12 09:43:46,294] Trial 861 finished with value: 0.4380165289256198 and parameters: {'n_estimators': 286, 'max_depth': 48, 'min_samples_split': 0.010123799415113535, 'min_samples_leaf': 0.057959719503151014, 'max_features': 'auto'}. Best is trial 527 with value: 0.48760330578512395.\n",
      "[I 2024-03-12 09:43:48,572] Trial 862 finished with value: 0.48484848484848486 and parameters: {'n_estimators': 297, 'max_depth': 47, 'min_samples_split': 0.01043199463463507, 'min_samples_leaf': 0.010582445048047593, 'max_features': 'auto'}. Best is trial 527 with value: 0.48760330578512395.\n",
      "[I 2024-03-12 09:43:50,367] Trial 863 finished with value: 0.4490358126721763 and parameters: {'n_estimators': 297, 'max_depth': 48, 'min_samples_split': 0.010183861283626814, 'min_samples_leaf': 0.02751029690336264, 'max_features': 'auto'}. Best is trial 527 with value: 0.48760330578512395.\n",
      "[I 2024-03-12 09:43:51,943] Trial 864 finished with value: 0.46005509641873277 and parameters: {'n_estimators': 297, 'max_depth': 49, 'min_samples_split': 0.028280629054548992, 'min_samples_leaf': 0.04223495489632427, 'max_features': 'auto'}. Best is trial 527 with value: 0.48760330578512395.\n",
      "[I 2024-03-12 09:43:53,695] Trial 865 finished with value: 0.4462809917355372 and parameters: {'n_estimators': 300, 'max_depth': 47, 'min_samples_split': 0.04315036040739415, 'min_samples_leaf': 0.027310662462287104, 'max_features': 'auto'}. Best is trial 527 with value: 0.48760330578512395.\n",
      "[I 2024-03-12 09:43:55,073] Trial 866 finished with value: 0.44352617079889806 and parameters: {'n_estimators': 296, 'max_depth': 49, 'min_samples_split': 0.010205162498319726, 'min_samples_leaf': 0.06627629362222251, 'max_features': 'auto'}. Best is trial 527 with value: 0.48760330578512395.\n",
      "[I 2024-03-12 09:43:58,162] Trial 867 finished with value: 0.4793388429752066 and parameters: {'n_estimators': 294, 'max_depth': 48, 'min_samples_split': 0.030897778109099494, 'min_samples_leaf': 0.010292601877817296, 'max_features': 'auto'}. Best is trial 527 with value: 0.48760330578512395.\n",
      "[I 2024-03-12 09:43:59,902] Trial 868 finished with value: 0.45454545454545453 and parameters: {'n_estimators': 300, 'max_depth': 49, 'min_samples_split': 0.011155290505185732, 'min_samples_leaf': 0.043767108227621455, 'max_features': 'auto'}. Best is trial 527 with value: 0.48760330578512395.\n",
      "[I 2024-03-12 09:44:01,661] Trial 869 finished with value: 0.4573002754820937 and parameters: {'n_estimators': 293, 'max_depth': 48, 'min_samples_split': 0.010576664072458742, 'min_samples_leaf': 0.02994067535771501, 'max_features': 'auto'}. Best is trial 527 with value: 0.48760330578512395.\n",
      "[I 2024-03-12 09:44:02,709] Trial 870 finished with value: 0.42424242424242425 and parameters: {'n_estimators': 297, 'max_depth': 47, 'min_samples_split': 0.4294398312458773, 'min_samples_leaf': 0.06508007182170528, 'max_features': 'auto'}. Best is trial 527 with value: 0.48760330578512395.\n",
      "[I 2024-03-12 09:44:04,448] Trial 871 finished with value: 0.4490358126721763 and parameters: {'n_estimators': 290, 'max_depth': 50, 'min_samples_split': 0.05516148900500384, 'min_samples_leaf': 0.028984068780141686, 'max_features': 'auto'}. Best is trial 527 with value: 0.48760330578512395.\n",
      "[I 2024-03-12 09:44:05,987] Trial 872 finished with value: 0.4490358126721763 and parameters: {'n_estimators': 297, 'max_depth': 49, 'min_samples_split': 0.041785153876857085, 'min_samples_leaf': 0.04662149178659529, 'max_features': 'auto'}. Best is trial 527 with value: 0.48760330578512395.\n",
      "[I 2024-03-12 09:44:07,784] Trial 873 finished with value: 0.4490358126721763 and parameters: {'n_estimators': 293, 'max_depth': 50, 'min_samples_split': 0.030226732849441655, 'min_samples_leaf': 0.02715367258296305, 'max_features': 'auto'}. Best is trial 527 with value: 0.48760330578512395.\n",
      "[I 2024-03-12 09:44:09,596] Trial 874 finished with value: 0.44077134986225897 and parameters: {'n_estimators': 223, 'max_depth': 47, 'min_samples_split': 0.05692701498865241, 'min_samples_leaf': 0.011371641418433671, 'max_features': 'auto'}. Best is trial 527 with value: 0.48760330578512395.\n",
      "[I 2024-03-12 09:44:10,540] Trial 875 finished with value: 0.33884297520661155 and parameters: {'n_estimators': 300, 'max_depth': 49, 'min_samples_split': 0.028070331699354623, 'min_samples_leaf': 0.48111010226554524, 'max_features': 'auto'}. Best is trial 527 with value: 0.48760330578512395.\n",
      "[I 2024-03-12 09:44:13,210] Trial 876 finished with value: 0.46005509641873277 and parameters: {'n_estimators': 289, 'max_depth': 48, 'min_samples_split': 0.04281629899547327, 'min_samples_leaf': 0.011223456260897949, 'max_features': 'auto'}. Best is trial 527 with value: 0.48760330578512395.\n",
      "[I 2024-03-12 09:44:15,206] Trial 877 finished with value: 0.4490358126721763 and parameters: {'n_estimators': 294, 'max_depth': 50, 'min_samples_split': 0.0729783194551451, 'min_samples_leaf': 0.010455535164052511, 'max_features': 'auto'}. Best is trial 527 with value: 0.48760330578512395.\n",
      "[I 2024-03-12 09:44:16,710] Trial 878 finished with value: 0.44352617079889806 and parameters: {'n_estimators': 297, 'max_depth': 15, 'min_samples_split': 0.010397946373733266, 'min_samples_leaf': 0.04749949504823796, 'max_features': 'auto'}. Best is trial 527 with value: 0.48760330578512395.\n",
      "[I 2024-03-12 09:44:18,442] Trial 879 finished with value: 0.45179063360881544 and parameters: {'n_estimators': 291, 'max_depth': 48, 'min_samples_split': 0.028220614654671565, 'min_samples_leaf': 0.027685573137419962, 'max_features': 'auto'}. Best is trial 527 with value: 0.48760330578512395.\n",
      "[I 2024-03-12 09:44:19,042] Trial 880 finished with value: 0.33884297520661155 and parameters: {'n_estimators': 300, 'max_depth': 49, 'min_samples_split': 0.957218679356477, 'min_samples_leaf': 0.010074549930967784, 'max_features': 'auto'}. Best is trial 527 with value: 0.48760330578512395.\n",
      "[I 2024-03-12 09:44:20,381] Trial 881 finished with value: 0.44352617079889806 and parameters: {'n_estimators': 294, 'max_depth': 47, 'min_samples_split': 0.010811345808733832, 'min_samples_leaf': 0.0654956253246312, 'max_features': 'auto'}. Best is trial 527 with value: 0.48760330578512395.\n",
      "[I 2024-03-12 09:44:20,966] Trial 882 finished with value: 0.33884297520661155 and parameters: {'n_estimators': 288, 'max_depth': 50, 'min_samples_split': 0.04931764551472469, 'min_samples_leaf': 0.5429865855312441, 'max_features': 'auto'}. Best is trial 527 with value: 0.48760330578512395.\n",
      "[I 2024-03-12 09:44:22,576] Trial 883 finished with value: 0.45454545454545453 and parameters: {'n_estimators': 297, 'max_depth': 49, 'min_samples_split': 0.02726861551239447, 'min_samples_leaf': 0.044790001544484745, 'max_features': 'auto'}. Best is trial 527 with value: 0.48760330578512395.\n",
      "[I 2024-03-12 09:44:25,064] Trial 884 finished with value: 0.45179063360881544 and parameters: {'n_estimators': 293, 'max_depth': 48, 'min_samples_split': 0.04230608199308479, 'min_samples_leaf': 0.02812897834292203, 'max_features': 'auto'}. Best is trial 527 with value: 0.48760330578512395.\n",
      "[I 2024-03-12 09:44:26,503] Trial 885 finished with value: 0.4325068870523416 and parameters: {'n_estimators': 286, 'max_depth': 50, 'min_samples_split': 0.38289072164007043, 'min_samples_leaf': 0.04298082375949146, 'max_features': 'auto'}. Best is trial 527 with value: 0.48760330578512395.\n",
      "[I 2024-03-12 09:44:27,858] Trial 886 finished with value: 0.4462809917355372 and parameters: {'n_estimators': 300, 'max_depth': 47, 'min_samples_split': 0.06419735267086085, 'min_samples_leaf': 0.06845143202810368, 'max_features': 'auto'}. Best is trial 527 with value: 0.48760330578512395.\n",
      "[I 2024-03-12 09:44:29,532] Trial 887 finished with value: 0.4462809917355372 and parameters: {'n_estimators': 280, 'max_depth': 12, 'min_samples_split': 0.010051664541057584, 'min_samples_leaf': 0.02721668637170613, 'max_features': 'auto'}. Best is trial 527 with value: 0.48760330578512395.\n",
      "[I 2024-03-12 09:44:31,284] Trial 888 finished with value: 0.4490358126721763 and parameters: {'n_estimators': 296, 'max_depth': 49, 'min_samples_split': 0.010059219733868733, 'min_samples_leaf': 0.029048005870430813, 'max_features': 'auto'}. Best is trial 527 with value: 0.48760330578512395.\n",
      "[I 2024-03-12 09:44:33,411] Trial 889 finished with value: 0.4820936639118457 and parameters: {'n_estimators': 290, 'max_depth': 48, 'min_samples_split': 0.04012223218985642, 'min_samples_leaf': 0.010757787448931877, 'max_features': 'auto'}. Best is trial 527 with value: 0.48760330578512395.\n",
      "[I 2024-03-12 09:44:35,591] Trial 890 finished with value: 0.4820936639118457 and parameters: {'n_estimators': 293, 'max_depth': 50, 'min_samples_split': 0.030498359542723168, 'min_samples_leaf': 0.010528512729895348, 'max_features': 'auto'}. Best is trial 527 with value: 0.48760330578512395.\n",
      "[I 2024-03-12 09:44:37,517] Trial 891 finished with value: 0.4380165289256198 and parameters: {'n_estimators': 297, 'max_depth': 49, 'min_samples_split': 0.05817234813891931, 'min_samples_leaf': 0.049346095233657315, 'max_features': 'auto'}. Best is trial 527 with value: 0.48760330578512395.\n",
      "[I 2024-03-12 09:44:39,808] Trial 892 finished with value: 0.46831955922865015 and parameters: {'n_estimators': 300, 'max_depth': 48, 'min_samples_split': 0.028284786310630857, 'min_samples_leaf': 0.04280804509211043, 'max_features': 'auto'}. Best is trial 527 with value: 0.48760330578512395.\n",
      "[I 2024-03-12 09:44:40,585] Trial 893 finished with value: 0.45179063360881544 and parameters: {'n_estimators': 109, 'max_depth': 46, 'min_samples_split': 0.07604773755780375, 'min_samples_leaf': 0.010570432141372006, 'max_features': 'auto'}. Best is trial 527 with value: 0.48760330578512395.\n",
      "[I 2024-03-12 09:44:41,946] Trial 894 finished with value: 0.4490358126721763 and parameters: {'n_estimators': 289, 'max_depth': 50, 'min_samples_split': 0.010592779283660219, 'min_samples_leaf': 0.06365999589404796, 'max_features': 'auto'}. Best is trial 527 with value: 0.48760330578512395.\n",
      "[I 2024-03-12 09:44:43,712] Trial 895 finished with value: 0.45179063360881544 and parameters: {'n_estimators': 294, 'max_depth': 21, 'min_samples_split': 0.042211287782417645, 'min_samples_leaf': 0.028188736399367382, 'max_features': 'auto'}. Best is trial 527 with value: 0.48760330578512395.\n",
      "[I 2024-03-12 09:44:45,906] Trial 896 finished with value: 0.4820936639118457 and parameters: {'n_estimators': 284, 'max_depth': 46, 'min_samples_split': 0.02754657828844194, 'min_samples_leaf': 0.010188493336061435, 'max_features': 'auto'}. Best is trial 527 with value: 0.48760330578512395.\n",
      "[I 2024-03-12 09:44:46,507] Trial 897 finished with value: 0.33884297520661155 and parameters: {'n_estimators': 296, 'max_depth': 47, 'min_samples_split': 0.932080481723119, 'min_samples_leaf': 0.0434320480913163, 'max_features': 'auto'}. Best is trial 527 with value: 0.48760330578512395.\n",
      "[I 2024-03-12 09:44:48,247] Trial 898 finished with value: 0.45179063360881544 and parameters: {'n_estimators': 291, 'max_depth': 49, 'min_samples_split': 0.0469552231829998, 'min_samples_leaf': 0.03008378206472436, 'max_features': 'auto'}. Best is trial 527 with value: 0.48760330578512395.\n",
      "[I 2024-03-12 09:44:49,694] Trial 899 finished with value: 0.4462809917355372 and parameters: {'n_estimators': 296, 'max_depth': 50, 'min_samples_split': 0.028967082603489215, 'min_samples_leaf': 0.055050954588019424, 'max_features': 'auto'}. Best is trial 527 with value: 0.48760330578512395.\n",
      "[I 2024-03-12 09:44:52,414] Trial 900 finished with value: 0.4490358126721763 and parameters: {'n_estimators': 287, 'max_depth': 19, 'min_samples_split': 0.06142984965604498, 'min_samples_leaf': 0.010104041603819329, 'max_features': 'auto'}. Best is trial 527 with value: 0.48760330578512395.\n",
      "[I 2024-03-12 09:44:54,531] Trial 901 finished with value: 0.45454545454545453 and parameters: {'n_estimators': 300, 'max_depth': 48, 'min_samples_split': 0.026356952587874762, 'min_samples_leaf': 0.03082619363339266, 'max_features': 'auto'}. Best is trial 527 with value: 0.48760330578512395.\n",
      "[I 2024-03-12 09:44:56,101] Trial 902 finished with value: 0.4573002754820937 and parameters: {'n_estimators': 292, 'max_depth': 49, 'min_samples_split': 0.010515115697761427, 'min_samples_leaf': 0.04437241209294906, 'max_features': 'auto'}. Best is trial 527 with value: 0.48760330578512395.\n",
      "[I 2024-03-12 09:44:57,474] Trial 903 finished with value: 0.44352617079889806 and parameters: {'n_estimators': 296, 'max_depth': 47, 'min_samples_split': 0.04437369379344454, 'min_samples_leaf': 0.06998063601620927, 'max_features': 'auto'}. Best is trial 527 with value: 0.48760330578512395.\n",
      "[I 2024-03-12 09:44:58,476] Trial 904 finished with value: 0.4490358126721763 and parameters: {'n_estimators': 158, 'max_depth': 50, 'min_samples_split': 0.010000166167966753, 'min_samples_leaf': 0.028587446746468986, 'max_features': 'auto'}. Best is trial 527 with value: 0.48760330578512395.\n",
      "[I 2024-03-12 09:44:59,368] Trial 905 finished with value: 0.33884297520661155 and parameters: {'n_estimators': 300, 'max_depth': 45, 'min_samples_split': 0.07560760459118537, 'min_samples_leaf': 0.33605800237449357, 'max_features': 'auto'}. Best is trial 527 with value: 0.48760330578512395.\n",
      "[I 2024-03-12 09:45:01,880] Trial 906 finished with value: 0.4490358126721763 and parameters: {'n_estimators': 291, 'max_depth': 48, 'min_samples_split': 0.04269350602585116, 'min_samples_leaf': 0.02883661904824357, 'max_features': 'auto'}. Best is trial 527 with value: 0.48760330578512395.\n",
      "[I 2024-03-12 09:45:02,677] Trial 907 finished with value: 0.33884297520661155 and parameters: {'n_estimators': 294, 'max_depth': 49, 'min_samples_split': 0.7740741112159424, 'min_samples_leaf': 0.010844499072085095, 'max_features': 'auto'}. Best is trial 527 with value: 0.48760330578512395.\n",
      "[I 2024-03-12 09:45:04,277] Trial 908 finished with value: 0.4490358126721763 and parameters: {'n_estimators': 285, 'max_depth': 49, 'min_samples_split': 0.029149712887544962, 'min_samples_leaf': 0.053506006962071986, 'max_features': 'auto'}. Best is trial 527 with value: 0.48760330578512395.\n",
      "[I 2024-03-12 09:45:07,397] Trial 909 finished with value: 0.4765840220385675 and parameters: {'n_estimators': 289, 'max_depth': 50, 'min_samples_split': 0.010499905263127711, 'min_samples_leaf': 0.010343685968808037, 'max_features': 'auto'}. Best is trial 527 with value: 0.48760330578512395.\n",
      "[I 2024-03-12 09:45:09,133] Trial 910 finished with value: 0.4573002754820937 and parameters: {'n_estimators': 297, 'max_depth': 47, 'min_samples_split': 0.05932135100877229, 'min_samples_leaf': 0.02967746856824481, 'max_features': 'auto'}. Best is trial 527 with value: 0.48760330578512395.\n",
      "[I 2024-03-12 09:45:10,603] Trial 911 finished with value: 0.44077134986225897 and parameters: {'n_estimators': 293, 'max_depth': 48, 'min_samples_split': 0.028787323781912136, 'min_samples_leaf': 0.04963783408022206, 'max_features': 'auto'}. Best is trial 527 with value: 0.48760330578512395.\n",
      "[I 2024-03-12 09:45:12,409] Trial 912 finished with value: 0.4490358126721763 and parameters: {'n_estimators': 300, 'max_depth': 49, 'min_samples_split': 0.050109830229189, 'min_samples_leaf': 0.029019790882545287, 'max_features': 'auto'}. Best is trial 527 with value: 0.48760330578512395.\n",
      "[I 2024-03-12 09:45:14,537] Trial 913 finished with value: 0.4765840220385675 and parameters: {'n_estimators': 281, 'max_depth': 50, 'min_samples_split': 0.028237205412488475, 'min_samples_leaf': 0.010322220466542945, 'max_features': 'auto'}. Best is trial 527 with value: 0.48760330578512395.\n",
      "[I 2024-03-12 09:45:15,216] Trial 914 finished with value: 0.418732782369146 and parameters: {'n_estimators': 294, 'max_depth': 46, 'min_samples_split': 0.635652611024046, 'min_samples_leaf': 0.06704903534912063, 'max_features': 'auto'}. Best is trial 527 with value: 0.48760330578512395.\n",
      "[I 2024-03-12 09:45:16,758] Trial 915 finished with value: 0.45454545454545453 and parameters: {'n_estimators': 290, 'max_depth': 48, 'min_samples_split': 0.028433757943487518, 'min_samples_leaf': 0.04394720289017727, 'max_features': 'auto'}. Best is trial 527 with value: 0.48760330578512395.\n",
      "[I 2024-03-12 09:45:19,019] Trial 916 finished with value: 0.4490358126721763 and parameters: {'n_estimators': 297, 'max_depth': 50, 'min_samples_split': 0.05652437795350235, 'min_samples_leaf': 0.028687518466744916, 'max_features': 'auto'}. Best is trial 527 with value: 0.48760330578512395.\n",
      "[I 2024-03-12 09:45:20,837] Trial 917 finished with value: 0.4297520661157025 and parameters: {'n_estimators': 285, 'max_depth': 48, 'min_samples_split': 0.2892654170508102, 'min_samples_leaf': 0.029150015962606336, 'max_features': 'auto'}. Best is trial 527 with value: 0.48760330578512395.\n",
      "[I 2024-03-12 09:45:22,369] Trial 918 finished with value: 0.4380165289256198 and parameters: {'n_estimators': 297, 'max_depth': 10, 'min_samples_split': 0.01039569946070692, 'min_samples_leaf': 0.04786238613453601, 'max_features': 'auto'}. Best is trial 527 with value: 0.48760330578512395.\n",
      "[I 2024-03-12 09:45:22,962] Trial 919 finished with value: 0.33884297520661155 and parameters: {'n_estimators': 300, 'max_depth': 16, 'min_samples_split': 0.07489865756646537, 'min_samples_leaf': 0.8030366989515048, 'max_features': 'auto'}. Best is trial 527 with value: 0.48760330578512395.\n",
      "[I 2024-03-12 09:45:25,071] Trial 920 finished with value: 0.4793388429752066 and parameters: {'n_estimators': 293, 'max_depth': 18, 'min_samples_split': 0.03936745095052839, 'min_samples_leaf': 0.010494941826066447, 'max_features': 'auto'}. Best is trial 527 with value: 0.48760330578512395.\n",
      "[I 2024-03-12 09:45:26,329] Trial 921 finished with value: 0.43526170798898073 and parameters: {'n_estimators': 288, 'max_depth': 49, 'min_samples_split': 0.027954234080272217, 'min_samples_leaf': 0.07365184446472364, 'max_features': 'auto'}. Best is trial 527 with value: 0.48760330578512395.\n",
      "[I 2024-03-12 09:45:28,071] Trial 922 finished with value: 0.45179063360881544 and parameters: {'n_estimators': 293, 'max_depth': 47, 'min_samples_split': 0.011087094092510878, 'min_samples_leaf': 0.028201194367727174, 'max_features': 'auto'}. Best is trial 527 with value: 0.48760330578512395.\n",
      "[I 2024-03-12 09:45:29,583] Trial 923 finished with value: 0.45454545454545453 and parameters: {'n_estimators': 296, 'max_depth': 45, 'min_samples_split': 0.04560275291606063, 'min_samples_leaf': 0.04492289813593982, 'max_features': 'auto'}. Best is trial 527 with value: 0.48760330578512395.\n",
      "[I 2024-03-12 09:45:31,507] Trial 924 finished with value: 0.4573002754820937 and parameters: {'n_estimators': 300, 'max_depth': 50, 'min_samples_split': 0.060518951854134875, 'min_samples_leaf': 0.02960550072997932, 'max_features': 'auto'}. Best is trial 527 with value: 0.48760330578512395.\n",
      "[I 2024-03-12 09:45:33,523] Trial 925 finished with value: 0.44352617079889806 and parameters: {'n_estimators': 290, 'max_depth': 49, 'min_samples_split': 0.010609738833773075, 'min_samples_leaf': 0.056807030926884224, 'max_features': 'auto'}. Best is trial 527 with value: 0.48760330578512395.\n",
      "[I 2024-03-12 09:45:34,465] Trial 926 finished with value: 0.33884297520661155 and parameters: {'n_estimators': 296, 'max_depth': 47, 'min_samples_split': 0.706094210809323, 'min_samples_leaf': 0.024738439735017825, 'max_features': 'auto'}. Best is trial 527 with value: 0.48760330578512395.\n",
      "[I 2024-03-12 09:45:35,189] Trial 927 finished with value: 0.41046831955922863 and parameters: {'n_estimators': 209, 'max_depth': 49, 'min_samples_split': 0.5699676686400422, 'min_samples_leaf': 0.04413065253255168, 'max_features': 'auto'}. Best is trial 527 with value: 0.48760330578512395.\n",
      "[I 2024-03-12 09:45:37,341] Trial 928 finished with value: 0.4738292011019284 and parameters: {'n_estimators': 286, 'max_depth': 46, 'min_samples_split': 0.02796416359407356, 'min_samples_leaf': 0.01090201332978567, 'max_features': 'auto'}. Best is trial 527 with value: 0.48760330578512395.\n",
      "[I 2024-03-12 09:45:39,419] Trial 929 finished with value: 0.4765840220385675 and parameters: {'n_estimators': 291, 'max_depth': 48, 'min_samples_split': 0.04327431197265587, 'min_samples_leaf': 0.010776540424946674, 'max_features': 'auto'}. Best is trial 527 with value: 0.48760330578512395.\n",
      "[I 2024-03-12 09:45:40,750] Trial 930 finished with value: 0.43526170798898073 and parameters: {'n_estimators': 300, 'max_depth': 50, 'min_samples_split': 0.01064493819956345, 'min_samples_leaf': 0.07069292156967236, 'max_features': 'auto'}. Best is trial 527 with value: 0.48760330578512395.\n",
      "[I 2024-03-12 09:45:42,991] Trial 931 finished with value: 0.48484848484848486 and parameters: {'n_estimators': 294, 'max_depth': 49, 'min_samples_split': 0.0281612299207155, 'min_samples_leaf': 0.010051785136389392, 'max_features': 'auto'}. Best is trial 527 with value: 0.48760330578512395.\n",
      "[I 2024-03-12 09:45:45,050] Trial 932 finished with value: 0.4490358126721763 and parameters: {'n_estimators': 281, 'max_depth': 50, 'min_samples_split': 0.06083099025427194, 'min_samples_leaf': 0.010248505303632804, 'max_features': 'auto'}. Best is trial 527 with value: 0.48760330578512395.\n",
      "[I 2024-03-12 09:45:47,294] Trial 933 finished with value: 0.46005509641873277 and parameters: {'n_estimators': 286, 'max_depth': 49, 'min_samples_split': 0.04271082442789817, 'min_samples_leaf': 0.04209492455029019, 'max_features': 'auto'}. Best is trial 527 with value: 0.48760330578512395.\n",
      "[I 2024-03-12 09:45:49,828] Trial 934 finished with value: 0.4765840220385675 and parameters: {'n_estimators': 290, 'max_depth': 50, 'min_samples_split': 0.029623250997307515, 'min_samples_leaf': 0.010100067985165873, 'max_features': 'auto'}. Best is trial 527 with value: 0.48760330578512395.\n",
      "[I 2024-03-12 09:45:51,520] Trial 935 finished with value: 0.4490358126721763 and parameters: {'n_estimators': 283, 'max_depth': 49, 'min_samples_split': 0.010144962993497996, 'min_samples_leaf': 0.029215312083893424, 'max_features': 'auto'}. Best is trial 527 with value: 0.48760330578512395.\n",
      "[I 2024-03-12 09:45:53,025] Trial 936 finished with value: 0.45179063360881544 and parameters: {'n_estimators': 288, 'max_depth': 50, 'min_samples_split': 0.07766556624851517, 'min_samples_leaf': 0.04463857031478953, 'max_features': 'auto'}. Best is trial 527 with value: 0.48760330578512395.\n",
      "[I 2024-03-12 09:45:54,751] Trial 937 finished with value: 0.4490358126721763 and parameters: {'n_estimators': 293, 'max_depth': 48, 'min_samples_split': 0.010013788790324375, 'min_samples_leaf': 0.028790293621884185, 'max_features': 'auto'}. Best is trial 527 with value: 0.48760330578512395.\n",
      "[I 2024-03-12 09:45:56,124] Trial 938 finished with value: 0.45454545454545453 and parameters: {'n_estimators': 293, 'max_depth': 49, 'min_samples_split': 0.04294115452951765, 'min_samples_leaf': 0.06163251061317726, 'max_features': 'auto'}. Best is trial 527 with value: 0.48760330578512395.\n",
      "[I 2024-03-12 09:45:57,819] Trial 939 finished with value: 0.45179063360881544 and parameters: {'n_estimators': 288, 'max_depth': 22, 'min_samples_split': 0.05448279697282182, 'min_samples_leaf': 0.03025510565258663, 'max_features': 'auto'}. Best is trial 527 with value: 0.48760330578512395.\n",
      "[I 2024-03-12 09:46:00,089] Trial 940 finished with value: 0.45179063360881544 and parameters: {'n_estimators': 294, 'max_depth': 50, 'min_samples_split': 0.02573030668578779, 'min_samples_leaf': 0.028157266306504898, 'max_features': 'auto'}. Best is trial 527 with value: 0.48760330578512395.\n",
      "[I 2024-03-12 09:46:02,067] Trial 941 finished with value: 0.4325068870523416 and parameters: {'n_estimators': 279, 'max_depth': 49, 'min_samples_split': 0.07858520252254039, 'min_samples_leaf': 0.05728948719714882, 'max_features': 'auto'}. Best is trial 527 with value: 0.48760330578512395.\n",
      "[I 2024-03-12 09:46:04,248] Trial 942 finished with value: 0.46831955922865015 and parameters: {'n_estimators': 290, 'max_depth': 48, 'min_samples_split': 0.029563168365716715, 'min_samples_leaf': 0.010351658860455226, 'max_features': 'auto'}. Best is trial 527 with value: 0.48760330578512395.\n",
      "[I 2024-03-12 09:46:05,730] Trial 943 finished with value: 0.45454545454545453 and parameters: {'n_estimators': 285, 'max_depth': 47, 'min_samples_split': 0.0102329504103383, 'min_samples_leaf': 0.04341287126160766, 'max_features': 'auto'}. Best is trial 527 with value: 0.48760330578512395.\n",
      "[I 2024-03-12 09:46:07,563] Trial 944 finished with value: 0.45179063360881544 and parameters: {'n_estimators': 296, 'max_depth': 50, 'min_samples_split': 0.04047935467950857, 'min_samples_leaf': 0.027940330326088687, 'max_features': 'auto'}. Best is trial 527 with value: 0.48760330578512395.\n",
      "[I 2024-03-12 09:46:07,901] Trial 945 finished with value: 0.33884297520661155 and parameters: {'n_estimators': 141, 'max_depth': 49, 'min_samples_split': 0.05904918807506457, 'min_samples_leaf': 0.5191490577471263, 'max_features': 'auto'}. Best is trial 527 with value: 0.48760330578512395.\n",
      "[I 2024-03-12 09:46:09,248] Trial 946 finished with value: 0.44352617079889806 and parameters: {'n_estimators': 291, 'max_depth': 48, 'min_samples_split': 0.02699755507553237, 'min_samples_leaf': 0.06803918856618274, 'max_features': 'auto'}. Best is trial 527 with value: 0.48760330578512395.\n",
      "[I 2024-03-12 09:46:11,010] Trial 947 finished with value: 0.45179063360881544 and parameters: {'n_estimators': 294, 'max_depth': 50, 'min_samples_split': 0.04273478115321577, 'min_samples_leaf': 0.02803114902612603, 'max_features': 'auto'}. Best is trial 527 with value: 0.48760330578512395.\n",
      "[I 2024-03-12 09:46:12,765] Trial 948 finished with value: 0.45454545454545453 and parameters: {'n_estimators': 296, 'max_depth': 20, 'min_samples_split': 0.027645914108778716, 'min_samples_leaf': 0.04450752022035148, 'max_features': 'auto'}. Best is trial 527 with value: 0.48760330578512395.\n",
      "[I 2024-03-12 09:46:15,623] Trial 949 finished with value: 0.4490358126721763 and parameters: {'n_estimators': 287, 'max_depth': 48, 'min_samples_split': 0.06127273274078815, 'min_samples_leaf': 0.010313898918776562, 'max_features': 'auto'}. Best is trial 527 with value: 0.48760330578512395.\n",
      "[I 2024-03-12 09:46:17,463] Trial 950 finished with value: 0.45179063360881544 and parameters: {'n_estimators': 291, 'max_depth': 49, 'min_samples_split': 0.028775397450228658, 'min_samples_leaf': 0.02985390240820373, 'max_features': 'auto'}. Best is trial 527 with value: 0.48760330578512395.\n",
      "[I 2024-03-12 09:46:18,081] Trial 951 finished with value: 0.33884297520661155 and parameters: {'n_estimators': 297, 'max_depth': 46, 'min_samples_split': 0.043844945955296304, 'min_samples_leaf': 0.6321315558518739, 'max_features': 'auto'}. Best is trial 527 with value: 0.48760330578512395.\n",
      "[I 2024-03-12 09:46:20,057] Trial 952 finished with value: 0.45454545454545453 and parameters: {'n_estimators': 294, 'max_depth': 50, 'min_samples_split': 0.07688754815212417, 'min_samples_leaf': 0.010087295835978068, 'max_features': 'auto'}. Best is trial 527 with value: 0.48760330578512395.\n",
      "[I 2024-03-12 09:46:21,477] Trial 953 finished with value: 0.4462809917355372 and parameters: {'n_estimators': 288, 'max_depth': 47, 'min_samples_split': 0.02784747391778971, 'min_samples_leaf': 0.05350078690303483, 'max_features': 'auto'}. Best is trial 527 with value: 0.48760330578512395.\n",
      "[I 2024-03-12 09:46:23,221] Trial 954 finished with value: 0.45179063360881544 and parameters: {'n_estimators': 297, 'max_depth': 49, 'min_samples_split': 0.0565496637193582, 'min_samples_leaf': 0.0280272500216003, 'max_features': 'auto'}. Best is trial 527 with value: 0.48760330578512395.\n",
      "[I 2024-03-12 09:46:24,765] Trial 955 finished with value: 0.45454545454545453 and parameters: {'n_estimators': 292, 'max_depth': 48, 'min_samples_split': 0.027784546111175853, 'min_samples_leaf': 0.0440192033641637, 'max_features': 'auto'}. Best is trial 527 with value: 0.48760330578512395.\n",
      "[I 2024-03-12 09:46:27,203] Trial 956 finished with value: 0.4765840220385675 and parameters: {'n_estimators': 284, 'max_depth': 50, 'min_samples_split': 0.04649322499746902, 'min_samples_leaf': 0.010768806143728982, 'max_features': 'auto'}. Best is trial 527 with value: 0.48760330578512395.\n",
      "[I 2024-03-12 09:46:29,159] Trial 957 finished with value: 0.4380165289256198 and parameters: {'n_estimators': 297, 'max_depth': 47, 'min_samples_split': 0.026525480480473457, 'min_samples_leaf': 0.07076215520995005, 'max_features': 'auto'}. Best is trial 527 with value: 0.48760330578512395.\n",
      "[I 2024-03-12 09:46:30,936] Trial 958 finished with value: 0.46831955922865015 and parameters: {'n_estimators': 300, 'max_depth': 8, 'min_samples_split': 0.026195956022391158, 'min_samples_leaf': 0.04297291687957161, 'max_features': 'auto'}. Best is trial 527 with value: 0.48760330578512395.\n",
      "[I 2024-03-12 09:46:32,622] Trial 959 finished with value: 0.4738292011019284 and parameters: {'n_estimators': 291, 'max_depth': 14, 'min_samples_split': 0.044155273676266926, 'min_samples_leaf': 0.03265840647506225, 'max_features': 'auto'}. Best is trial 527 with value: 0.48760330578512395.\n",
      "[I 2024-03-12 09:46:33,666] Trial 960 finished with value: 0.465564738292011 and parameters: {'n_estimators': 131, 'max_depth': 49, 'min_samples_split': 0.010853359946069188, 'min_samples_leaf': 0.010370257133891888, 'max_features': 'auto'}. Best is trial 527 with value: 0.48760330578512395.\n",
      "[I 2024-03-12 09:46:35,409] Trial 961 finished with value: 0.4490358126721763 and parameters: {'n_estimators': 294, 'max_depth': 48, 'min_samples_split': 0.010392342672753997, 'min_samples_leaf': 0.02877084611364618, 'max_features': 'auto'}. Best is trial 527 with value: 0.48760330578512395.\n",
      "[I 2024-03-12 09:46:36,836] Trial 962 finished with value: 0.44352617079889806 and parameters: {'n_estimators': 287, 'max_depth': 50, 'min_samples_split': 0.07157073974292519, 'min_samples_leaf': 0.056248925670982865, 'max_features': 'auto'}. Best is trial 527 with value: 0.48760330578512395.\n",
      "[I 2024-03-12 09:46:39,009] Trial 963 finished with value: 0.46005509641873277 and parameters: {'n_estimators': 296, 'max_depth': 49, 'min_samples_split': 0.04441692844265151, 'min_samples_leaf': 0.010406498217857114, 'max_features': 'auto'}. Best is trial 527 with value: 0.48760330578512395.\n",
      "[I 2024-03-12 09:46:39,602] Trial 964 finished with value: 0.33884297520661155 and parameters: {'n_estimators': 283, 'max_depth': 45, 'min_samples_split': 0.010354797058798649, 'min_samples_leaf': 0.5737406757634761, 'max_features': 'auto'}. Best is trial 527 with value: 0.48760330578512395.\n",
      "[I 2024-03-12 09:46:41,134] Trial 965 finished with value: 0.40771349862258954 and parameters: {'n_estimators': 292, 'max_depth': 46, 'min_samples_split': 0.47903861403337056, 'min_samples_leaf': 0.02888539559672576, 'max_features': 'auto'}. Best is trial 527 with value: 0.48760330578512395.\n",
      "[I 2024-03-12 09:46:43,358] Trial 966 finished with value: 0.4490358126721763 and parameters: {'n_estimators': 300, 'max_depth': 11, 'min_samples_split': 0.05965243074707292, 'min_samples_leaf': 0.04567394899818364, 'max_features': 'auto'}. Best is trial 527 with value: 0.48760330578512395.\n",
      "[I 2024-03-12 09:46:45,567] Trial 967 finished with value: 0.48484848484848486 and parameters: {'n_estimators': 290, 'max_depth': 47, 'min_samples_split': 0.027699775205794825, 'min_samples_leaf': 0.010034898453484365, 'max_features': 'auto'}. Best is trial 527 with value: 0.48760330578512395.\n",
      "[I 2024-03-12 09:46:46,910] Trial 968 finished with value: 0.4380165289256198 and parameters: {'n_estimators': 296, 'max_depth': 46, 'min_samples_split': 0.02820060851715968, 'min_samples_leaf': 0.0721549701434244, 'max_features': 'auto'}. Best is trial 527 with value: 0.48760330578512395.\n",
      "[I 2024-03-12 09:46:48,605] Trial 969 finished with value: 0.45179063360881544 and parameters: {'n_estimators': 290, 'max_depth': 45, 'min_samples_split': 0.010834409229480283, 'min_samples_leaf': 0.02998954319318533, 'max_features': 'auto'}. Best is trial 527 with value: 0.48760330578512395.\n",
      "[I 2024-03-12 09:46:49,469] Trial 970 finished with value: 0.41046831955922863 and parameters: {'n_estimators': 294, 'max_depth': 47, 'min_samples_split': 0.609664612785351, 'min_samples_leaf': 0.05566096438330254, 'max_features': 'auto'}. Best is trial 527 with value: 0.48760330578512395.\n",
      "[I 2024-03-12 09:46:51,228] Trial 971 finished with value: 0.4573002754820937 and parameters: {'n_estimators': 300, 'max_depth': 47, 'min_samples_split': 0.02898373800765936, 'min_samples_leaf': 0.029950198763138647, 'max_features': 'auto'}. Best is trial 527 with value: 0.48760330578512395.\n",
      "[I 2024-03-12 09:46:53,029] Trial 972 finished with value: 0.45179063360881544 and parameters: {'n_estimators': 296, 'max_depth': 46, 'min_samples_split': 0.04465651931215451, 'min_samples_leaf': 0.026415077450261473, 'max_features': 'auto'}. Best is trial 527 with value: 0.48760330578512395.\n",
      "[I 2024-03-12 09:46:56,012] Trial 973 finished with value: 0.4765840220385675 and parameters: {'n_estimators': 289, 'max_depth': 47, 'min_samples_split': 0.0108990322902981, 'min_samples_leaf': 0.010294741993620064, 'max_features': 'auto'}. Best is trial 527 with value: 0.48760330578512395.\n",
      "[I 2024-03-12 09:46:58,571] Trial 974 finished with value: 0.48760330578512395 and parameters: {'n_estimators': 294, 'max_depth': 45, 'min_samples_split': 0.010075045966670623, 'min_samples_leaf': 0.010242448364255478, 'max_features': 'auto'}. Best is trial 527 with value: 0.48760330578512395.\n",
      "[I 2024-03-12 09:47:00,056] Trial 975 finished with value: 0.4380165289256198 and parameters: {'n_estimators': 297, 'max_depth': 46, 'min_samples_split': 0.010733038309646446, 'min_samples_leaf': 0.04799482276364312, 'max_features': 'auto'}. Best is trial 527 with value: 0.48760330578512395.\n",
      "[I 2024-03-12 09:47:01,408] Trial 976 finished with value: 0.43526170798898073 and parameters: {'n_estimators': 300, 'max_depth': 46, 'min_samples_split': 0.02924085863647333, 'min_samples_leaf': 0.07119977979222679, 'max_features': 'auto'}. Best is trial 527 with value: 0.48760330578512395.\n",
      "[I 2024-03-12 09:47:03,664] Trial 977 finished with value: 0.4820936639118457 and parameters: {'n_estimators': 294, 'max_depth': 45, 'min_samples_split': 0.010263851763474094, 'min_samples_leaf': 0.010028737410362865, 'max_features': 'auto'}. Best is trial 527 with value: 0.48760330578512395.\n",
      "[I 2024-03-12 09:47:05,193] Trial 978 finished with value: 0.465564738292011 and parameters: {'n_estimators': 296, 'max_depth': 48, 'min_samples_split': 0.041999575968818606, 'min_samples_leaf': 0.04296460799627903, 'max_features': 'auto'}. Best is trial 527 with value: 0.48760330578512395.\n",
      "[I 2024-03-12 09:47:06,969] Trial 979 finished with value: 0.45179063360881544 and parameters: {'n_estimators': 293, 'max_depth': 45, 'min_samples_split': 0.029897245223540488, 'min_samples_leaf': 0.028123385537065497, 'max_features': 'auto'}. Best is trial 527 with value: 0.48760330578512395.\n",
      "[I 2024-03-12 09:47:09,266] Trial 980 finished with value: 0.45454545454545453 and parameters: {'n_estimators': 297, 'max_depth': 48, 'min_samples_split': 0.010655766658740094, 'min_samples_leaf': 0.04333082557034757, 'max_features': 'auto'}. Best is trial 527 with value: 0.48760330578512395.\n",
      "[I 2024-03-12 09:47:10,980] Trial 981 finished with value: 0.45454545454545453 and parameters: {'n_estimators': 204, 'max_depth': 47, 'min_samples_split': 0.010662426395211193, 'min_samples_leaf': 0.02728517336749868, 'max_features': 'auto'}. Best is trial 527 with value: 0.48760330578512395.\n",
      "[I 2024-03-12 09:47:12,372] Trial 982 finished with value: 0.45454545454545453 and parameters: {'n_estimators': 300, 'max_depth': 46, 'min_samples_split': 0.05929590788065365, 'min_samples_leaf': 0.0635124519553328, 'max_features': 'auto'}. Best is trial 527 with value: 0.48760330578512395.\n",
      "[I 2024-03-12 09:47:14,133] Trial 983 finished with value: 0.4490358126721763 and parameters: {'n_estimators': 293, 'max_depth': 17, 'min_samples_split': 0.04609935272389049, 'min_samples_leaf': 0.02891606803156472, 'max_features': 'auto'}. Best is trial 527 with value: 0.48760330578512395.\n",
      "[I 2024-03-12 09:47:14,738] Trial 984 finished with value: 0.33884297520661155 and parameters: {'n_estimators': 297, 'max_depth': 45, 'min_samples_split': 0.5295585505742461, 'min_samples_leaf': 0.7575690894722306, 'max_features': 'auto'}. Best is trial 527 with value: 0.48760330578512395.\n",
      "[I 2024-03-12 09:47:16,268] Trial 985 finished with value: 0.45454545454545453 and parameters: {'n_estimators': 291, 'max_depth': 48, 'min_samples_split': 0.01005210905876671, 'min_samples_leaf': 0.044671346728243515, 'max_features': 'auto'}. Best is trial 527 with value: 0.48760330578512395.\n",
      "[I 2024-03-12 09:47:17,454] Trial 986 finished with value: 0.4380165289256198 and parameters: {'n_estimators': 300, 'max_depth': 48, 'min_samples_split': 0.35774394610703864, 'min_samples_leaf': 0.028163922079030273, 'max_features': 'auto'}. Best is trial 527 with value: 0.48760330578512395.\n",
      "[I 2024-03-12 09:47:18,249] Trial 987 finished with value: 0.41597796143250687 and parameters: {'n_estimators': 294, 'max_depth': 49, 'min_samples_split': 0.027934998908292576, 'min_samples_leaf': 0.2587116890055484, 'max_features': 'auto'}. Best is trial 527 with value: 0.48760330578512395.\n",
      "[I 2024-03-12 09:47:19,421] Trial 988 finished with value: 0.44352617079889806 and parameters: {'n_estimators': 288, 'max_depth': 47, 'min_samples_split': 0.2660839002434071, 'min_samples_leaf': 0.05552067536556719, 'max_features': 'auto'}. Best is trial 527 with value: 0.48760330578512395.\n",
      "[I 2024-03-12 09:47:21,749] Trial 989 finished with value: 0.45179063360881544 and parameters: {'n_estimators': 297, 'max_depth': 49, 'min_samples_split': 0.05782283376893199, 'min_samples_leaf': 0.010421190322837807, 'max_features': 'auto'}. Best is trial 527 with value: 0.48760330578512395.\n",
      "[I 2024-03-12 09:47:22,527] Trial 990 finished with value: 0.33884297520661155 and parameters: {'n_estimators': 241, 'max_depth': 48, 'min_samples_split': 0.0401858074003347, 'min_samples_leaf': 0.8597603437547404, 'max_features': 'auto'}. Best is trial 527 with value: 0.48760330578512395.\n",
      "[I 2024-03-12 09:47:24,881] Trial 991 finished with value: 0.4490358126721763 and parameters: {'n_estimators': 293, 'max_depth': 50, 'min_samples_split': 0.010112809099489334, 'min_samples_leaf': 0.027308637152786315, 'max_features': 'auto'}. Best is trial 527 with value: 0.48760330578512395.\n",
      "[I 2024-03-12 09:47:26,490] Trial 992 finished with value: 0.4573002754820937 and parameters: {'n_estimators': 300, 'max_depth': 49, 'min_samples_split': 0.029725367484704546, 'min_samples_leaf': 0.04194256985773867, 'max_features': 'auto'}. Best is trial 527 with value: 0.48760330578512395.\n",
      "[I 2024-03-12 09:47:28,228] Trial 993 finished with value: 0.4490358126721763 and parameters: {'n_estimators': 290, 'max_depth': 47, 'min_samples_split': 0.07476971737880667, 'min_samples_leaf': 0.026324670879055465, 'max_features': 'auto'}. Best is trial 527 with value: 0.48760330578512395.\n",
      "[I 2024-03-12 09:47:29,019] Trial 994 finished with value: 0.4049586776859504 and parameters: {'n_estimators': 296, 'max_depth': 45, 'min_samples_split': 0.028227655102792897, 'min_samples_leaf': 0.30447650589298325, 'max_features': 'auto'}. Best is trial 527 with value: 0.48760330578512395.\n",
      "[I 2024-03-12 09:47:30,343] Trial 995 finished with value: 0.44077134986225897 and parameters: {'n_estimators': 293, 'max_depth': 48, 'min_samples_split': 0.044825356753167844, 'min_samples_leaf': 0.07160905114450376, 'max_features': 'auto'}. Best is trial 527 with value: 0.48760330578512395.\n",
      "[I 2024-03-12 09:47:32,454] Trial 996 finished with value: 0.4738292011019284 and parameters: {'n_estimators': 287, 'max_depth': 50, 'min_samples_split': 0.029718095119376627, 'min_samples_leaf': 0.011255400530975117, 'max_features': 'auto'}. Best is trial 527 with value: 0.48760330578512395.\n",
      "[I 2024-03-12 09:47:33,719] Trial 997 finished with value: 0.46005509641873277 and parameters: {'n_estimators': 296, 'max_depth': 47, 'min_samples_split': 0.2285148501401129, 'min_samples_leaf': 0.05248978059797963, 'max_features': 'auto'}. Best is trial 527 with value: 0.48760330578512395.\n",
      "[I 2024-03-12 09:47:35,943] Trial 998 finished with value: 0.4490358126721763 and parameters: {'n_estimators': 300, 'max_depth': 49, 'min_samples_split': 0.05859341587733101, 'min_samples_leaf': 0.027968864161404754, 'max_features': 'auto'}. Best is trial 527 with value: 0.48760330578512395.\n",
      "[I 2024-03-12 09:47:36,845] Trial 999 finished with value: 0.33884297520661155 and parameters: {'n_estimators': 291, 'max_depth': 49, 'min_samples_split': 0.010114194729428544, 'min_samples_leaf': 0.4154199784606367, 'max_features': 'auto'}. Best is trial 527 with value: 0.48760330578512395.\n"
     ]
    }
   ],
   "source": [
    "# def objective(trial):\n",
    "#     n_estimators = trial.suggest_int('n_estimators', 100, 300)\n",
    "#     max_depth = trial.suggest_int('max_depth', 5, 50)\n",
    "#     min_samples_split = trial.suggest_float('min_samples_split', 0.01, 1.0)\n",
    "#     min_samples_leaf = trial.suggest_float('min_samples_leaf', 0.01, 1.0)\n",
    "#     max_features = trial.suggest_categorical('max_features', ['auto'])\n",
    "\n",
    "#     rf_clf = RandomForestClassifier(\n",
    "#         n_estimators=n_estimators,\n",
    "#         max_depth=max_depth,\n",
    "#         min_samples_split=min_samples_split,\n",
    "#         min_samples_leaf=min_samples_leaf,\n",
    "#         max_features=max_features,\n",
    "#         random_state=42\n",
    "#     )\n",
    "\n",
    "#     rf_clf.fit(X_train_cbow, y_train)\n",
    "#     y_val_pred = rf_clf.predict(X_val_cbow)\n",
    "#     accuracy = accuracy_score(y_val, y_val_pred)\n",
    "\n",
    "#     return accuracy\n",
    "\n",
    "# study = optuna.create_study(direction='maximize')\n",
    "# study.optimize(objective, n_trials=1000)\n",
    "\n",
    "# best_params_cbow = study.best_params\n",
    "# best_accuracy_cbow = study.best_value"
   ]
  },
  {
   "cell_type": "code",
   "execution_count": 60,
   "metadata": {
    "executionInfo": {
     "elapsed": 510,
     "status": "ok",
     "timestamp": 1710299018593,
     "user": {
      "displayName": "Alfandy Surya",
      "userId": "04251874478570968890"
     },
     "user_tz": -420
    },
    "id": "lkB5wYFCNY0l"
   },
   "outputs": [],
   "source": [
    "# best_params_cbow = {'n_estimators': 294,\n",
    "#                     'max_depth': 49,\n",
    "#                     'min_samples_split': 0.010147096271953638,\n",
    "#                     'min_samples_leaf': 0.010396846061196233,\n",
    "#                     'max_features': 'auto'}"
   ]
  },
  {
   "cell_type": "code",
   "execution_count": 61,
   "metadata": {
    "colab": {
     "base_uri": "https://localhost:8080/",
     "height": 126
    },
    "executionInfo": {
     "elapsed": 2907,
     "status": "ok",
     "timestamp": 1710299027418,
     "user": {
      "displayName": "Alfandy Surya",
      "userId": "04251874478570968890"
     },
     "user_tz": -420
    },
    "id": "4uOBQrCnf9XN",
    "outputId": "e6d3eda4-a19f-4585-e35c-7dbeba413010"
   },
   "outputs": [
    {
     "name": "stderr",
     "output_type": "stream",
     "text": [
      "C:\\Users\\alfan\\anaconda3\\lib\\site-packages\\sklearn\\ensemble\\_forest.py:424: FutureWarning: `max_features='auto'` has been deprecated in 1.1 and will be removed in 1.3. To keep the past behaviour, explicitly set `max_features='sqrt'` or remove this parameter as it is also the default value for RandomForestClassifiers and ExtraTreesClassifiers.\n",
      "  warn(\n"
     ]
    },
    {
     "data": {
      "text/html": [
       "<style>#sk-container-id-7 {color: black;background-color: white;}#sk-container-id-7 pre{padding: 0;}#sk-container-id-7 div.sk-toggleable {background-color: white;}#sk-container-id-7 label.sk-toggleable__label {cursor: pointer;display: block;width: 100%;margin-bottom: 0;padding: 0.3em;box-sizing: border-box;text-align: center;}#sk-container-id-7 label.sk-toggleable__label-arrow:before {content: \"▸\";float: left;margin-right: 0.25em;color: #696969;}#sk-container-id-7 label.sk-toggleable__label-arrow:hover:before {color: black;}#sk-container-id-7 div.sk-estimator:hover label.sk-toggleable__label-arrow:before {color: black;}#sk-container-id-7 div.sk-toggleable__content {max-height: 0;max-width: 0;overflow: hidden;text-align: left;background-color: #f0f8ff;}#sk-container-id-7 div.sk-toggleable__content pre {margin: 0.2em;color: black;border-radius: 0.25em;background-color: #f0f8ff;}#sk-container-id-7 input.sk-toggleable__control:checked~div.sk-toggleable__content {max-height: 200px;max-width: 100%;overflow: auto;}#sk-container-id-7 input.sk-toggleable__control:checked~label.sk-toggleable__label-arrow:before {content: \"▾\";}#sk-container-id-7 div.sk-estimator input.sk-toggleable__control:checked~label.sk-toggleable__label {background-color: #d4ebff;}#sk-container-id-7 div.sk-label input.sk-toggleable__control:checked~label.sk-toggleable__label {background-color: #d4ebff;}#sk-container-id-7 input.sk-hidden--visually {border: 0;clip: rect(1px 1px 1px 1px);clip: rect(1px, 1px, 1px, 1px);height: 1px;margin: -1px;overflow: hidden;padding: 0;position: absolute;width: 1px;}#sk-container-id-7 div.sk-estimator {font-family: monospace;background-color: #f0f8ff;border: 1px dotted black;border-radius: 0.25em;box-sizing: border-box;margin-bottom: 0.5em;}#sk-container-id-7 div.sk-estimator:hover {background-color: #d4ebff;}#sk-container-id-7 div.sk-parallel-item::after {content: \"\";width: 100%;border-bottom: 1px solid gray;flex-grow: 1;}#sk-container-id-7 div.sk-label:hover label.sk-toggleable__label {background-color: #d4ebff;}#sk-container-id-7 div.sk-serial::before {content: \"\";position: absolute;border-left: 1px solid gray;box-sizing: border-box;top: 0;bottom: 0;left: 50%;z-index: 0;}#sk-container-id-7 div.sk-serial {display: flex;flex-direction: column;align-items: center;background-color: white;padding-right: 0.2em;padding-left: 0.2em;position: relative;}#sk-container-id-7 div.sk-item {position: relative;z-index: 1;}#sk-container-id-7 div.sk-parallel {display: flex;align-items: stretch;justify-content: center;background-color: white;position: relative;}#sk-container-id-7 div.sk-item::before, #sk-container-id-7 div.sk-parallel-item::before {content: \"\";position: absolute;border-left: 1px solid gray;box-sizing: border-box;top: 0;bottom: 0;left: 50%;z-index: -1;}#sk-container-id-7 div.sk-parallel-item {display: flex;flex-direction: column;z-index: 1;position: relative;background-color: white;}#sk-container-id-7 div.sk-parallel-item:first-child::after {align-self: flex-end;width: 50%;}#sk-container-id-7 div.sk-parallel-item:last-child::after {align-self: flex-start;width: 50%;}#sk-container-id-7 div.sk-parallel-item:only-child::after {width: 0;}#sk-container-id-7 div.sk-dashed-wrapped {border: 1px dashed gray;margin: 0 0.4em 0.5em 0.4em;box-sizing: border-box;padding-bottom: 0.4em;background-color: white;}#sk-container-id-7 div.sk-label label {font-family: monospace;font-weight: bold;display: inline-block;line-height: 1.2em;}#sk-container-id-7 div.sk-label-container {text-align: center;}#sk-container-id-7 div.sk-container {/* jupyter's `normalize.less` sets `[hidden] { display: none; }` but bootstrap.min.css set `[hidden] { display: none !important; }` so we also need the `!important` here to be able to override the default hidden behavior on the sphinx rendered scikit-learn.org. See: https://github.com/scikit-learn/scikit-learn/issues/21755 */display: inline-block !important;position: relative;}#sk-container-id-7 div.sk-text-repr-fallback {display: none;}</style><div id=\"sk-container-id-7\" class=\"sk-top-container\"><div class=\"sk-text-repr-fallback\"><pre>RandomForestClassifier(max_depth=49, max_features=&#x27;auto&#x27;,\n",
       "                       min_samples_leaf=0.010396846061196233,\n",
       "                       min_samples_split=0.010147096271953638, n_estimators=294,\n",
       "                       random_state=42)</pre><b>In a Jupyter environment, please rerun this cell to show the HTML representation or trust the notebook. <br />On GitHub, the HTML representation is unable to render, please try loading this page with nbviewer.org.</b></div><div class=\"sk-container\" hidden><div class=\"sk-item\"><div class=\"sk-estimator sk-toggleable\"><input class=\"sk-toggleable__control sk-hidden--visually\" id=\"sk-estimator-id-7\" type=\"checkbox\" checked><label for=\"sk-estimator-id-7\" class=\"sk-toggleable__label sk-toggleable__label-arrow\">RandomForestClassifier</label><div class=\"sk-toggleable__content\"><pre>RandomForestClassifier(max_depth=49, max_features=&#x27;auto&#x27;,\n",
       "                       min_samples_leaf=0.010396846061196233,\n",
       "                       min_samples_split=0.010147096271953638, n_estimators=294,\n",
       "                       random_state=42)</pre></div></div></div></div></div>"
      ],
      "text/plain": [
       "RandomForestClassifier(max_depth=49, max_features='auto',\n",
       "                       min_samples_leaf=0.010396846061196233,\n",
       "                       min_samples_split=0.010147096271953638, n_estimators=294,\n",
       "                       random_state=42)"
      ]
     },
     "execution_count": 61,
     "metadata": {},
     "output_type": "execute_result"
    }
   ],
   "source": [
    "# model_rf_cbow_tuned = RandomForestClassifier(random_state=42, **best_params_cbow)\n",
    "# model_rf_cbow_tuned.fit(X_train_cbow, y_train)"
   ]
  },
  {
   "cell_type": "code",
   "execution_count": 124,
   "metadata": {
    "colab": {
     "base_uri": "https://localhost:8080/",
     "height": 112
    },
    "executionInfo": {
     "elapsed": 5,
     "status": "ok",
     "timestamp": 1710299029843,
     "user": {
      "displayName": "Alfandy Surya",
      "userId": "04251874478570968890"
     },
     "user_tz": -420
    },
    "id": "jg8Hjzvsf5YK",
    "outputId": "ecc6ab3a-f4a1-4af0-93d3-f88a30fef68d"
   },
   "outputs": [
    {
     "data": {
      "text/html": [
       "<div>\n",
       "<style scoped>\n",
       "    .dataframe tbody tr th:only-of-type {\n",
       "        vertical-align: middle;\n",
       "    }\n",
       "\n",
       "    .dataframe tbody tr th {\n",
       "        vertical-align: top;\n",
       "    }\n",
       "\n",
       "    .dataframe thead th {\n",
       "        text-align: right;\n",
       "    }\n",
       "</style>\n",
       "<table border=\"1\" class=\"dataframe\">\n",
       "  <thead>\n",
       "    <tr style=\"text-align: right;\">\n",
       "      <th></th>\n",
       "      <th>Train Accuracy</th>\n",
       "      <th>Validation Accuracy</th>\n",
       "      <th>Test Accuracy</th>\n",
       "    </tr>\n",
       "    <tr>\n",
       "      <th>Model Name</th>\n",
       "      <th></th>\n",
       "      <th></th>\n",
       "      <th></th>\n",
       "    </tr>\n",
       "  </thead>\n",
       "  <tbody>\n",
       "    <tr>\n",
       "      <th>RandomForestClassifier - CBOW (Tuned)</th>\n",
       "      <td>0.87</td>\n",
       "      <td>0.54</td>\n",
       "      <td>0.49</td>\n",
       "    </tr>\n",
       "  </tbody>\n",
       "</table>\n",
       "</div>"
      ],
      "text/plain": [
       "                                       Train Accuracy  Validation Accuracy  \\\n",
       "Model Name                                                                   \n",
       "RandomForestClassifier - CBOW (Tuned)            0.87                 0.54   \n",
       "\n",
       "                                       Test Accuracy  \n",
       "Model Name                                            \n",
       "RandomForestClassifier - CBOW (Tuned)           0.49  "
      ]
     },
     "execution_count": 124,
     "metadata": {},
     "output_type": "execute_result"
    }
   ],
   "source": [
    "metrics_rf_cbow_tuned = evaluate_classification_model(y_train,\n",
    "                                                  rf_model_cbow_tuned.predict(X_train_cbow),\n",
    "                                                  y_val,\n",
    "                                                  rf_model_cbow_tuned.predict(X_val_cbow),\n",
    "                                                  y_test,\n",
    "                                                  rf_model_cbow_tuned.predict(X_test_cbow),\n",
    "                                                  'RandomForestClassifier - CBOW (Tuned)')\n",
    "metrics_rf_cbow_tuned"
   ]
  },
  {
   "cell_type": "markdown",
   "metadata": {
    "id": "v6oQSPMwhE-i"
   },
   "source": [
    "## Random Forest Model Summary & Save Best Model"
   ]
  },
  {
   "cell_type": "code",
   "execution_count": 125,
   "metadata": {
    "colab": {
     "base_uri": "https://localhost:8080/",
     "height": 206
    },
    "executionInfo": {
     "elapsed": 669,
     "status": "ok",
     "timestamp": 1710299037000,
     "user": {
      "displayName": "Alfandy Surya",
      "userId": "04251874478570968890"
     },
     "user_tz": -420
    },
    "id": "s9O95AxSgolC",
    "outputId": "c33a4e1c-4d33-41f0-a06f-6d2c41702cff"
   },
   "outputs": [
    {
     "data": {
      "text/html": [
       "<div>\n",
       "<style scoped>\n",
       "    .dataframe tbody tr th:only-of-type {\n",
       "        vertical-align: middle;\n",
       "    }\n",
       "\n",
       "    .dataframe tbody tr th {\n",
       "        vertical-align: top;\n",
       "    }\n",
       "\n",
       "    .dataframe thead th {\n",
       "        text-align: right;\n",
       "    }\n",
       "</style>\n",
       "<table border=\"1\" class=\"dataframe\">\n",
       "  <thead>\n",
       "    <tr style=\"text-align: right;\">\n",
       "      <th></th>\n",
       "      <th>Train Accuracy</th>\n",
       "      <th>Validation Accuracy</th>\n",
       "      <th>Test Accuracy</th>\n",
       "    </tr>\n",
       "    <tr>\n",
       "      <th>Model Name</th>\n",
       "      <th></th>\n",
       "      <th></th>\n",
       "      <th></th>\n",
       "    </tr>\n",
       "  </thead>\n",
       "  <tbody>\n",
       "    <tr>\n",
       "      <th>RandomForestClassifier - SkipGram (Baseline)</th>\n",
       "      <td>1.00</td>\n",
       "      <td>0.59</td>\n",
       "      <td>0.57</td>\n",
       "    </tr>\n",
       "    <tr>\n",
       "      <th>RandomForestClassifier - CBOW (Baseline)</th>\n",
       "      <td>1.00</td>\n",
       "      <td>0.48</td>\n",
       "      <td>0.51</td>\n",
       "    </tr>\n",
       "    <tr>\n",
       "      <th>RandomForestClassifier - SkipGram (Tuned)</th>\n",
       "      <td>0.71</td>\n",
       "      <td>0.61</td>\n",
       "      <td>0.55</td>\n",
       "    </tr>\n",
       "    <tr>\n",
       "      <th>RandomForestClassifier - CBOW (Tuned)</th>\n",
       "      <td>0.87</td>\n",
       "      <td>0.54</td>\n",
       "      <td>0.49</td>\n",
       "    </tr>\n",
       "  </tbody>\n",
       "</table>\n",
       "</div>"
      ],
      "text/plain": [
       "                                              Train Accuracy  \\\n",
       "Model Name                                                     \n",
       "RandomForestClassifier - SkipGram (Baseline)            1.00   \n",
       "RandomForestClassifier - CBOW (Baseline)                1.00   \n",
       "RandomForestClassifier - SkipGram (Tuned)               0.71   \n",
       "RandomForestClassifier - CBOW (Tuned)                   0.87   \n",
       "\n",
       "                                              Validation Accuracy  \\\n",
       "Model Name                                                          \n",
       "RandomForestClassifier - SkipGram (Baseline)                 0.59   \n",
       "RandomForestClassifier - CBOW (Baseline)                     0.48   \n",
       "RandomForestClassifier - SkipGram (Tuned)                    0.61   \n",
       "RandomForestClassifier - CBOW (Tuned)                        0.54   \n",
       "\n",
       "                                              Test Accuracy  \n",
       "Model Name                                                   \n",
       "RandomForestClassifier - SkipGram (Baseline)           0.57  \n",
       "RandomForestClassifier - CBOW (Baseline)               0.51  \n",
       "RandomForestClassifier - SkipGram (Tuned)              0.55  \n",
       "RandomForestClassifier - CBOW (Tuned)                  0.49  "
      ]
     },
     "execution_count": 125,
     "metadata": {},
     "output_type": "execute_result"
    }
   ],
   "source": [
    "rf_summary = pd.concat([metrics_rf_sg_baseline,\n",
    "                        metrics_rf_cbow_baseline,\n",
    "                        metrics_rf_sg_tuned,\n",
    "                        metrics_rf_cbow_tuned])\n",
    "rf_summary"
   ]
  },
  {
   "cell_type": "code",
   "execution_count": 115,
   "metadata": {
    "colab": {
     "base_uri": "https://localhost:8080/"
    },
    "executionInfo": {
     "elapsed": 644,
     "status": "ok",
     "timestamp": 1710299061525,
     "user": {
      "displayName": "Alfandy Surya",
      "userId": "04251874478570968890"
     },
     "user_tz": -420
    },
    "id": "uhhF55iLiY1c",
    "outputId": "b05db25f-8ff1-460c-bc21-3b05b4f28d14"
   },
   "outputs": [
    {
     "data": {
      "text/plain": [
       "['/content/drive/MyDrive/IndonesiaAI/SentimentAnalysis/Code & Data/model_rf_sg_tuned.joblib']"
      ]
     },
     "execution_count": 115,
     "metadata": {},
     "output_type": "execute_result"
    }
   ],
   "source": [
    "joblib.dump(model_rf_sg, os.path.join(full_project_path, 'model_rf_sg_baseline.joblib'))\n",
    "joblib.dump(model_rf_sg_tuned, os.path.join(full_project_path, 'model_rf_sg_tuned.joblib'))\n",
    "joblib.dump(model_rf_cbow, os.path.join(full_project_path, 'model_rf_cbow_baseline.joblib'))\n",
    "joblib.dump(model_rf_cbow_tuned, os.path.join(full_project_path, 'model_rf_cbow_tuned.joblib'))"
   ]
  }
 ],
 "metadata": {
  "colab": {
   "authorship_tag": "ABX9TyMejmB+CqIpkUCG2Ohfpmdz",
   "provenance": [
    {
     "file_id": "1yJpmX1qlsAjO3kEwk7F5jPPXLV-i5Lh3",
     "timestamp": 1710231079254
    },
    {
     "file_id": "1IcEIrsyIce7kyUupGxsyLspps-KMvKci",
     "timestamp": 1709600980420
    },
    {
     "file_id": "1G7gtIw47m53wmX9HF5gQkRAU0nn6eAAe",
     "timestamp": 1709398985223
    }
   ],
   "toc_visible": true
  },
  "kernelspec": {
   "display_name": "Python 3 (ipykernel)",
   "language": "python",
   "name": "python3"
  },
  "language_info": {
   "codemirror_mode": {
    "name": "ipython",
    "version": 3
   },
   "file_extension": ".py",
   "mimetype": "text/x-python",
   "name": "python",
   "nbconvert_exporter": "python",
   "pygments_lexer": "ipython3",
   "version": "3.10.9"
  }
 },
 "nbformat": 4,
 "nbformat_minor": 4
}
